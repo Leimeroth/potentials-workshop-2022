{
 "cells": [
  {
   "cell_type": "markdown",
   "id": "25d5b0d5-f330-4dcb-9b7c-f57c4bea9596",
   "metadata": {},
   "source": [
    "# **Workshop: From electrons to phase diagrams**\n",
    "\n",
    "# Day 2: Validation of the potentials\n",
    "\n",
    "Once we have the fitted potentials, it is necessary to validate them in order to assess their quality with respect to applications.\n",
    "\n",
    "In this exercise, we use the fitted potentials and perform some basic calculations."
   ]
  },
  {
   "cell_type": "markdown",
   "id": "4756d4c9-304a-4ccc-b772-ba67d008c5a4",
   "metadata": {},
   "source": [
    "## Import the fitted potentials for Li-Al (from earlier excercise)\n",
    "\n",
    "The same directory contains a `helper.py` file which among other things, also contains the necessary specifications of each of the potentials that we will use today. Individual potentials are descrbed in the LAMMPS format as:\n",
    "```\n",
    "pot_eam = pd.DataFrame({\n",
    "    'Name': ['LiAl_eam'],\n",
    "    'Filename': [[\"../potentials/AlLi.eam.fs\")]],\n",
    "    'Model': [\"EAM\"],\n",
    "    'Species': [['Li', 'Al']],\n",
    "    'Config': [['pair_style eam/fs\\n', 'pair_coeff * * AlLi.eam.fs Li Al\\n']]\n",
    "})\n",
    "\n",
    "```\n",
    "A list of such DataFrames describing the potentials is saved in a list called `potentials_list`. We import the list as:"
   ]
  },
  {
   "cell_type": "code",
   "execution_count": 1,
   "id": "b90e0ac0",
   "metadata": {},
   "outputs": [
    {
     "data": {
      "text/html": [
       "<div>\n",
       "<style scoped>\n",
       "    .dataframe tbody tr th:only-of-type {\n",
       "        vertical-align: middle;\n",
       "    }\n",
       "\n",
       "    .dataframe tbody tr th {\n",
       "        vertical-align: top;\n",
       "    }\n",
       "\n",
       "    .dataframe thead th {\n",
       "        text-align: right;\n",
       "    }\n",
       "</style>\n",
       "<table border=\"1\" class=\"dataframe\">\n",
       "  <thead>\n",
       "    <tr style=\"text-align: right;\">\n",
       "      <th></th>\n",
       "      <th>Name</th>\n",
       "      <th>Filename</th>\n",
       "      <th>Model</th>\n",
       "      <th>Species</th>\n",
       "      <th>Config</th>\n",
       "    </tr>\n",
       "  </thead>\n",
       "  <tbody>\n",
       "    <tr>\n",
       "      <th>0</th>\n",
       "      <td>LiAl_eam</td>\n",
       "      <td>[/home/minaam.qamar/workshop_POTENTIALS/new_no...</td>\n",
       "      <td>EAM</td>\n",
       "      <td>[Li, Al]</td>\n",
       "      <td>[pair_style eam/fs\\n, pair_coeff * * AlLi.eam....</td>\n",
       "    </tr>\n",
       "  </tbody>\n",
       "</table>\n",
       "</div>"
      ],
      "text/plain": [
       "       Name  ...                                             Config\n",
       "0  LiAl_eam  ...  [pair_style eam/fs\\n, pair_coeff * * AlLi.eam....\n",
       "\n",
       "[1 rows x 5 columns]"
      ]
     },
     "execution_count": 1,
     "metadata": {},
     "output_type": "execute_result"
    }
   ],
   "source": [
    "from helper import potentials_list\n",
    "\n",
    "potentials_list = [potentials_list[0]]\n",
    "\n",
    "# display the first element in the list\n",
    "# which is an EAM potential\n",
    "potentials_list[0]"
   ]
  },
  {
   "cell_type": "markdown",
   "id": "4c84560c",
   "metadata": {},
   "source": [
    "### Import other important modules"
   ]
  },
  {
   "cell_type": "code",
   "execution_count": 2,
   "id": "83f7a2c9-d45a-4987-9e35-59badd754d4f",
   "metadata": {},
   "outputs": [
    {
     "data": {
      "text/plain": [
       "6.366608268"
      ]
     },
     "execution_count": 2,
     "metadata": {},
     "output_type": "execute_result"
    }
   ],
   "source": [
    "import numpy as np\n",
    "import matplotlib.pylab as plt\n",
    "import seaborn as sns\n",
    "import pandas as pd\n",
    "import time\n",
    "from helper import get_clean_project_name\n",
    "from pyiron_atomistics import Project\n",
    "from pyiron import pyiron_to_ase\n",
    "import pyiron_gpl\n",
    "\n",
    "# save start time to record runtime of the notebook\n",
    "time_start =  time.process_time()\n",
    "time_start"
   ]
  },
  {
   "cell_type": "markdown",
   "id": "acc0ee8f",
   "metadata": {},
   "source": [
    "### Create a new project to perform validation calculations\n",
    "\n",
    "It is useful to create a new project directory for every kind of calculation. Pyiron will automatically create subdirectories for each potential and property we calculate. "
   ]
  },
  {
   "cell_type": "code",
   "execution_count": 3,
   "id": "706be2a9-5f94-4eb5-8e4f-6c349fe216b3",
   "metadata": {},
   "outputs": [],
   "source": [
    "pr = Project(\"validation_LiAl\")\n",
    "\n",
    "# remove earlier jobs\n",
    "# pr.remove_jobs(silently=True, recursive=True)"
   ]
  },
  {
   "cell_type": "markdown",
   "id": "3b84ed62-e841-4526-893e-dc4f61477c88",
   "metadata": {},
   "source": [
    "### Define the important pases to consider for validation\n",
    "\n",
    "We construct a python dictionary `struct_dict` which contains a description of all the important phases that we want to consider for this exercise. The descriptions given in the dictionary will be later used by Pyiron to generate or read the structural configurations for the respective phases.\n",
    "\n",
    "For unary phases, we provide an initial guess for the lattice parameter and use pyiron to generate the structural prototype.\n",
    "\n",
    "For binary phases, we provide a phase name and an additional dictionary `fl_dict` which maps the phase name to a `.cif` file saved in a subdirectory. Pyiron will use this information to read the respective configurations from the file."
   ]
  },
  {
   "cell_type": "code",
   "execution_count": 34,
   "id": "28778cef-2a07-4794-888f-7239500e7b5a",
   "metadata": {},
   "outputs": [
    {
     "data": {
      "text/plain": [
       "{'Al': {'s_murn': ['fcc', 'bcc'], 'a': 4.04},\n",
       " 'Li': {'s_murn': ['bcc', 'fcc'], 'a': 3.5},\n",
       " 'Li2Al2': {'s_murn': ['Li2Al2_cubic']},\n",
       " 'LiAl3': {'s_murn': ['LiAl3_cubic']},\n",
       " 'Li9Al4': {'s_murn': ['Li9Al4_monoclinic']},\n",
       " 'Li3Al2': {'s_murn': ['Li3Al2_trigonal']},\n",
       " 'Li4Al4': {'s_murn': ['Li4Al4_cubic']}}"
      ]
     },
     "execution_count": 34,
     "metadata": {},
     "output_type": "execute_result"
    }
   ],
   "source": [
    "struct_dict = dict()\n",
    "struct_dict[\"Al\"] = dict()\n",
    "struct_dict[\"Al\"][\"s_murn\"] = [\"fcc\",\"bcc\"]\n",
    "struct_dict[\"Al\"][\"a\"] = 4.04\n",
    "\n",
    "struct_dict[\"Li\"] = dict()\n",
    "struct_dict[\"Li\"][\"s_murn\"] = [\"bcc\",\"fcc\"]\n",
    "struct_dict[\"Li\"][\"a\"] = 3.5\n",
    "\n",
    "\n",
    "\n",
    "\n",
    "struct_dict[\"Li2Al2\"] = dict()\n",
    "struct_dict[\"Li2Al2\"][\"s_murn\"] = [\"Li2Al2_cubic\"]\n",
    "# struct_dict[\"Li2Al2\"][\"a\"] = 3.7\n",
    "\n",
    "struct_dict[\"LiAl3\"] = dict()\n",
    "struct_dict[\"LiAl3\"][\"s_murn\"] = [\"LiAl3_tetragonal\"]\n",
    "# struct_dict[\"LiAl3\"][\"a\"] = 3.7\n",
    "\n",
    "struct_dict[\"LiAl3\"] = dict()\n",
    "struct_dict[\"LiAl3\"][\"s_murn\"] = [\"LiAl3_cubic\"]\n",
    "# struct_dict[\"LiAl3\"][\"a\"] = 3.7\n",
    "\n",
    "struct_dict[\"Li9Al4\"] = dict()\n",
    "struct_dict[\"Li9Al4\"][\"s_murn\"] = [\"Li9Al4_monoclinic\"]\n",
    "# struct_dict[\"Li9Al4\"][\"a\"] = 3.7\n",
    "\n",
    "struct_dict[\"Li3Al2\"] = dict()\n",
    "struct_dict[\"Li3Al2\"][\"s_murn\"] = [\"Li3Al2_trigonal\"]\n",
    "# struct_dict[\"Li3Al2\"][\"a\"] = 3.7\n",
    "\n",
    "struct_dict[\"Li4Al4\"] = dict()\n",
    "struct_dict[\"Li4Al4\"][\"s_murn\"] = [\"Li4Al4_cubic\"]\n",
    "\n",
    "struct_dict"
   ]
  },
  {
   "cell_type": "markdown",
   "id": "23b2e6d9",
   "metadata": {},
   "source": [
    "a dictionary is described to map the binary phases to their file locations"
   ]
  },
  {
   "cell_type": "code",
   "execution_count": 35,
   "id": "c1820db7",
   "metadata": {},
   "outputs": [],
   "source": [
    "fl_dict = {\"Li2Al2_cubic\": \"mp_structures/LiAl_mp-1067_primitive.cif\",\n",
    "           \"LiAl3_tetragonal\":\"mp_structures/LiAl3_mp-975906_primitive.cif\",\n",
    "           \"LiAl3_cubic\":\"mp_structures/LiAl3_mp-10890_primitive.cif\",\n",
    "           \"Li9Al4_monoclinic\":\"mp_structures/Li9Al4_mp-568404_primitive.cif\",\n",
    "           \"Li3Al2_trigonal\":\"mp_structures/Al2Li3-6021.cif\",\n",
    "           \"Li4Al4_cubic\":\"mp_structures/LiAl_mp-1079240_primitive.cif\"}"
   ]
  },
  {
   "cell_type": "markdown",
   "id": "198e9745-734a-4502-8f1b-0330ba8c8fca",
   "metadata": {},
   "source": [
    "### (a) Ground state: E-V curves\n",
    "\n",
    "Using a series of nested `for` loops, we calculate the murnaghan EV-curves using all three potentials for all the defined structures.\n",
    "\n",
    "We loop over:\n",
    " - All the potentials defined in `potentials_list` and name the project according to the potential\n",
    "   - All the chemical formulae defined in the keys of `struct_dict`\n",
    "     - All phases defined for a given chemical formula\n",
    "     \n",
    "Within the loops, the first step is to get the structure basis on which we will perform the calculations. \n",
    "\n",
    "- For unary phases, we use the pyiron function `pr_pot.create_ase_bulk(compound, crys_structure, a=compound_dict[\"a\"])` \n",
    "- For binary structures, we read the basis using `pr.create.structure.ase.read(fl_path)` with the `fl_path` given by `fl_dict` defined earlier.\n",
    "\n",
    "Once the structure and potential is defined as part of the pr_job, we run two calculations:\n",
    "- `job_relax` to relax the structure to the ground state\n",
    "- `murn_job` to calculate the energies in a small volume range around the equilibrium\n",
    "\n",
    "As the calculations are being performed, the status(s) of each calculation is printed. If a job is already calculated, the calculations are not re-run but rather re-read from the saved data."
   ]
  },
  {
   "cell_type": "code",
   "execution_count": 36,
   "id": "13f095d2-44d7-4711-b9a5-d58a95af42f6",
   "metadata": {
    "scrolled": true
   },
   "outputs": [
    {
     "name": "stdout",
     "output_type": "stream",
     "text": [
      "The job Al_fcc_relax was saved and received the ID: 481\n"
     ]
    },
    {
     "name": "stderr",
     "output_type": "stream",
     "text": [
      "2022-05-30 19:18:40,708 - pyiron_log - WARNING - The job murn_job_Al_fcc is being loaded instead of running. To re-run use the argument 'delete_existing_job=True in create_job'\n"
     ]
    },
    {
     "name": "stdout",
     "output_type": "stream",
     "text": [
      "The job Al_bcc_relax was saved and received the ID: 482\n"
     ]
    },
    {
     "name": "stderr",
     "output_type": "stream",
     "text": [
      "2022-05-30 19:18:44,855 - pyiron_log - WARNING - The job murn_job_Al_bcc is being loaded instead of running. To re-run use the argument 'delete_existing_job=True in create_job'\n"
     ]
    },
    {
     "name": "stdout",
     "output_type": "stream",
     "text": [
      "The job Li_bcc_relax was saved and received the ID: 483\n"
     ]
    },
    {
     "name": "stderr",
     "output_type": "stream",
     "text": [
      "2022-05-30 19:18:49,187 - pyiron_log - WARNING - The job murn_job_Li_bcc is being loaded instead of running. To re-run use the argument 'delete_existing_job=True in create_job'\n"
     ]
    },
    {
     "name": "stdout",
     "output_type": "stream",
     "text": [
      "The job Li_fcc_relax was saved and received the ID: 484\n"
     ]
    },
    {
     "name": "stderr",
     "output_type": "stream",
     "text": [
      "2022-05-30 19:18:55,198 - pyiron_log - WARNING - The job murn_job_Li_fcc is being loaded instead of running. To re-run use the argument 'delete_existing_job=True in create_job'\n"
     ]
    },
    {
     "name": "stdout",
     "output_type": "stream",
     "text": [
      "The job Li2Al2_Li2Al2_cubic_relax was saved and received the ID: 485\n"
     ]
    },
    {
     "name": "stderr",
     "output_type": "stream",
     "text": [
      "2022-05-30 19:19:00,132 - pyiron_log - WARNING - The job murn_job_Li2Al2_Li2Al2_cubic is being loaded instead of running. To re-run use the argument 'delete_existing_job=True in create_job'\n"
     ]
    },
    {
     "name": "stdout",
     "output_type": "stream",
     "text": [
      "The job LiAl3_LiAl3_cubic_relax was saved and received the ID: 486\n"
     ]
    },
    {
     "name": "stderr",
     "output_type": "stream",
     "text": [
      "2022-05-30 19:19:06,418 - pyiron_log - WARNING - The job murn_job_LiAl3_LiAl3_cubic is being loaded instead of running. To re-run use the argument 'delete_existing_job=True in create_job'\n"
     ]
    },
    {
     "name": "stdout",
     "output_type": "stream",
     "text": [
      "The job Li9Al4_Li9Al4_monoclinic_relax was saved and received the ID: 487\n"
     ]
    },
    {
     "name": "stderr",
     "output_type": "stream",
     "text": [
      "2022-05-30 19:19:11,676 - pyiron_log - WARNING - The job murn_job_Li9Al4_Li9Al4_monoclinic is being loaded instead of running. To re-run use the argument 'delete_existing_job=True in create_job'\n"
     ]
    },
    {
     "name": "stdout",
     "output_type": "stream",
     "text": [
      "The job Li3Al2_Li3Al2_trigonal_relax was saved and received the ID: 488\n"
     ]
    },
    {
     "name": "stderr",
     "output_type": "stream",
     "text": [
      "2022-05-30 19:19:14,923 - pyiron_log - WARNING - The job murn_job_Li3Al2_Li3Al2_trigonal is being loaded instead of running. To re-run use the argument 'delete_existing_job=True in create_job'\n"
     ]
    },
    {
     "name": "stdout",
     "output_type": "stream",
     "text": [
      "The job Li4Al4_Li4Al4_cubic_relax was saved and received the ID: 489\n",
      "The job murn_job_Li4Al4_Li4Al4_cubic was saved and received the ID: 490\n",
      "The job murn_job_Li4Al4_Li4Al4_cubic_0_9 was saved and received the ID: 491\n",
      "The job murn_job_Li4Al4_Li4Al4_cubic_0_92 was saved and received the ID: 492\n",
      "The job murn_job_Li4Al4_Li4Al4_cubic_0_94 was saved and received the ID: 493\n",
      "The job murn_job_Li4Al4_Li4Al4_cubic_0_96 was saved and received the ID: 494\n",
      "The job murn_job_Li4Al4_Li4Al4_cubic_0_98 was saved and received the ID: 495\n",
      "The job murn_job_Li4Al4_Li4Al4_cubic_1_0 was saved and received the ID: 496\n",
      "The job murn_job_Li4Al4_Li4Al4_cubic_1_02 was saved and received the ID: 497\n",
      "The job murn_job_Li4Al4_Li4Al4_cubic_1_04 was saved and received the ID: 498\n",
      "The job murn_job_Li4Al4_Li4Al4_cubic_1_06 was saved and received the ID: 499\n",
      "The job murn_job_Li4Al4_Li4Al4_cubic_1_08 was saved and received the ID: 500\n",
      "The job murn_job_Li4Al4_Li4Al4_cubic_1_1 was saved and received the ID: 501\n"
     ]
    }
   ],
   "source": [
    "for pot in potentials_list:\n",
    "    with pr.open(get_clean_project_name(pot)) as pr_pot:\n",
    "        for compound, compound_dict in struct_dict.items():\n",
    "            for crys_structure in compound_dict[\"s_murn\"]:\n",
    "                \n",
    "                # Relax structure\n",
    "                if crys_structure in [\"fcc\",\"bcc\"]:\n",
    "                    basis = pr_pot.create_ase_bulk(compound, crys_structure, a=compound_dict[\"a\"])\n",
    "                else:\n",
    "                    basis = pr.create.structure.ase.read(fl_dict[crys_structure])\n",
    "                job_relax = pr_pot.create_job(pr_pot.job_type.Lammps, f\"{compound}_{crys_structure}_relax\", delete_existing_job=True)\n",
    "\n",
    "                job_relax.structure = basis\n",
    "                job_relax.potential = pot\n",
    "                job_relax.calc_minimize(pressure=0)\n",
    "                job_relax.run()\n",
    "                \n",
    "                # Murnaghan\n",
    "                job_ref = pr_pot.create_job(pr_pot.job_type.Lammps, f\"ref_job_{compound}_{crys_structure}\")\n",
    "                job_ref.structure = job_relax.get_structure(-1)\n",
    "                job_ref.potential = pot\n",
    "                job_ref.calc_minimize()\n",
    "                \n",
    "                murn_job = job_ref.create_job(pr_pot.job_type.Murnaghan, f\"murn_job_{compound}_{crys_structure}\")\n",
    "                murn_job.input[\"vol_range\"] = 0.1\n",
    "                murn_job.run()"
   ]
  },
  {
   "cell_type": "markdown",
   "id": "9d848f1a",
   "metadata": {},
   "source": [
    "One can display the technical details of all submitted jobs using `pr.job_table()` below."
   ]
  },
  {
   "cell_type": "code",
   "execution_count": 7,
   "id": "fdc89ebb-3c2a-4315-8fe0-3ae470375223",
   "metadata": {
    "scrolled": true
   },
   "outputs": [],
   "source": [
    "# pr.job_table()"
   ]
  },
  {
   "cell_type": "markdown",
   "id": "425dcaec",
   "metadata": {},
   "source": [
    "In order to get read useful results from the completed calculations (eq_energy, eq_volume, etc), it is useful to define the following functions"
   ]
  },
  {
   "cell_type": "code",
   "execution_count": 37,
   "id": "ef2f414b-64b8-49aa-87e9-e204950da938",
   "metadata": {},
   "outputs": [],
   "source": [
    "# Only work with Murnaghan jobs\n",
    "def get_only_murn(job_table):\n",
    "    return (job_table.hamilton == \"Murnaghan\") & (job_table.status == \"finished\") \n",
    "\n",
    "def get_eq_vol(job_path):\n",
    "    return job_path[\"output/equilibrium_volume\"]\n",
    "\n",
    "def get_eq_lp(job_path):\n",
    "    return np.linalg.norm(job_path[\"output/structure/cell/cell\"][0]) * np.sqrt(2)\n",
    "\n",
    "def get_eq_bm(job_path):\n",
    "    return job_path[\"output/equilibrium_bulk_modulus\"]\n",
    "\n",
    "def get_potential(job_path):\n",
    "    return job_path.project.path.split(\"/\")[-3]\n",
    "\n",
    "def get_eq_energy(job_path):\n",
    "    return job_path[\"output/equilibrium_energy\"]\n",
    "\n",
    "def get_n_atoms(job_path):\n",
    "    return len(job_path[\"output/structure/positions\"])\n",
    "\n",
    "def get_ase_atoms(job_path):\n",
    "    return pyiron_to_ase(job_path.structure).copy()\n",
    "\n",
    "\n",
    "def get_potential(job_path):\n",
    "    return job_path.project.path.split(\"/\")[-2]\n",
    "\n",
    "def get_crystal_structure(job_path):\n",
    "    return job_path.job_name.split(\"_\")[-1]\n",
    "\n",
    "def get_compound(job_path):\n",
    "    return job_path.job_name.split(\"_\")[-2]"
   ]
  },
  {
   "cell_type": "markdown",
   "id": "2fe57b8b",
   "metadata": {},
   "source": [
    "Using the functions defined above, one can now define a `pd.DataFrame` containing all useful results"
   ]
  },
  {
   "cell_type": "code",
   "execution_count": 38,
   "id": "255c28af-e4af-48c6-ae01-e90377c94e32",
   "metadata": {},
   "outputs": [
    {
     "name": "stdout",
     "output_type": "stream",
     "text": [
      "The job table_murn was saved and received the ID: 502\n"
     ]
    },
    {
     "data": {
      "application/vnd.jupyter.widget-view+json": {
       "model_id": "a5d41b6f348b4e31b85295d74e6f93b0",
       "version_major": 2,
       "version_minor": 0
      },
      "text/plain": [
       "Loading and filtering jobs:   0%|          | 0/9 [00:00<?, ?it/s]"
      ]
     },
     "metadata": {},
     "output_type": "display_data"
    },
    {
     "data": {
      "application/vnd.jupyter.widget-view+json": {
       "model_id": "5d4443355c4a458584cfc4343b77d69b",
       "version_major": 2,
       "version_minor": 0
      },
      "text/plain": [
       "Processing jobs:   0%|          | 0/9 [00:00<?, ?it/s]"
      ]
     },
     "metadata": {},
     "output_type": "display_data"
    },
    {
     "name": "stderr",
     "output_type": "stream",
     "text": [
      "/home/minaam.qamar/.conda/envs/workshop2/lib/python3.10/site-packages/pyiron_base/table/datamining.py:620: PerformanceWarning: \n",
      "your performance may suffer as PyTables will pickle object types that it cannot\n",
      "map directly to c-types [inferred_type->mixed,key->block2_values] [items->Index(['potential', 'ase_atoms', 'compound', 'crystal_structure'], dtype='object')]\n",
      "\n",
      "  self.pyiron_table._df.to_hdf(\n"
     ]
    },
    {
     "data": {
      "text/html": [
       "<div>\n",
       "<style scoped>\n",
       "    .dataframe tbody tr th:only-of-type {\n",
       "        vertical-align: middle;\n",
       "    }\n",
       "\n",
       "    .dataframe tbody tr th {\n",
       "        vertical-align: top;\n",
       "    }\n",
       "\n",
       "    .dataframe thead th {\n",
       "        text-align: right;\n",
       "    }\n",
       "</style>\n",
       "<table border=\"1\" class=\"dataframe\">\n",
       "  <thead>\n",
       "    <tr style=\"text-align: right;\">\n",
       "      <th></th>\n",
       "      <th>job_id</th>\n",
       "      <th>potential</th>\n",
       "      <th>ase_atoms</th>\n",
       "      <th>compound</th>\n",
       "      <th>crystal_structure</th>\n",
       "      <th>a</th>\n",
       "      <th>eq_vol</th>\n",
       "      <th>eq_bm</th>\n",
       "      <th>eq_energy</th>\n",
       "      <th>n_atoms</th>\n",
       "      <th>phase</th>\n",
       "    </tr>\n",
       "  </thead>\n",
       "  <tbody>\n",
       "    <tr>\n",
       "      <th>0</th>\n",
       "      <td>298</td>\n",
       "      <td>LiAl_eam</td>\n",
       "      <td>(Atom('Al', [0.0, 0.0, 0.0], index=0))</td>\n",
       "      <td>Al</td>\n",
       "      <td>fcc</td>\n",
       "      <td>4.039967</td>\n",
       "      <td>16.495612</td>\n",
       "      <td>85.876912</td>\n",
       "      <td>-3.483097</td>\n",
       "      <td>1</td>\n",
       "      <td>Al_fcc</td>\n",
       "    </tr>\n",
       "    <tr>\n",
       "      <th>1</th>\n",
       "      <td>311</td>\n",
       "      <td>LiAl_eam</td>\n",
       "      <td>(Atom('Al', [0.0, 0.0, 0.0], index=0))</td>\n",
       "      <td>Al</td>\n",
       "      <td>bcc</td>\n",
       "      <td>3.898853</td>\n",
       "      <td>16.147864</td>\n",
       "      <td>48.620841</td>\n",
       "      <td>-3.415312</td>\n",
       "      <td>1</td>\n",
       "      <td>Al_bcc</td>\n",
       "    </tr>\n",
       "    <tr>\n",
       "      <th>2</th>\n",
       "      <td>324</td>\n",
       "      <td>LiAl_eam</td>\n",
       "      <td>(Atom('Li', [0.0, 0.0, 0.0], index=0))</td>\n",
       "      <td>Li</td>\n",
       "      <td>bcc</td>\n",
       "      <td>4.195477</td>\n",
       "      <td>20.114514</td>\n",
       "      <td>13.690609</td>\n",
       "      <td>-1.757011</td>\n",
       "      <td>1</td>\n",
       "      <td>Li_bcc</td>\n",
       "    </tr>\n",
       "    <tr>\n",
       "      <th>3</th>\n",
       "      <td>337</td>\n",
       "      <td>LiAl_eam</td>\n",
       "      <td>(Atom('Li', [0.0, 0.0, 0.0], index=0))</td>\n",
       "      <td>Li</td>\n",
       "      <td>fcc</td>\n",
       "      <td>4.253841</td>\n",
       "      <td>19.241330</td>\n",
       "      <td>13.985972</td>\n",
       "      <td>-1.758107</td>\n",
       "      <td>1</td>\n",
       "      <td>Li_fcc</td>\n",
       "    </tr>\n",
       "    <tr>\n",
       "      <th>4</th>\n",
       "      <td>350</td>\n",
       "      <td>LiAl_eam</td>\n",
       "      <td>(Atom('Li', [4.359978178265942, 2.5172345748814804, 1.7799536377360752], index=0), Atom('Li', [6.53996726740165, 3.7758518623203585, 2.669930456604318], index=1), Atom('Al', [-3.964456982410852e-1...</td>\n",
       "      <td>Li2Al2</td>\n",
       "      <td>cubic</td>\n",
       "      <td>6.165940</td>\n",
       "      <td>58.604895</td>\n",
       "      <td>100.347240</td>\n",
       "      <td>-11.074362</td>\n",
       "      <td>4</td>\n",
       "      <td>Li2Al2_cubic</td>\n",
       "    </tr>\n",
       "    <tr>\n",
       "      <th>5</th>\n",
       "      <td>363</td>\n",
       "      <td>LiAl_eam</td>\n",
       "      <td>(Atom('Li', [0.0, 0.0, 0.0], index=0), Atom('Al', [1.9825515172760235, 1.9825515172760237, 2.427925369776811e-16], index=1), Atom('Al', [1.9825515172760235, 1.2139626848884054e-16, 1.9825515172760...</td>\n",
       "      <td>LiAl3</td>\n",
       "      <td>cubic</td>\n",
       "      <td>5.607502</td>\n",
       "      <td>62.227580</td>\n",
       "      <td>51.472656</td>\n",
       "      <td>-12.774590</td>\n",
       "      <td>4</td>\n",
       "      <td>LiAl3_cubic</td>\n",
       "    </tr>\n",
       "    <tr>\n",
       "      <th>6</th>\n",
       "      <td>376</td>\n",
       "      <td>LiAl_eam</td>\n",
       "      <td>(Atom('Li', [4.9874675377354745, 1.0099032069001204, 0.8188717268019969], index=0), Atom('Li', [3.1237856900347722, 1.4557299809760758, 2.6737242758835587], index=1), Atom('Li', [-3.44219970899484...</td>\n",
       "      <td>Li9Al4</td>\n",
       "      <td>monoclinic</td>\n",
       "      <td>13.023702</td>\n",
       "      <td>190.504371</td>\n",
       "      <td>53.125273</td>\n",
       "      <td>-28.970054</td>\n",
       "      <td>13</td>\n",
       "      <td>Li9Al4_monoclinic</td>\n",
       "    </tr>\n",
       "    <tr>\n",
       "      <th>7</th>\n",
       "      <td>389</td>\n",
       "      <td>LiAl_eam</td>\n",
       "      <td>(Atom('Al', [2.1548001975659243, 1.2440753587819189, 1.8617841750008692], index=0), Atom('Al', [-2.154798282819334, 3.7322233132135576, 2.664676023808053], index=1), Atom('Li', [8.560563403365655e...</td>\n",
       "      <td>Li3Al2</td>\n",
       "      <td>trigonal</td>\n",
       "      <td>6.094693</td>\n",
       "      <td>72.810229</td>\n",
       "      <td>69.231669</td>\n",
       "      <td>-12.413856</td>\n",
       "      <td>5</td>\n",
       "      <td>Li3Al2_trigonal</td>\n",
       "    </tr>\n",
       "    <tr>\n",
       "      <th>8</th>\n",
       "      <td>490</td>\n",
       "      <td>LiAl_eam</td>\n",
       "      <td>(Atom('Li', [2.1429671662366734, 1.237242669260901, 7.662122465542487], index=0), Atom('Li', [-8.827603092953495e-10, 2.4744853400282523, 0.5913662557792814], index=1), Atom('Li', [-8.827603092953...</td>\n",
       "      <td>Li4Al4</td>\n",
       "      <td>cubic</td>\n",
       "      <td>6.061226</td>\n",
       "      <td>131.389799</td>\n",
       "      <td>71.221356</td>\n",
       "      <td>-20.506570</td>\n",
       "      <td>8</td>\n",
       "      <td>Li4Al4_cubic</td>\n",
       "    </tr>\n",
       "  </tbody>\n",
       "</table>\n",
       "</div>"
      ],
      "text/plain": [
       "   job_id potential  ... n_atoms              phase\n",
       "0     298  LiAl_eam  ...       1             Al_fcc\n",
       "1     311  LiAl_eam  ...       1             Al_bcc\n",
       "2     324  LiAl_eam  ...       1             Li_bcc\n",
       "3     337  LiAl_eam  ...       1             Li_fcc\n",
       "4     350  LiAl_eam  ...       4       Li2Al2_cubic\n",
       "5     363  LiAl_eam  ...       4        LiAl3_cubic\n",
       "6     376  LiAl_eam  ...      13  Li9Al4_monoclinic\n",
       "7     389  LiAl_eam  ...       5    Li3Al2_trigonal\n",
       "8     490  LiAl_eam  ...       8       Li4Al4_cubic\n",
       "\n",
       "[9 rows x 11 columns]"
      ]
     },
     "execution_count": 38,
     "metadata": {},
     "output_type": "execute_result"
    }
   ],
   "source": [
    "# Compile data using pyiron tables\n",
    "table = pr.create_table(\"table_murn\", delete_existing_job=True)\n",
    "table.convert_to_object = True\n",
    "table.db_filter_function = get_only_murn\n",
    "table.add[\"potential\"] = get_potential\n",
    "table.add[\"ase_atoms\"] = get_ase_atoms\n",
    "table.add[\"compound\"] = get_compound\n",
    "table.add[\"crystal_structure\"] = get_crystal_structure\n",
    "table.add[\"a\"] = get_eq_lp\n",
    "table.add[\"eq_vol\"] = get_eq_vol\n",
    "table.add[\"eq_bm\"] = get_eq_bm\n",
    "table.add[\"eq_energy\"] = get_eq_energy\n",
    "table.add[\"n_atoms\"] = get_n_atoms\n",
    "table.run()\n",
    "\n",
    "data_murn = table.get_dataframe()\n",
    "data_murn[\"phase\"] = data_murn.compound + \"_\" + data_murn.crystal_structure\n",
    "data_murn"
   ]
  },
  {
   "cell_type": "code",
   "execution_count": 40,
   "id": "30d27d75",
   "metadata": {},
   "outputs": [
    {
     "data": {
      "image/png": "[encoded data removed]",
      "text/plain": [
       "<Figure size 480x432 with 1 Axes>"
      ]
     },
     "metadata": {
      "needs_background": "light"
     },
     "output_type": "display_data"
    }
   ],
   "source": [
    "fig, ax_list = plt.subplots(ncols=len(potentials_list), nrows=1, sharex=\"row\", sharey=\"row\")\n",
    "\n",
    "fig.set_figwidth(20/3)\n",
    "fig.set_figheight(6)\n",
    "\n",
    "color_palette = sns.color_palette(\"tab10\", n_colors=len(data_murn.phase.unique()))\n",
    "\n",
    "\n",
    "for i, pot in enumerate(potentials_list):\n",
    "    \n",
    "    if len(potentials_list) == 1:\n",
    "        ax = ax_list\n",
    "    else:\n",
    "        ax = ax_list[i]\n",
    "        \n",
    "    data = data_murn[data_murn.potential == get_clean_project_name(pot)]\n",
    "    \n",
    "    for j,(_, row) in enumerate(data.iterrows()):\n",
    "        murn_job = pr.load(row[\"job_id\"])\n",
    "        murn_df = murn_job.output_to_pandas()\n",
    "        n_atoms = row[\"n_atoms\"]\n",
    "        \n",
    "        ax.plot(murn_df[\"volume\"]/n_atoms, murn_df[\"energy\"]/n_atoms,\"o-\",\n",
    "                lw=4,\n",
    "                label= row[\"phase\"], \n",
    "                color=color_palette[j])\n",
    "        \n",
    "    ax.set_title(f\"{get_clean_project_name(pot)}\",fontsize=22)\n",
    "    ax.set_xlabel(\"Volume per atom, $\\mathrm{\\AA^3}$\",fontsize=20)\n",
    "    ax.set_ylabel(\"Energy per atom, eV/atom\",fontsize=20)\n",
    "    ax.tick_params(labelsize=18)\n",
    "    ax.legend(prop={\"size\":16})\n",
    "    #break\n",
    "fig.subplots_adjust(wspace=0.1);"
   ]
  },
  {
   "cell_type": "markdown",
   "id": "fba90359-a2a5-4f83-9fa8-6dc4d87f5743",
   "metadata": {},
   "source": [
    "## (b) Elastic constants and Phonons\n",
    "\n",
    "Pyiron also has job modules to calculate elastic constants and thermal properties using the quasi-harmonic approximation given by the `phonopy` package.\n",
    "\n",
    "As in the previous task, we again loop over the defined potentials and then over the given structures.\n",
    "\n",
    "Calculating elastic constants and thermal properties is considerably more expensive than calculating EV curves. Hence, it is useful to only calculate these properties for a subset of most important structures "
   ]
  },
  {
   "cell_type": "code",
   "execution_count": 11,
   "id": "7bf87f90",
   "metadata": {},
   "outputs": [
    {
     "data": {
      "text/html": [
       "<div>\n",
       "<style scoped>\n",
       "    .dataframe tbody tr th:only-of-type {\n",
       "        vertical-align: middle;\n",
       "    }\n",
       "\n",
       "    .dataframe tbody tr th {\n",
       "        vertical-align: top;\n",
       "    }\n",
       "\n",
       "    .dataframe thead th {\n",
       "        text-align: right;\n",
       "    }\n",
       "</style>\n",
       "<table border=\"1\" class=\"dataframe\">\n",
       "  <thead>\n",
       "    <tr style=\"text-align: right;\">\n",
       "      <th></th>\n",
       "      <th>job_id</th>\n",
       "      <th>potential</th>\n",
       "      <th>ase_atoms</th>\n",
       "      <th>compound</th>\n",
       "      <th>crystal_structure</th>\n",
       "      <th>a</th>\n",
       "      <th>eq_vol</th>\n",
       "      <th>eq_bm</th>\n",
       "      <th>eq_energy</th>\n",
       "      <th>n_atoms</th>\n",
       "      <th>phase</th>\n",
       "    </tr>\n",
       "  </thead>\n",
       "  <tbody>\n",
       "    <tr>\n",
       "      <th>0</th>\n",
       "      <td>298</td>\n",
       "      <td>LiAl_eam</td>\n",
       "      <td>(Atom('Al', [0.0, 0.0, 0.0], index=0))</td>\n",
       "      <td>Al</td>\n",
       "      <td>fcc</td>\n",
       "      <td>4.039967</td>\n",
       "      <td>16.495612</td>\n",
       "      <td>85.876912</td>\n",
       "      <td>-3.483097</td>\n",
       "      <td>1</td>\n",
       "      <td>Al_fcc</td>\n",
       "    </tr>\n",
       "    <tr>\n",
       "      <th>2</th>\n",
       "      <td>324</td>\n",
       "      <td>LiAl_eam</td>\n",
       "      <td>(Atom('Li', [0.0, 0.0, 0.0], index=0))</td>\n",
       "      <td>Li</td>\n",
       "      <td>bcc</td>\n",
       "      <td>4.195477</td>\n",
       "      <td>20.114514</td>\n",
       "      <td>13.690609</td>\n",
       "      <td>-1.757011</td>\n",
       "      <td>1</td>\n",
       "      <td>Li_bcc</td>\n",
       "    </tr>\n",
       "    <tr>\n",
       "      <th>4</th>\n",
       "      <td>350</td>\n",
       "      <td>LiAl_eam</td>\n",
       "      <td>(Atom('Li', [4.359978178265942, 2.5172345748814804, 1.7799536377360752], index=0), Atom('Li', [6.53996726740165, 3.7758518623203585, 2.669930456604318], index=1), Atom('Al', [-3.964456982410852e-1...</td>\n",
       "      <td>Li2Al2</td>\n",
       "      <td>cubic</td>\n",
       "      <td>6.165940</td>\n",
       "      <td>58.604895</td>\n",
       "      <td>100.347240</td>\n",
       "      <td>-11.074362</td>\n",
       "      <td>4</td>\n",
       "      <td>Li2Al2_cubic</td>\n",
       "    </tr>\n",
       "    <tr>\n",
       "      <th>5</th>\n",
       "      <td>363</td>\n",
       "      <td>LiAl_eam</td>\n",
       "      <td>(Atom('Li', [0.0, 0.0, 0.0], index=0), Atom('Al', [1.9825515172760235, 1.9825515172760237, 2.427925369776811e-16], index=1), Atom('Al', [1.9825515172760235, 1.2139626848884054e-16, 1.9825515172760...</td>\n",
       "      <td>LiAl3</td>\n",
       "      <td>cubic</td>\n",
       "      <td>5.607502</td>\n",
       "      <td>62.227580</td>\n",
       "      <td>51.472656</td>\n",
       "      <td>-12.774590</td>\n",
       "      <td>4</td>\n",
       "      <td>LiAl3_cubic</td>\n",
       "    </tr>\n",
       "  </tbody>\n",
       "</table>\n",
       "</div>"
      ],
      "text/plain": [
       "   job_id potential  ... n_atoms         phase\n",
       "0     298  LiAl_eam  ...       1        Al_fcc\n",
       "2     324  LiAl_eam  ...       1        Li_bcc\n",
       "4     350  LiAl_eam  ...       4  Li2Al2_cubic\n",
       "5     363  LiAl_eam  ...       4   LiAl3_cubic\n",
       "\n",
       "[4 rows x 11 columns]"
      ]
     },
     "execution_count": 11,
     "metadata": {},
     "output_type": "execute_result"
    }
   ],
   "source": [
    "list_of_phases = [\"Al_fcc\",\"Li_bcc\",\"Li2Al2_cubic\",\"LiAl3_cubic\"]\n",
    "\n",
    "subset_murn = data_murn[data_murn[\"phase\"].isin(list_of_phases)]\n",
    "subset_murn"
   ]
  },
  {
   "cell_type": "code",
   "execution_count": 12,
   "id": "0d1c799c-f10b-462d-aaea-253cee4b4b3e",
   "metadata": {
    "scrolled": true
   },
   "outputs": [
    {
     "name": "stdout",
     "output_type": "stream",
     "text": [
      "LiAl_eam\n",
      "The job elastic_job_Al_fcc was saved and received the ID: 414\n",
      "The job s_e_0 was saved and received the ID: 415\n",
      "The job s_01_e_m0_05000 was saved and received the ID: 416\n",
      "The job s_01_e_m0_02500 was saved and received the ID: 417\n",
      "The job s_01_e_0_02500 was saved and received the ID: 418\n",
      "The job s_01_e_0_05000 was saved and received the ID: 419\n",
      "The job s_08_e_m0_05000 was saved and received the ID: 420\n",
      "The job s_08_e_m0_02500 was saved and received the ID: 421\n",
      "The job s_08_e_0_02500 was saved and received the ID: 422\n",
      "The job s_08_e_0_05000 was saved and received the ID: 423\n",
      "The job s_23_e_m0_05000 was saved and received the ID: 424\n",
      "The job s_23_e_m0_02500 was saved and received the ID: 425\n",
      "The job s_23_e_0_02500 was saved and received the ID: 426\n",
      "The job s_23_e_0_05000 was saved and received the ID: 427\n",
      "The job phonopy_job_Al_fcc was saved and received the ID: 428\n",
      "The job ref_job_Al_fcc_0 was saved and received the ID: 429\n",
      "The job elastic_job_Li_bcc was saved and received the ID: 430\n",
      "The job s_e_0 was saved and received the ID: 431\n",
      "The job s_01_e_m0_05000 was saved and received the ID: 432\n",
      "The job s_01_e_m0_02500 was saved and received the ID: 433\n",
      "The job s_01_e_0_02500 was saved and received the ID: 434\n",
      "The job s_01_e_0_05000 was saved and received the ID: 435\n",
      "The job s_08_e_m0_05000 was saved and received the ID: 436\n",
      "The job s_08_e_m0_02500 was saved and received the ID: 437\n",
      "The job s_08_e_0_02500 was saved and received the ID: 438\n",
      "The job s_08_e_0_05000 was saved and received the ID: 439\n",
      "The job s_23_e_m0_05000 was saved and received the ID: 440\n",
      "The job s_23_e_m0_02500 was saved and received the ID: 441\n",
      "The job s_23_e_0_02500 was saved and received the ID: 442\n",
      "The job s_23_e_0_05000 was saved and received the ID: 443\n",
      "The job phonopy_job_Li_bcc was saved and received the ID: 444\n",
      "The job ref_job_Li_bcc_0 was saved and received the ID: 445\n",
      "The job elastic_job_Li2Al2_cubic was saved and received the ID: 446\n",
      "The job s_e_0 was saved and received the ID: 447\n",
      "The job s_01_e_m0_05000 was saved and received the ID: 448\n",
      "The job s_01_e_m0_02500 was saved and received the ID: 449\n",
      "The job s_01_e_0_02500 was saved and received the ID: 450\n",
      "The job s_01_e_0_05000 was saved and received the ID: 451\n",
      "The job s_08_e_m0_05000 was saved and received the ID: 452\n",
      "The job s_08_e_m0_02500 was saved and received the ID: 453\n",
      "The job s_08_e_0_02500 was saved and received the ID: 454\n",
      "The job s_08_e_0_05000 was saved and received the ID: 455\n",
      "The job s_23_e_m0_05000 was saved and received the ID: 456\n",
      "The job s_23_e_m0_02500 was saved and received the ID: 457\n",
      "The job s_23_e_0_02500 was saved and received the ID: 458\n",
      "The job s_23_e_0_05000 was saved and received the ID: 459\n",
      "The job phonopy_job_Li2Al2_cubic was saved and received the ID: 460\n",
      "The job ref_job_Li2Al2_cubic_0 was saved and received the ID: 461\n",
      "The job ref_job_Li2Al2_cubic_1 was saved and received the ID: 462\n",
      "The job elastic_job_LiAl3_cubic was saved and received the ID: 463\n",
      "The job s_e_0 was saved and received the ID: 464\n",
      "The job s_01_e_m0_05000 was saved and received the ID: 465\n",
      "The job s_01_e_m0_02500 was saved and received the ID: 466\n",
      "The job s_01_e_0_02500 was saved and received the ID: 467\n",
      "The job s_01_e_0_05000 was saved and received the ID: 468\n",
      "The job s_08_e_m0_05000 was saved and received the ID: 469\n",
      "The job s_08_e_m0_02500 was saved and received the ID: 470\n",
      "The job s_08_e_0_02500 was saved and received the ID: 471\n",
      "The job s_08_e_0_05000 was saved and received the ID: 472\n",
      "The job s_23_e_m0_05000 was saved and received the ID: 473\n",
      "The job s_23_e_m0_02500 was saved and received the ID: 474\n",
      "The job s_23_e_0_02500 was saved and received the ID: 475\n",
      "The job s_23_e_0_05000 was saved and received the ID: 476\n",
      "The job phonopy_job_LiAl3_cubic was saved and received the ID: 477\n",
      "The job ref_job_LiAl3_cubic_0 was saved and received the ID: 478\n",
      "The job ref_job_LiAl3_cubic_1 was saved and received the ID: 479\n"
     ]
    }
   ],
   "source": [
    "for pot in potentials_list:\n",
    "    group_name = get_clean_project_name(pot)\n",
    "    pr_pot = pr.create_group(group_name)\n",
    "    print(group_name)\n",
    "    \n",
    "    for _, row in subset_murn[subset_murn.potential==group_name].iterrows():\n",
    "        job_id = row[\"job_id\"]\n",
    "        \n",
    "        job_ref = pr_pot.create_job(pr_pot.job_type.Lammps, f\"ref_job_{row.compound}_{row.crystal_structure}\")\n",
    "        ref = pr_pot.load(job_id)\n",
    "        job_ref.structure = ref.structure\n",
    "        job_ref.potential = pot\n",
    "        job_ref.calc_minimize()\n",
    "        elastic_job = job_ref.create_job(pr_pot.job_type.ElasticMatrixJob, f\"elastic_job_{row.compound}_{row.crystal_structure}\")\n",
    "        elastic_job.input[\"eps_range\"] = 0.05\n",
    "        elastic_job.run()\n",
    "        \n",
    "        \n",
    "        phonopy_job = job_ref.create_job(pr_pot.job_type.PhonopyJob, f\"phonopy_job_{row.compound}_{row.crystal_structure}\")\n",
    "        job_ref.calc_static()\n",
    "        phonopy_job.run()"
   ]
  },
  {
   "cell_type": "code",
   "execution_count": 13,
   "id": "a035813c-039d-4981-b3ba-516b40bb3c4d",
   "metadata": {},
   "outputs": [],
   "source": [
    "def filter_elastic(job_table):\n",
    "    return (job_table.hamilton == \"ElasticMatrixJob\") & (job_table.status == \"finished\")\n",
    "\n",
    "# Get corresponding elastic constants\n",
    "def get_c11(job_path):\n",
    "    return job_path[\"output/elasticmatrix\"][\"C\"][0, 0]\n",
    "\n",
    "def get_c12(job_path):\n",
    "    return job_path[\"output/elasticmatrix\"][\"C\"][0, 1]\n",
    "\n",
    "def get_c44(job_path):\n",
    "    return job_path[\"output/elasticmatrix\"][\"C\"][3, 3]"
   ]
  },
  {
   "cell_type": "code",
   "execution_count": 14,
   "id": "ba95973a-a00f-41a9-b23f-2b4bcf629aaf",
   "metadata": {},
   "outputs": [
    {
     "name": "stdout",
     "output_type": "stream",
     "text": [
      "The job table_elastic was saved and received the ID: 480\n"
     ]
    },
    {
     "data": {
      "application/vnd.jupyter.widget-view+json": {
       "model_id": "9bb9d01006694f59be188c5ec42858f9",
       "version_major": 2,
       "version_minor": 0
      },
      "text/plain": [
       "Loading and filtering jobs:   0%|          | 0/4 [00:00<?, ?it/s]"
      ]
     },
     "metadata": {},
     "output_type": "display_data"
    },
    {
     "data": {
      "application/vnd.jupyter.widget-view+json": {
       "model_id": "6994f98ab95140fe94dad01da536cc32",
       "version_major": 2,
       "version_minor": 0
      },
      "text/plain": [
       "Processing jobs:   0%|          | 0/4 [00:00<?, ?it/s]"
      ]
     },
     "metadata": {},
     "output_type": "display_data"
    },
    {
     "data": {
      "text/html": [
       "<div>\n",
       "<style scoped>\n",
       "    .dataframe tbody tr th:only-of-type {\n",
       "        vertical-align: middle;\n",
       "    }\n",
       "\n",
       "    .dataframe tbody tr th {\n",
       "        vertical-align: top;\n",
       "    }\n",
       "\n",
       "    .dataframe thead th {\n",
       "        text-align: right;\n",
       "    }\n",
       "</style>\n",
       "<table border=\"1\" class=\"dataframe\">\n",
       "  <thead>\n",
       "    <tr style=\"text-align: right;\">\n",
       "      <th></th>\n",
       "      <th>job_id</th>\n",
       "      <th>potential</th>\n",
       "      <th>C11</th>\n",
       "      <th>C12</th>\n",
       "      <th>C44</th>\n",
       "      <th>compound</th>\n",
       "      <th>crystal_structure</th>\n",
       "      <th>phase</th>\n",
       "    </tr>\n",
       "  </thead>\n",
       "  <tbody>\n",
       "    <tr>\n",
       "      <th>0</th>\n",
       "      <td>414</td>\n",
       "      <td>LiAl_eam</td>\n",
       "      <td>120.339279</td>\n",
       "      <td>66.483631</td>\n",
       "      <td>45.515458</td>\n",
       "      <td>Al</td>\n",
       "      <td>fcc</td>\n",
       "      <td>Al_fcc</td>\n",
       "    </tr>\n",
       "    <tr>\n",
       "      <th>1</th>\n",
       "      <td>430</td>\n",
       "      <td>LiAl_eam</td>\n",
       "      <td>16.740018</td>\n",
       "      <td>11.018163</td>\n",
       "      <td>12.688217</td>\n",
       "      <td>Li</td>\n",
       "      <td>bcc</td>\n",
       "      <td>Li_bcc</td>\n",
       "    </tr>\n",
       "    <tr>\n",
       "      <th>2</th>\n",
       "      <td>446</td>\n",
       "      <td>LiAl_eam</td>\n",
       "      <td>179.464635</td>\n",
       "      <td>54.231219</td>\n",
       "      <td>47.889040</td>\n",
       "      <td>Li2Al2</td>\n",
       "      <td>cubic</td>\n",
       "      <td>Li2Al2_cubic</td>\n",
       "    </tr>\n",
       "    <tr>\n",
       "      <th>3</th>\n",
       "      <td>463</td>\n",
       "      <td>LiAl_eam</td>\n",
       "      <td>65.443987</td>\n",
       "      <td>47.601166</td>\n",
       "      <td>28.002138</td>\n",
       "      <td>LiAl3</td>\n",
       "      <td>cubic</td>\n",
       "      <td>LiAl3_cubic</td>\n",
       "    </tr>\n",
       "  </tbody>\n",
       "</table>\n",
       "</div>"
      ],
      "text/plain": [
       "   job_id potential         C11  ...  compound  crystal_structure         phase\n",
       "0     414  LiAl_eam  120.339279  ...        Al                fcc        Al_fcc\n",
       "1     430  LiAl_eam   16.740018  ...        Li                bcc        Li_bcc\n",
       "2     446  LiAl_eam  179.464635  ...    Li2Al2              cubic  Li2Al2_cubic\n",
       "3     463  LiAl_eam   65.443987  ...     LiAl3              cubic   LiAl3_cubic\n",
       "\n",
       "[4 rows x 8 columns]"
      ]
     },
     "execution_count": 14,
     "metadata": {},
     "output_type": "execute_result"
    }
   ],
   "source": [
    "table = pr.create_table(\"table_elastic\", delete_existing_job=True)\n",
    "table.db_filter_function = filter_elastic\n",
    "table.add[\"potential\"] = get_potential\n",
    "table.add[\"C11\"] = get_c11\n",
    "table.add[\"C12\"] = get_c12\n",
    "table.add[\"C44\"] = get_c44\n",
    "table.add[\"compound\"] = get_compound\n",
    "table.add[\"crystal_structure\"] = get_crystal_structure\n",
    "\n",
    "table.run()\n",
    "data_elastic = table.get_dataframe()\n",
    "data_elastic[\"phase\"] = data_elastic.compound + \"_\" + data_elastic.crystal_structure\n",
    "data_elastic = data_elastic[data_elastic[\"phase\"].isin(list_of_phases)]\n",
    "data_elastic"
   ]
  },
  {
   "cell_type": "code",
   "execution_count": 58,
   "id": "b317b1d3-549b-4e0e-84bf-3cd02a92596d",
   "metadata": {},
   "outputs": [
    {
     "data": {
      "image/png": "[encoded data removed]",
      "text/plain": [
       "<Figure size 1440x360 with 4 Axes>"
      ]
     },
     "metadata": {
      "needs_background": "light"
     },
     "output_type": "display_data"
    }
   ],
   "source": [
    "fig, ax_list = plt.subplots(ncols=len(data_elastic.phase.unique()), nrows=1, sharex=\"row\", sharey=\"row\")\n",
    "\n",
    "fig.set_figwidth(20)\n",
    "fig.set_figheight(5)\n",
    "\n",
    "color_palette = sns.color_palette(\"tab10\", n_colors=len(data_elastic.potential.unique()))\n",
    "\n",
    "\n",
    "for i, phase in enumerate(data_elastic.phase.unique()):\n",
    "    \n",
    "    ax = ax_list[i]\n",
    "    data = data_elastic[data_elastic.phase == phase]\n",
    "    \n",
    "    \n",
    "    \n",
    "    for j, pot in enumerate(potentials_list):\n",
    "        \n",
    "        phonopy_job = pr[get_clean_project_name(pot) + f\"/phonopy_job_{phase}\"]\n",
    "    \n",
    "        thermo = phonopy_job.get_thermal_properties(t_min=0, t_max=800)\n",
    "        \n",
    "        ax.plot(phonopy_job[\"output/dos_energies\"], phonopy_job[\"output/dos_total\"], \n",
    "                lw=4,\n",
    "                color=color_palette[j], \n",
    "                label=get_clean_project_name(pot))\n",
    "        ax.set_xlabel(\"Frequency, THz\",fontsize=22)\n",
    "    ax.set_title(f\"{phase}\",fontsize=22)\n",
    "    ax.tick_params(labelsize=16)\n",
    "ax_list[0].set_ylabel(\"DOS\",fontsize=22)\n",
    "\n",
    "ax_list[0].legend(prop={\"size\":16})\n",
    "fig.subplots_adjust(wspace=0.1);"
   ]
  },
  {
   "cell_type": "code",
   "execution_count": 33,
   "id": "d2f11623-e92b-4a71-8440-d84a1d48392e",
   "metadata": {},
   "outputs": [
    {
     "data": {
      "image/png": "[encoded data removed]",
      "text/plain": [
       "<Figure size 1440x360 with 4 Axes>"
      ]
     },
     "metadata": {
      "needs_background": "light"
     },
     "output_type": "display_data"
    }
   ],
   "source": [
    "fig, ax_list = plt.subplots(ncols=len(data_elastic.phase.unique()), nrows=1, sharex=\"row\", sharey=\"row\")\n",
    "\n",
    "fig.set_figwidth(20)\n",
    "fig.set_figheight(5)\n",
    "\n",
    "color_palette = sns.color_palette(\"tab10\", n_colors=len(data_elastic.potential.unique()))\n",
    "\n",
    "\n",
    "for i, phase in enumerate(data_elastic.phase.unique()):\n",
    "    \n",
    "    ax = ax_list[i]\n",
    "    data = data_elastic[data_elastic.phase == phase]\n",
    "    \n",
    "    n_atom = data_murn[data_murn[\"phase\"]==phase][\"n_atoms\"].item()\n",
    "    \n",
    "    \n",
    "    for j, pot in enumerate(potentials_list):\n",
    "        \n",
    "        phonopy_job = pr[get_clean_project_name(pot) + f\"/phonopy_job_{phase}\"]\n",
    "    \n",
    "        thermo = phonopy_job.get_thermal_properties(t_min=0, t_max=800)\n",
    "\n",
    "        ax.plot(thermo.temperatures, thermo.cv/n_atom,\n",
    "                lw=4,\n",
    "                label=get_clean_project_name(pot), \n",
    "                color=color_palette[j])\n",
    "        ax.set_xlabel(\"Temperatures, K\",fontsize=18)\n",
    "    ax.set_title(f\"{phase}\",fontsize=22)\n",
    "    ax.tick_params(labelsize=16)\n",
    "ax_list[0].set_ylabel(\"C$_v$\",fontsize=22)\n",
    "\n",
    "ax_list[0].legend(prop={\"size\":16})\n",
    "fig.subplots_adjust(wspace=0.1);"
   ]
  },
  {
   "cell_type": "code",
   "execution_count": 17,
   "id": "7c036a6e-0a66-4adf-8a1e-6ce94ad91ee0",
   "metadata": {},
   "outputs": [],
   "source": [
    "# phonopy_job.plot_band_structure()"
   ]
  },
  {
   "cell_type": "markdown",
   "id": "60b72d0f",
   "metadata": {},
   "source": [
    "### (c) Convex hull\n",
    "\n",
    "To assess the stability of the binary phases, we plot a convex hull for the considered phases. \n",
    "\n",
    "For this task we compute the formation energies of the mixed phases relative to ground state energies of equilibrium unary phases."
   ]
  },
  {
   "cell_type": "code",
   "execution_count": 41,
   "id": "2ecb02c3",
   "metadata": {},
   "outputs": [
    {
     "data": {
      "text/html": [
       "<div>\n",
       "<style scoped>\n",
       "    .dataframe tbody tr th:only-of-type {\n",
       "        vertical-align: middle;\n",
       "    }\n",
       "\n",
       "    .dataframe tbody tr th {\n",
       "        vertical-align: top;\n",
       "    }\n",
       "\n",
       "    .dataframe thead th {\n",
       "        text-align: right;\n",
       "    }\n",
       "</style>\n",
       "<table border=\"1\" class=\"dataframe\">\n",
       "  <thead>\n",
       "    <tr style=\"text-align: right;\">\n",
       "      <th></th>\n",
       "      <th>job_id</th>\n",
       "      <th>potential</th>\n",
       "      <th>ase_atoms</th>\n",
       "      <th>compound</th>\n",
       "      <th>crystal_structure</th>\n",
       "      <th>a</th>\n",
       "      <th>eq_vol</th>\n",
       "      <th>eq_bm</th>\n",
       "      <th>eq_energy</th>\n",
       "      <th>n_atoms</th>\n",
       "      <th>phase</th>\n",
       "    </tr>\n",
       "  </thead>\n",
       "  <tbody>\n",
       "    <tr>\n",
       "      <th>0</th>\n",
       "      <td>298</td>\n",
       "      <td>LiAl_eam</td>\n",
       "      <td>(Atom('Al', [0.0, 0.0, 0.0], index=0))</td>\n",
       "      <td>Al</td>\n",
       "      <td>fcc</td>\n",
       "      <td>4.039967</td>\n",
       "      <td>16.495612</td>\n",
       "      <td>85.876912</td>\n",
       "      <td>-3.483097</td>\n",
       "      <td>1</td>\n",
       "      <td>Al_fcc</td>\n",
       "    </tr>\n",
       "    <tr>\n",
       "      <th>1</th>\n",
       "      <td>311</td>\n",
       "      <td>LiAl_eam</td>\n",
       "      <td>(Atom('Al', [0.0, 0.0, 0.0], index=0))</td>\n",
       "      <td>Al</td>\n",
       "      <td>bcc</td>\n",
       "      <td>3.898853</td>\n",
       "      <td>16.147864</td>\n",
       "      <td>48.620841</td>\n",
       "      <td>-3.415312</td>\n",
       "      <td>1</td>\n",
       "      <td>Al_bcc</td>\n",
       "    </tr>\n",
       "  </tbody>\n",
       "</table>\n",
       "</div>"
      ],
      "text/plain": [
       "   job_id potential  ... n_atoms   phase\n",
       "0     298  LiAl_eam  ...       1  Al_fcc\n",
       "1     311  LiAl_eam  ...       1  Al_bcc\n",
       "\n",
       "[2 rows x 11 columns]"
      ]
     },
     "execution_count": 41,
     "metadata": {},
     "output_type": "execute_result"
    }
   ],
   "source": [
    "from collections import Counter\n",
    "\n",
    "data_convexhull = data_murn.copy()\n",
    "data_convexhull.head(2)"
   ]
  },
  {
   "cell_type": "markdown",
   "id": "3e1b8dd1",
   "metadata": {},
   "source": [
    "Using `Collections.counter` we construct a composition dictionary for all the phases and from that dictionary, we can extract the relative concentrations of Al and Li in each structure"
   ]
  },
  {
   "cell_type": "code",
   "execution_count": 42,
   "id": "b0bba971",
   "metadata": {
    "scrolled": true
   },
   "outputs": [
    {
     "data": {
      "text/html": [
       "<div>\n",
       "<style scoped>\n",
       "    .dataframe tbody tr th:only-of-type {\n",
       "        vertical-align: middle;\n",
       "    }\n",
       "\n",
       "    .dataframe tbody tr th {\n",
       "        vertical-align: top;\n",
       "    }\n",
       "\n",
       "    .dataframe thead th {\n",
       "        text-align: right;\n",
       "    }\n",
       "</style>\n",
       "<table border=\"1\" class=\"dataframe\">\n",
       "  <thead>\n",
       "    <tr style=\"text-align: right;\">\n",
       "      <th></th>\n",
       "      <th>job_id</th>\n",
       "      <th>potential</th>\n",
       "      <th>ase_atoms</th>\n",
       "      <th>compound</th>\n",
       "      <th>crystal_structure</th>\n",
       "      <th>a</th>\n",
       "      <th>eq_vol</th>\n",
       "      <th>eq_bm</th>\n",
       "      <th>eq_energy</th>\n",
       "      <th>n_atoms</th>\n",
       "      <th>phase</th>\n",
       "      <th>comp_dict</th>\n",
       "      <th>n_Al</th>\n",
       "      <th>n_Li</th>\n",
       "      <th>cAl</th>\n",
       "      <th>cLi</th>\n",
       "    </tr>\n",
       "  </thead>\n",
       "  <tbody>\n",
       "    <tr>\n",
       "      <th>0</th>\n",
       "      <td>298</td>\n",
       "      <td>LiAl_eam</td>\n",
       "      <td>(Atom('Al', [0.0, 0.0, 0.0], index=0))</td>\n",
       "      <td>Al</td>\n",
       "      <td>fcc</td>\n",
       "      <td>4.039967</td>\n",
       "      <td>16.495612</td>\n",
       "      <td>85.876912</td>\n",
       "      <td>-3.483097</td>\n",
       "      <td>1</td>\n",
       "      <td>Al_fcc</td>\n",
       "      <td>{'Al': 1}</td>\n",
       "      <td>1</td>\n",
       "      <td>0</td>\n",
       "      <td>1.000000</td>\n",
       "      <td>0.000000</td>\n",
       "    </tr>\n",
       "    <tr>\n",
       "      <th>1</th>\n",
       "      <td>311</td>\n",
       "      <td>LiAl_eam</td>\n",
       "      <td>(Atom('Al', [0.0, 0.0, 0.0], index=0))</td>\n",
       "      <td>Al</td>\n",
       "      <td>bcc</td>\n",
       "      <td>3.898853</td>\n",
       "      <td>16.147864</td>\n",
       "      <td>48.620841</td>\n",
       "      <td>-3.415312</td>\n",
       "      <td>1</td>\n",
       "      <td>Al_bcc</td>\n",
       "      <td>{'Al': 1}</td>\n",
       "      <td>1</td>\n",
       "      <td>0</td>\n",
       "      <td>1.000000</td>\n",
       "      <td>0.000000</td>\n",
       "    </tr>\n",
       "    <tr>\n",
       "      <th>2</th>\n",
       "      <td>324</td>\n",
       "      <td>LiAl_eam</td>\n",
       "      <td>(Atom('Li', [0.0, 0.0, 0.0], index=0))</td>\n",
       "      <td>Li</td>\n",
       "      <td>bcc</td>\n",
       "      <td>4.195477</td>\n",
       "      <td>20.114514</td>\n",
       "      <td>13.690609</td>\n",
       "      <td>-1.757011</td>\n",
       "      <td>1</td>\n",
       "      <td>Li_bcc</td>\n",
       "      <td>{'Li': 1}</td>\n",
       "      <td>0</td>\n",
       "      <td>1</td>\n",
       "      <td>0.000000</td>\n",
       "      <td>1.000000</td>\n",
       "    </tr>\n",
       "    <tr>\n",
       "      <th>3</th>\n",
       "      <td>337</td>\n",
       "      <td>LiAl_eam</td>\n",
       "      <td>(Atom('Li', [0.0, 0.0, 0.0], index=0))</td>\n",
       "      <td>Li</td>\n",
       "      <td>fcc</td>\n",
       "      <td>4.253841</td>\n",
       "      <td>19.241330</td>\n",
       "      <td>13.985972</td>\n",
       "      <td>-1.758107</td>\n",
       "      <td>1</td>\n",
       "      <td>Li_fcc</td>\n",
       "      <td>{'Li': 1}</td>\n",
       "      <td>0</td>\n",
       "      <td>1</td>\n",
       "      <td>0.000000</td>\n",
       "      <td>1.000000</td>\n",
       "    </tr>\n",
       "    <tr>\n",
       "      <th>4</th>\n",
       "      <td>350</td>\n",
       "      <td>LiAl_eam</td>\n",
       "      <td>(Atom('Li', [4.359978178265942, 2.5172345748814804, 1.7799536377360752], index=0), Atom('Li', [6.53996726740165, 3.7758518623203585, 2.669930456604318], index=1), Atom('Al', [-3.964456982410852e-1...</td>\n",
       "      <td>Li2Al2</td>\n",
       "      <td>cubic</td>\n",
       "      <td>6.165940</td>\n",
       "      <td>58.604895</td>\n",
       "      <td>100.347240</td>\n",
       "      <td>-11.074362</td>\n",
       "      <td>4</td>\n",
       "      <td>Li2Al2_cubic</td>\n",
       "      <td>{'Li': 2, 'Al': 2}</td>\n",
       "      <td>2</td>\n",
       "      <td>2</td>\n",
       "      <td>0.500000</td>\n",
       "      <td>0.500000</td>\n",
       "    </tr>\n",
       "    <tr>\n",
       "      <th>5</th>\n",
       "      <td>363</td>\n",
       "      <td>LiAl_eam</td>\n",
       "      <td>(Atom('Li', [0.0, 0.0, 0.0], index=0), Atom('Al', [1.9825515172760235, 1.9825515172760237, 2.427925369776811e-16], index=1), Atom('Al', [1.9825515172760235, 1.2139626848884054e-16, 1.9825515172760...</td>\n",
       "      <td>LiAl3</td>\n",
       "      <td>cubic</td>\n",
       "      <td>5.607502</td>\n",
       "      <td>62.227580</td>\n",
       "      <td>51.472656</td>\n",
       "      <td>-12.774590</td>\n",
       "      <td>4</td>\n",
       "      <td>LiAl3_cubic</td>\n",
       "      <td>{'Li': 1, 'Al': 3}</td>\n",
       "      <td>3</td>\n",
       "      <td>1</td>\n",
       "      <td>0.750000</td>\n",
       "      <td>0.250000</td>\n",
       "    </tr>\n",
       "    <tr>\n",
       "      <th>6</th>\n",
       "      <td>376</td>\n",
       "      <td>LiAl_eam</td>\n",
       "      <td>(Atom('Li', [4.9874675377354745, 1.0099032069001204, 0.8188717268019969], index=0), Atom('Li', [3.1237856900347722, 1.4557299809760758, 2.6737242758835587], index=1), Atom('Li', [-3.44219970899484...</td>\n",
       "      <td>Li9Al4</td>\n",
       "      <td>monoclinic</td>\n",
       "      <td>13.023702</td>\n",
       "      <td>190.504371</td>\n",
       "      <td>53.125273</td>\n",
       "      <td>-28.970054</td>\n",
       "      <td>13</td>\n",
       "      <td>Li9Al4_monoclinic</td>\n",
       "      <td>{'Li': 9, 'Al': 4}</td>\n",
       "      <td>4</td>\n",
       "      <td>9</td>\n",
       "      <td>0.307692</td>\n",
       "      <td>0.692308</td>\n",
       "    </tr>\n",
       "    <tr>\n",
       "      <th>7</th>\n",
       "      <td>389</td>\n",
       "      <td>LiAl_eam</td>\n",
       "      <td>(Atom('Al', [2.1548001975659243, 1.2440753587819189, 1.8617841750008692], index=0), Atom('Al', [-2.154798282819334, 3.7322233132135576, 2.664676023808053], index=1), Atom('Li', [8.560563403365655e...</td>\n",
       "      <td>Li3Al2</td>\n",
       "      <td>trigonal</td>\n",
       "      <td>6.094693</td>\n",
       "      <td>72.810229</td>\n",
       "      <td>69.231669</td>\n",
       "      <td>-12.413856</td>\n",
       "      <td>5</td>\n",
       "      <td>Li3Al2_trigonal</td>\n",
       "      <td>{'Al': 2, 'Li': 3}</td>\n",
       "      <td>2</td>\n",
       "      <td>3</td>\n",
       "      <td>0.400000</td>\n",
       "      <td>0.600000</td>\n",
       "    </tr>\n",
       "    <tr>\n",
       "      <th>8</th>\n",
       "      <td>490</td>\n",
       "      <td>LiAl_eam</td>\n",
       "      <td>(Atom('Li', [2.1429671662366734, 1.237242669260901, 7.662122465542487], index=0), Atom('Li', [-8.827603092953495e-10, 2.4744853400282523, 0.5913662557792814], index=1), Atom('Li', [-8.827603092953...</td>\n",
       "      <td>Li4Al4</td>\n",
       "      <td>cubic</td>\n",
       "      <td>6.061226</td>\n",
       "      <td>131.389799</td>\n",
       "      <td>71.221356</td>\n",
       "      <td>-20.506570</td>\n",
       "      <td>8</td>\n",
       "      <td>Li4Al4_cubic</td>\n",
       "      <td>{'Li': 4, 'Al': 4}</td>\n",
       "      <td>4</td>\n",
       "      <td>4</td>\n",
       "      <td>0.500000</td>\n",
       "      <td>0.500000</td>\n",
       "    </tr>\n",
       "  </tbody>\n",
       "</table>\n",
       "</div>"
      ],
      "text/plain": [
       "   job_id potential  ...       cAl       cLi\n",
       "0     298  LiAl_eam  ...  1.000000  0.000000\n",
       "1     311  LiAl_eam  ...  1.000000  0.000000\n",
       "2     324  LiAl_eam  ...  0.000000  1.000000\n",
       "3     337  LiAl_eam  ...  0.000000  1.000000\n",
       "4     350  LiAl_eam  ...  0.500000  0.500000\n",
       "5     363  LiAl_eam  ...  0.750000  0.250000\n",
       "6     376  LiAl_eam  ...  0.307692  0.692308\n",
       "7     389  LiAl_eam  ...  0.400000  0.600000\n",
       "8     490  LiAl_eam  ...  0.500000  0.500000\n",
       "\n",
       "[9 rows x 16 columns]"
      ]
     },
     "execution_count": 42,
     "metadata": {},
     "output_type": "execute_result"
    }
   ],
   "source": [
    "data_convexhull[\"comp_dict\"] = data_convexhull[\"ase_atoms\"].map(lambda at: Counter(at.get_chemical_symbols()))\n",
    "data_convexhull[\"n_Al\"] = data_convexhull[\"comp_dict\"].map(lambda d: d.get(\"Al\",0))\n",
    "data_convexhull[\"n_Li\"] = data_convexhull[\"comp_dict\"].map(lambda d: d.get(\"Li\",0))\n",
    "\n",
    "data_convexhull[\"cAl\"]=data_convexhull[\"n_Al\"]/data_convexhull[\"n_atoms\"]\n",
    "data_convexhull[\"cLi\"]=data_convexhull[\"n_Li\"]/data_convexhull[\"n_atoms\"]\n",
    "\n",
    "data_convexhull"
   ]
  },
  {
   "cell_type": "markdown",
   "id": "13e71b7d",
   "metadata": {},
   "source": [
    "Obtain the equilibrium energies for unary Al and Li phases from the Dataframe"
   ]
  },
  {
   "cell_type": "code",
   "execution_count": 43,
   "id": "3fccd2e0",
   "metadata": {},
   "outputs": [
    {
     "data": {
      "text/plain": [
       "[-3.4830968311997523, -1.758107337432567]"
      ]
     },
     "execution_count": 43,
     "metadata": {},
     "output_type": "execute_result"
    }
   ],
   "source": [
    "E_f_Al = data_convexhull.loc[data_convexhull[\"n_Li\"]==0,\"eq_energy\"].min()\n",
    "E_f_Li = data_convexhull.loc[data_convexhull[\"n_Al\"]==0,\"eq_energy\"].min()\n",
    "\n",
    "[E_f_Al, E_f_Li]"
   ]
  },
  {
   "cell_type": "markdown",
   "id": "88533361",
   "metadata": {},
   "source": [
    "Calculate the relative formation energies by subtracting the total energies of the mixed phases with the energies of eq Al and Li\n",
    "\n",
    "$$E^{A_xB_y}_{f} = E_{A_xB_y} - (x E_A + yE_B)$$"
   ]
  },
  {
   "cell_type": "code",
   "execution_count": 44,
   "id": "43b89ed8",
   "metadata": {
    "scrolled": true
   },
   "outputs": [
    {
     "data": {
      "text/html": [
       "<div>\n",
       "<style scoped>\n",
       "    .dataframe tbody tr th:only-of-type {\n",
       "        vertical-align: middle;\n",
       "    }\n",
       "\n",
       "    .dataframe tbody tr th {\n",
       "        vertical-align: top;\n",
       "    }\n",
       "\n",
       "    .dataframe thead th {\n",
       "        text-align: right;\n",
       "    }\n",
       "</style>\n",
       "<table border=\"1\" class=\"dataframe\">\n",
       "  <thead>\n",
       "    <tr style=\"text-align: right;\">\n",
       "      <th></th>\n",
       "      <th>job_id</th>\n",
       "      <th>potential</th>\n",
       "      <th>ase_atoms</th>\n",
       "      <th>compound</th>\n",
       "      <th>crystal_structure</th>\n",
       "      <th>a</th>\n",
       "      <th>eq_vol</th>\n",
       "      <th>eq_bm</th>\n",
       "      <th>eq_energy</th>\n",
       "      <th>n_atoms</th>\n",
       "      <th>phase</th>\n",
       "      <th>comp_dict</th>\n",
       "      <th>n_Al</th>\n",
       "      <th>n_Li</th>\n",
       "      <th>cAl</th>\n",
       "      <th>cLi</th>\n",
       "      <th>E_form</th>\n",
       "      <th>E_form_per_atom</th>\n",
       "    </tr>\n",
       "  </thead>\n",
       "  <tbody>\n",
       "    <tr>\n",
       "      <th>0</th>\n",
       "      <td>298</td>\n",
       "      <td>LiAl_eam</td>\n",
       "      <td>(Atom('Al', [0.0, 0.0, 0.0], index=0))</td>\n",
       "      <td>Al</td>\n",
       "      <td>fcc</td>\n",
       "      <td>4.039967</td>\n",
       "      <td>16.495612</td>\n",
       "      <td>85.876912</td>\n",
       "      <td>-3.483097</td>\n",
       "      <td>1</td>\n",
       "      <td>Al_fcc</td>\n",
       "      <td>{'Al': 1}</td>\n",
       "      <td>1</td>\n",
       "      <td>0</td>\n",
       "      <td>1.000000</td>\n",
       "      <td>0.000000</td>\n",
       "      <td>0.000000</td>\n",
       "      <td>0.000000</td>\n",
       "    </tr>\n",
       "    <tr>\n",
       "      <th>1</th>\n",
       "      <td>311</td>\n",
       "      <td>LiAl_eam</td>\n",
       "      <td>(Atom('Al', [0.0, 0.0, 0.0], index=0))</td>\n",
       "      <td>Al</td>\n",
       "      <td>bcc</td>\n",
       "      <td>3.898853</td>\n",
       "      <td>16.147864</td>\n",
       "      <td>48.620841</td>\n",
       "      <td>-3.415312</td>\n",
       "      <td>1</td>\n",
       "      <td>Al_bcc</td>\n",
       "      <td>{'Al': 1}</td>\n",
       "      <td>1</td>\n",
       "      <td>0</td>\n",
       "      <td>1.000000</td>\n",
       "      <td>0.000000</td>\n",
       "      <td>0.067785</td>\n",
       "      <td>0.067785</td>\n",
       "    </tr>\n",
       "    <tr>\n",
       "      <th>5</th>\n",
       "      <td>363</td>\n",
       "      <td>LiAl_eam</td>\n",
       "      <td>(Atom('Li', [0.0, 0.0, 0.0], index=0), Atom('Al', [1.9825515172760235, 1.9825515172760237, 2.427925369776811e-16], index=1), Atom('Al', [1.9825515172760235, 1.2139626848884054e-16, 1.9825515172760...</td>\n",
       "      <td>LiAl3</td>\n",
       "      <td>cubic</td>\n",
       "      <td>5.607502</td>\n",
       "      <td>62.227580</td>\n",
       "      <td>51.472656</td>\n",
       "      <td>-12.774590</td>\n",
       "      <td>4</td>\n",
       "      <td>LiAl3_cubic</td>\n",
       "      <td>{'Li': 1, 'Al': 3}</td>\n",
       "      <td>3</td>\n",
       "      <td>1</td>\n",
       "      <td>0.750000</td>\n",
       "      <td>0.250000</td>\n",
       "      <td>-0.567192</td>\n",
       "      <td>-0.141798</td>\n",
       "    </tr>\n",
       "    <tr>\n",
       "      <th>4</th>\n",
       "      <td>350</td>\n",
       "      <td>LiAl_eam</td>\n",
       "      <td>(Atom('Li', [4.359978178265942, 2.5172345748814804, 1.7799536377360752], index=0), Atom('Li', [6.53996726740165, 3.7758518623203585, 2.669930456604318], index=1), Atom('Al', [-3.964456982410852e-1...</td>\n",
       "      <td>Li2Al2</td>\n",
       "      <td>cubic</td>\n",
       "      <td>6.165940</td>\n",
       "      <td>58.604895</td>\n",
       "      <td>100.347240</td>\n",
       "      <td>-11.074362</td>\n",
       "      <td>4</td>\n",
       "      <td>Li2Al2_cubic</td>\n",
       "      <td>{'Li': 2, 'Al': 2}</td>\n",
       "      <td>2</td>\n",
       "      <td>2</td>\n",
       "      <td>0.500000</td>\n",
       "      <td>0.500000</td>\n",
       "      <td>-0.591954</td>\n",
       "      <td>-0.147988</td>\n",
       "    </tr>\n",
       "    <tr>\n",
       "      <th>8</th>\n",
       "      <td>490</td>\n",
       "      <td>LiAl_eam</td>\n",
       "      <td>(Atom('Li', [2.1429671662366734, 1.237242669260901, 7.662122465542487], index=0), Atom('Li', [-8.827603092953495e-10, 2.4744853400282523, 0.5913662557792814], index=1), Atom('Li', [-8.827603092953...</td>\n",
       "      <td>Li4Al4</td>\n",
       "      <td>cubic</td>\n",
       "      <td>6.061226</td>\n",
       "      <td>131.389799</td>\n",
       "      <td>71.221356</td>\n",
       "      <td>-20.506570</td>\n",
       "      <td>8</td>\n",
       "      <td>Li4Al4_cubic</td>\n",
       "      <td>{'Li': 4, 'Al': 4}</td>\n",
       "      <td>4</td>\n",
       "      <td>4</td>\n",
       "      <td>0.500000</td>\n",
       "      <td>0.500000</td>\n",
       "      <td>0.458247</td>\n",
       "      <td>0.057281</td>\n",
       "    </tr>\n",
       "    <tr>\n",
       "      <th>7</th>\n",
       "      <td>389</td>\n",
       "      <td>LiAl_eam</td>\n",
       "      <td>(Atom('Al', [2.1548001975659243, 1.2440753587819189, 1.8617841750008692], index=0), Atom('Al', [-2.154798282819334, 3.7322233132135576, 2.664676023808053], index=1), Atom('Li', [8.560563403365655e...</td>\n",
       "      <td>Li3Al2</td>\n",
       "      <td>trigonal</td>\n",
       "      <td>6.094693</td>\n",
       "      <td>72.810229</td>\n",
       "      <td>69.231669</td>\n",
       "      <td>-12.413856</td>\n",
       "      <td>5</td>\n",
       "      <td>Li3Al2_trigonal</td>\n",
       "      <td>{'Al': 2, 'Li': 3}</td>\n",
       "      <td>2</td>\n",
       "      <td>3</td>\n",
       "      <td>0.400000</td>\n",
       "      <td>0.600000</td>\n",
       "      <td>-0.173341</td>\n",
       "      <td>-0.034668</td>\n",
       "    </tr>\n",
       "    <tr>\n",
       "      <th>6</th>\n",
       "      <td>376</td>\n",
       "      <td>LiAl_eam</td>\n",
       "      <td>(Atom('Li', [4.9874675377354745, 1.0099032069001204, 0.8188717268019969], index=0), Atom('Li', [3.1237856900347722, 1.4557299809760758, 2.6737242758835587], index=1), Atom('Li', [-3.44219970899484...</td>\n",
       "      <td>Li9Al4</td>\n",
       "      <td>monoclinic</td>\n",
       "      <td>13.023702</td>\n",
       "      <td>190.504371</td>\n",
       "      <td>53.125273</td>\n",
       "      <td>-28.970054</td>\n",
       "      <td>13</td>\n",
       "      <td>Li9Al4_monoclinic</td>\n",
       "      <td>{'Li': 9, 'Al': 4}</td>\n",
       "      <td>4</td>\n",
       "      <td>9</td>\n",
       "      <td>0.307692</td>\n",
       "      <td>0.692308</td>\n",
       "      <td>0.785300</td>\n",
       "      <td>0.060408</td>\n",
       "    </tr>\n",
       "    <tr>\n",
       "      <th>2</th>\n",
       "      <td>324</td>\n",
       "      <td>LiAl_eam</td>\n",
       "      <td>(Atom('Li', [0.0, 0.0, 0.0], index=0))</td>\n",
       "      <td>Li</td>\n",
       "      <td>bcc</td>\n",
       "      <td>4.195477</td>\n",
       "      <td>20.114514</td>\n",
       "      <td>13.690609</td>\n",
       "      <td>-1.757011</td>\n",
       "      <td>1</td>\n",
       "      <td>Li_bcc</td>\n",
       "      <td>{'Li': 1}</td>\n",
       "      <td>0</td>\n",
       "      <td>1</td>\n",
       "      <td>0.000000</td>\n",
       "      <td>1.000000</td>\n",
       "      <td>0.001096</td>\n",
       "      <td>0.001096</td>\n",
       "    </tr>\n",
       "    <tr>\n",
       "      <th>3</th>\n",
       "      <td>337</td>\n",
       "      <td>LiAl_eam</td>\n",
       "      <td>(Atom('Li', [0.0, 0.0, 0.0], index=0))</td>\n",
       "      <td>Li</td>\n",
       "      <td>fcc</td>\n",
       "      <td>4.253841</td>\n",
       "      <td>19.241330</td>\n",
       "      <td>13.985972</td>\n",
       "      <td>-1.758107</td>\n",
       "      <td>1</td>\n",
       "      <td>Li_fcc</td>\n",
       "      <td>{'Li': 1}</td>\n",
       "      <td>0</td>\n",
       "      <td>1</td>\n",
       "      <td>0.000000</td>\n",
       "      <td>1.000000</td>\n",
       "      <td>0.000000</td>\n",
       "      <td>0.000000</td>\n",
       "    </tr>\n",
       "  </tbody>\n",
       "</table>\n",
       "</div>"
      ],
      "text/plain": [
       "   job_id potential  ...    E_form E_form_per_atom\n",
       "0     298  LiAl_eam  ...  0.000000        0.000000\n",
       "1     311  LiAl_eam  ...  0.067785        0.067785\n",
       "5     363  LiAl_eam  ... -0.567192       -0.141798\n",
       "4     350  LiAl_eam  ... -0.591954       -0.147988\n",
       "8     490  LiAl_eam  ...  0.458247        0.057281\n",
       "7     389  LiAl_eam  ... -0.173341       -0.034668\n",
       "6     376  LiAl_eam  ...  0.785300        0.060408\n",
       "2     324  LiAl_eam  ...  0.001096        0.001096\n",
       "3     337  LiAl_eam  ...  0.000000        0.000000\n",
       "\n",
       "[9 rows x 18 columns]"
      ]
     },
     "execution_count": 44,
     "metadata": {},
     "output_type": "execute_result"
    }
   ],
   "source": [
    "data_convexhull[\"E_form\"]=(data_convexhull[\"eq_energy\"])-(data_convexhull[[\"n_Al\",\"n_Li\"]].values * [E_f_Al, E_f_Li]).sum(axis=1)\n",
    "data_convexhull[\"E_form_per_atom\"] = data_convexhull[\"E_form\"]/data_convexhull[\"n_atoms\"]\n",
    "\n",
    "data_convexhull = data_convexhull.sort_values(\"cLi\")\n",
    "\n",
    "data_convexhull"
   ]
  },
  {
   "cell_type": "code",
   "execution_count": 46,
   "id": "35df2f07",
   "metadata": {},
   "outputs": [],
   "source": [
    "subset_covexhull = data_convexhull[data_convexhull[\"phase\"].isin([\"Al_fcc\",\"LiAl3_cubic\",\"Li2Al2_cubic\",\"Li_bcc\"])]"
   ]
  },
  {
   "cell_type": "code",
   "execution_count": 56,
   "id": "e12e56f8",
   "metadata": {
    "scrolled": false
   },
   "outputs": [
    {
     "data": {
      "image/png": "[encoded data removed]",
      "text/plain": [
       "<Figure size 576x432 with 1 Axes>"
      ]
     },
     "metadata": {
      "needs_background": "light"
     },
     "output_type": "display_data"
    }
   ],
   "source": [
    "fig,ax = plt.subplots(figsize=(8,6),constrained_layout=True)\n",
    "\n",
    "ax.plot(data_convexhull[\"cLi\"]*100, data_convexhull[\"E_form_per_atom\"]*1e3,\"o\",markersize=10)\n",
    "\n",
    "# ax.axhline(0,ls=\"--\",color=\"k\")\n",
    "ax.plot(subset_covexhull[\"cLi\"]*100, subset_covexhull[\"E_form_per_atom\"]*1e3,\"--\",color=\"k\",markersize=20)\n",
    "ax.legend()\n",
    "ax.set_xlabel(\"Li,%\",fontsize=\"20\")\n",
    "ax.set_ylabel(\"E$_f$, meV/atom\",fontsize=\"20\")\n",
    "ax.tick_params(labelsize=20,axis=\"both\")\n",
    "# plt.savefig(\"Convexhull\")\n",
    "\n",
    "for _,row in data_convexhull.iterrows():\n",
    "    plt.text((row[\"cLi\"]+0.01)*100,row[\"E_form_per_atom\"]*1e3,row[\"phase\"],size=13)\n",
    "\n",
    "plt.show()"
   ]
  },
  {
   "cell_type": "code",
   "execution_count": 24,
   "id": "ca9dbcc8",
   "metadata": {},
   "outputs": [
    {
     "name": "stdout",
     "output_type": "stream",
     "text": [
      "Total run time for the notebook 194.79580644700002 seconds\n"
     ]
    }
   ],
   "source": [
    "time_stop = time.process_time()\n",
    "print(f\"Total run time for the notebook {time_stop - time_start} seconds\")"
   ]
  },
  {
   "cell_type": "code",
   "execution_count": 25,
   "id": "59d98667-c265-4a29-9267-25faeb033471",
   "metadata": {},
   "outputs": [
    {
     "data": {
      "text/plain": [
       "3.246596774116667"
      ]
     },
     "execution_count": 25,
     "metadata": {},
     "output_type": "execute_result"
    }
   ],
   "source": [
    "194.79580644700002/60"
   ]
  }
 ],
 "metadata": {
  "kernelspec": {
   "display_name": "workshop2",
   "language": "python",
   "name": "workshop2"
  },
  "language_info": {
   "codemirror_mode": {
    "name": "ipython",
    "version": 3
   },
   "file_extension": ".py",
   "mimetype": "text/x-python",
   "name": "python",
   "nbconvert_exporter": "python",
   "pygments_lexer": "ipython3",
   "version": "3.10.4"
  }
 },
 "nbformat": 4,
 "nbformat_minor": 5
}
