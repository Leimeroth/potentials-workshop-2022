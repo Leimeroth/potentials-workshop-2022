{
 "cells": [
  {
   "cell_type": "markdown",
   "metadata": {
    "slideshow": {
     "slide_type": "slide"
    }
   },
   "source": [
    "![Logo](figures/GOE_Logo_Quer_IPC_Farbe_RGB.png)\n",
    "# Constructing a HDNNP using RuNNer and pyiron\n",
    "**Alexander L. M. Knoll, and Moritz R. Schäfer** \n",
    "\n",
    "Behler Group, Theoretische Chemie, Institut für Physikalische Chemie\n"
   ]
  },
  {
   "cell_type": "markdown",
   "metadata": {
    "slideshow": {
     "slide_type": "notes"
    }
   },
   "source": [
    "## Constructing a High-Dimensional Neural Network Potential for Lithium Aluminum Alloys using RuNNer and pyiron\n",
    "\n",
    "This Jupyter Notebook is written for the RuNNer tutorial at the workshop \"Potentials\" from 08-10 June, 2022 by **Marius Herbold, Alexander L. M. Knoll, and Moritz R. Schäfer** (marius.herbold@chemie.uni-goettingen.de, aknoll@chemie.uni-goettingen.de, moritzrichard.schaefer@uni-goettingen.de, Georg-August-Universität Göttingen, Theoretische Chemie, Institut für Physikalische Chemie).\n"
   ]
  },
  {
   "cell_type": "markdown",
   "metadata": {
    "slideshow": {
     "slide_type": "notes"
    }
   },
   "source": [
    "For this tutorial it is intended to use the RuNNer release version 1.2, available in conda-forge. \n",
    "The most recent version of RuNNer is [hosted on Gitlab](https://gitlab.com/TheochemGoettingen/RuNNer). For access please contact Prof. Dr. Jörg Behler (joerg.behler@uni-goettingen.de)."
   ]
  },
  {
   "cell_type": "code",
   "execution_count": 6,
   "metadata": {
    "scrolled": true,
    "slideshow": {
     "slide_type": "skip"
    }
   },
   "outputs": [],
   "source": [
    "import numpy as np\n",
    "\n",
    "import matplotlib.pyplot as plt\n",
    "import ipympl\n",
    "import ipywidgets as widgets\n",
    "\n",
    "from pyiron_atomistics import Project\n",
    "from pyiron_contrib.atomistics.runner.job import RunnerFit\n",
    "from pyiron_contrib.atomistics.runner.utils import container_to_ase\n",
    "\n",
    "from ase.geometry import get_distances\n",
    "\n",
    "from runnerase import generate_symmetryfunctions\n",
    "\n",
    "%matplotlib widget"
   ]
  },
  {
   "cell_type": "markdown",
   "metadata": {
    "slideshow": {
     "slide_type": "slide"
    }
   },
   "source": [
    "## Background"
   ]
  },
  {
   "cell_type": "markdown",
   "metadata": {
    "slideshow": {
     "slide_type": "notes"
    }
   },
   "source": [
    "**RuNNer** is a stand-alone Fortran program for the construction of high-dimensional neural network potentials (HDNNPs), written mainly by Jörg Behler. The central assumption made in constructing a HDNNP is that the total energy of the system $E_{\\mathrm{tot}}$ [can be separated into atomic contributions $E_i$](https://www.doi.org/10.1103/PhysRevLett.98.146401). HDNNP relates the local environment of the atoms to their atomic energies $E_i$, which contribute to the sum of all $N$ atomic energies, resulting in the total energy of the system $E_\\mathrm{tot}$."
   ]
  },
  {
   "cell_type": "markdown",
   "metadata": {
    "slideshow": {
     "slide_type": "fragment"
    }
   },
   "source": [
    "\\begin{align}\n",
    "    E_\\mathrm{tot} = \\sum_{i}^{N}E_i\\notag\n",
    "\\end{align}"
   ]
  },
  {
   "cell_type": "markdown",
   "metadata": {
    "slideshow": {
     "slide_type": "notes"
    }
   },
   "source": [
    "Every atomic energy is described by an atomic neural network (NN), which is element-specific. The entirety of all atomic NNs composes a HDNNP, whose general architecture is shown below for a binary system."
   ]
  },
  {
   "cell_type": "markdown",
   "metadata": {
    "slideshow": {
     "slide_type": "fragment"
    }
   },
   "source": [
    "<div>\n",
    "<img src=\"figures/2g.png\" width=\"500\"/>\n",
    "</div>"
   ]
  },
  {
   "cell_type": "markdown",
   "metadata": {
    "slideshow": {
     "slide_type": "notes"
    }
   },
   "source": [
    "As you can see, the atomic contributions in this model are predicted independently from each other. Therefore, the model can easily describe systems with differering numbers of atoms: adding or removing an atom corresponds to adding or removing a row in the figure shown above. This ability is what puts the \"high-dimensional\" into the name \"HDNNP\". \n",
    "\n",
    "Each atomic neural networks receives input information about the local atomic environment up to a certain cutoff radius $R_{\\mathrm{c}}$. This information is encoded based on the Cartesian coordinates in many-body descriptors, so-called [atom-centered symmetry functions (ACSF or just SF)](https://www.doi.org/10.1063/1.3553717). More details about this are shown below. For each atom, the values of multiple SFs compose a SF vector $G$ which is the input layer of the atomic NNs.\n",
    "\n",
    "Atomic NNs look like this:"
   ]
  },
  {
   "cell_type": "markdown",
   "metadata": {
    "slideshow": {
     "slide_type": "subslide"
    }
   },
   "source": [
    "<div>\n",
    "<img src=\"figures/ann.png\" width=\"500\"/>\n",
    "</div>"
   ]
  },
  {
   "cell_type": "markdown",
   "metadata": {
    "slideshow": {
     "slide_type": "notes"
    }
   },
   "source": [
    "Every value in the SF vector $G$ serves as one piece of input information to the atomic NN. We refer to the circles in the figure as _nodes_ (from graph theory) or _neurons_ (from neural science). The information from the input nodes flows through the atomic NN from left to right: the input layer is followed by a configurable number of hidden layers which consist, in turn, of an arbitrary number of _hidden nodes_. At the end, all information is collected in the output layer, which in our case is interpreted as the atomic energy contribution of the atom under consideration. The input nodes and the hidden nodes in the first layer are connected by weights. Moreover, the hidden and output nodes carry a bias value.\n",
    "\n",
    "During training, the weights and biases are optimized using backpropagation to represent best the data in the training data set."
   ]
  },
  {
   "cell_type": "markdown",
   "metadata": {
    "slideshow": {
     "slide_type": "slide"
    }
   },
   "source": [
    "## Definition of the Symmetry Functions (SFs)"
   ]
  },
  {
   "cell_type": "markdown",
   "metadata": {
    "slideshow": {
     "slide_type": "notes"
    }
   },
   "source": [
    "SFs provide the input for the NN and describe the local atomic environment of each atom. In principle, one could also use Cartesian coordinates to capture the atomic positions in a structure. As Cartesian coordinates describe the absolute positions of atoms the numerical input to the atomic NNs would change with translation or rotation of the system. However, these actions do not influence the energy of the system and different numerical inputs belonging to the same NN output lead to large training errors.\n",
    "\n",
    "In contrast, SFs describe the relative positions of the atoms to each other and are hence translationally and rotationally invariant. We differentiate two types of SFs: radial SF depend on the distance between atom pairs and serve as a measure for their bond order. Angular SFs additionally depend on the interatomic angles."
   ]
  },
  {
   "cell_type": "markdown",
   "metadata": {
    "slideshow": {
     "slide_type": "subslide"
    }
   },
   "source": [
    "### The Cutoff Function"
   ]
  },
  {
   "cell_type": "markdown",
   "metadata": {
    "slideshow": {
     "slide_type": "notes"
    }
   },
   "source": [
    "The cutoff function $f_{\\mathrm{c}}$ ensures that only the neighbors within one atomic environment counts towards the symmetry function values. The cutoff radius $R_\\mathrm{c}$ (usually $12\\,\\mathrm{bohr}$) defines how much of the local atomic environment is considered. All SFs and their derivatives will decrease to zero if the pairwise distance is larger than $R_\\mathrm{c}$. There are several cutoff funtions defined in **RuNNer** and we will use here"
   ]
  },
  {
   "cell_type": "markdown",
   "metadata": {
    "slideshow": {
     "slide_type": "-"
    }
   },
   "source": [
    "\\begin{equation}\n",
    "    f_{c}(R_{ij}) = \n",
    "    \\begin{cases}\n",
    "    0.5 \\cdot [\\cos(\\pi x) + 1]& ~ \\text{for $R_{ij} \\leq R_\\mathrm{c}$},\\\\\n",
    "    0& ~ \\text{for $R_{ij} > R_\\mathrm{c}$}\n",
    "    \\end{cases}\n",
    "\\end{equation}"
   ]
  },
  {
   "cell_type": "markdown",
   "metadata": {
    "slideshow": {
     "slide_type": "notes"
    }
   },
   "source": [
    "with the atomic distance $R_{ij}$, the cutoff radius $R_\\mathrm{c}$, and $x = \\frac{R_{ij}}{R_{\\mathrm{c}}}$."
   ]
  },
  {
   "cell_type": "markdown",
   "metadata": {},
   "source": [
    "Take a look at the figure below for a graphical representation of the cutoff radius in a periodic system: the red atom is the central atom for which the SF values will be calculated. All yellow atoms lie within in the cutoff radius and will therefore contribute to the SF values."
   ]
  },
  {
   "cell_type": "markdown",
   "metadata": {
    "slideshow": {
     "slide_type": "-"
    }
   },
   "source": [
    "<div>\n",
    "<img src=\"figures/Rc.png\" width=\"500\"/>\n",
    "</div>"
   ]
  },
  {
   "cell_type": "markdown",
   "metadata": {
    "slideshow": {
     "slide_type": "subslide"
    }
   },
   "source": [
    "### The Radial Symmetry Functions"
   ]
  },
  {
   "cell_type": "markdown",
   "metadata": {
    "slideshow": {
     "slide_type": "notes"
    }
   },
   "source": [
    "To define the parameters for the radial SFs, it is important to know the shortest bond distance for each element combination in your data set. Usually, 5-6 radial SF are used for any element pair, with different $\\eta$ values to increase the resolution for structure description. It is possible to shift the maximum of the radial SF $G^2$ by $R_{s}$."
   ]
  },
  {
   "cell_type": "markdown",
   "metadata": {
    "slideshow": {
     "slide_type": "-"
    }
   },
   "source": [
    "\\begin{equation}\n",
    "    G_{i}^{2} = \\sum_{j}^{}e^{-\\eta (R_{ij} - R_{s})^2} \\cdot f_{c}(R_{ij}).\n",
    "\\end{equation}"
   ]
  },
  {
   "cell_type": "markdown",
   "metadata": {
    "slideshow": {
     "slide_type": "notes"
    }
   },
   "source": [
    "In most applications, the Gaussian exponents $\\eta$ for the radial SFs are chosen such that the SF turning points are equally distributed between the cutoff radius and specific minimum pairwise distance in the training dataset (small eta $\\eta$ = max. contraction). In RuNNer, you can either define element pair specific SF or define global SF which are used for every element combination. It is also possible to define different cutoff radii for the SF, even though this is rarely helpful and therefore not recommended.\n",
    "\n",
    "Below, you can see a graphical representation of the radial symmetry functions including the cutoff function for a cutoff radius of 12 Bohr."
   ]
  },
  {
   "cell_type": "markdown",
   "metadata": {},
   "source": [
    "<div>\n",
    "<img src=\"figures/radials.png\" width=\"800\"/>\n",
    "</div>"
   ]
  },
  {
   "cell_type": "markdown",
   "metadata": {
    "slideshow": {
     "slide_type": "subslide"
    }
   },
   "source": [
    "### The Angular Symmetry Functions"
   ]
  },
  {
   "cell_type": "markdown",
   "metadata": {
    "slideshow": {
     "slide_type": "notes"
    }
   },
   "source": [
    "The same rules apply to the angular SFs. Here, however, three atomic positions are included in the calculation."
   ]
  },
  {
   "cell_type": "markdown",
   "metadata": {
    "slideshow": {
     "slide_type": "-"
    }
   },
   "source": [
    "\\begin{equation*}\n",
    "    G_{i}^{3} = 2^{\\zeta - 1}\\sum_{j}^{} \\sum_{k}^{} \\left[( 1 + \\lambda \\cdot cos \\theta_{ijk})^{\\zeta} \\cdot e^{-\\eta (R_{ij}^2 + R_{ik}^2 + R_{jk}^2)} \\cdot f_{\\mathrm{c}}(R_{ij}) \\cdot f_{\\mathrm{c}}(R_{ik}) \\cdot f_{\\mathrm{c}}(R_{jk}) \\right]\n",
    "\\end{equation*}"
   ]
  },
  {
   "cell_type": "markdown",
   "metadata": {
    "slideshow": {
     "slide_type": "notes"
    }
   },
   "source": [
    "The angle $\\theta_{ijk} = \\frac{\\mathbf{R}_{ij} \\cdot \\mathbf{R}_{ik}}{R_{ij} \\cdot R_{ik}}$ is centered at atom $i$. For most system, we use permutations of $\\zeta = \\{1, 2, 4, 16\\}$, $\\eta = 0$, and $\\lambda$ = $\\{+1, -1\\}$. If many atoms of each element are present, angular SFs are usually not critical and a default set of SFs can be used."
   ]
  },
  {
   "cell_type": "markdown",
   "metadata": {},
   "source": [
    "<div>\n",
    "<img src=\"figures/angulars.png\" width=\"800\"/>\n",
    "</div>"
   ]
  },
  {
   "cell_type": "markdown",
   "metadata": {
    "slideshow": {
     "slide_type": "subslide"
    }
   },
   "source": [
    "##  The Third and Fourth Generations of NN Potentials"
   ]
  },
  {
   "cell_type": "markdown",
   "metadata": {
    "slideshow": {
     "slide_type": "notes"
    }
   },
   "source": [
    "Due to time limitations, we will only focus on the model described above which is known as the second generation of HDNNPs (see [here](https://www.doi.org/10.1103/PhysRevLett.98.146401), and [here](https://www.doi.org/10.1002/anie.201703114), and [here](https://www.doi.org/10.1002/qua.24890)). However, in recent years third- and fourth-generation HDNNPs were developed by the Behler group."
   ]
  },
  {
   "cell_type": "markdown",
   "metadata": {
    "slideshow": {
     "slide_type": "fragment"
    }
   },
   "source": [
    "### Repetition: Second Generation HDNNP"
   ]
  },
  {
   "cell_type": "markdown",
   "metadata": {},
   "source": [
    "<div>\n",
    "<img src=\"figures/2g.png\" width=\"500\">\n",
    "</div>"
   ]
  },
  {
   "cell_type": "markdown",
   "metadata": {
    "slideshow": {
     "slide_type": "subslide"
    },
    "tags": []
   },
   "source": [
    "### Third Generation HDNNP"
   ]
  },
  {
   "cell_type": "markdown",
   "metadata": {
    "slideshow": {
     "slide_type": "notes"
    }
   },
   "source": [
    "In second-generation HDNNPs only atomic interactions inside the cutoff sphere are taken into account. The resulting short-ranged potentials are well-suited to describe local bonding even for complex atomic environments. However, it can be expected that for many systems long-range interactions, primarily electrostatics, will be important.\n",
    "\n",
    "To overcome those limitations, third-generation NNs (see [here](https://www.doi.org/10.1103/PhysRevB.83.153101), and [here](https://www.doi.org/10.1063/1.3682557)) define a second set of atomic neural networks to construct environment-dependent atomic charges. They can then be used to calculate the long-range electrostatic energy without truncation. The total energy of the system is then given by the sum of the short-range and the electrostatic energies."
   ]
  },
  {
   "cell_type": "markdown",
   "metadata": {
    "slideshow": {
     "slide_type": "-"
    }
   },
   "source": [
    "<div>\n",
    "<img src=\"figures/3g.png\" width=\"800\"/>\n",
    "</div>"
   ]
  },
  {
   "cell_type": "markdown",
   "metadata": {
    "slideshow": {
     "slide_type": "subslide"
    }
   },
   "source": [
    "### Fourth Generation HDNNP"
   ]
  },
  {
   "cell_type": "markdown",
   "metadata": {
    "slideshow": {
     "slide_type": "notes"
    }
   },
   "source": [
    "While the use of environment-dependent charges is a clear step forward, they are not sufficient if long-range charge transfer is present.\n",
    "\n",
    "When dealing with systems where long-range charge transer is present, the usage of fourth-generation NNs (see [here](https://www.doi.org/10.1038/s41467-020-20427-2), and [here](https://www.doi.org/10.1021/acs.accounts.0c00689)) is recommended. Here, environment-dependent electronegativities $\\chi$ are computed first. They will then be used in a charge equilibration scheme to determine the atomic charges $Q$. Again, we can compute the electrostatic energy from this. Moreover, the atomic charges serve as an additional input neuron to train the short-range energy and forces. As it was the case for the third-generation NNs the total energy is then given by the sum of the short-range and the electrostatic energies."
   ]
  },
  {
   "cell_type": "markdown",
   "metadata": {
    "slideshow": {
     "slide_type": "-"
    }
   },
   "source": [
    "<div>\n",
    "<img src=\"figures/4g.png\" width=\"800\"/>\n",
    "</div>"
   ]
  },
  {
   "cell_type": "markdown",
   "metadata": {
    "slideshow": {
     "slide_type": "slide"
    }
   },
   "source": [
    "# Using RuNNer via the pyiron Interface "
   ]
  },
  {
   "cell_type": "markdown",
   "metadata": {},
   "source": [
    "In general, training a HDNNP with **RuNNer** can be separated into three different stages - so-called modes - in which different types of calculation are performed."
   ]
  },
  {
   "cell_type": "markdown",
   "metadata": {
    "slideshow": {
     "slide_type": "fragment"
    }
   },
   "source": [
    "- **Mode 1:** calculation of the SF values and separation of the dataset into a training and testing set.\n",
    "- **Mode 2:** training of the model to construct the HDNNP.\n",
    "- **Mode 3:** prediction of energy and forces (stress and charges can also be predicted)."
   ]
  },
  {
   "cell_type": "markdown",
   "metadata": {
    "slideshow": {
     "slide_type": "notes"
    }
   },
   "source": [
    "All these steps are performed consecutively beginning with mode 1."
   ]
  },
  {
   "cell_type": "markdown",
   "metadata": {
    "slideshow": {
     "slide_type": "fragment"
    }
   },
   "source": [
    "## Data Preparation"
   ]
  },
  {
   "cell_type": "markdown",
   "metadata": {
    "slideshow": {
     "slide_type": "notes"
    }
   },
   "source": [
    "The creation of a meaningful neural network potential lives and dies with high quality training data. Therefore, we will begin by inspecting the full training dataset. \n",
    "The dataset has been stored prior to the workshop in form of a `TrainingContainer`. \n",
    "In pyiron, `TrainingContainer`s are jobs which take a set of structures and properties like energies, forces, ... and store them in HDF format.\n",
    "\n",
    "Go ahead and open up the project:"
   ]
  },
  {
   "cell_type": "code",
   "execution_count": 15,
   "metadata": {},
   "outputs": [],
   "source": [
    "pr = Project('../../introduction/training')"
   ]
  },
  {
   "cell_type": "markdown",
   "metadata": {
    "slideshow": {
     "slide_type": "notes"
    }
   },
   "source": [
    "The project already contains several jobs:"
   ]
  },
  {
   "cell_type": "code",
   "execution_count": 16,
   "metadata": {
    "slideshow": {
     "slide_type": "skip"
    }
   },
   "outputs": [
    {
     "data": {
      "text/html": [
       "<div>\n",
       "<style scoped>\n",
       "    .dataframe tbody tr th:only-of-type {\n",
       "        vertical-align: middle;\n",
       "    }\n",
       "\n",
       "    .dataframe tbody tr th {\n",
       "        vertical-align: top;\n",
       "    }\n",
       "\n",
       "    .dataframe thead th {\n",
       "        text-align: right;\n",
       "    }\n",
       "</style>\n",
       "<table border=\"1\" class=\"dataframe\">\n",
       "  <thead>\n",
       "    <tr style=\"text-align: right;\">\n",
       "      <th></th>\n",
       "      <th>id</th>\n",
       "      <th>status</th>\n",
       "      <th>chemicalformula</th>\n",
       "      <th>job</th>\n",
       "      <th>subjob</th>\n",
       "      <th>projectpath</th>\n",
       "      <th>project</th>\n",
       "      <th>timestart</th>\n",
       "      <th>timestop</th>\n",
       "      <th>totalcputime</th>\n",
       "      <th>computer</th>\n",
       "      <th>hamilton</th>\n",
       "      <th>hamversion</th>\n",
       "      <th>parentid</th>\n",
       "      <th>masterid</th>\n",
       "    </tr>\n",
       "  </thead>\n",
       "  <tbody>\n",
       "    <tr>\n",
       "      <th>0</th>\n",
       "      <td>62</td>\n",
       "      <td>finished</td>\n",
       "      <td>None</td>\n",
       "      <td>offstoichiometry</td>\n",
       "      <td>/offstoichiometry</td>\n",
       "      <td>None</td>\n",
       "      <td>/home/jovyan/workshop_preparation/introduction/unpack/initial/</td>\n",
       "      <td>2022-05-20 07:40:54.302418</td>\n",
       "      <td>NaT</td>\n",
       "      <td>NaN</td>\n",
       "      <td>zora@cmti001#1</td>\n",
       "      <td>TrainingContainer</td>\n",
       "      <td>0.4</td>\n",
       "      <td>NaN</td>\n",
       "      <td>None</td>\n",
       "    </tr>\n",
       "    <tr>\n",
       "      <th>1</th>\n",
       "      <td>63</td>\n",
       "      <td>finished</td>\n",
       "      <td>None</td>\n",
       "      <td>activelearning</td>\n",
       "      <td>/activelearning</td>\n",
       "      <td>None</td>\n",
       "      <td>/home/jovyan/workshop_preparation/introduction/unpack/initial/</td>\n",
       "      <td>2022-05-28 16:15:40.324613</td>\n",
       "      <td>NaT</td>\n",
       "      <td>NaN</td>\n",
       "      <td>zora@cmti001#1</td>\n",
       "      <td>TrainingContainer</td>\n",
       "      <td>0.4</td>\n",
       "      <td>NaN</td>\n",
       "      <td>None</td>\n",
       "    </tr>\n",
       "    <tr>\n",
       "      <th>2</th>\n",
       "      <td>64</td>\n",
       "      <td>finished</td>\n",
       "      <td>None</td>\n",
       "      <td>initial</td>\n",
       "      <td>/initial</td>\n",
       "      <td>None</td>\n",
       "      <td>/home/jovyan/workshop_preparation/introduction/unpack/initial/</td>\n",
       "      <td>2022-05-31 17:51:21.146898</td>\n",
       "      <td>NaT</td>\n",
       "      <td>NaN</td>\n",
       "      <td>zora@cmti001#1</td>\n",
       "      <td>TrainingContainer</td>\n",
       "      <td>0.4</td>\n",
       "      <td>NaN</td>\n",
       "      <td>None</td>\n",
       "    </tr>\n",
       "    <tr>\n",
       "      <th>3</th>\n",
       "      <td>65</td>\n",
       "      <td>finished</td>\n",
       "      <td>None</td>\n",
       "      <td>full</td>\n",
       "      <td>/full</td>\n",
       "      <td>None</td>\n",
       "      <td>/home/jovyan/workshop_preparation/introduction/unpack/initial/</td>\n",
       "      <td>2022-05-31 18:00:11.223627</td>\n",
       "      <td>NaT</td>\n",
       "      <td>NaN</td>\n",
       "      <td>zora@cmti001#1</td>\n",
       "      <td>TrainingContainer</td>\n",
       "      <td>0.4</td>\n",
       "      <td>NaN</td>\n",
       "      <td>None</td>\n",
       "    </tr>\n",
       "    <tr>\n",
       "      <th>4</th>\n",
       "      <td>66</td>\n",
       "      <td>finished</td>\n",
       "      <td>None</td>\n",
       "      <td>data_initial_sampled</td>\n",
       "      <td>/data_initial_sampled</td>\n",
       "      <td>None</td>\n",
       "      <td>/home/jovyan/workshop_preparation/introduction/unpack/initial/</td>\n",
       "      <td>2022-06-02 20:08:49.404125</td>\n",
       "      <td>NaT</td>\n",
       "      <td>NaN</td>\n",
       "      <td>pyiron@jupyter-a-2eknoll#1</td>\n",
       "      <td>TrainingContainer</td>\n",
       "      <td>0.4</td>\n",
       "      <td>NaN</td>\n",
       "      <td>None</td>\n",
       "    </tr>\n",
       "    <tr>\n",
       "      <th>5</th>\n",
       "      <td>67</td>\n",
       "      <td>finished</td>\n",
       "      <td>None</td>\n",
       "      <td>data_off_sampled</td>\n",
       "      <td>/data_off_sampled</td>\n",
       "      <td>None</td>\n",
       "      <td>/home/jovyan/workshop_preparation/introduction/unpack/initial/</td>\n",
       "      <td>2022-06-02 20:08:57.016915</td>\n",
       "      <td>NaT</td>\n",
       "      <td>NaN</td>\n",
       "      <td>pyiron@jupyter-a-2eknoll#1</td>\n",
       "      <td>TrainingContainer</td>\n",
       "      <td>0.4</td>\n",
       "      <td>NaN</td>\n",
       "      <td>None</td>\n",
       "    </tr>\n",
       "    <tr>\n",
       "      <th>6</th>\n",
       "      <td>68</td>\n",
       "      <td>finished</td>\n",
       "      <td>None</td>\n",
       "      <td>fit_mode1</td>\n",
       "      <td>/fit_mode1</td>\n",
       "      <td>None</td>\n",
       "      <td>/home/jovyan/workshop_preparation/introduction/unpack/fit_hdnnp/</td>\n",
       "      <td>2022-06-02 20:14:21.345133</td>\n",
       "      <td>2022-06-02 20:15:48.139703</td>\n",
       "      <td>86.0</td>\n",
       "      <td>pyiron@jupyter-a-2eknoll#1</td>\n",
       "      <td>RunnerFit</td>\n",
       "      <td>0.4</td>\n",
       "      <td>NaN</td>\n",
       "      <td>None</td>\n",
       "    </tr>\n",
       "    <tr>\n",
       "      <th>7</th>\n",
       "      <td>69</td>\n",
       "      <td>finished</td>\n",
       "      <td>None</td>\n",
       "      <td>fit_mode2</td>\n",
       "      <td>/fit_mode2</td>\n",
       "      <td>None</td>\n",
       "      <td>/home/jovyan/workshop_preparation/introduction/unpack/fit_hdnnp/</td>\n",
       "      <td>2022-06-02 20:16:06.795480</td>\n",
       "      <td>2022-06-02 21:17:22.699567</td>\n",
       "      <td>3675.0</td>\n",
       "      <td>pyiron@jupyter-a-2eknoll#1</td>\n",
       "      <td>RunnerFit</td>\n",
       "      <td>0.4</td>\n",
       "      <td>68.0</td>\n",
       "      <td>None</td>\n",
       "    </tr>\n",
       "    <tr>\n",
       "      <th>8</th>\n",
       "      <td>70</td>\n",
       "      <td>finished</td>\n",
       "      <td>None</td>\n",
       "      <td>fit_mode3</td>\n",
       "      <td>/fit_mode3</td>\n",
       "      <td>None</td>\n",
       "      <td>/home/jovyan/workshop_preparation/introduction/unpack/fit_hdnnp/</td>\n",
       "      <td>2022-06-02 21:17:33.128118</td>\n",
       "      <td>2022-06-02 21:21:25.621709</td>\n",
       "      <td>232.0</td>\n",
       "      <td>pyiron@jupyter-a-2eknoll#1</td>\n",
       "      <td>RunnerFit</td>\n",
       "      <td>0.4</td>\n",
       "      <td>69.0</td>\n",
       "      <td>None</td>\n",
       "    </tr>\n",
       "  </tbody>\n",
       "</table>\n",
       "</div>"
      ],
      "text/plain": [
       "   id    status chemicalformula                   job                 subjob  \\\n",
       "0  62  finished            None      offstoichiometry      /offstoichiometry   \n",
       "1  63  finished            None        activelearning        /activelearning   \n",
       "2  64  finished            None               initial               /initial   \n",
       "3  65  finished            None                  full                  /full   \n",
       "4  66  finished            None  data_initial_sampled  /data_initial_sampled   \n",
       "5  67  finished            None      data_off_sampled      /data_off_sampled   \n",
       "6  68  finished            None             fit_mode1             /fit_mode1   \n",
       "7  69  finished            None             fit_mode2             /fit_mode2   \n",
       "8  70  finished            None             fit_mode3             /fit_mode3   \n",
       "\n",
       "  projectpath  \\\n",
       "0        None   \n",
       "1        None   \n",
       "2        None   \n",
       "3        None   \n",
       "4        None   \n",
       "5        None   \n",
       "6        None   \n",
       "7        None   \n",
       "8        None   \n",
       "\n",
       "                                                            project  \\\n",
       "0    /home/jovyan/workshop_preparation/introduction/unpack/initial/   \n",
       "1    /home/jovyan/workshop_preparation/introduction/unpack/initial/   \n",
       "2    /home/jovyan/workshop_preparation/introduction/unpack/initial/   \n",
       "3    /home/jovyan/workshop_preparation/introduction/unpack/initial/   \n",
       "4    /home/jovyan/workshop_preparation/introduction/unpack/initial/   \n",
       "5    /home/jovyan/workshop_preparation/introduction/unpack/initial/   \n",
       "6  /home/jovyan/workshop_preparation/introduction/unpack/fit_hdnnp/   \n",
       "7  /home/jovyan/workshop_preparation/introduction/unpack/fit_hdnnp/   \n",
       "8  /home/jovyan/workshop_preparation/introduction/unpack/fit_hdnnp/   \n",
       "\n",
       "                   timestart                   timestop  totalcputime  \\\n",
       "0 2022-05-20 07:40:54.302418                        NaT           NaN   \n",
       "1 2022-05-28 16:15:40.324613                        NaT           NaN   \n",
       "2 2022-05-31 17:51:21.146898                        NaT           NaN   \n",
       "3 2022-05-31 18:00:11.223627                        NaT           NaN   \n",
       "4 2022-06-02 20:08:49.404125                        NaT           NaN   \n",
       "5 2022-06-02 20:08:57.016915                        NaT           NaN   \n",
       "6 2022-06-02 20:14:21.345133 2022-06-02 20:15:48.139703          86.0   \n",
       "7 2022-06-02 20:16:06.795480 2022-06-02 21:17:22.699567        3675.0   \n",
       "8 2022-06-02 21:17:33.128118 2022-06-02 21:21:25.621709         232.0   \n",
       "\n",
       "                     computer           hamilton hamversion  parentid masterid  \n",
       "0              zora@cmti001#1  TrainingContainer        0.4       NaN     None  \n",
       "1              zora@cmti001#1  TrainingContainer        0.4       NaN     None  \n",
       "2              zora@cmti001#1  TrainingContainer        0.4       NaN     None  \n",
       "3              zora@cmti001#1  TrainingContainer        0.4       NaN     None  \n",
       "4  pyiron@jupyter-a-2eknoll#1  TrainingContainer        0.4       NaN     None  \n",
       "5  pyiron@jupyter-a-2eknoll#1  TrainingContainer        0.4       NaN     None  \n",
       "6  pyiron@jupyter-a-2eknoll#1          RunnerFit        0.4       NaN     None  \n",
       "7  pyiron@jupyter-a-2eknoll#1          RunnerFit        0.4      68.0     None  \n",
       "8  pyiron@jupyter-a-2eknoll#1          RunnerFit        0.4      69.0     None  "
      ]
     },
     "execution_count": 16,
     "metadata": {},
     "output_type": "execute_result"
    }
   ],
   "source": [
    "pr.job_table()"
   ]
  },
  {
   "cell_type": "markdown",
   "metadata": {
    "slideshow": {
     "slide_type": "notes"
    }
   },
   "source": [
    "The training data is stored in the project node `initial`."
   ]
  },
  {
   "cell_type": "code",
   "execution_count": 18,
   "metadata": {
    "slideshow": {
     "slide_type": "subslide"
    }
   },
   "outputs": [],
   "source": [
    "data_full = pr['basic']"
   ]
  },
  {
   "cell_type": "markdown",
   "metadata": {
    "slideshow": {
     "slide_type": "notes"
    }
   },
   "source": [
    "In order to get a feeling for the data, we inspect its energy-volume curve:"
   ]
  },
  {
   "cell_type": "code",
   "execution_count": 19,
   "metadata": {
    "scrolled": true,
    "slideshow": {
     "slide_type": "fragment"
    }
   },
   "outputs": [
    {
     "data": {
      "application/vnd.jupyter.widget-view+json": {
       "model_id": "7dec39a3853f4f479e3355a8fbb4f58d",
       "version_major": 2,
       "version_minor": 0
      },
      "image/png": "[encoded data removed]",
      "text/html": [
       "\n",
       "            <div style=\"display: inline-block;\">\n",
       "                <div class=\"jupyter-widgets widget-label\" style=\"text-align: center;\">\n",
       "                    Figure\n",
       "                </div>\n",
       "                <img src='data:image/png;base64,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' width=800.0/>\n",
       "            </div>\n",
       "        "
      ],
      "text/plain": [
       "Canvas(toolbar=Toolbar(toolitems=[('Home', 'Reset original view', 'home', 'home'), ('Back', 'Back to previous …"
      ]
     },
     "metadata": {},
     "output_type": "display_data"
    }
   ],
   "source": [
    "fig, ax = plt.subplots(figsize=(8, 4))\n",
    "data_full.plot.energy_volume()\n",
    "plt.show()"
   ]
  },
  {
   "cell_type": "markdown",
   "metadata": {
    "slideshow": {
     "slide_type": "notes"
    }
   },
   "source": [
    "As you can see in this plot, some regions of configuration space are much more densily sampled than others. The dataset consists of approximately 4000 structures, ranging from bulk lithium and aluminum to off-stochiometric liquid phases of LiAl alloy. \n",
    "\n",
    "Training a potential for such a large dataset to high accuracy takes a few hours. Therefore, we are going to focus on a case study: the subset of pure lithium structures in the dataset. \n",
    "\n",
    "We extract a sample from the full dataset using `TrainingContainer`s convenient `sample` function. It creates a new `TrainingContainer` job (here we give it the name `data_lithium`) using a simple filter function. The filter function will remove:\n",
    "* structures that contain Al.\n",
    "* structures with a positive energy.\n",
    "* structures in which atoms do not have any neighbors within a cutoff radius of 12 Bohr."
   ]
  },
  {
   "cell_type": "code",
   "execution_count": 20,
   "metadata": {
    "slideshow": {
     "slide_type": "subslide"
    }
   },
   "outputs": [],
   "source": [
    "def filter_lithium(container, idx):\n",
    "    \"\"\"Filter a given `container` for the most useful lithium structures.\"\"\"\n",
    "    # Get the elements, total energy and atomic positions.\n",
    "    elements = container.get_array('symbols', idx)\n",
    "    energy = container.get_array('energy', idx)\n",
    "    positions = container.get_array('positions', idx)\n",
    "\n",
    "    # Build the distance matrix.\n",
    "    distmatrix = get_distances(positions, positions)[1]\n",
    "\n",
    "    # Check if every atom has at least one neighbor in a 12 Bohr = 6.35 Ang                                                                                                          \n",
    "    # cutoff radius.\n",
    "    no_neighbors = False\n",
    "    for idx, row in enumerate(distmatrix):\n",
    "\n",
    "        # Remove self interaction.                                                                                                                                                        \n",
    "        row_no_selfinteraction = row[row > 0.0]\n",
    "\n",
    "        if all(row_no_selfinteraction > 6.35):\n",
    "            no_neighbors = True\n",
    "    \n",
    "    return 'Al' not in elements and energy < 0.0 and no_neighbors is False"
   ]
  },
  {
   "cell_type": "code",
   "execution_count": 21,
   "metadata": {
    "scrolled": true,
    "slideshow": {
     "slide_type": "fragment"
    }
   },
   "outputs": [
    {
     "name": "stdout",
     "output_type": "stream",
     "text": [
      "The job data_lithium was saved and received the ID: 766\n"
     ]
    }
   ],
   "source": [
    "# Remove the job if it already exists.\n",
    "if 'data_lithium' in pr.list_nodes():\n",
    "    pr.remove_job('data_lithium')\n",
    "\n",
    "data_lithium = data_full.sample('data_lithium', filter_lithium)"
   ]
  },
  {
   "cell_type": "code",
   "execution_count": 22,
   "metadata": {},
   "outputs": [
    {
     "name": "stdout",
     "output_type": "stream",
     "text": [
      "176\n"
     ]
    }
   ],
   "source": [
    "print(len(list(data_lithium.iter_structures())))"
   ]
  },
  {
   "cell_type": "markdown",
   "metadata": {
    "slideshow": {
     "slide_type": "notes"
    }
   },
   "source": [
    "When inspecting the list of jobs in the project again, you will find that an additional `TrainingContainer` has been created."
   ]
  },
  {
   "cell_type": "code",
   "execution_count": 23,
   "metadata": {
    "slideshow": {
     "slide_type": "skip"
    }
   },
   "outputs": [
    {
     "data": {
      "text/html": [
       "<div>\n",
       "<style scoped>\n",
       "    .dataframe tbody tr th:only-of-type {\n",
       "        vertical-align: middle;\n",
       "    }\n",
       "\n",
       "    .dataframe tbody tr th {\n",
       "        vertical-align: top;\n",
       "    }\n",
       "\n",
       "    .dataframe thead th {\n",
       "        text-align: right;\n",
       "    }\n",
       "</style>\n",
       "<table border=\"1\" class=\"dataframe\">\n",
       "  <thead>\n",
       "    <tr style=\"text-align: right;\">\n",
       "      <th></th>\n",
       "      <th>id</th>\n",
       "      <th>status</th>\n",
       "      <th>chemicalformula</th>\n",
       "      <th>job</th>\n",
       "      <th>subjob</th>\n",
       "      <th>projectpath</th>\n",
       "      <th>project</th>\n",
       "      <th>timestart</th>\n",
       "      <th>timestop</th>\n",
       "      <th>totalcputime</th>\n",
       "      <th>computer</th>\n",
       "      <th>hamilton</th>\n",
       "      <th>hamversion</th>\n",
       "      <th>parentid</th>\n",
       "      <th>masterid</th>\n",
       "    </tr>\n",
       "  </thead>\n",
       "  <tbody>\n",
       "    <tr>\n",
       "      <th>0</th>\n",
       "      <td>62</td>\n",
       "      <td>finished</td>\n",
       "      <td>None</td>\n",
       "      <td>offstoichiometry</td>\n",
       "      <td>/offstoichiometry</td>\n",
       "      <td>None</td>\n",
       "      <td>/home/jovyan/workshop_preparation/introduction/unpack/initial/</td>\n",
       "      <td>2022-05-20 07:40:54.302418</td>\n",
       "      <td>NaT</td>\n",
       "      <td>NaN</td>\n",
       "      <td>zora@cmti001#1</td>\n",
       "      <td>TrainingContainer</td>\n",
       "      <td>0.4</td>\n",
       "      <td>NaN</td>\n",
       "      <td>None</td>\n",
       "    </tr>\n",
       "    <tr>\n",
       "      <th>1</th>\n",
       "      <td>63</td>\n",
       "      <td>finished</td>\n",
       "      <td>None</td>\n",
       "      <td>activelearning</td>\n",
       "      <td>/activelearning</td>\n",
       "      <td>None</td>\n",
       "      <td>/home/jovyan/workshop_preparation/introduction/unpack/initial/</td>\n",
       "      <td>2022-05-28 16:15:40.324613</td>\n",
       "      <td>NaT</td>\n",
       "      <td>NaN</td>\n",
       "      <td>zora@cmti001#1</td>\n",
       "      <td>TrainingContainer</td>\n",
       "      <td>0.4</td>\n",
       "      <td>NaN</td>\n",
       "      <td>None</td>\n",
       "    </tr>\n",
       "    <tr>\n",
       "      <th>2</th>\n",
       "      <td>64</td>\n",
       "      <td>finished</td>\n",
       "      <td>None</td>\n",
       "      <td>initial</td>\n",
       "      <td>/initial</td>\n",
       "      <td>None</td>\n",
       "      <td>/home/jovyan/workshop_preparation/introduction/unpack/initial/</td>\n",
       "      <td>2022-05-31 17:51:21.146898</td>\n",
       "      <td>NaT</td>\n",
       "      <td>NaN</td>\n",
       "      <td>zora@cmti001#1</td>\n",
       "      <td>TrainingContainer</td>\n",
       "      <td>0.4</td>\n",
       "      <td>NaN</td>\n",
       "      <td>None</td>\n",
       "    </tr>\n",
       "    <tr>\n",
       "      <th>3</th>\n",
       "      <td>65</td>\n",
       "      <td>finished</td>\n",
       "      <td>None</td>\n",
       "      <td>full</td>\n",
       "      <td>/full</td>\n",
       "      <td>None</td>\n",
       "      <td>/home/jovyan/workshop_preparation/introduction/unpack/initial/</td>\n",
       "      <td>2022-05-31 18:00:11.223627</td>\n",
       "      <td>NaT</td>\n",
       "      <td>NaN</td>\n",
       "      <td>zora@cmti001#1</td>\n",
       "      <td>TrainingContainer</td>\n",
       "      <td>0.4</td>\n",
       "      <td>NaN</td>\n",
       "      <td>None</td>\n",
       "    </tr>\n",
       "    <tr>\n",
       "      <th>4</th>\n",
       "      <td>66</td>\n",
       "      <td>finished</td>\n",
       "      <td>None</td>\n",
       "      <td>data_initial_sampled</td>\n",
       "      <td>/data_initial_sampled</td>\n",
       "      <td>None</td>\n",
       "      <td>/home/jovyan/workshop_preparation/introduction/unpack/initial/</td>\n",
       "      <td>2022-06-02 20:08:49.404125</td>\n",
       "      <td>NaT</td>\n",
       "      <td>NaN</td>\n",
       "      <td>pyiron@jupyter-a-2eknoll#1</td>\n",
       "      <td>TrainingContainer</td>\n",
       "      <td>0.4</td>\n",
       "      <td>NaN</td>\n",
       "      <td>None</td>\n",
       "    </tr>\n",
       "    <tr>\n",
       "      <th>5</th>\n",
       "      <td>67</td>\n",
       "      <td>finished</td>\n",
       "      <td>None</td>\n",
       "      <td>data_off_sampled</td>\n",
       "      <td>/data_off_sampled</td>\n",
       "      <td>None</td>\n",
       "      <td>/home/jovyan/workshop_preparation/introduction/unpack/initial/</td>\n",
       "      <td>2022-06-02 20:08:57.016915</td>\n",
       "      <td>NaT</td>\n",
       "      <td>NaN</td>\n",
       "      <td>pyiron@jupyter-a-2eknoll#1</td>\n",
       "      <td>TrainingContainer</td>\n",
       "      <td>0.4</td>\n",
       "      <td>NaN</td>\n",
       "      <td>None</td>\n",
       "    </tr>\n",
       "    <tr>\n",
       "      <th>6</th>\n",
       "      <td>68</td>\n",
       "      <td>finished</td>\n",
       "      <td>None</td>\n",
       "      <td>fit_mode1</td>\n",
       "      <td>/fit_mode1</td>\n",
       "      <td>None</td>\n",
       "      <td>/home/jovyan/workshop_preparation/introduction/unpack/fit_hdnnp/</td>\n",
       "      <td>2022-06-02 20:14:21.345133</td>\n",
       "      <td>2022-06-02 20:15:48.139703</td>\n",
       "      <td>86.0</td>\n",
       "      <td>pyiron@jupyter-a-2eknoll#1</td>\n",
       "      <td>RunnerFit</td>\n",
       "      <td>0.4</td>\n",
       "      <td>NaN</td>\n",
       "      <td>None</td>\n",
       "    </tr>\n",
       "    <tr>\n",
       "      <th>7</th>\n",
       "      <td>69</td>\n",
       "      <td>finished</td>\n",
       "      <td>None</td>\n",
       "      <td>fit_mode2</td>\n",
       "      <td>/fit_mode2</td>\n",
       "      <td>None</td>\n",
       "      <td>/home/jovyan/workshop_preparation/introduction/unpack/fit_hdnnp/</td>\n",
       "      <td>2022-06-02 20:16:06.795480</td>\n",
       "      <td>2022-06-02 21:17:22.699567</td>\n",
       "      <td>3675.0</td>\n",
       "      <td>pyiron@jupyter-a-2eknoll#1</td>\n",
       "      <td>RunnerFit</td>\n",
       "      <td>0.4</td>\n",
       "      <td>68.0</td>\n",
       "      <td>None</td>\n",
       "    </tr>\n",
       "    <tr>\n",
       "      <th>8</th>\n",
       "      <td>70</td>\n",
       "      <td>finished</td>\n",
       "      <td>None</td>\n",
       "      <td>fit_mode3</td>\n",
       "      <td>/fit_mode3</td>\n",
       "      <td>None</td>\n",
       "      <td>/home/jovyan/workshop_preparation/introduction/unpack/fit_hdnnp/</td>\n",
       "      <td>2022-06-02 21:17:33.128118</td>\n",
       "      <td>2022-06-02 21:21:25.621709</td>\n",
       "      <td>232.0</td>\n",
       "      <td>pyiron@jupyter-a-2eknoll#1</td>\n",
       "      <td>RunnerFit</td>\n",
       "      <td>0.4</td>\n",
       "      <td>69.0</td>\n",
       "      <td>None</td>\n",
       "    </tr>\n",
       "    <tr>\n",
       "      <th>9</th>\n",
       "      <td>766</td>\n",
       "      <td>finished</td>\n",
       "      <td>None</td>\n",
       "      <td>data_lithium</td>\n",
       "      <td>/data_lithium</td>\n",
       "      <td>None</td>\n",
       "      <td>/home/jovyan/workshop_preparation/introduction/unpack/initial/</td>\n",
       "      <td>2022-06-03 08:42:32.956467</td>\n",
       "      <td>NaT</td>\n",
       "      <td>NaN</td>\n",
       "      <td>pyiron@jupyter-a-2eknoll#1</td>\n",
       "      <td>TrainingContainer</td>\n",
       "      <td>0.4</td>\n",
       "      <td>NaN</td>\n",
       "      <td>None</td>\n",
       "    </tr>\n",
       "  </tbody>\n",
       "</table>\n",
       "</div>"
      ],
      "text/plain": [
       "    id    status chemicalformula                   job                 subjob  \\\n",
       "0   62  finished            None      offstoichiometry      /offstoichiometry   \n",
       "1   63  finished            None        activelearning        /activelearning   \n",
       "2   64  finished            None               initial               /initial   \n",
       "3   65  finished            None                  full                  /full   \n",
       "4   66  finished            None  data_initial_sampled  /data_initial_sampled   \n",
       "5   67  finished            None      data_off_sampled      /data_off_sampled   \n",
       "6   68  finished            None             fit_mode1             /fit_mode1   \n",
       "7   69  finished            None             fit_mode2             /fit_mode2   \n",
       "8   70  finished            None             fit_mode3             /fit_mode3   \n",
       "9  766  finished            None          data_lithium          /data_lithium   \n",
       "\n",
       "  projectpath  \\\n",
       "0        None   \n",
       "1        None   \n",
       "2        None   \n",
       "3        None   \n",
       "4        None   \n",
       "5        None   \n",
       "6        None   \n",
       "7        None   \n",
       "8        None   \n",
       "9        None   \n",
       "\n",
       "                                                            project  \\\n",
       "0    /home/jovyan/workshop_preparation/introduction/unpack/initial/   \n",
       "1    /home/jovyan/workshop_preparation/introduction/unpack/initial/   \n",
       "2    /home/jovyan/workshop_preparation/introduction/unpack/initial/   \n",
       "3    /home/jovyan/workshop_preparation/introduction/unpack/initial/   \n",
       "4    /home/jovyan/workshop_preparation/introduction/unpack/initial/   \n",
       "5    /home/jovyan/workshop_preparation/introduction/unpack/initial/   \n",
       "6  /home/jovyan/workshop_preparation/introduction/unpack/fit_hdnnp/   \n",
       "7  /home/jovyan/workshop_preparation/introduction/unpack/fit_hdnnp/   \n",
       "8  /home/jovyan/workshop_preparation/introduction/unpack/fit_hdnnp/   \n",
       "9    /home/jovyan/workshop_preparation/introduction/unpack/initial/   \n",
       "\n",
       "                   timestart                   timestop  totalcputime  \\\n",
       "0 2022-05-20 07:40:54.302418                        NaT           NaN   \n",
       "1 2022-05-28 16:15:40.324613                        NaT           NaN   \n",
       "2 2022-05-31 17:51:21.146898                        NaT           NaN   \n",
       "3 2022-05-31 18:00:11.223627                        NaT           NaN   \n",
       "4 2022-06-02 20:08:49.404125                        NaT           NaN   \n",
       "5 2022-06-02 20:08:57.016915                        NaT           NaN   \n",
       "6 2022-06-02 20:14:21.345133 2022-06-02 20:15:48.139703          86.0   \n",
       "7 2022-06-02 20:16:06.795480 2022-06-02 21:17:22.699567        3675.0   \n",
       "8 2022-06-02 21:17:33.128118 2022-06-02 21:21:25.621709         232.0   \n",
       "9 2022-06-03 08:42:32.956467                        NaT           NaN   \n",
       "\n",
       "                     computer           hamilton hamversion  parentid masterid  \n",
       "0              zora@cmti001#1  TrainingContainer        0.4       NaN     None  \n",
       "1              zora@cmti001#1  TrainingContainer        0.4       NaN     None  \n",
       "2              zora@cmti001#1  TrainingContainer        0.4       NaN     None  \n",
       "3              zora@cmti001#1  TrainingContainer        0.4       NaN     None  \n",
       "4  pyiron@jupyter-a-2eknoll#1  TrainingContainer        0.4       NaN     None  \n",
       "5  pyiron@jupyter-a-2eknoll#1  TrainingContainer        0.4       NaN     None  \n",
       "6  pyiron@jupyter-a-2eknoll#1          RunnerFit        0.4       NaN     None  \n",
       "7  pyiron@jupyter-a-2eknoll#1          RunnerFit        0.4      68.0     None  \n",
       "8  pyiron@jupyter-a-2eknoll#1          RunnerFit        0.4      69.0     None  \n",
       "9  pyiron@jupyter-a-2eknoll#1  TrainingContainer        0.4       NaN     None  "
      ]
     },
     "execution_count": 23,
     "metadata": {},
     "output_type": "execute_result"
    }
   ],
   "source": [
    "pr.job_table()"
   ]
  },
  {
   "cell_type": "markdown",
   "metadata": {
    "slideshow": {
     "slide_type": "notes"
    }
   },
   "source": [
    "For comparison, here is the energy-volume curve from before, overlayed with the structures in the reduced dataset."
   ]
  },
  {
   "cell_type": "code",
   "execution_count": 24,
   "metadata": {
    "slideshow": {
     "slide_type": "subslide"
    }
   },
   "outputs": [
    {
     "data": {
      "application/vnd.jupyter.widget-view+json": {
       "model_id": "019eb96d94d342f5b67c8b8261f2f4a2",
       "version_major": 2,
       "version_minor": 0
      },
      "image/png": "[encoded data removed]",
      "text/html": [
       "\n",
       "            <div style=\"display: inline-block;\">\n",
       "                <div class=\"jupyter-widgets widget-label\" style=\"text-align: center;\">\n",
       "                    Figure\n",
       "                </div>\n",
       "                <img src='data:image/png;base64,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' width=800.0/>\n",
       "            </div>\n",
       "        "
      ],
      "text/plain": [
       "Canvas(toolbar=Toolbar(toolitems=[('Home', 'Reset original view', 'home', 'home'), ('Back', 'Back to previous …"
      ]
     },
     "metadata": {},
     "output_type": "display_data"
    }
   ],
   "source": [
    "fig, ax = plt.subplots(figsize=(8, 4))\n",
    "data_full.plot.energy_volume()\n",
    "data_lithium.plot.energy_volume()\n",
    "plt.legend(['Full dataset', 'Lithium'])\n",
    "plt.show()"
   ]
  },
  {
   "cell_type": "markdown",
   "metadata": {
    "slideshow": {
     "slide_type": "notes"
    }
   },
   "source": [
    "As you can see, we have selected a very small part of the dataset for our demonstration (176 of ~4000 structures). Nevertheless, the following chapters will demonstrate all the relevant RuNNer concepts to create a similar potential with more training data. "
   ]
  },
  {
   "cell_type": "markdown",
   "metadata": {
    "slideshow": {
     "slide_type": "slide"
    }
   },
   "source": [
    "## The `RunnerFit` Job"
   ]
  },
  {
   "cell_type": "markdown",
   "metadata": {
    "slideshow": {
     "slide_type": "notes"
    }
   },
   "source": [
    "pyiron and the RuNNer Fortran program communicate via a custom job type called `RunnerFit`. Here, we add a new job to the project via `create_job` and give it the name `fit_data_lithium`."
   ]
  },
  {
   "cell_type": "code",
   "execution_count": 25,
   "metadata": {
    "slideshow": {
     "slide_type": "fragment"
    }
   },
   "outputs": [],
   "source": [
    "pr_fit = pr.create_group('fit_lithium')"
   ]
  },
  {
   "cell_type": "code",
   "execution_count": 26,
   "metadata": {
    "slideshow": {
     "slide_type": "fragment"
    }
   },
   "outputs": [],
   "source": [
    "mode1 = pr_fit.create.job.RunnerFit('fit_mode1', delete_existing_job=True)"
   ]
  },
  {
   "cell_type": "markdown",
   "metadata": {
    "slideshow": {
     "slide_type": "notes"
    }
   },
   "source": [
    "Every `RunnerFit` job is initialized with a sensible choice of input parameters for RuNNer (`parameters`) and an empty storage for training structures (`training_data`). This information can easily be accessed through the `input` property.  "
   ]
  },
  {
   "cell_type": "code",
   "execution_count": 27,
   "metadata": {
    "scrolled": true,
    "slideshow": {
     "slide_type": "subslide"
    }
   },
   "outputs": [
    {
     "data": {
      "application/json": {
       "parameters": {
        "bond_threshold": "0.5",
        "center_symmetry_functions": "True",
        "cutoff_type": "1",
        "elements": "None",
        "epochs": "30",
        "global_activation_short": "[['t', 't', 'l']]",
        "global_hidden_layers_short": "2",
        "global_nodes_short": "[[15, 15]]",
        "kalman_lambda_short": "0.98",
        "kalman_nue_short": "0.9987",
        "mix_all_points": "True",
        "nguyen_widrow_weights_short": "True",
        "nn_type_short": "1",
        "number_of_elements": "0",
        "optmode_charge": "1",
        "optmode_short_energy": "1",
        "optmode_short_force": "1",
        "points_in_memory": "1000",
        "precondition_weights": "True",
        "repeated_energy_update": "True",
        "runner_mode": "1",
        "scale_symmetry_functions": "True",
        "short_energy_error_threshold": "0.1",
        "short_energy_fraction": "1.0",
        "short_force_error_threshold": "1.0",
        "short_force_fraction": "0.1",
        "symfunction_short": "[]",
        "test_fraction": "0.1",
        "use_old_weights_charge": "False",
        "use_old_weights_short": "False",
        "use_short_forces": "True",
        "use_short_nn": "True",
        "write_weights_epoch": "5"
       },
       "training_data": "<pyiron_contrib.atomistics.atomistics.job.trainingcontainer.TrainingStorage object at 0x7efc87a1edc0>"
      },
      "text/html": [
       "<pre>DataContainer({\n",
       "  \"parameters\": {\n",
       "    \"runner_mode\": \"1\",\n",
       "    \"symfunction_short\": \"[]\",\n",
       "    \"elements\": \"None\",\n",
       "    \"number_of_elements\": \"0\",\n",
       "    \"bond_threshold\": \"0.5\",\n",
       "    \"nn_type_short\": \"1\",\n",
       "    \"use_short_nn\": \"True\",\n",
       "    \"optmode_charge\": \"1\",\n",
       "    \"optmode_short_energy\": \"1\",\n",
       "    \"optmode_short_force\": \"1\",\n",
       "    \"points_in_memory\": \"1000\",\n",
       "    \"scale_symmetry_functions\": \"True\",\n",
       "    \"cutoff_type\": \"1\",\n",
       "    \"test_fraction\": \"0.1\",\n",
       "    \"use_short_forces\": \"True\",\n",
       "    \"epochs\": \"30\",\n",
       "    \"kalman_lambda_short\": \"0.98\",\n",
       "    \"kalman_nue_short\": \"0.9987\",\n",
       "    \"mix_all_points\": \"True\",\n",
       "    \"nguyen_widrow_weights_short\": \"True\",\n",
       "    \"repeated_energy_update\": \"True\",\n",
       "    \"short_energy_error_threshold\": \"0.1\",\n",
       "    \"short_energy_fraction\": \"1.0\",\n",
       "    \"short_force_error_threshold\": \"1.0\",\n",
       "    \"short_force_fraction\": \"0.1\",\n",
       "    \"use_old_weights_charge\": \"False\",\n",
       "    \"use_old_weights_short\": \"False\",\n",
       "    \"write_weights_epoch\": \"5\",\n",
       "    \"center_symmetry_functions\": \"True\",\n",
       "    \"precondition_weights\": \"True\",\n",
       "    \"global_activation_short\": \"[['t', 't', 'l']]\",\n",
       "    \"global_hidden_layers_short\": \"2\",\n",
       "    \"global_nodes_short\": \"[[15, 15]]\"\n",
       "  },\n",
       "  \"training_data\": \"<pyiron_contrib.atomistics.atomistics.job.trainingcontainer.TrainingStorage object at 0x7efc87a1edc0>\"\n",
       "})</pre>"
      ],
      "text/plain": [
       "DataContainer({'parameters': DataContainer({'runner_mode': 1, 'symfunction_short': [], 'elements': None, 'number_of_elements': 0, 'bond_threshold': 0.5, 'nn_type_short': 1, 'use_short_nn': True, 'optmode_charge': 1, 'optmode_short_energy': 1, 'optmode_short_force': 1, 'points_in_memory': 1000, 'scale_symmetry_functions': True, 'cutoff_type': 1, 'test_fraction': 0.1, 'use_short_forces': True, 'epochs': 30, 'kalman_lambda_short': 0.98, 'kalman_nue_short': 0.9987, 'mix_all_points': True, 'nguyen_widrow_weights_short': True, 'repeated_energy_update': True, 'short_energy_error_threshold': 0.1, 'short_energy_fraction': 1.0, 'short_force_error_threshold': 1.0, 'short_force_fraction': 0.1, 'use_old_weights_charge': False, 'use_old_weights_short': False, 'write_weights_epoch': 5, 'center_symmetry_functions': True, 'precondition_weights': True, 'global_activation_short': [['t', 't', 'l']], 'global_hidden_layers_short': 2, 'global_nodes_short': [[15, 15]]}), 'training_data': <pyiron_contrib.atomistics.atomistics.job.trainingcontainer.TrainingStorage object at 0x7efc87a1edc0>})"
      ]
     },
     "execution_count": 27,
     "metadata": {},
     "output_type": "execute_result"
    }
   ],
   "source": [
    "mode1.input"
   ]
  },
  {
   "cell_type": "markdown",
   "metadata": {
    "slideshow": {
     "slide_type": "notes"
    }
   },
   "source": [
    "### Description of the Parameters in this Dictionary.\n",
    "\n",
    "Here, we will only explain the global keywords which are relevant for all modes. The remaining keywords will be explained in following chapters. If a keyword is not specified on the pyiron-side, the **RuNNer** Fortran program uses default values, if possible.\n",
    "For a more detailed explanation of all RuNNer keywords, take a look at [the RuNNer documentation](https://theochemgoettingen.gitlab.io/RuNNer)."
   ]
  },
  {
   "cell_type": "markdown",
   "metadata": {
    "slideshow": {
     "slide_type": "notes"
    }
   },
   "source": [
    "| Keyword | Default | Description |\n",
    "|---------|---------|:-------------|\n",
    "|runner_mode | 1| Choose the operating mode of RuNNer.\n",
    "|symfunction_short | empty `SymmetryFunctionSet` |Specification of the symmetry functions for a specific element with a specific neighbor element combination for the short-range NN.\n",
    "|elements | None| The element symbols of all elements in the system in arbitrary order. The number of specified elements must fit to the value of the keyword number_of_elements. Will be automatically set by `pyiron`.\n",
    "|number_of_elements | 0| Specify the number of chemical elements in the system. Will be automatically set by `pyiron`.\n",
    "|bond_threshold | 0.5| Threshold for the shortest bond in the structure in Bohr units. If a shorter bond occurs RuNNer will stop with an error message in runner_mode 2 and 3. In runner_mode 1 the structure will be eliminated from the data set.\n",
    "|nn_type_short | 1| Specify the NN type of the short-range part (atomic or pair-based energy expression).\n",
    "|use_short_nn | True| Use the a short range NN. \n",
    "|points_in_memory | 1000| This keyword controls memory consumption and IO and is therefore important to achieve an optimum performance of RuNNer. Has a different meaning depending on the current runner_mode.\n",
    "|use_short_forces | True| Use forces for fitting the short range NN weights."
   ]
  },
  {
   "cell_type": "markdown",
   "metadata": {
    "slideshow": {
     "slide_type": "slide"
    }
   },
   "source": [
    "### Adding Training Data"
   ]
  },
  {
   "cell_type": "markdown",
   "metadata": {
    "slideshow": {
     "slide_type": "notes"
    }
   },
   "source": [
    "As of yet, this job does not have a training dataset. However, as you already saw for the EAM potential, adding a new training dataset to the job is as simple as calling `add_training_data`:"
   ]
  },
  {
   "cell_type": "code",
   "execution_count": 28,
   "metadata": {
    "slideshow": {
     "slide_type": "fragment"
    }
   },
   "outputs": [
    {
     "data": {
      "text/plain": [
       "176"
      ]
     },
     "execution_count": 28,
     "metadata": {},
     "output_type": "execute_result"
    }
   ],
   "source": [
    "# The if-conditions prevents you from accidentally adding the same\n",
    "# structures twice to the training dataset.\n",
    "if len(mode1.training_data) == 0:\n",
    "    mode1.add_training_data(data_lithium)\n",
    "\n",
    "len(mode1.training_data)"
   ]
  },
  {
   "cell_type": "markdown",
   "metadata": {
    "slideshow": {
     "slide_type": "notes"
    }
   },
   "source": [
    "By calling `add_training_data` multiple times, it is very easy to combine several independent training datasets for one fit."
   ]
  },
  {
   "cell_type": "markdown",
   "metadata": {
    "slideshow": {
     "slide_type": "notes"
    }
   },
   "source": [
    "### Specification of RuNNer Parameters\n",
    "\n",
    "While many of the default parameters in `RunnerFit` are suited for a wide range of calculations, you still need to carefully check each of them before starting a fit. Special attention must be given to the atom-centered symmetry functions as they have to be tailored to the system under investigation."
   ]
  },
  {
   "cell_type": "markdown",
   "metadata": {
    "slideshow": {
     "slide_type": "notes"
    }
   },
   "source": [
    "#### Generating Symmetry Functions with runnerase"
   ]
  },
  {
   "cell_type": "markdown",
   "metadata": {
    "slideshow": {
     "slide_type": "notes"
    }
   },
   "source": [
    "`RunnerFit` builds on the RuNNer ASE interface which is publicly available as `runnerase`. For further information check out the [runnerase documentation](https://runner-suite.gitlab.io/runnerase).\n",
    "\n",
    "`runnerase` provides a `generate_symmetryfunction` procedure, which makes it easy to tailor SFs to the corresponding training dataset. You can either generate radial SFs by setting `sftype=2`, or angular SFs with `sftype=3`. The algorithm will then automatically generate one set of SFs for each pair or each triplet of elements in the dataset. The number of SFs per set can be specified with the `amount` argument. Finally, `generate_symmetryfunctions` comes with several different `algorithm`s for choosing the parameters of the SFs:\n",
    "* **Radial SFs:** One can choose from `algorithm=turn` and `algorithm=half`. `turn` will choose the SF coefficients such that the turning points of all SFs are equally spaced between the cutoff radius and the minimum distance between any given element pair. `half` will make sure that the SFs are equally spaced at $f(G) = 0.5$.\n",
    "* **Angular SFs:** One can choose from `algorithm=turn`, `algorithm=half`, or `algorithm=literature`. While the first two algorithms behave similarly to the ones for radial SF, `literature` will return SF coefficients that have proven to be a reliable choice for most systems in previous publications.\n",
    "\n",
    "In most RuNNer-related publications, a combination of `algorithm=turn` for radial SFs and `algorithm=literature` for angular SFs has been used."
   ]
  },
  {
   "cell_type": "markdown",
   "metadata": {
    "slideshow": {
     "slide_type": "notes"
    }
   },
   "source": [
    "However, `runnerase` does not operate on pyiron objects like the `TrainingContainer`. Therefore, we transform the `TrainingContainer` with our lithium structures into a List of ASE Atoms objects. The `container_to_ase` function is defined in pyiron_contrib. "
   ]
  },
  {
   "cell_type": "code",
   "execution_count": 29,
   "metadata": {
    "slideshow": {
     "slide_type": "fragment"
    }
   },
   "outputs": [],
   "source": [
    "dataset = container_to_ase(data_lithium)"
   ]
  },
  {
   "cell_type": "markdown",
   "metadata": {
    "slideshow": {
     "slide_type": "notes"
    }
   },
   "source": [
    "In the following, we have prepared two interactive plotting functions for you, so you can try out different parameters for the SFs."
   ]
  },
  {
   "cell_type": "code",
   "execution_count": 30,
   "metadata": {
    "slideshow": {
     "slide_type": "skip"
    }
   },
   "outputs": [
    {
     "data": {
      "application/vnd.jupyter.widget-view+json": {
       "model_id": "146edac2b27a43249c282d56f6043aa1",
       "version_major": 2,
       "version_minor": 0
      },
      "text/plain": [
       "interactive(children=(IntSlider(value=6, description='amount', max=12), Dropdown(description='algorithm', opti…"
      ]
     },
     "metadata": {},
     "output_type": "display_data"
    }
   ],
   "source": [
    "%matplotlib inline\n",
    "\n",
    "@widgets.interact(amount=(0, 12, 1), algorithm=['turn', 'half'],\n",
    "                  cutoff_function=[True, False], show_legend=[True, False])\n",
    "def update(amount=6, algorithm='turn', cutoff_function=True, show_legend=False):\n",
    "    # Clear the plot.\n",
    "    plt.clf()\n",
    "    ax = plt.gca()\n",
    "    \n",
    "    # Generate the symmetry functions.\n",
    "    radials = generate_symmetryfunctions(dataset, sftype=2, algorithm=algorithm,\n",
    "                                         cutoff=12.0, amount=amount)\n",
    "    radials.plot.radial(cutoff_function=cutoff_function, show_legend=show_legend, axes=ax)\n",
    "    plt.show()"
   ]
  },
  {
   "cell_type": "code",
   "execution_count": null,
   "metadata": {
    "scrolled": true,
    "slideshow": {
     "slide_type": "skip"
    }
   },
   "outputs": [],
   "source": [
    "@widgets.interact(amount=(0, 12, 1), algorithm=['half', 'turn', 'literature'],\n",
    "                  show_legend=[True, False])\n",
    "def update(amount = 4, algorithm='literature', show_legend=False):\n",
    "    plt.clf()\n",
    "    ax = plt.gca()\n",
    "    angulars = generate_symmetryfunctions(dataset, sftype=3, amount=amount,\n",
    "                                          algorithm=algorithm, cutoff=12.0)\n",
    "    angulars.plot.angular(axes=ax, show_legend=show_legend)"
   ]
  },
  {
   "cell_type": "markdown",
   "metadata": {
    "slideshow": {
     "slide_type": "subslide"
    }
   },
   "source": [
    "#### Adding SFs to the Job"
   ]
  },
  {
   "cell_type": "markdown",
   "metadata": {
    "slideshow": {
     "slide_type": "notes"
    }
   },
   "source": [
    "The parameter `mode1.parameters.symfunction_short` is, in fact, a so-called `SymmetryFunctionSet` object. They function similar to a folder: you can either store `SymmetryFunction` objects directly (= a file), or create more `SymmetryFunctionSet`s in them (= another folder).\n",
    "\n",
    "When `generate_symmetryfunctions` is called, it returns a `SymmetryFunctionSet` itself. Two `SymmetryFunctionSet`s can easily be combined using the `+` operator. This way, we can add a collection of radial symmetry functions to our job."
   ]
  },
  {
   "cell_type": "code",
   "execution_count": 31,
   "metadata": {
    "slideshow": {
     "slide_type": "-"
    }
   },
   "outputs": [],
   "source": [
    "# Reset the symmetry function container.\n",
    "mode1.parameters.symfunction_short.reset()\n",
    "\n",
    "# Generate radial symmetry functions.\n",
    "radials = generate_symmetryfunctions(dataset, sftype=2, algorithm='half',\n",
    "                                     cutoff=12.0)\n",
    "\n",
    "mode1.parameters.symfunction_short += radials"
   ]
  },
  {
   "cell_type": "markdown",
   "metadata": {
    "slideshow": {
     "slide_type": "notes"
    }
   },
   "source": [
    "All SFs stored in `radials` can be accessed through its `storage` property. As you can see, `radials` essentially organizes a list of SFs in a convenient storage format."
   ]
  },
  {
   "cell_type": "code",
   "execution_count": 32,
   "metadata": {
    "slideshow": {
     "slide_type": "fragment"
    }
   },
   "outputs": [
    {
     "data": {
      "text/plain": [
       "[SymmetryFunction(sftype=2, cutoff=12.0, elements=['Li', 'Li'], coefficients=[0.0, 0.0]),\n",
       " SymmetryFunction(sftype=2, cutoff=12.0, elements=['Li', 'Li'], coefficients=[0.004675055980246071, 0.0]),\n",
       " SymmetryFunction(sftype=2, cutoff=12.0, elements=['Li', 'Li'], coefficients=[0.010843416275634649, 0.0]),\n",
       " SymmetryFunction(sftype=2, cutoff=12.0, elements=['Li', 'Li'], coefficients=[0.01939424193215976, 0.0]),\n",
       " SymmetryFunction(sftype=2, cutoff=12.0, elements=['Li', 'Li'], coefficients=[0.03192971575337408, 0.0]),\n",
       " SymmetryFunction(sftype=2, cutoff=12.0, elements=['Li', 'Li'], coefficients=[0.05159916711157464, 0.0])]"
      ]
     },
     "execution_count": 32,
     "metadata": {},
     "output_type": "execute_result"
    }
   ],
   "source": [
    "radials.storage"
   ]
  },
  {
   "cell_type": "markdown",
   "metadata": {
    "slideshow": {
     "slide_type": "notes"
    }
   },
   "source": [
    "Similarly, we can generate a set of angular symmetry functions and add them to the job as well."
   ]
  },
  {
   "cell_type": "code",
   "execution_count": 34,
   "metadata": {
    "slideshow": {
     "slide_type": "subslide"
    }
   },
   "outputs": [],
   "source": [
    "# Generate angular symmetry functions.                                                                                                                                                                                                                        \n",
    "angulars = generate_symmetryfunctions(dataset, sftype=3, amount=4,\n",
    "                                      algorithm='literature', cutoff=12.0)\n",
    "\n",
    "mode1.parameters.symfunction_short += angulars"
   ]
  },
  {
   "cell_type": "code",
   "execution_count": 35,
   "metadata": {
    "slideshow": {
     "slide_type": "fragment"
    }
   },
   "outputs": [
    {
     "data": {
      "text/plain": [
       "[SymmetryFunction(sftype=3, cutoff=12.0, elements=['Li', 'Li', 'Li'], coefficients=[0.0, -1.0, 1]),\n",
       " SymmetryFunction(sftype=3, cutoff=12.0, elements=['Li', 'Li', 'Li'], coefficients=[0.0, -1.0, 2]),\n",
       " SymmetryFunction(sftype=3, cutoff=12.0, elements=['Li', 'Li', 'Li'], coefficients=[0.0, -1.0, 4]),\n",
       " SymmetryFunction(sftype=3, cutoff=12.0, elements=['Li', 'Li', 'Li'], coefficients=[0.0, -1.0, 8]),\n",
       " SymmetryFunction(sftype=3, cutoff=12.0, elements=['Li', 'Li', 'Li'], coefficients=[0.0, 1.0, 1]),\n",
       " SymmetryFunction(sftype=3, cutoff=12.0, elements=['Li', 'Li', 'Li'], coefficients=[0.0, 1.0, 2]),\n",
       " SymmetryFunction(sftype=3, cutoff=12.0, elements=['Li', 'Li', 'Li'], coefficients=[0.0, 1.0, 4]),\n",
       " SymmetryFunction(sftype=3, cutoff=12.0, elements=['Li', 'Li', 'Li'], coefficients=[0.0, 1.0, 8])]"
      ]
     },
     "execution_count": 35,
     "metadata": {},
     "output_type": "execute_result"
    }
   ],
   "source": [
    "angulars.storage"
   ]
  },
  {
   "cell_type": "markdown",
   "metadata": {
    "slideshow": {
     "slide_type": "notes"
    }
   },
   "source": [
    "When we look at the `input` of the job again, you will find that all symmetry functions appear."
   ]
  },
  {
   "cell_type": "code",
   "execution_count": 36,
   "metadata": {
    "slideshow": {
     "slide_type": "subslide"
    }
   },
   "outputs": [
    {
     "data": {
      "application/json": {
       "parameters": {
        "bond_threshold": "0.5",
        "center_symmetry_functions": "True",
        "cutoff_type": "1",
        "elements": "None",
        "epochs": "30",
        "global_activation_short": "[['t', 't', 'l']]",
        "global_hidden_layers_short": "2",
        "global_nodes_short": "[[15, 15]]",
        "kalman_lambda_short": "0.98",
        "kalman_nue_short": "0.9987",
        "mix_all_points": "True",
        "nguyen_widrow_weights_short": "True",
        "nn_type_short": "1",
        "number_of_elements": "0",
        "optmode_charge": "1",
        "optmode_short_energy": "1",
        "optmode_short_force": "1",
        "points_in_memory": "1000",
        "precondition_weights": "True",
        "repeated_energy_update": "True",
        "runner_mode": "1",
        "scale_symmetry_functions": "True",
        "short_energy_error_threshold": "0.1",
        "short_energy_fraction": "1.0",
        "short_force_error_threshold": "1.0",
        "short_force_fraction": "0.1",
        "symfunction_short": "[('Li', 2, 'Li', 0.0, 0.0, 12.0), ('Li', 2, 'Li', 0.004675055980246071, 0.0, 12.0), ('Li', 2, 'Li', 0.010843416275634649, 0.0, 12.0), ('Li', 2, 'Li', 0.01939424193215976, 0.0, 12.0), ('Li', 2, 'Li', 0.03192971575337408, 0.0, 12.0), ('Li', 2, 'Li', 0.05159916711157464, 0.0, 12.0), ('Li', 3, 'Li', 'Li', 0.0, -1.0, 1, 12.0), ('Li', 3, 'Li', 'Li', 0.0, -1.0, 2, 12.0), ('Li', 3, 'Li', 'Li', 0.0, -1.0, 4, 12.0), ('Li', 3, 'Li', 'Li', 0.0, -1.0, 8, 12.0), ('Li', 3, 'Li', 'Li', 0.0, 1.0, 1, 12.0), ('Li', 3, 'Li', 'Li', 0.0, 1.0, 2, 12.0), ('Li', 3, 'Li', 'Li', 0.0, 1.0, 4, 12.0), ('Li', 3, 'Li', 'Li', 0.0, 1.0, 8, 12.0)]",
        "test_fraction": "0.1",
        "use_old_weights_charge": "False",
        "use_old_weights_short": "False",
        "use_short_forces": "True",
        "use_short_nn": "True",
        "write_weights_epoch": "5"
       },
       "training_data": "<pyiron_contrib.atomistics.atomistics.job.trainingcontainer.TrainingStorage object at 0x7efc87a1edc0>"
      },
      "text/html": [
       "<pre>DataContainer({\n",
       "  \"parameters\": {\n",
       "    \"runner_mode\": \"1\",\n",
       "    \"symfunction_short\": \"[('Li', 2, 'Li', 0.0, 0.0, 12.0), ('Li', 2, 'Li', 0.004675055980246071, 0.0, 12.0), ('Li', 2, 'Li', 0.010843416275634649, 0.0, 12.0), ('Li', 2, 'Li', 0.01939424193215976, 0.0, 12.0), ('Li', 2, 'Li', 0.03192971575337408, 0.0, 12.0), ('Li', 2, 'Li', 0.05159916711157464, 0.0, 12.0), ('Li', 3, 'Li', 'Li', 0.0, -1.0, 1, 12.0), ('Li', 3, 'Li', 'Li', 0.0, -1.0, 2, 12.0), ('Li', 3, 'Li', 'Li', 0.0, -1.0, 4, 12.0), ('Li', 3, 'Li', 'Li', 0.0, -1.0, 8, 12.0), ('Li', 3, 'Li', 'Li', 0.0, 1.0, 1, 12.0), ('Li', 3, 'Li', 'Li', 0.0, 1.0, 2, 12.0), ('Li', 3, 'Li', 'Li', 0.0, 1.0, 4, 12.0), ('Li', 3, 'Li', 'Li', 0.0, 1.0, 8, 12.0)]\",\n",
       "    \"elements\": \"None\",\n",
       "    \"number_of_elements\": \"0\",\n",
       "    \"bond_threshold\": \"0.5\",\n",
       "    \"nn_type_short\": \"1\",\n",
       "    \"use_short_nn\": \"True\",\n",
       "    \"optmode_charge\": \"1\",\n",
       "    \"optmode_short_energy\": \"1\",\n",
       "    \"optmode_short_force\": \"1\",\n",
       "    \"points_in_memory\": \"1000\",\n",
       "    \"scale_symmetry_functions\": \"True\",\n",
       "    \"cutoff_type\": \"1\",\n",
       "    \"test_fraction\": \"0.1\",\n",
       "    \"use_short_forces\": \"True\",\n",
       "    \"epochs\": \"30\",\n",
       "    \"kalman_lambda_short\": \"0.98\",\n",
       "    \"kalman_nue_short\": \"0.9987\",\n",
       "    \"mix_all_points\": \"True\",\n",
       "    \"nguyen_widrow_weights_short\": \"True\",\n",
       "    \"repeated_energy_update\": \"True\",\n",
       "    \"short_energy_error_threshold\": \"0.1\",\n",
       "    \"short_energy_fraction\": \"1.0\",\n",
       "    \"short_force_error_threshold\": \"1.0\",\n",
       "    \"short_force_fraction\": \"0.1\",\n",
       "    \"use_old_weights_charge\": \"False\",\n",
       "    \"use_old_weights_short\": \"False\",\n",
       "    \"write_weights_epoch\": \"5\",\n",
       "    \"center_symmetry_functions\": \"True\",\n",
       "    \"precondition_weights\": \"True\",\n",
       "    \"global_activation_short\": \"[['t', 't', 'l']]\",\n",
       "    \"global_hidden_layers_short\": \"2\",\n",
       "    \"global_nodes_short\": \"[[15, 15]]\"\n",
       "  },\n",
       "  \"training_data\": \"<pyiron_contrib.atomistics.atomistics.job.trainingcontainer.TrainingStorage object at 0x7efc87a1edc0>\"\n",
       "})</pre>"
      ],
      "text/plain": [
       "DataContainer({'parameters': DataContainer({'runner_mode': 1, 'symfunction_short': [('Li', 2, 'Li', 0.0, 0.0, 12.0), ('Li', 2, 'Li', 0.004675055980246071, 0.0, 12.0), ('Li', 2, 'Li', 0.010843416275634649, 0.0, 12.0), ('Li', 2, 'Li', 0.01939424193215976, 0.0, 12.0), ('Li', 2, 'Li', 0.03192971575337408, 0.0, 12.0), ('Li', 2, 'Li', 0.05159916711157464, 0.0, 12.0), ('Li', 3, 'Li', 'Li', 0.0, -1.0, 1, 12.0), ('Li', 3, 'Li', 'Li', 0.0, -1.0, 2, 12.0), ('Li', 3, 'Li', 'Li', 0.0, -1.0, 4, 12.0), ('Li', 3, 'Li', 'Li', 0.0, -1.0, 8, 12.0), ('Li', 3, 'Li', 'Li', 0.0, 1.0, 1, 12.0), ('Li', 3, 'Li', 'Li', 0.0, 1.0, 2, 12.0), ('Li', 3, 'Li', 'Li', 0.0, 1.0, 4, 12.0), ('Li', 3, 'Li', 'Li', 0.0, 1.0, 8, 12.0)], 'elements': None, 'number_of_elements': 0, 'bond_threshold': 0.5, 'nn_type_short': 1, 'use_short_nn': True, 'optmode_charge': 1, 'optmode_short_energy': 1, 'optmode_short_force': 1, 'points_in_memory': 1000, 'scale_symmetry_functions': True, 'cutoff_type': 1, 'test_fraction': 0.1, 'use_short_forces': True, 'epochs': 30, 'kalman_lambda_short': 0.98, 'kalman_nue_short': 0.9987, 'mix_all_points': True, 'nguyen_widrow_weights_short': True, 'repeated_energy_update': True, 'short_energy_error_threshold': 0.1, 'short_energy_fraction': 1.0, 'short_force_error_threshold': 1.0, 'short_force_fraction': 0.1, 'use_old_weights_charge': False, 'use_old_weights_short': False, 'write_weights_epoch': 5, 'center_symmetry_functions': True, 'precondition_weights': True, 'global_activation_short': [['t', 't', 'l']], 'global_hidden_layers_short': 2, 'global_nodes_short': [[15, 15]]}), 'training_data': <pyiron_contrib.atomistics.atomistics.job.trainingcontainer.TrainingStorage object at 0x7efc87a1edc0>})"
      ]
     },
     "execution_count": 36,
     "metadata": {},
     "output_type": "execute_result"
    }
   ],
   "source": [
    "mode1.input"
   ]
  },
  {
   "cell_type": "markdown",
   "metadata": {
    "slideshow": {
     "slide_type": "slide"
    }
   },
   "source": [
    "## Calculation of Symmetry Function Values - RuNNer Mode 1"
   ]
  },
  {
   "cell_type": "markdown",
   "metadata": {
    "slideshow": {
     "slide_type": "notes"
    }
   },
   "source": [
    "In **RuNNer**'s mode 1 the following steps are performed:\n",
    "- calculation of SF values,\n",
    "- splitting of data set in train and test data set.\n",
    "\n",
    "The most important keywords for RuNNer mode 1 are summarized in the following table. Previously unmentioned keywords are marked in bold font."
   ]
  },
  {
   "cell_type": "markdown",
   "metadata": {
    "slideshow": {
     "slide_type": "notes"
    }
   },
   "source": [
    "| Keyword | Default | Description |\n",
    "|---------|---------|:-------------|\n",
    "|runner_mode | 1| \n",
    "|symfunction_short | empty `SymmetryFunctionSet`| Specification of the symmetry functions for a specific element with a specific neighbor element combination for the short-range NN.\n",
    "|elements | None| The element symbols of all elements in the system in arbitrary order. The number of specified elements must fit to the value of the keyword number_of_elements.\n",
    "|number_of_elements | 0| Specify the number of chemical elements in the system.\n",
    "|points_in_memory | 1000| This keyword controls memory consumption and IO and is therefore important to achieve an optimum performance of RuNNer. Has a different meaning depending on the current runner_mode.\n",
    "|**cutoff_type** | 1| This keyword determines the cutoff function to be used for the symmetry functions.\n",
    "|**test_fraction** | 0.1| Threshold for splitting between training and testing set in runner_mode 1.\n",
    "|use_short_forces | True| Use forces for fitting the short range NN weights.\n",
    "|**random_seed** | None | The seed for ensuring reproducible results. Will be chosen automatically by pyiron if none was supplied."
   ]
  },
  {
   "cell_type": "markdown",
   "metadata": {
    "slideshow": {
     "slide_type": "notes"
    }
   },
   "source": [
    "Finally, starting mode 1 is as simple as calling the `run` function. For safety, we reset the `runner_mode` parameter to 1. "
   ]
  },
  {
   "cell_type": "code",
   "execution_count": 37,
   "metadata": {
    "scrolled": true,
    "slideshow": {
     "slide_type": "fragment"
    }
   },
   "outputs": [
    {
     "name": "stdout",
     "output_type": "stream",
     "text": [
      "The job fit_mode1 was saved and received the ID: 767\n"
     ]
    }
   ],
   "source": [
    "# Run Mode 1.\n",
    "mode1.parameters.runner_mode = 1\n",
    "mode1.run(delete_existing_job=True)"
   ]
  },
  {
   "cell_type": "markdown",
   "metadata": {
    "slideshow": {
     "slide_type": "notes"
    }
   },
   "source": [
    "### Output Mode 1\n",
    "\n",
    "The output of the calculation is stored in the `output` property of the job."
   ]
  },
  {
   "cell_type": "code",
   "execution_count": 38,
   "metadata": {
    "slideshow": {
     "slide_type": "fragment"
    }
   },
   "outputs": [
    {
     "data": {
      "application/json": {
       "sfvalues": "<pyiron_contrib.atomistics.runner.storageclasses.HDFSymmetryFunctionValues object at 0x7efc8783af70>",
       "splittraintest": "HDFSplitTrainTest(n_train=154, n_test=22)"
      },
      "text/html": [
       "<pre>DataContainer({\n",
       "  \"sfvalues\": \"<pyiron_contrib.atomistics.runner.storageclasses.HDFSymmetryFunctionValues object at 0x7efc8783af70>\",\n",
       "  \"splittraintest\": \"HDFSplitTrainTest(n_train=154, n_test=22)\"\n",
       "})</pre>"
      ],
      "text/plain": [
       "DataContainer({'sfvalues': <pyiron_contrib.atomistics.runner.storageclasses.HDFSymmetryFunctionValues object at 0x7efc8783af70>, 'splittraintest': HDFSplitTrainTest(n_train=154, n_test=22)})"
      ]
     },
     "execution_count": 38,
     "metadata": {},
     "output_type": "execute_result"
    }
   ],
   "source": [
    "mode1.output"
   ]
  },
  {
   "cell_type": "markdown",
   "metadata": {
    "slideshow": {
     "slide_type": "notes"
    }
   },
   "source": [
    "As you can see, `output` is a `DataContainer` with two nodes: the calculated SF values (`sfvalues`) and the split between training and testing data (`splittraintest`). The data is encapsulated in corresponding objects, e.g. `HDFSplitTrainTest`.\n",
    "\n",
    "_For those who are interested: the object `HDFSplitTraintTest` wraps a similar object that is provided by the runnerase package (`RunnerSplitTrainTest`). This is necessary to provide the runnerase object with the capabilities to read and write itself to and from HDF format. Apart from these additional functions, the two classes behave completely the same. All output values of the RunnerFit job are stored in this way. `HDFSymmetryFunctionValues` is an exception: because SF values are very large, they are stored on the pyiron-side in a flat storage array. Therefore, `HDFSymmetryFunctionValues` and `RunnerSymmetryFunctionValues` behave differently. In order to work with `HDFSymmetryFunctionValues` more conveniently, we therefore convert it back to the `RunnerSymmetryFunctionValues` class by calling its `to_runnerase` routine._"
   ]
  },
  {
   "cell_type": "markdown",
   "metadata": {
    "slideshow": {
     "slide_type": "notes"
    }
   },
   "source": [
    "We store the two different output values in variables and access their plotting interfaces."
   ]
  },
  {
   "cell_type": "code",
   "execution_count": null,
   "metadata": {
    "slideshow": {
     "slide_type": "fragment"
    }
   },
   "outputs": [],
   "source": [
    "split = mode1.output['splittraintest']\n",
    "sfvalues = mode1.output['sfvalues'].to_runnerase()"
   ]
  },
  {
   "cell_type": "code",
   "execution_count": null,
   "metadata": {
    "slideshow": {
     "slide_type": "subslide"
    }
   },
   "outputs": [],
   "source": [
    "%matplotlib widget\n",
    "fig, ax = plt.subplots(figsize=(8, 4))\n",
    "split.plot.pie()\n",
    "plt.show()"
   ]
  },
  {
   "cell_type": "code",
   "execution_count": null,
   "metadata": {
    "scrolled": true,
    "slideshow": {
     "slide_type": "subslide"
    }
   },
   "outputs": [],
   "source": [
    "fig, ax = plt.subplots(figsize=(8, 4))\n",
    "sfvalues.plot.boxplot()\n",
    "plt.show()"
   ]
  },
  {
   "cell_type": "markdown",
   "metadata": {
    "slideshow": {
     "slide_type": "notes"
    }
   },
   "source": [
    "The boxplot above shows the distribution of SF values in the entire dataset for each SF. Outliers are depicted with black kites and every point corresponds to one atom.\n",
    "\n",
    "This plot can give clues about outliers in the datatset which are difficult to fit. For example, symmetry function 7 shows very large values for one atom. This could indicate, that two atoms are getting unreasonably close (for radial SFs) or that their angle is very narrow (for angular SFs). Investigating such structures and, if necessary, removing them from the training dataset, can often improve a fit.    "
   ]
  },
  {
   "cell_type": "markdown",
   "metadata": {
    "slideshow": {
     "slide_type": "slide"
    }
   },
   "source": [
    "### Potential Training - RuNNer Mode 2"
   ]
  },
  {
   "cell_type": "markdown",
   "metadata": {
    "slideshow": {
     "slide_type": "notes"
    }
   },
   "source": [
    "In ``mode 2``, the magic happens and your data will be fitted. Again, we summarize important keywords in a table. There are many other keywords which allow you to finetune your potential. However, the selection below should give you many possibilities to change the outcome of the training process."
   ]
  },
  {
   "cell_type": "markdown",
   "metadata": {
    "slideshow": {
     "slide_type": "notes"
    }
   },
   "source": [
    "| Keyword | Default | Description |\n",
    "|---------|---------|:-------------|\n",
    "|runner_mode | 1| Must be set to 2.\n",
    "|nn_type_short | 1| Specify the NN type of the short-range part.\n",
    "|use_short_nn | True| Use the a short range NN. Whether an atomic or pair-based energy expression is used is determined via the keyword nn_type_short.\n",
    "|**optmode_short_energy** | 1| Specify the optimization algorithm for the short-range energy contributions.\n",
    "|**optmode_short_force** | 1| Specify the optimization algorithm for the short-range forces.\n",
    "|points_in_memory | 1000| This keyword controls memory consumption and IO and is therefore important to achieve an optimum performance of RuNNer. Has a different meaning depending on the current runner_mode.\n",
    "|**scale_symmetry_functions** | True| Rescale symmetry functions to a certain interval (the default interval is 0 to 1). This has numerical advantages if the orders of magnitudes of different symmetry functions are very different. If the minimum and maximum value for a symmetry function is the same for all structures, rescaling is not possible and RuNNer will terminate with an error. The interval can be specified by the keywords \n",
    "|use_short_forces | True| Use forces for fitting the short range NN weights.\n",
    "|**epochs** | 30| The number of epochs for fitting. If 0 is specified, RuNNer will calculate the error and terminate without adjusting weights.\n",
    "|**kalman_lambda_short** | 0.98| Kalman filter parameter $\\lambda$ for the short range NN weight updates.\n",
    "|**kalman_nue_short** | 0.9987| Kalman filter parameter $\\nu$ for the short range weight updates.\n",
    "|**mix_all_points** | True| Randomly reorder the data points in the data set at the beginning of each new epoch.\n",
    "|**nguyen_widrow_weights_short** | True| Initialize the short-range NN weights according to the scheme proposed by Nguyen and Widrow. The initial weights and bias values in the hidden layer are chosen such that the input space is evenly distributed over the nodes. This may speed up the training process.\n",
    "|**repeated_energy_update** | True| If this keyword is set, the weights of the short-range NN are updated a second time after the force update with respect to the total energies in the data set. This usually results in a more accurate potential energy fitting at the cost of slightly detiorated forces.\n",
    "|**center_symmetry_functions** | True| Shift the symmetry function values individually for each symmetry function such that the average is moved to zero. This may have numerical advantages, because zero is the center of the non-linear regions of most activation functions.\n",
    "|**precondition_weights** | True| Shift the weights of the atomic NNs right after the initialization so that the standard deviation of the NN energies is the same as the standard deviation of the reference energies.\n",
    "|**global_activation_short** | [['t' 't' 'l']]| Set the activation function for each hidden layer and the output layer in the short range NNs of all elements. \n",
    "|**global_hidden_layers_short** | 2| Set the default number of hidden layers in the short-range NNs of all elements. Internally 1 is added to maxnum_layers_short, which also includes the output layer.\n",
    "|**global_nodes_short** | [[15 15]]| Set the default number of nodes in the hidden layers of the short-range NNs in case of nn_type_short 1. In the array, the entries 1 - maxnum_layersshort - 1 refer to the hidden layers. The first entry (0) refers to the nodes in the input layer and is determined automatically from the symmetry functions."
   ]
  },
  {
   "cell_type": "markdown",
   "metadata": {
    "slideshow": {
     "slide_type": "notes"
    }
   },
   "source": [
    "During the fitting process of the NN, the error function $\\Gamma$ is minimized, which is defined as \n",
    "\\begin{equation}\n",
    "    \\Gamma = \\mathrm{RMSE}(E)=\\frac{1}{N_\\mathrm{struct}} \\sum_{i}^{N_\\mathrm{\\mathrm{struct}}} (E_{\\mathrm{NN}}^{i} - E_{\\mathrm{ref}}^{i})^2,\n",
    "\\end{equation}\n",
    "if only energy fitting is used, which defines simultaneously the root-mean squared error of the energies $\\mathrm{RMSE}(E)$. This defines the differences of the reference data and the NNP predictions."
   ]
  },
  {
   "cell_type": "markdown",
   "metadata": {
    "slideshow": {
     "slide_type": "notes"
    }
   },
   "source": [
    "In order to run mode 2, we will restart the previous calculation, thereby creating a new job with its own folder structure. This way, we can try different combinations of parameters without overwriting any of the previous results. \n",
    "\n",
    "Moreover, we will change some of the default parameters of the job. We reduce the number of epochs to 15 to keep the runtime short for this tutorial. Apart from that, we turn on force fitting (`use_short_forces=True`). This is turned off by default as force fitting is much more computationally demanding than pure energy fitting.\n",
    "\n",
    "The next cell will run a few minutes."
   ]
  },
  {
   "cell_type": "code",
   "execution_count": null,
   "metadata": {
    "scrolled": true,
    "slideshow": {
     "slide_type": "subslide"
    }
   },
   "outputs": [],
   "source": [
    "# Run Mode 2.\n",
    "mode2 = mode1.restart('fit_mode2')\n",
    "mode2.parameters.runner_mode = 2\n",
    "mode2.parameters.epochs = 15\n",
    "mode2.parameters.use_short_forces = True\n",
    "mode2.run(delete_existing_job=True)"
   ]
  },
  {
   "cell_type": "markdown",
   "metadata": {
    "slideshow": {
     "slide_type": "notes"
    }
   },
   "source": [
    "After the job has finished, we can first take a look at the behaviour of the error function, i.e. the RMSE. The `output` of mode 2 consists of three properties: the results of the fitting process (`fitresults`), the optimized weights and the symmetry function scaling data for shifting to zero mean and unit variance (`scaling`)."
   ]
  },
  {
   "cell_type": "code",
   "execution_count": null,
   "metadata": {
    "scrolled": true,
    "slideshow": {
     "slide_type": "subslide"
    }
   },
   "outputs": [],
   "source": [
    "mode2.output['fitresults'].table()"
   ]
  },
  {
   "cell_type": "markdown",
   "metadata": {
    "slideshow": {
     "slide_type": "notes"
    }
   },
   "source": [
    "The `table` function already shows you that both the energy and force RMSE are declining. The best epoch is determined by the energy RMSE on the **test** set that is lowest.\n",
    "\n",
    "A more accessible analysis can be obtained by looking at the plots of this data."
   ]
  },
  {
   "cell_type": "code",
   "execution_count": null,
   "metadata": {
    "slideshow": {
     "slide_type": "subslide"
    }
   },
   "outputs": [],
   "source": [
    "fig, ax = plt.subplots(1, 1, figsize=(8, 4))\n",
    "mode2.output['fitresults'].plot.rmse_e()\n",
    "plt.show()"
   ]
  },
  {
   "cell_type": "code",
   "execution_count": null,
   "metadata": {
    "slideshow": {
     "slide_type": "subslide"
    }
   },
   "outputs": [],
   "source": [
    "fig, ax = plt.subplots(1, 1, figsize=(8, 4))\n",
    "mode2.output['fitresults'].plot.rmse_f()\n",
    "plt.show()"
   ]
  },
  {
   "cell_type": "markdown",
   "metadata": {
    "slideshow": {
     "slide_type": "notes"
    }
   },
   "source": [
    "The RMSE of the test set is consistently lower than that of the training set. This is because we are using a very small test set including only 17 structures. In contrast to that, you could identify overfitting, if the train RMSE were much lower than the test RMSE.\n",
    "\n",
    "Nevertheless, the RMSE is a rather strong reduction of the really complex potential energy surface (PES) and can only be understood as a rule of thumb for the quality of the NNP fit."
   ]
  },
  {
   "cell_type": "markdown",
   "metadata": {
    "slideshow": {
     "slide_type": "slide"
    }
   },
   "source": [
    "## Potential Evaluation - RuNNer Mode 3"
   ]
  },
  {
   "cell_type": "markdown",
   "metadata": {
    "slideshow": {
     "slide_type": "notes"
    }
   },
   "source": [
    "**RuNNer** ``mode 3`` is the prediction mode and brings the NNP to application. "
   ]
  },
  {
   "cell_type": "markdown",
   "metadata": {
    "slideshow": {
     "slide_type": "notes"
    }
   },
   "source": [
    "| Keyword | Default | Description |\n",
    "|---------|---------|:-------------|\n",
    "|runner_mode | 1| Must be set to 3.\n",
    "|calculate_forces | True| Calculate the atomic forces in runner_mode 3 and write them to the files runner.out and nnforces.out."
   ]
  },
  {
   "cell_type": "markdown",
   "metadata": {
    "slideshow": {
     "slide_type": "notes"
    }
   },
   "source": [
    "We start the calculation following the same pattern as for mode 2."
   ]
  },
  {
   "cell_type": "code",
   "execution_count": null,
   "metadata": {
    "slideshow": {
     "slide_type": "subslide"
    }
   },
   "outputs": [],
   "source": [
    "# Run Mode 3.\n",
    "mode3 = mode2.restart('fit_mode3')\n",
    "mode3.parameters.runner_mode = 3\n",
    "mode3.parameters.calculate_forces = True\n",
    "mode3.run(delete_existing_job=True)"
   ]
  },
  {
   "cell_type": "markdown",
   "metadata": {
    "slideshow": {
     "slide_type": "notes"
    }
   },
   "source": [
    "As we turned on `calculate_forces`, mode 3 will give us the energy and force for each structure in the training and testing datasets. Take a look at the `output` to see that we now have access to all possible output properties."
   ]
  },
  {
   "cell_type": "code",
   "execution_count": 41,
   "metadata": {
    "slideshow": {
     "slide_type": "fragment"
    }
   },
   "outputs": [
    {
     "ename": "NameError",
     "evalue": "name 'mode3' is not defined",
     "output_type": "error",
     "traceback": [
      "\u001b[0;31m---------------------------------------------------------------------------\u001b[0m",
      "\u001b[0;31mNameError\u001b[0m                                 Traceback (most recent call last)",
      "Input \u001b[0;32mIn [41]\u001b[0m, in \u001b[0;36m<module>\u001b[0;34m\u001b[0m\n\u001b[0;32m----> 1\u001b[0m \u001b[43mmode3\u001b[49m\u001b[38;5;241m.\u001b[39moutput\u001b[38;5;241m.\u001b[39mlist_nodes()\n",
      "\u001b[0;31mNameError\u001b[0m: name 'mode3' is not defined"
     ]
    }
   ],
   "source": [
    "mode3.output.list_nodes()"
   ]
  },
  {
   "cell_type": "markdown",
   "metadata": {
    "slideshow": {
     "slide_type": "notes"
    }
   },
   "source": [
    "For a more detailed analyze, we can have a look at the atomic energy and force prediction of the NNP compared to the reference values. For a perfect fit, all points will be on the diagonal of the plot. In this plot, we can identify, for example, whether some energies ranges are not well described in our data set. This could be related to our first data set analysis above."
   ]
  },
  {
   "cell_type": "code",
   "execution_count": null,
   "metadata": {
    "scrolled": true,
    "slideshow": {
     "slide_type": "subslide"
    }
   },
   "outputs": [],
   "source": [
    "fig, ax = plt.subplots(1, 1, figsize=(8, 4))\n",
    "mode3.plot.energy_scatter_histogram()\n",
    "plt.show()"
   ]
  },
  {
   "cell_type": "code",
   "execution_count": null,
   "metadata": {
    "scrolled": true,
    "slideshow": {
     "slide_type": "subslide"
    }
   },
   "outputs": [],
   "source": [
    "fig, ax = plt.subplots(1, 1, figsize=(8, 4))\n",
    "mode3.plot.force_scatter_histogram(axis=0)\n",
    "plt.show()"
   ]
  },
  {
   "cell_type": "markdown",
   "metadata": {
    "slideshow": {
     "slide_type": "slide"
    }
   },
   "source": [
    "## Using the potential"
   ]
  },
  {
   "cell_type": "markdown",
   "metadata": {
    "slideshow": {
     "slide_type": "notes"
    }
   },
   "source": [
    "After successfully running modes 1 through 3, the potential is ready for application. Via [n2p2](https://compphysvienna.github.io/n2p2/index.html), the NNP can be used in combination with LAMMPS to drive large-scale atomistic simulations.\n",
    "\n",
    "As was done for previous potentials, we create a pandas dataframe holding all the relevant pieces of information about the potential using `get_lammps_potential`. **API break:** In our case, we need to specifically define the `elements` present in the simulations. Otherwise, the mapping between species in n2p2 and LAMMPS might be off."
   ]
  },
  {
   "cell_type": "code",
   "execution_count": null,
   "metadata": {
    "scrolled": true,
    "slideshow": {
     "slide_type": "fragment"
    }
   },
   "outputs": [],
   "source": [
    "pot = mode3.get_lammps_potential(elements=['Li'])\n",
    "\n",
    "display(pot)"
   ]
  },
  {
   "cell_type": "markdown",
   "metadata": {
    "slideshow": {
     "slide_type": "notes"
    }
   },
   "source": [
    "As a first application, we are going to calculate the energy-volume curve of bulk lithium. This requires the minimization of structures with different cell geometries, a suitable first test for the stability of a new HDNNP.\n",
    "\n",
    "We create a new subproject for these calculations:"
   ]
  },
  {
   "cell_type": "code",
   "execution_count": null,
   "metadata": {
    "slideshow": {
     "slide_type": "skip"
    }
   },
   "outputs": [],
   "source": [
    "if 'E_V_curve' in pr.list_groups():\n",
    "    pr['E_V_curve'].remove_jobs(silently=True)\n",
    "pr_ev = pr.create_group('E_V_curve')"
   ]
  },
  {
   "cell_type": "markdown",
   "metadata": {
    "slideshow": {
     "slide_type": "notes"
    }
   },
   "source": [
    "Next, we create Li bulk structures, varying the cell parameter `a` between 3.0 and 4.0 Angstrom. For each structure, we create a LAMMPS job that minimizes the energy of the system."
   ]
  },
  {
   "cell_type": "code",
   "execution_count": null,
   "metadata": {
    "slideshow": {
     "slide_type": "skip"
    }
   },
   "outputs": [],
   "source": [
    "a_list = np.linspace(3.0, 4.0, 7)\n",
    "for a in a_list:\n",
    "    job_name = f'job_a_{a:.4}'.replace('.', '_')\n",
    "    job = pr_ev.create.job.Lammps(job_name, delete_existing_job=True)\n",
    "    job.structure = pr_ev.create_ase_bulk('Li', a=a)\n",
    "    job.potential = pot\n",
    "    job.calc_minimize()\n",
    "    job.run(delete_existing_job=True)"
   ]
  },
  {
   "cell_type": "markdown",
   "metadata": {
    "slideshow": {
     "slide_type": "notes"
    }
   },
   "source": [
    "Finally, we create a plot from the collected data."
   ]
  },
  {
   "cell_type": "code",
   "execution_count": null,
   "metadata": {
    "slideshow": {
     "slide_type": "skip"
    }
   },
   "outputs": [],
   "source": [
    "volume_list = []\n",
    "energy_list = []\n",
    "for job in pr_ev.iter_jobs(status='finished'):\n",
    "    min_volume = job['output/generic/volume'][-1]\n",
    "    min_energy = job['output/generic/energy_tot'][-1]\n",
    "    \n",
    "    volume_list.append(min_volume)\n",
    "    energy_list.append(min_energy)\n",
    "\n",
    "volume_list = np.array(volume_list)\n",
    "energy_list = np.array(energy_list)\n",
    "\n",
    "fig, ax = plt.subplots(1, 1)\n",
    "args = np.argsort(volume_list)\n",
    "ax.plot(volume_list[args], energy_list[args], '-x')\n",
    "plt.xlabel('Volume [$\\mathrm{\\AA^3}$]')\n",
    "plt.ylabel('Energy [eV]')\n",
    "plt.show()"
   ]
  },
  {
   "cell_type": "markdown",
   "metadata": {
    "slideshow": {
     "slide_type": "notes"
    }
   },
   "source": [
    "### Playing with the Neural Network Potential"
   ]
  },
  {
   "cell_type": "markdown",
   "metadata": {
    "slideshow": {
     "slide_type": "notes"
    }
   },
   "source": [
    "Great that you have already come this far in the notebook! If you still have some time left, we invite you to play with a few key parameters of RuNNer to experience firsthand how they can influence the fit.\n",
    "\n",
    "**Important:** Feel free to change whatever parameters you find interesting. However, keep in mind that using a very large neural network architecture or a significantly bigger portion of the full dataset will result in very long training times much exceeding the timeframe of this tutorial.\n",
    "\n",
    "Here are a few suggestions:"
   ]
  },
  {
   "cell_type": "markdown",
   "metadata": {
    "slideshow": {
     "slide_type": "notes"
    }
   },
   "source": [
    "1. Choose a different training dataset.\n",
    "2. Change `precondition_weights` to `False`.\n",
    "3. Experience overfitting by choosing a larger neural network architecture. We recommend 3 hidden layers with 25 nodes each.\n",
    "4. Experience a really quick fit by setting `use_short_forces` to `False`.\n",
    "5. Observe that the training outcome can vary depending on different choices of the variable `random_seed`."
   ]
  },
  {
   "cell_type": "markdown",
   "metadata": {},
   "source": [
    "### Resources\n",
    "\n",
    "Here is a collection of all the resources mentioned in the text. These are a very good starting points towards using RuNNer in your own research!\n",
    "\n",
    "* Technical Documentation:\n",
    "    * [The RuNNer documentation](https://theochemgoettingen.gitlab.io/RuNNer).\n",
    "    * [The runnerase documentation](https://runner-suite.gitlab.io/runnerase/).\n",
    "    * [The n2p2 documentation](https://compphysvienna.github.io/n2p2/index.html).\n",
    "* Second Generation HDNNP:\n",
    "    * [J. Behler, M. Parrinello, Phys. Rev. Lett. 2007, 98, 146401](https://www.doi.org/10.1103/PhysRevLett.98.146401).\n",
    "    * [J. Behler, International Journal of Quantum Chemistry 2015, 115, 1032–1050](https://www.doi.org/10.1002/qua.24890).\n",
    "    * [J. Behler, Angewandte Chemie International Edition 2017, 56, 12828–12840](https://www.doi.org/10.1002/anie.201703114).\n",
    "* Third Generation HDNNP:\n",
    "    * [N. Artrith, T. Morawietz, J. Behler, Phys. Rev. B 2011, 83, 153101](https://www.doi.org/10.1103/PhysRevB.83.153101).\n",
    "    * [T. Morawietz, V. Sharma, J. Behler, J. Chem. Phys. 2012, 136, 064103](https://www.doi.org/10.1063/1.3682557).\n",
    "* Fourth Generation HDNNP:\n",
    "    * [T. W. Ko, J. A. Finkler, S. Goedecker, J. Behler, Nature Communications 2021, 12, 398](https://www.doi.org/10.1038/s41467-020-20427-2).\n",
    "    * [T. W. Ko, J. A. Finkler, S. Goedecker, J. Behler, Acc. Chem. Res. 2021, 54, 808–817](https://www.doi.org/10.1021/acs.accounts.0c00689).\n",
    "* Atom-centered Symmetry Functions:\n",
    "    * [J. Behler, The Journal of Chemical Physics 2011, 134, 074106.](https://www.doi.org/10.1063/1.3553717).\n",
    "* Further Reading / Tutorial Reviews:\n",
    "    * [J. Behler, Journal of Physics: Condensed Matter 2014, 26, 183001](https://www.doi.org/10.1088/0953-8984/26/18/183001).\n",
    "    * [J. Behler, Phys. Chem. Chem. Phys. 2011, 13, 17930–17955](https://www.doi.org/10.1039/C1CP21668F).\n",
    "    * [J. Behler, International Journal of Quantum Chemistry 2015, 115, 1032–1050](https://www.doi.org/10.1002/qua.24890)."
   ]
  }
 ],
 "metadata": {
  "celltoolbar": "Slideshow",
  "kernelspec": {
   "display_name": "Python 3 (ipykernel)",
   "language": "python",
   "name": "python3"
  },
  "language_info": {
   "codemirror_mode": {
    "name": "ipython",
    "version": 3
   },
   "file_extension": ".py",
   "mimetype": "text/x-python",
   "name": "python",
   "nbconvert_exporter": "python",
   "pygments_lexer": "ipython3",
   "version": "3.8.13"
  }
 },
 "nbformat": 4,
 "nbformat_minor": 4
}
