{
 "cells": [
  {
   "cell_type": "code",
   "execution_count": 1,
   "id": "5f91f58f-ef53-484d-9951-045829872567",
   "metadata": {},
   "outputs": [],
   "source": [
    "from pyiron import Project\n",
    "import numpy as np\n",
    "import pandas as pd\n",
    "import matplotlib.pyplot as plt"
   ]
  },
  {
   "cell_type": "code",
   "execution_count": 2,
   "id": "0dde0404-8501-4649-ae81-3f008d4a76e3",
   "metadata": {},
   "outputs": [],
   "source": [
    "pr = Project(\".\")"
   ]
  },
  {
   "cell_type": "markdown",
   "id": "97f1ec7a-4eb6-404d-afdb-0d2739255ead",
   "metadata": {},
   "source": [
    "### Training data"
   ]
  },
  {
   "cell_type": "code",
   "execution_count": 3,
   "id": "af1bbd9f-c61b-4bc8-b122-5848537620fd",
   "metadata": {},
   "outputs": [
    {
     "data": {
      "text/html": [
       "<div>\n",
       "<style scoped>\n",
       "    .dataframe tbody tr th:only-of-type {\n",
       "        vertical-align: middle;\n",
       "    }\n",
       "\n",
       "    .dataframe tbody tr th {\n",
       "        vertical-align: top;\n",
       "    }\n",
       "\n",
       "    .dataframe thead th {\n",
       "        text-align: right;\n",
       "    }\n",
       "</style>\n",
       "<table border=\"1\" class=\"dataframe\">\n",
       "  <thead>\n",
       "    <tr style=\"text-align: right;\">\n",
       "      <th></th>\n",
       "      <th>id</th>\n",
       "      <th>status</th>\n",
       "      <th>chemicalformula</th>\n",
       "      <th>job</th>\n",
       "      <th>subjob</th>\n",
       "      <th>projectpath</th>\n",
       "      <th>project</th>\n",
       "      <th>timestart</th>\n",
       "      <th>timestop</th>\n",
       "      <th>totalcputime</th>\n",
       "      <th>computer</th>\n",
       "      <th>hamilton</th>\n",
       "      <th>hamversion</th>\n",
       "      <th>parentid</th>\n",
       "      <th>masterid</th>\n",
       "    </tr>\n",
       "  </thead>\n",
       "  <tbody>\n",
       "    <tr>\n",
       "      <th>0</th>\n",
       "      <td>8378</td>\n",
       "      <td>finished</td>\n",
       "      <td>Al4</td>\n",
       "      <td>Al</td>\n",
       "      <td>/Al</td>\n",
       "      <td>/home/niklas/git_projects/workshop_preparation/</td>\n",
       "      <td>potentials/01-EAM/</td>\n",
       "      <td>2022-06-03 08:05:58.456855</td>\n",
       "      <td>2022-06-03 08:05:58.777656</td>\n",
       "      <td>0.0</td>\n",
       "      <td>pyiron@niklas#1</td>\n",
       "      <td>Lammps</td>\n",
       "      <td>0.1</td>\n",
       "      <td>None</td>\n",
       "      <td>NaN</td>\n",
       "    </tr>\n",
       "    <tr>\n",
       "      <th>1</th>\n",
       "      <td>8379</td>\n",
       "      <td>finished</td>\n",
       "      <td>Al4</td>\n",
       "      <td>AlMurn</td>\n",
       "      <td>/AlMurn</td>\n",
       "      <td>/home/niklas/git_projects/workshop_preparation/</td>\n",
       "      <td>potentials/01-EAM/</td>\n",
       "      <td>2022-06-03 08:05:59.009067</td>\n",
       "      <td>2022-06-03 08:06:05.000685</td>\n",
       "      <td>5.0</td>\n",
       "      <td>pyiron@niklas#1#11/11</td>\n",
       "      <td>Murnaghan</td>\n",
       "      <td>0.3.0</td>\n",
       "      <td>None</td>\n",
       "      <td>NaN</td>\n",
       "    </tr>\n",
       "    <tr>\n",
       "      <th>2</th>\n",
       "      <td>8380</td>\n",
       "      <td>finished</td>\n",
       "      <td>Al4</td>\n",
       "      <td>AlMurn_0_9</td>\n",
       "      <td>/AlMurn_0_9</td>\n",
       "      <td>/home/niklas/git_projects/workshop_preparation/</td>\n",
       "      <td>potentials/01-EAM/AlMurn_hdf5/</td>\n",
       "      <td>2022-06-03 08:05:59.253803</td>\n",
       "      <td>2022-06-03 08:05:59.484215</td>\n",
       "      <td>0.0</td>\n",
       "      <td>pyiron@niklas#1</td>\n",
       "      <td>Lammps</td>\n",
       "      <td>0.1</td>\n",
       "      <td>None</td>\n",
       "      <td>8379.0</td>\n",
       "    </tr>\n",
       "    <tr>\n",
       "      <th>3</th>\n",
       "      <td>8381</td>\n",
       "      <td>finished</td>\n",
       "      <td>Al4</td>\n",
       "      <td>AlMurn_0_92</td>\n",
       "      <td>/AlMurn_0_92</td>\n",
       "      <td>/home/niklas/git_projects/workshop_preparation/</td>\n",
       "      <td>potentials/01-EAM/AlMurn_hdf5/</td>\n",
       "      <td>2022-06-03 08:05:59.755490</td>\n",
       "      <td>2022-06-03 08:06:00.034975</td>\n",
       "      <td>0.0</td>\n",
       "      <td>pyiron@niklas#1</td>\n",
       "      <td>Lammps</td>\n",
       "      <td>0.1</td>\n",
       "      <td>None</td>\n",
       "      <td>8379.0</td>\n",
       "    </tr>\n",
       "    <tr>\n",
       "      <th>4</th>\n",
       "      <td>8382</td>\n",
       "      <td>finished</td>\n",
       "      <td>Al4</td>\n",
       "      <td>AlMurn_0_94</td>\n",
       "      <td>/AlMurn_0_94</td>\n",
       "      <td>/home/niklas/git_projects/workshop_preparation/</td>\n",
       "      <td>potentials/01-EAM/AlMurn_hdf5/</td>\n",
       "      <td>2022-06-03 08:06:00.316664</td>\n",
       "      <td>2022-06-03 08:06:00.569561</td>\n",
       "      <td>0.0</td>\n",
       "      <td>pyiron@niklas#1</td>\n",
       "      <td>Lammps</td>\n",
       "      <td>0.1</td>\n",
       "      <td>None</td>\n",
       "      <td>8379.0</td>\n",
       "    </tr>\n",
       "    <tr>\n",
       "      <th>5</th>\n",
       "      <td>8383</td>\n",
       "      <td>finished</td>\n",
       "      <td>Al4</td>\n",
       "      <td>AlMurn_0_96</td>\n",
       "      <td>/AlMurn_0_96</td>\n",
       "      <td>/home/niklas/git_projects/workshop_preparation/</td>\n",
       "      <td>potentials/01-EAM/AlMurn_hdf5/</td>\n",
       "      <td>2022-06-03 08:06:00.849265</td>\n",
       "      <td>2022-06-03 08:06:01.135409</td>\n",
       "      <td>0.0</td>\n",
       "      <td>pyiron@niklas#1</td>\n",
       "      <td>Lammps</td>\n",
       "      <td>0.1</td>\n",
       "      <td>None</td>\n",
       "      <td>8379.0</td>\n",
       "    </tr>\n",
       "    <tr>\n",
       "      <th>6</th>\n",
       "      <td>8384</td>\n",
       "      <td>finished</td>\n",
       "      <td>Al4</td>\n",
       "      <td>AlMurn_0_98</td>\n",
       "      <td>/AlMurn_0_98</td>\n",
       "      <td>/home/niklas/git_projects/workshop_preparation/</td>\n",
       "      <td>potentials/01-EAM/AlMurn_hdf5/</td>\n",
       "      <td>2022-06-03 08:06:01.414279</td>\n",
       "      <td>2022-06-03 08:06:01.691734</td>\n",
       "      <td>0.0</td>\n",
       "      <td>pyiron@niklas#1</td>\n",
       "      <td>Lammps</td>\n",
       "      <td>0.1</td>\n",
       "      <td>None</td>\n",
       "      <td>8379.0</td>\n",
       "    </tr>\n",
       "    <tr>\n",
       "      <th>7</th>\n",
       "      <td>8385</td>\n",
       "      <td>finished</td>\n",
       "      <td>Al4</td>\n",
       "      <td>AlMurn_1_0</td>\n",
       "      <td>/AlMurn_1_0</td>\n",
       "      <td>/home/niklas/git_projects/workshop_preparation/</td>\n",
       "      <td>potentials/01-EAM/AlMurn_hdf5/</td>\n",
       "      <td>2022-06-03 08:06:01.968950</td>\n",
       "      <td>2022-06-03 08:06:02.203044</td>\n",
       "      <td>0.0</td>\n",
       "      <td>pyiron@niklas#1</td>\n",
       "      <td>Lammps</td>\n",
       "      <td>0.1</td>\n",
       "      <td>None</td>\n",
       "      <td>8379.0</td>\n",
       "    </tr>\n",
       "    <tr>\n",
       "      <th>8</th>\n",
       "      <td>8386</td>\n",
       "      <td>finished</td>\n",
       "      <td>Al4</td>\n",
       "      <td>AlMurn_1_02</td>\n",
       "      <td>/AlMurn_1_02</td>\n",
       "      <td>/home/niklas/git_projects/workshop_preparation/</td>\n",
       "      <td>potentials/01-EAM/AlMurn_hdf5/</td>\n",
       "      <td>2022-06-03 08:06:02.478959</td>\n",
       "      <td>2022-06-03 08:06:02.708703</td>\n",
       "      <td>0.0</td>\n",
       "      <td>pyiron@niklas#1</td>\n",
       "      <td>Lammps</td>\n",
       "      <td>0.1</td>\n",
       "      <td>None</td>\n",
       "      <td>8379.0</td>\n",
       "    </tr>\n",
       "    <tr>\n",
       "      <th>9</th>\n",
       "      <td>8387</td>\n",
       "      <td>finished</td>\n",
       "      <td>Al4</td>\n",
       "      <td>AlMurn_1_04</td>\n",
       "      <td>/AlMurn_1_04</td>\n",
       "      <td>/home/niklas/git_projects/workshop_preparation/</td>\n",
       "      <td>potentials/01-EAM/AlMurn_hdf5/</td>\n",
       "      <td>2022-06-03 08:06:02.984933</td>\n",
       "      <td>2022-06-03 08:06:03.225259</td>\n",
       "      <td>0.0</td>\n",
       "      <td>pyiron@niklas#1</td>\n",
       "      <td>Lammps</td>\n",
       "      <td>0.1</td>\n",
       "      <td>None</td>\n",
       "      <td>8379.0</td>\n",
       "    </tr>\n",
       "    <tr>\n",
       "      <th>10</th>\n",
       "      <td>8388</td>\n",
       "      <td>finished</td>\n",
       "      <td>Al4</td>\n",
       "      <td>AlMurn_1_06</td>\n",
       "      <td>/AlMurn_1_06</td>\n",
       "      <td>/home/niklas/git_projects/workshop_preparation/</td>\n",
       "      <td>potentials/01-EAM/AlMurn_hdf5/</td>\n",
       "      <td>2022-06-03 08:06:03.494921</td>\n",
       "      <td>2022-06-03 08:06:03.753859</td>\n",
       "      <td>0.0</td>\n",
       "      <td>pyiron@niklas#1</td>\n",
       "      <td>Lammps</td>\n",
       "      <td>0.1</td>\n",
       "      <td>None</td>\n",
       "      <td>8379.0</td>\n",
       "    </tr>\n",
       "    <tr>\n",
       "      <th>11</th>\n",
       "      <td>8389</td>\n",
       "      <td>finished</td>\n",
       "      <td>Al4</td>\n",
       "      <td>AlMurn_1_08</td>\n",
       "      <td>/AlMurn_1_08</td>\n",
       "      <td>/home/niklas/git_projects/workshop_preparation/</td>\n",
       "      <td>potentials/01-EAM/AlMurn_hdf5/</td>\n",
       "      <td>2022-06-03 08:06:04.027781</td>\n",
       "      <td>2022-06-03 08:06:04.268630</td>\n",
       "      <td>0.0</td>\n",
       "      <td>pyiron@niklas#1</td>\n",
       "      <td>Lammps</td>\n",
       "      <td>0.1</td>\n",
       "      <td>None</td>\n",
       "      <td>8379.0</td>\n",
       "    </tr>\n",
       "    <tr>\n",
       "      <th>12</th>\n",
       "      <td>8390</td>\n",
       "      <td>finished</td>\n",
       "      <td>Al4</td>\n",
       "      <td>AlMurn_1_1</td>\n",
       "      <td>/AlMurn_1_1</td>\n",
       "      <td>/home/niklas/git_projects/workshop_preparation/</td>\n",
       "      <td>potentials/01-EAM/AlMurn_hdf5/</td>\n",
       "      <td>2022-06-03 08:06:04.542172</td>\n",
       "      <td>2022-06-03 08:06:04.828637</td>\n",
       "      <td>0.0</td>\n",
       "      <td>pyiron@niklas#1</td>\n",
       "      <td>Lammps</td>\n",
       "      <td>0.1</td>\n",
       "      <td>None</td>\n",
       "      <td>8379.0</td>\n",
       "    </tr>\n",
       "    <tr>\n",
       "      <th>13</th>\n",
       "      <td>8394</td>\n",
       "      <td>finished</td>\n",
       "      <td>None</td>\n",
       "      <td>AlEnergyBasedWeight</td>\n",
       "      <td>/AlEnergyBasedWeight</td>\n",
       "      <td>/home/niklas/git_projects/workshop_preparation/</td>\n",
       "      <td>potentials/01-EAM/</td>\n",
       "      <td>2022-06-03 08:49:58.419860</td>\n",
       "      <td>2022-06-03 08:51:38.771963</td>\n",
       "      <td>100.0</td>\n",
       "      <td>pyiron@niklas#1</td>\n",
       "      <td>Atomicrex</td>\n",
       "      <td>0.4</td>\n",
       "      <td>None</td>\n",
       "      <td>NaN</td>\n",
       "    </tr>\n",
       "    <tr>\n",
       "      <th>14</th>\n",
       "      <td>8395</td>\n",
       "      <td>finished</td>\n",
       "      <td>None</td>\n",
       "      <td>FitAl</td>\n",
       "      <td>/FitAl</td>\n",
       "      <td>/home/niklas/git_projects/workshop_preparation/</td>\n",
       "      <td>potentials/01-EAM/</td>\n",
       "      <td>2022-06-03 09:31:10.010365</td>\n",
       "      <td>2022-06-03 09:34:38.961298</td>\n",
       "      <td>208.0</td>\n",
       "      <td>pyiron@niklas#1</td>\n",
       "      <td>Atomicrex</td>\n",
       "      <td>0.4</td>\n",
       "      <td>None</td>\n",
       "      <td>NaN</td>\n",
       "    </tr>\n",
       "  </tbody>\n",
       "</table>\n",
       "</div>"
      ],
      "text/plain": [
       "      id    status chemicalformula                  job                subjob  \\\n",
       "0   8378  finished             Al4                   Al                   /Al   \n",
       "1   8379  finished             Al4               AlMurn               /AlMurn   \n",
       "2   8380  finished             Al4           AlMurn_0_9           /AlMurn_0_9   \n",
       "3   8381  finished             Al4          AlMurn_0_92          /AlMurn_0_92   \n",
       "4   8382  finished             Al4          AlMurn_0_94          /AlMurn_0_94   \n",
       "5   8383  finished             Al4          AlMurn_0_96          /AlMurn_0_96   \n",
       "6   8384  finished             Al4          AlMurn_0_98          /AlMurn_0_98   \n",
       "7   8385  finished             Al4           AlMurn_1_0           /AlMurn_1_0   \n",
       "8   8386  finished             Al4          AlMurn_1_02          /AlMurn_1_02   \n",
       "9   8387  finished             Al4          AlMurn_1_04          /AlMurn_1_04   \n",
       "10  8388  finished             Al4          AlMurn_1_06          /AlMurn_1_06   \n",
       "11  8389  finished             Al4          AlMurn_1_08          /AlMurn_1_08   \n",
       "12  8390  finished             Al4           AlMurn_1_1           /AlMurn_1_1   \n",
       "13  8394  finished            None  AlEnergyBasedWeight  /AlEnergyBasedWeight   \n",
       "14  8395  finished            None                FitAl                /FitAl   \n",
       "\n",
       "                                        projectpath  \\\n",
       "0   /home/niklas/git_projects/workshop_preparation/   \n",
       "1   /home/niklas/git_projects/workshop_preparation/   \n",
       "2   /home/niklas/git_projects/workshop_preparation/   \n",
       "3   /home/niklas/git_projects/workshop_preparation/   \n",
       "4   /home/niklas/git_projects/workshop_preparation/   \n",
       "5   /home/niklas/git_projects/workshop_preparation/   \n",
       "6   /home/niklas/git_projects/workshop_preparation/   \n",
       "7   /home/niklas/git_projects/workshop_preparation/   \n",
       "8   /home/niklas/git_projects/workshop_preparation/   \n",
       "9   /home/niklas/git_projects/workshop_preparation/   \n",
       "10  /home/niklas/git_projects/workshop_preparation/   \n",
       "11  /home/niklas/git_projects/workshop_preparation/   \n",
       "12  /home/niklas/git_projects/workshop_preparation/   \n",
       "13  /home/niklas/git_projects/workshop_preparation/   \n",
       "14  /home/niklas/git_projects/workshop_preparation/   \n",
       "\n",
       "                           project                  timestart  \\\n",
       "0               potentials/01-EAM/ 2022-06-03 08:05:58.456855   \n",
       "1               potentials/01-EAM/ 2022-06-03 08:05:59.009067   \n",
       "2   potentials/01-EAM/AlMurn_hdf5/ 2022-06-03 08:05:59.253803   \n",
       "3   potentials/01-EAM/AlMurn_hdf5/ 2022-06-03 08:05:59.755490   \n",
       "4   potentials/01-EAM/AlMurn_hdf5/ 2022-06-03 08:06:00.316664   \n",
       "5   potentials/01-EAM/AlMurn_hdf5/ 2022-06-03 08:06:00.849265   \n",
       "6   potentials/01-EAM/AlMurn_hdf5/ 2022-06-03 08:06:01.414279   \n",
       "7   potentials/01-EAM/AlMurn_hdf5/ 2022-06-03 08:06:01.968950   \n",
       "8   potentials/01-EAM/AlMurn_hdf5/ 2022-06-03 08:06:02.478959   \n",
       "9   potentials/01-EAM/AlMurn_hdf5/ 2022-06-03 08:06:02.984933   \n",
       "10  potentials/01-EAM/AlMurn_hdf5/ 2022-06-03 08:06:03.494921   \n",
       "11  potentials/01-EAM/AlMurn_hdf5/ 2022-06-03 08:06:04.027781   \n",
       "12  potentials/01-EAM/AlMurn_hdf5/ 2022-06-03 08:06:04.542172   \n",
       "13              potentials/01-EAM/ 2022-06-03 08:49:58.419860   \n",
       "14              potentials/01-EAM/ 2022-06-03 09:31:10.010365   \n",
       "\n",
       "                     timestop  totalcputime               computer   hamilton  \\\n",
       "0  2022-06-03 08:05:58.777656           0.0        pyiron@niklas#1     Lammps   \n",
       "1  2022-06-03 08:06:05.000685           5.0  pyiron@niklas#1#11/11  Murnaghan   \n",
       "2  2022-06-03 08:05:59.484215           0.0        pyiron@niklas#1     Lammps   \n",
       "3  2022-06-03 08:06:00.034975           0.0        pyiron@niklas#1     Lammps   \n",
       "4  2022-06-03 08:06:00.569561           0.0        pyiron@niklas#1     Lammps   \n",
       "5  2022-06-03 08:06:01.135409           0.0        pyiron@niklas#1     Lammps   \n",
       "6  2022-06-03 08:06:01.691734           0.0        pyiron@niklas#1     Lammps   \n",
       "7  2022-06-03 08:06:02.203044           0.0        pyiron@niklas#1     Lammps   \n",
       "8  2022-06-03 08:06:02.708703           0.0        pyiron@niklas#1     Lammps   \n",
       "9  2022-06-03 08:06:03.225259           0.0        pyiron@niklas#1     Lammps   \n",
       "10 2022-06-03 08:06:03.753859           0.0        pyiron@niklas#1     Lammps   \n",
       "11 2022-06-03 08:06:04.268630           0.0        pyiron@niklas#1     Lammps   \n",
       "12 2022-06-03 08:06:04.828637           0.0        pyiron@niklas#1     Lammps   \n",
       "13 2022-06-03 08:51:38.771963         100.0        pyiron@niklas#1  Atomicrex   \n",
       "14 2022-06-03 09:34:38.961298         208.0        pyiron@niklas#1  Atomicrex   \n",
       "\n",
       "   hamversion parentid  masterid  \n",
       "0         0.1     None       NaN  \n",
       "1       0.3.0     None       NaN  \n",
       "2         0.1     None    8379.0  \n",
       "3         0.1     None    8379.0  \n",
       "4         0.1     None    8379.0  \n",
       "5         0.1     None    8379.0  \n",
       "6         0.1     None    8379.0  \n",
       "7         0.1     None    8379.0  \n",
       "8         0.1     None    8379.0  \n",
       "9         0.1     None    8379.0  \n",
       "10        0.1     None    8379.0  \n",
       "11        0.1     None    8379.0  \n",
       "12        0.1     None    8379.0  \n",
       "13        0.4     None       NaN  \n",
       "14        0.4     None       NaN  "
      ]
     },
     "execution_count": 3,
     "metadata": {},
     "output_type": "execute_result"
    }
   ],
   "source": [
    "pr.job_table()"
   ]
  },
  {
   "cell_type": "code",
   "execution_count": 4,
   "id": "9678bb53-b9e6-4d37-9ada-5331af8ecf69",
   "metadata": {},
   "outputs": [
    {
     "data": {
      "text/html": [
       "<div>\n",
       "<style scoped>\n",
       "    .dataframe tbody tr th:only-of-type {\n",
       "        vertical-align: middle;\n",
       "    }\n",
       "\n",
       "    .dataframe tbody tr th {\n",
       "        vertical-align: top;\n",
       "    }\n",
       "\n",
       "    .dataframe thead th {\n",
       "        text-align: right;\n",
       "    }\n",
       "</style>\n",
       "<table border=\"1\" class=\"dataframe\">\n",
       "  <thead>\n",
       "    <tr style=\"text-align: right;\">\n",
       "      <th></th>\n",
       "      <th>id</th>\n",
       "      <th>status</th>\n",
       "      <th>chemicalformula</th>\n",
       "      <th>job</th>\n",
       "      <th>subjob</th>\n",
       "      <th>projectpath</th>\n",
       "      <th>project</th>\n",
       "      <th>timestart</th>\n",
       "      <th>timestop</th>\n",
       "      <th>totalcputime</th>\n",
       "      <th>computer</th>\n",
       "      <th>hamilton</th>\n",
       "      <th>hamversion</th>\n",
       "      <th>parentid</th>\n",
       "      <th>masterid</th>\n",
       "    </tr>\n",
       "  </thead>\n",
       "  <tbody>\n",
       "    <tr>\n",
       "      <th>0</th>\n",
       "      <td>8378</td>\n",
       "      <td>finished</td>\n",
       "      <td>Al4</td>\n",
       "      <td>Al</td>\n",
       "      <td>/Al</td>\n",
       "      <td>/home/niklas/git_projects/workshop_preparation/</td>\n",
       "      <td>potentials/01-EAM/</td>\n",
       "      <td>2022-06-03 08:05:58.456855</td>\n",
       "      <td>2022-06-03 08:05:58.777656</td>\n",
       "      <td>0.0</td>\n",
       "      <td>pyiron@niklas#1</td>\n",
       "      <td>Lammps</td>\n",
       "      <td>0.1</td>\n",
       "      <td>None</td>\n",
       "      <td>NaN</td>\n",
       "    </tr>\n",
       "    <tr>\n",
       "      <th>1</th>\n",
       "      <td>8379</td>\n",
       "      <td>finished</td>\n",
       "      <td>Al4</td>\n",
       "      <td>AlMurn</td>\n",
       "      <td>/AlMurn</td>\n",
       "      <td>/home/niklas/git_projects/workshop_preparation/</td>\n",
       "      <td>potentials/01-EAM/</td>\n",
       "      <td>2022-06-03 08:05:59.009067</td>\n",
       "      <td>2022-06-03 08:06:05.000685</td>\n",
       "      <td>5.0</td>\n",
       "      <td>pyiron@niklas#1#11/11</td>\n",
       "      <td>Murnaghan</td>\n",
       "      <td>0.3.0</td>\n",
       "      <td>None</td>\n",
       "      <td>NaN</td>\n",
       "    </tr>\n",
       "    <tr>\n",
       "      <th>2</th>\n",
       "      <td>8380</td>\n",
       "      <td>finished</td>\n",
       "      <td>Al4</td>\n",
       "      <td>AlMurn_0_9</td>\n",
       "      <td>/AlMurn_0_9</td>\n",
       "      <td>/home/niklas/git_projects/workshop_preparation/</td>\n",
       "      <td>potentials/01-EAM/AlMurn_hdf5/</td>\n",
       "      <td>2022-06-03 08:05:59.253803</td>\n",
       "      <td>2022-06-03 08:05:59.484215</td>\n",
       "      <td>0.0</td>\n",
       "      <td>pyiron@niklas#1</td>\n",
       "      <td>Lammps</td>\n",
       "      <td>0.1</td>\n",
       "      <td>None</td>\n",
       "      <td>8379.0</td>\n",
       "    </tr>\n",
       "    <tr>\n",
       "      <th>3</th>\n",
       "      <td>8381</td>\n",
       "      <td>finished</td>\n",
       "      <td>Al4</td>\n",
       "      <td>AlMurn_0_92</td>\n",
       "      <td>/AlMurn_0_92</td>\n",
       "      <td>/home/niklas/git_projects/workshop_preparation/</td>\n",
       "      <td>potentials/01-EAM/AlMurn_hdf5/</td>\n",
       "      <td>2022-06-03 08:05:59.755490</td>\n",
       "      <td>2022-06-03 08:06:00.034975</td>\n",
       "      <td>0.0</td>\n",
       "      <td>pyiron@niklas#1</td>\n",
       "      <td>Lammps</td>\n",
       "      <td>0.1</td>\n",
       "      <td>None</td>\n",
       "      <td>8379.0</td>\n",
       "    </tr>\n",
       "    <tr>\n",
       "      <th>4</th>\n",
       "      <td>8382</td>\n",
       "      <td>finished</td>\n",
       "      <td>Al4</td>\n",
       "      <td>AlMurn_0_94</td>\n",
       "      <td>/AlMurn_0_94</td>\n",
       "      <td>/home/niklas/git_projects/workshop_preparation/</td>\n",
       "      <td>potentials/01-EAM/AlMurn_hdf5/</td>\n",
       "      <td>2022-06-03 08:06:00.316664</td>\n",
       "      <td>2022-06-03 08:06:00.569561</td>\n",
       "      <td>0.0</td>\n",
       "      <td>pyiron@niklas#1</td>\n",
       "      <td>Lammps</td>\n",
       "      <td>0.1</td>\n",
       "      <td>None</td>\n",
       "      <td>8379.0</td>\n",
       "    </tr>\n",
       "    <tr>\n",
       "      <th>5</th>\n",
       "      <td>8383</td>\n",
       "      <td>finished</td>\n",
       "      <td>Al4</td>\n",
       "      <td>AlMurn_0_96</td>\n",
       "      <td>/AlMurn_0_96</td>\n",
       "      <td>/home/niklas/git_projects/workshop_preparation/</td>\n",
       "      <td>potentials/01-EAM/AlMurn_hdf5/</td>\n",
       "      <td>2022-06-03 08:06:00.849265</td>\n",
       "      <td>2022-06-03 08:06:01.135409</td>\n",
       "      <td>0.0</td>\n",
       "      <td>pyiron@niklas#1</td>\n",
       "      <td>Lammps</td>\n",
       "      <td>0.1</td>\n",
       "      <td>None</td>\n",
       "      <td>8379.0</td>\n",
       "    </tr>\n",
       "    <tr>\n",
       "      <th>6</th>\n",
       "      <td>8384</td>\n",
       "      <td>finished</td>\n",
       "      <td>Al4</td>\n",
       "      <td>AlMurn_0_98</td>\n",
       "      <td>/AlMurn_0_98</td>\n",
       "      <td>/home/niklas/git_projects/workshop_preparation/</td>\n",
       "      <td>potentials/01-EAM/AlMurn_hdf5/</td>\n",
       "      <td>2022-06-03 08:06:01.414279</td>\n",
       "      <td>2022-06-03 08:06:01.691734</td>\n",
       "      <td>0.0</td>\n",
       "      <td>pyiron@niklas#1</td>\n",
       "      <td>Lammps</td>\n",
       "      <td>0.1</td>\n",
       "      <td>None</td>\n",
       "      <td>8379.0</td>\n",
       "    </tr>\n",
       "    <tr>\n",
       "      <th>7</th>\n",
       "      <td>8385</td>\n",
       "      <td>finished</td>\n",
       "      <td>Al4</td>\n",
       "      <td>AlMurn_1_0</td>\n",
       "      <td>/AlMurn_1_0</td>\n",
       "      <td>/home/niklas/git_projects/workshop_preparation/</td>\n",
       "      <td>potentials/01-EAM/AlMurn_hdf5/</td>\n",
       "      <td>2022-06-03 08:06:01.968950</td>\n",
       "      <td>2022-06-03 08:06:02.203044</td>\n",
       "      <td>0.0</td>\n",
       "      <td>pyiron@niklas#1</td>\n",
       "      <td>Lammps</td>\n",
       "      <td>0.1</td>\n",
       "      <td>None</td>\n",
       "      <td>8379.0</td>\n",
       "    </tr>\n",
       "    <tr>\n",
       "      <th>8</th>\n",
       "      <td>8386</td>\n",
       "      <td>finished</td>\n",
       "      <td>Al4</td>\n",
       "      <td>AlMurn_1_02</td>\n",
       "      <td>/AlMurn_1_02</td>\n",
       "      <td>/home/niklas/git_projects/workshop_preparation/</td>\n",
       "      <td>potentials/01-EAM/AlMurn_hdf5/</td>\n",
       "      <td>2022-06-03 08:06:02.478959</td>\n",
       "      <td>2022-06-03 08:06:02.708703</td>\n",
       "      <td>0.0</td>\n",
       "      <td>pyiron@niklas#1</td>\n",
       "      <td>Lammps</td>\n",
       "      <td>0.1</td>\n",
       "      <td>None</td>\n",
       "      <td>8379.0</td>\n",
       "    </tr>\n",
       "    <tr>\n",
       "      <th>9</th>\n",
       "      <td>8387</td>\n",
       "      <td>finished</td>\n",
       "      <td>Al4</td>\n",
       "      <td>AlMurn_1_04</td>\n",
       "      <td>/AlMurn_1_04</td>\n",
       "      <td>/home/niklas/git_projects/workshop_preparation/</td>\n",
       "      <td>potentials/01-EAM/AlMurn_hdf5/</td>\n",
       "      <td>2022-06-03 08:06:02.984933</td>\n",
       "      <td>2022-06-03 08:06:03.225259</td>\n",
       "      <td>0.0</td>\n",
       "      <td>pyiron@niklas#1</td>\n",
       "      <td>Lammps</td>\n",
       "      <td>0.1</td>\n",
       "      <td>None</td>\n",
       "      <td>8379.0</td>\n",
       "    </tr>\n",
       "    <tr>\n",
       "      <th>10</th>\n",
       "      <td>8388</td>\n",
       "      <td>finished</td>\n",
       "      <td>Al4</td>\n",
       "      <td>AlMurn_1_06</td>\n",
       "      <td>/AlMurn_1_06</td>\n",
       "      <td>/home/niklas/git_projects/workshop_preparation/</td>\n",
       "      <td>potentials/01-EAM/AlMurn_hdf5/</td>\n",
       "      <td>2022-06-03 08:06:03.494921</td>\n",
       "      <td>2022-06-03 08:06:03.753859</td>\n",
       "      <td>0.0</td>\n",
       "      <td>pyiron@niklas#1</td>\n",
       "      <td>Lammps</td>\n",
       "      <td>0.1</td>\n",
       "      <td>None</td>\n",
       "      <td>8379.0</td>\n",
       "    </tr>\n",
       "    <tr>\n",
       "      <th>11</th>\n",
       "      <td>8389</td>\n",
       "      <td>finished</td>\n",
       "      <td>Al4</td>\n",
       "      <td>AlMurn_1_08</td>\n",
       "      <td>/AlMurn_1_08</td>\n",
       "      <td>/home/niklas/git_projects/workshop_preparation/</td>\n",
       "      <td>potentials/01-EAM/AlMurn_hdf5/</td>\n",
       "      <td>2022-06-03 08:06:04.027781</td>\n",
       "      <td>2022-06-03 08:06:04.268630</td>\n",
       "      <td>0.0</td>\n",
       "      <td>pyiron@niklas#1</td>\n",
       "      <td>Lammps</td>\n",
       "      <td>0.1</td>\n",
       "      <td>None</td>\n",
       "      <td>8379.0</td>\n",
       "    </tr>\n",
       "    <tr>\n",
       "      <th>12</th>\n",
       "      <td>8390</td>\n",
       "      <td>finished</td>\n",
       "      <td>Al4</td>\n",
       "      <td>AlMurn_1_1</td>\n",
       "      <td>/AlMurn_1_1</td>\n",
       "      <td>/home/niklas/git_projects/workshop_preparation/</td>\n",
       "      <td>potentials/01-EAM/AlMurn_hdf5/</td>\n",
       "      <td>2022-06-03 08:06:04.542172</td>\n",
       "      <td>2022-06-03 08:06:04.828637</td>\n",
       "      <td>0.0</td>\n",
       "      <td>pyiron@niklas#1</td>\n",
       "      <td>Lammps</td>\n",
       "      <td>0.1</td>\n",
       "      <td>None</td>\n",
       "      <td>8379.0</td>\n",
       "    </tr>\n",
       "    <tr>\n",
       "      <th>13</th>\n",
       "      <td>8394</td>\n",
       "      <td>finished</td>\n",
       "      <td>None</td>\n",
       "      <td>AlEnergyBasedWeight</td>\n",
       "      <td>/AlEnergyBasedWeight</td>\n",
       "      <td>/home/niklas/git_projects/workshop_preparation/</td>\n",
       "      <td>potentials/01-EAM/</td>\n",
       "      <td>2022-06-03 08:49:58.419860</td>\n",
       "      <td>2022-06-03 08:51:38.771963</td>\n",
       "      <td>100.0</td>\n",
       "      <td>pyiron@niklas#1</td>\n",
       "      <td>Atomicrex</td>\n",
       "      <td>0.4</td>\n",
       "      <td>None</td>\n",
       "      <td>NaN</td>\n",
       "    </tr>\n",
       "    <tr>\n",
       "      <th>14</th>\n",
       "      <td>8395</td>\n",
       "      <td>finished</td>\n",
       "      <td>None</td>\n",
       "      <td>FitAl</td>\n",
       "      <td>/FitAl</td>\n",
       "      <td>/home/niklas/git_projects/workshop_preparation/</td>\n",
       "      <td>potentials/01-EAM/</td>\n",
       "      <td>2022-06-03 09:31:10.010365</td>\n",
       "      <td>2022-06-03 09:34:38.961298</td>\n",
       "      <td>208.0</td>\n",
       "      <td>pyiron@niklas#1</td>\n",
       "      <td>Atomicrex</td>\n",
       "      <td>0.4</td>\n",
       "      <td>None</td>\n",
       "      <td>NaN</td>\n",
       "    </tr>\n",
       "  </tbody>\n",
       "</table>\n",
       "</div>"
      ],
      "text/plain": [
       "      id    status chemicalformula                  job                subjob  \\\n",
       "0   8378  finished             Al4                   Al                   /Al   \n",
       "1   8379  finished             Al4               AlMurn               /AlMurn   \n",
       "2   8380  finished             Al4           AlMurn_0_9           /AlMurn_0_9   \n",
       "3   8381  finished             Al4          AlMurn_0_92          /AlMurn_0_92   \n",
       "4   8382  finished             Al4          AlMurn_0_94          /AlMurn_0_94   \n",
       "5   8383  finished             Al4          AlMurn_0_96          /AlMurn_0_96   \n",
       "6   8384  finished             Al4          AlMurn_0_98          /AlMurn_0_98   \n",
       "7   8385  finished             Al4           AlMurn_1_0           /AlMurn_1_0   \n",
       "8   8386  finished             Al4          AlMurn_1_02          /AlMurn_1_02   \n",
       "9   8387  finished             Al4          AlMurn_1_04          /AlMurn_1_04   \n",
       "10  8388  finished             Al4          AlMurn_1_06          /AlMurn_1_06   \n",
       "11  8389  finished             Al4          AlMurn_1_08          /AlMurn_1_08   \n",
       "12  8390  finished             Al4           AlMurn_1_1           /AlMurn_1_1   \n",
       "13  8394  finished            None  AlEnergyBasedWeight  /AlEnergyBasedWeight   \n",
       "14  8395  finished            None                FitAl                /FitAl   \n",
       "\n",
       "                                        projectpath  \\\n",
       "0   /home/niklas/git_projects/workshop_preparation/   \n",
       "1   /home/niklas/git_projects/workshop_preparation/   \n",
       "2   /home/niklas/git_projects/workshop_preparation/   \n",
       "3   /home/niklas/git_projects/workshop_preparation/   \n",
       "4   /home/niklas/git_projects/workshop_preparation/   \n",
       "5   /home/niklas/git_projects/workshop_preparation/   \n",
       "6   /home/niklas/git_projects/workshop_preparation/   \n",
       "7   /home/niklas/git_projects/workshop_preparation/   \n",
       "8   /home/niklas/git_projects/workshop_preparation/   \n",
       "9   /home/niklas/git_projects/workshop_preparation/   \n",
       "10  /home/niklas/git_projects/workshop_preparation/   \n",
       "11  /home/niklas/git_projects/workshop_preparation/   \n",
       "12  /home/niklas/git_projects/workshop_preparation/   \n",
       "13  /home/niklas/git_projects/workshop_preparation/   \n",
       "14  /home/niklas/git_projects/workshop_preparation/   \n",
       "\n",
       "                           project                  timestart  \\\n",
       "0               potentials/01-EAM/ 2022-06-03 08:05:58.456855   \n",
       "1               potentials/01-EAM/ 2022-06-03 08:05:59.009067   \n",
       "2   potentials/01-EAM/AlMurn_hdf5/ 2022-06-03 08:05:59.253803   \n",
       "3   potentials/01-EAM/AlMurn_hdf5/ 2022-06-03 08:05:59.755490   \n",
       "4   potentials/01-EAM/AlMurn_hdf5/ 2022-06-03 08:06:00.316664   \n",
       "5   potentials/01-EAM/AlMurn_hdf5/ 2022-06-03 08:06:00.849265   \n",
       "6   potentials/01-EAM/AlMurn_hdf5/ 2022-06-03 08:06:01.414279   \n",
       "7   potentials/01-EAM/AlMurn_hdf5/ 2022-06-03 08:06:01.968950   \n",
       "8   potentials/01-EAM/AlMurn_hdf5/ 2022-06-03 08:06:02.478959   \n",
       "9   potentials/01-EAM/AlMurn_hdf5/ 2022-06-03 08:06:02.984933   \n",
       "10  potentials/01-EAM/AlMurn_hdf5/ 2022-06-03 08:06:03.494921   \n",
       "11  potentials/01-EAM/AlMurn_hdf5/ 2022-06-03 08:06:04.027781   \n",
       "12  potentials/01-EAM/AlMurn_hdf5/ 2022-06-03 08:06:04.542172   \n",
       "13              potentials/01-EAM/ 2022-06-03 08:49:58.419860   \n",
       "14              potentials/01-EAM/ 2022-06-03 09:31:10.010365   \n",
       "\n",
       "                     timestop  totalcputime               computer   hamilton  \\\n",
       "0  2022-06-03 08:05:58.777656           0.0        pyiron@niklas#1     Lammps   \n",
       "1  2022-06-03 08:06:05.000685           5.0  pyiron@niklas#1#11/11  Murnaghan   \n",
       "2  2022-06-03 08:05:59.484215           0.0        pyiron@niklas#1     Lammps   \n",
       "3  2022-06-03 08:06:00.034975           0.0        pyiron@niklas#1     Lammps   \n",
       "4  2022-06-03 08:06:00.569561           0.0        pyiron@niklas#1     Lammps   \n",
       "5  2022-06-03 08:06:01.135409           0.0        pyiron@niklas#1     Lammps   \n",
       "6  2022-06-03 08:06:01.691734           0.0        pyiron@niklas#1     Lammps   \n",
       "7  2022-06-03 08:06:02.203044           0.0        pyiron@niklas#1     Lammps   \n",
       "8  2022-06-03 08:06:02.708703           0.0        pyiron@niklas#1     Lammps   \n",
       "9  2022-06-03 08:06:03.225259           0.0        pyiron@niklas#1     Lammps   \n",
       "10 2022-06-03 08:06:03.753859           0.0        pyiron@niklas#1     Lammps   \n",
       "11 2022-06-03 08:06:04.268630           0.0        pyiron@niklas#1     Lammps   \n",
       "12 2022-06-03 08:06:04.828637           0.0        pyiron@niklas#1     Lammps   \n",
       "13 2022-06-03 08:51:38.771963         100.0        pyiron@niklas#1  Atomicrex   \n",
       "14 2022-06-03 09:34:38.961298         208.0        pyiron@niklas#1  Atomicrex   \n",
       "\n",
       "   hamversion parentid  masterid  \n",
       "0         0.1     None       NaN  \n",
       "1       0.3.0     None       NaN  \n",
       "2         0.1     None    8379.0  \n",
       "3         0.1     None    8379.0  \n",
       "4         0.1     None    8379.0  \n",
       "5         0.1     None    8379.0  \n",
       "6         0.1     None    8379.0  \n",
       "7         0.1     None    8379.0  \n",
       "8         0.1     None    8379.0  \n",
       "9         0.1     None    8379.0  \n",
       "10        0.1     None    8379.0  \n",
       "11        0.1     None    8379.0  \n",
       "12        0.1     None    8379.0  \n",
       "13        0.4     None       NaN  \n",
       "14        0.4     None       NaN  "
      ]
     },
     "execution_count": 4,
     "metadata": {},
     "output_type": "execute_result"
    }
   ],
   "source": [
    "pr.job_table()"
   ]
  },
  {
   "cell_type": "markdown",
   "id": "512673b5-e606-40d8-8a1d-1a9932591f3b",
   "metadata": {},
   "source": [
    "### Add training data\n",
    "Instead of simply loading the training data weights are assigned to the structures based on their energy this time. Additionally the structure with a very high atomic volume is filtered out.  \n",
    "Structures with low energy get a higher weight than structures with high energy.\n",
    "It can also help to increase the weights of special properties or important structures to put a focus on things that are important for the scope of the potential.\n",
    "For a list of a all properties that can be fitted refer to the atomicrex website https://www.atomicrex.org/properties.html"
   ]
  },
  {
   "cell_type": "code",
   "execution_count": 5,
   "id": "9a11b349-5094-4cbc-a03e-e929753e4a82",
   "metadata": {},
   "outputs": [],
   "source": [
    "def get_e_weight(E_S, Delta=1.0, N=2):\n",
    "    return 1 / (E_S + Delta) ** N"
   ]
  },
  {
   "cell_type": "code",
   "execution_count": 6,
   "id": "ada4baf2-cede-4f31-915d-500b6bcb3518",
   "metadata": {},
   "outputs": [
    {
     "data": {
      "text/plain": [
       "[<matplotlib.lines.Line2D at 0x7fbaa36da190>]"
      ]
     },
     "execution_count": 6,
     "metadata": {},
     "output_type": "execute_result"
    },
    {
     "data": {
      "image/png": "[encoded data removed]",
      "text/plain": [
       "<Figure size 432x288 with 1 Axes>"
      ]
     },
     "metadata": {
      "needs_background": "light"
     },
     "output_type": "display_data"
    }
   ],
   "source": [
    "E_S = np.arange(0, 3, 0.1)\n",
    "plt.plot(E_S, get_e_weight(E_S))"
   ]
  },
  {
   "cell_type": "code",
   "execution_count": 7,
   "id": "5a59295b-112d-4f88-94f0-68ac14f7ac91",
   "metadata": {},
   "outputs": [],
   "source": [
    "tc = pr['../../introduction/training/Al_basic_atomicrex'] ## Load the TrainingContainer\n",
    "job = pr.create.job.Atomicrex(\"AlEnergyBasedWeight\", delete_existing_job=True)"
   ]
  },
  {
   "cell_type": "code",
   "execution_count": 8,
   "id": "7126c3a1-87a7-4978-9241-de69bb609437",
   "metadata": {},
   "outputs": [],
   "source": [
    "i=0\n",
    "for s, energy, forces, symbols in tc.iter(\"energy\", \"forces\", \"symbols\"):\n",
    "    natoms = len(s)\n",
    "    e = energy / natoms\n",
    "    weight = get_e_weight(e+3.5) # add approx. equilibrium energy of Al\n",
    "    job.structures.add_structure(structure=s, identifier=f\"{i}\", relative_weight=weight) # set weight for the structure\n",
    "    job.structures.add_scalar_fit_property(prop=\"atomic-energy\", target_val=e,)\n",
    "    job.structures.add_vector_fit_property(prop=\"atomic-forces\", target_val=forces)\n",
    "    i += 1"
   ]
  },
  {
   "cell_type": "markdown",
   "id": "7f655bcb-9926-4d92-ad86-7b84c312661a",
   "metadata": {},
   "source": [
    "### Set the potential type"
   ]
  },
  {
   "cell_type": "code",
   "execution_count": 9,
   "id": "3940e14a-77a0-4448-97cc-f5b5b8428c0c",
   "metadata": {},
   "outputs": [],
   "source": [
    "job.potential = job.factories.potentials.eam_potential()"
   ]
  },
  {
   "cell_type": "markdown",
   "id": "45ad4c4f-a496-467d-93e1-dda611625af3",
   "metadata": {},
   "source": [
    "### Define functions"
   ]
  },
  {
   "cell_type": "code",
   "execution_count": 10,
   "id": "23f79603-b52b-44a7-a93d-d5dd0dbf97c9",
   "metadata": {},
   "outputs": [],
   "source": [
    "# morse A is the original rather simple morse potential\n",
    "morseA = job.factories.functions.morse_A(\"MorseA\", D0=0.15, r0=3.0, alpha=2.0, species=[\"Al\", \"Al\"])\n",
    "morseA.screening = job.factories.functions.x_pow_n_cutoff(\"morseScreen\", cutoff=7.6, species=[\"Al\", \"Al\"])"
   ]
  },
  {
   "cell_type": "code",
   "execution_count": 11,
   "id": "ad4399f1-26b2-4d99-b7b3-b12821cfb26d",
   "metadata": {},
   "outputs": [
    {
     "data": {
      "text/plain": [
       "(<Figure size 720x504 with 1 Axes>,\n",
       " <AxesSubplot:xlabel='r [$\\\\AA$]', ylabel='func(r)'>)"
      ]
     },
     "execution_count": 11,
     "metadata": {},
     "output_type": "execute_result"
    },
    {
     "data": {
      "image/png": "[encoded data removed]",
      "text/plain": [
       "<Figure size 720x504 with 1 Axes>"
      ]
     },
     "metadata": {
      "needs_background": "light"
     },
     "output_type": "display_data"
    }
   ],
   "source": [
    "morseA.plot()"
   ]
  },
  {
   "cell_type": "markdown",
   "id": "1ea68594-64f3-4728-94d5-dba8677cb9d7",
   "metadata": {},
   "source": [
    "Electron density as used by Mishin in his Cu potential (https://doi.org/10.1103/PhysRevB.63.224106, Gaussian + exp(-$\\beta$r term)"
   ]
  },
  {
   "cell_type": "code",
   "execution_count": 12,
   "id": "2171010d-9c36-42be-b9e5-27b0508aaa15",
   "metadata": {},
   "outputs": [],
   "source": [
    "rho = job.factories.functions.MishinCuRho(identifier=\"Rho\", a=1.0, r1=-1, r2=0.0, beta1=1.0, beta2=3.0, species=[\"Al\", \"Al\"])\n",
    "rho.screening = job.factories.functions.x_pow_n_cutoff(\"RhoScreen\", cutoff=7.6, species=[\"Al\", \"Al\"])"
   ]
  },
  {
   "cell_type": "code",
   "execution_count": 13,
   "id": "dd3dc2e1-94be-4b74-9adc-3666f417bc50",
   "metadata": {},
   "outputs": [],
   "source": [
    "F = job.factories.functions.user_function(identifier=\"F\", input_variable=\"rho\", species=[\"Al\"])\n",
    "# User function for embedding term\n",
    "F = job.factories.functions.user_function(identifier=\"F\", input_variable=\"r\")\n",
    "F.expression = \"-A*sqrt(r)\"\n",
    "F.derivative = \"-A/(2*sqrt(r))\"\n",
    "F.parameters.add_parameter(\"A\", start_val=2.3, min_val=0.0)"
   ]
  },
  {
   "cell_type": "code",
   "execution_count": 14,
   "id": "32e048b2-562d-4b9a-ba2a-2712450a70f0",
   "metadata": {},
   "outputs": [
    {
     "name": "stdout",
     "output_type": "stream",
     "text": [
      "The job AlEnergyBasedWeight was saved and received the ID: 8396\n"
     ]
    }
   ],
   "source": [
    "job.potential.pair_interactions[morseA.identifier] = morseA\n",
    "job.potential.electron_densities[rho.identifier] = rho\n",
    "job.potential.embedding_energies[F.identifier] = F\n",
    "\n",
    "job.input.fit_algorithm = job.factories.algorithms.ar_lbfgs(max_iter=500, gradient_epsilon=1e-9)\n",
    "\n",
    "job.run()"
   ]
  },
  {
   "cell_type": "markdown",
   "id": "abf288b4-a8e8-4695-9e37-c911711e501e",
   "metadata": {},
   "source": [
    "### Examples for alternative minimizers\n",
    "\n",
    "Local:\n",
    "```\n",
    "job.input.fit_algorithm = job.factories.algorithms.ln_neldermead(max_iter=10000)\n",
    "```\n",
    "nelder mead is a bit more robust than the LBFGS implementation in atomicrex\n",
    "It is gradient free, so each iteration is much quicker, but more iterations are needed\n",
    "\n",
    "Global:\n",
    "```\n",
    "job.input.fit_algorithm = job.factories.algorithms.gn_esch(max_iter=10000)\n",
    "```\n",
    "ESCH is an evolutionary algorithm. To use it all parameters need a min and a max value"
   ]
  },
  {
   "cell_type": "code",
   "execution_count": 15,
   "id": "156e4c38-5636-4719-852b-bce9cf45e24d",
   "metadata": {},
   "outputs": [
    {
     "data": {
      "text/plain": [
       "(<Figure size 576x1296 with 3 Axes>,\n",
       " array([[<AxesSubplot:title={'center':'Al F'}, xlabel='$\\\\rho $ [a.u.]'>],\n",
       "        [<AxesSubplot:title={'center':'Al rho_AlAl'}, xlabel='r [$\\\\AA$]'>],\n",
       "        [<AxesSubplot:title={'center':'Al V_AlAl'}, xlabel='r [$\\\\AA$]'>]],\n",
       "       dtype=object))"
      ]
     },
     "execution_count": 15,
     "metadata": {},
     "output_type": "execute_result"
    },
    {
     "data": {
      "image/png": "[encoded data removed]",
      "text/plain": [
       "<Figure size 576x1296 with 3 Axes>"
      ]
     },
     "metadata": {
      "needs_background": "light"
     },
     "output_type": "display_data"
    }
   ],
   "source": [
    "job.plot_final_potential()"
   ]
  },
  {
   "cell_type": "code",
   "execution_count": 16,
   "id": "b74ef18b-e4c1-4e91-a82a-16340c8869ac",
   "metadata": {},
   "outputs": [
    {
     "data": {
      "text/plain": [
       "499.0580978786983"
      ]
     },
     "execution_count": 16,
     "metadata": {},
     "output_type": "execute_result"
    },
    {
     "data": {
      "image/png": "[encoded data removed]",
      "text/plain": [
       "<Figure size 432x288 with 1 Axes>"
      ]
     },
     "metadata": {
      "needs_background": "light"
     },
     "output_type": "display_data"
    }
   ],
   "source": [
    "plt.plot(job.output.iterations, job.output.residual)\n",
    "job.output.residual[-1]"
   ]
  },
  {
   "cell_type": "code",
   "execution_count": 17,
   "id": "2ca61e19-d5a3-47b2-af15-339d9ffa6675",
   "metadata": {},
   "outputs": [],
   "source": [
    "plots = job.plot"
   ]
  },
  {
   "cell_type": "code",
   "execution_count": 18,
   "id": "c4b28c40-9e63-4805-aeb8-805abc044478",
   "metadata": {},
   "outputs": [
    {
     "data": {
      "image/png": "[encoded data removed]",
      "text/plain": [
       "<Figure size 1008x504 with 2 Axes>"
      ]
     },
     "metadata": {
      "needs_background": "light"
     },
     "output_type": "display_data"
    }
   ],
   "source": [
    "plt.figure(figsize=(14,7))\n",
    "plots.energy_scatter_histogram()"
   ]
  },
  {
   "cell_type": "code",
   "execution_count": 19,
   "id": "774a4082-7a72-4062-8371-3953f9c826b0",
   "metadata": {},
   "outputs": [
    {
     "data": {
      "image/png": "[encoded data removed]",
      "text/plain": [
       "<Figure size 432x288 with 2 Axes>"
      ]
     },
     "metadata": {
      "needs_background": "light"
     },
     "output_type": "display_data"
    }
   ],
   "source": [
    "plots.force_scatter_histogram()"
   ]
  },
  {
   "cell_type": "code",
   "execution_count": 20,
   "id": "caee172a-24a9-43cd-a122-eb09120d2684",
   "metadata": {},
   "outputs": [
    {
     "data": {
      "image/png": "[encoded data removed]",
      "text/plain": [
       "<Figure size 432x288 with 2 Axes>"
      ]
     },
     "metadata": {
      "needs_background": "light"
     },
     "output_type": "display_data"
    }
   ],
   "source": [
    "plots.force_scatter_histogram(axis=0)"
   ]
  },
  {
   "cell_type": "code",
   "execution_count": 21,
   "id": "67951e44-0b40-493e-ab36-b96053966b5b",
   "metadata": {},
   "outputs": [
    {
     "data": {
      "image/png": "[encoded data removed]",
      "text/plain": [
       "<Figure size 432x288 with 2 Axes>"
      ]
     },
     "metadata": {
      "needs_background": "light"
     },
     "output_type": "display_data"
    }
   ],
   "source": [
    "plots.force_scatter_histogram(axis=1)"
   ]
  },
  {
   "cell_type": "code",
   "execution_count": 22,
   "id": "0c32e69e-9f2b-48b4-b8e8-8d1e39db0062",
   "metadata": {},
   "outputs": [
    {
     "data": {
      "image/png": "[encoded data removed]",
      "text/plain": [
       "<Figure size 432x288 with 2 Axes>"
      ]
     },
     "metadata": {
      "needs_background": "light"
     },
     "output_type": "display_data"
    }
   ],
   "source": [
    "plots.force_scatter_histogram(axis=2)"
   ]
  },
  {
   "cell_type": "markdown",
   "id": "21cf9787-4b08-49d6-a0c8-638dff820788",
   "metadata": {},
   "source": [
    "# Appendix\n",
    "\n",
    "For the potential used in the validation and phase diagram calculations a different functional form was used.\n",
    "\n",
    "The Al potential followed the same formalism as used by Mishin in his Cu potential https://doi.org/10.1103/PhysRevB.63.224106.\n",
    "For Li and AlLi terms the pair interaction was described using a morse-C potential, while cubic splines were used for the electron densities.\n",
    "The Li embedding term was a modified version of that used by Mishin that is implemented in the atomicrex code.\n",
    "\n",
    "To be able to guarantee certain properties the parameters of these functions were constrained.\n",
    "EAM potentials are invariant under the transformations:  \n",
    "$\\rho(r)\\rightarrow s\\rho(r)$, $F(\\bar\\rho)\\rightarrow F(\\bar\\rho / s)$ and $F(\\bar\\rho)\\rightarrow F(\\bar\\rho) - g\\bar\\rho$, $V(r)\\rightarrow V(r)+2g\\rho(r)$\n",
    "\n",
    "To uniquely define them the condition:\n",
    "$\\sum_m N_m \\rho(r_m) = 1$ was applied. Here $N_m$ is the number of neighbors of the equilibrium structure in shell m.\n",
    "\n",
    "\n",
    "A perfect lattice constant can be obtained by applying the mechanical equilibrium condition:  \n",
    "$\\frac{1}{2} \\sum_m N_m V(r_m)' r_m + F_0' \\sum_m N_m \\rho(r_m)' r_m$ where $F0$ is the value of the embedding function at the equilibrium structures electron density, i.e. $F(1)$ if the above condition is applied.\n",
    "\n",
    "The correct equilibrium energy $E_0$ can be guaranteed with:  \n",
    "$F_0 = E_0-\\frac{1}{2}\\sum_m N_m V(r_m)$\n",
    "\n",
    "An exact fit to the bulk modulus can be achieved by applying:  \n",
    "$\\frac{1}{2}\\sum_m N_mV(r_m)''r_m^2 + F_0' \\sum_m N_m \\rho(r_m)'' R_m^2 + F_0''(\\sum_m N_m \\rho(r_m)' r_m)^2 $\n",
    "\n",
    "These (or similar equations) have to be solved with respect to some parameter in the function. A simple example is the electron density which can be constrained to 1 by multiplying the whole function with some factor c after its evaluation for the equilibrium structure.\n",
    "This then looks f.e. like this in the atomicrex input file (xml format):\n",
    "\n",
    "```\n",
    "        <constraint id=\"one_constrain_rhoSpline_LiLi\" dependent-dof=\"EAM.rho_LiLi.cfactor_rhoSpline_LiLi.const\">\n",
    "            <expression>1 / ( + 8 * {EAM.rho_LiLi.rhoSpline_LiLi:eval.2.966650281143688} + 6 * {EAM.rho_LiLi.rhoSpline_LiLi:eval.3.425592676819574} + 12 * {EAM.rho_LiLi.rhoSpline_LiLi:eval.4.844519622724197} + 24 * {EAM.rho_LiLi.rhoSpline_LiLi:eval.5.6807027967998565} + 8 * {EAM.rho_LiLi.rhoSpline_LiLi:eval.5.933300562287376} + 6 * {EAM.rho_LiLi.rhoSpline_LiLi:eval.6.851185353639148} + 24 * {EAM.rho_LiLi.rhoSpline_LiLi:eval.7.465906149994755})</expression>\n",
    "        </constraint>\n",
    "```\n",
    "The block contains an identifier, the \"path\" to the parameter that is constrained and the expression that is applied to constrain it.\n",
    "In the pyiron interface such constraints can be added using as follows:"
   ]
  },
  {
   "cell_type": "code",
   "execution_count": 23,
   "id": "0f10fa0c-e266-4064-99c7-94db3d739d7a",
   "metadata": {},
   "outputs": [],
   "source": [
    "job.input.parameter_constraints.add_constraint(\n",
    "    identifier=\"Identifier\",\n",
    "    dependent_dof=\"The parameter or degree of freedom to constrain\",\n",
    "    expression=\"Expression that is used to determine the value of the parameter, parsed using muparser\"\n",
    ")"
   ]
  },
  {
   "cell_type": "markdown",
   "id": "13c05737-5e54-4c3d-af08-149d174e1790",
   "metadata": {},
   "source": [
    "If any questions regarding the interface/feature requests/problems occur after the workshop feel free to send me a mail leimeroth@mm.tu-darmstadt.de"
   ]
  }
 ],
 "metadata": {
  "kernelspec": {
   "display_name": "Python 3 (ipykernel)",
   "language": "python",
   "name": "python3"
  },
  "language_info": {
   "codemirror_mode": {
    "name": "ipython",
    "version": 3
   },
   "file_extension": ".py",
   "mimetype": "text/x-python",
   "name": "python",
   "nbconvert_exporter": "python",
   "pygments_lexer": "ipython3",
   "version": "3.9.12"
  }
 },
 "nbformat": 4,
 "nbformat_minor": 5
}
