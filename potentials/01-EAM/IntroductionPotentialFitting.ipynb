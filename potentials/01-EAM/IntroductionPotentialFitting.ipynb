{
 "cells": [
  {
   "cell_type": "markdown",
   "id": "f2adfe85-18c8-4430-b370-1b4d6f1b05b3",
   "metadata": {},
   "source": [
    "# Interatomic potentials\n",
    "\n",
    "In general interatomic potentials can be written as a sum of functional terms depending on the positions of the atoms in a structure. Then the energy $U$ of the system is\n",
    "\n",
    "$U = \\sum_{i=1}^N U_1(\\vec{r_i}) + \\sum_{i,j=1}^N U_2(\\vec{r_i}, \\vec{r_j}) + \\sum_{i,j,k=1}^N U_2(\\vec{r_i}, \\vec{r_j}, \\vec{r_k}) +...$\n",
    "\n",
    "The one body term only matter when the system is within an external field. Most classic interatomic potentials don't use 4th and higher order body terms, pair potentials only use the 2 body term. As a general rule potentials that include higher order body terms can be more accurate but are slower.\n",
    "\n",
    "There are many different forms for $U_i$, which cover a wide range of different run time and accuracy necessities.\n",
    "\n",
    "Simple pair potentials (f.e Lennard-Jones, Morse, Buckingham) only contain very few parameters, typically less than 10. In many body potentials (f.e. EAM, MEAM, Tersoff) the typical number of parameters is 10-50 and for machine learning potentials the number of parameters can reach several thousands.\n",
    "\n",
    "# Fitting\n",
    "\n",
    "In the fit process the parameters of the chosen functions for $U_i$ are optimized. For this purpose an objective or cost function is defined and minimized. In general the objective function is defined as\n",
    "\n",
    "$\\chi^2 = \\sum_i w_i r_i$\n",
    "\n",
    "where $w_i$ is a weight and $r_i$ is a residual that describes the difference to target values. This residual can be defined in different ways, so it is not possible to simply compare the residual for different fitting processes or codes. A more in depth explanation and some examples can be found on https://atomicrex.org/overview.html#objective-function.\n",
    "\n",
    "The minimization can be done with local or global optimization algorithms.\n",
    "Generally local optimization algorithms should all be able to find the local minimum coming from some initial parameter set, so the \"best\" local algorithm is the one finding the minimum in the shortest time. Typically used local algorithms are f.e. (L)BFGS or Nelder-Mead.\n",
    "Examples for global algorithms are evolutionary algorithms or simulated annealing. For most problems it is impossible to tell a priori which global algorithm will give the best results, so using global algorithms typically involves testing many of them.\n",
    "\n",
    "# EAM potentials\n",
    "\n",
    "EAM potentials are pair functionals. \n",
    "In a generalised form they are equal to Finnis-Sinclair, effective medium theory or glue potentials. Their total energy can be written as\n",
    "\n",
    "$E = \\frac{1}{2}\\sum_{ij}V(r_{ij}) + \\sum_i F(\\rho_i)$\n",
    "\n",
    "with\n",
    "\n",
    "$\\rho_i = \\sum_j \\rho(r_{ij})$\n",
    "\n",
    "The original functions for V, $\\rho$ and F were derived from different theories, but they can be chosen freely.\n",
    "\n",
    "# Fitting code\n",
    "\n",
    "Fitting is done using the pyiron interface to the atomicrex code https://atomicrex.org. It can be used to fit different types of classic interatomic potentials:\n",
    "- pair potentials\n",
    "- EAM\n",
    "- MEAM\n",
    "- Tersoff\n",
    "- ABOP\n",
    "- ADP (in development)\n",
    "\n",
    "It allows to fit different properties (energies, forces, lattice constants, elastic properties, etc.) and implements the LBFGS minimizer. Additionally it offers an interface to the nlopt library which implements several global and local optimization algorithms and the ability to apply arbitrary constraints to parameters."
   ]
  },
  {
   "cell_type": "code",
   "execution_count": 1,
   "id": "f4075857-362a-400f-b043-2fc5ad54a407",
   "metadata": {},
   "outputs": [],
   "source": [
    "from pyiron import Project, ase_to_pyiron\n",
    "import numpy as np\n",
    "import matplotlib.pyplot as plt\n",
    "import pandas as pd"
   ]
  },
  {
   "cell_type": "code",
   "execution_count": 2,
   "id": "d70cf5ae-8e25-444c-b24f-2d676ef8d2f4",
   "metadata": {},
   "outputs": [],
   "source": [
    "pr = Project(\".\")"
   ]
  },
  {
   "cell_type": "markdown",
   "id": "6d83afb5-b99d-4081-9883-ce67c3557f5d",
   "metadata": {},
   "source": [
    "### Get the training data\n",
    "Load a job that contains structures with energies and forces from DFT"
   ]
  },
  {
   "cell_type": "code",
   "execution_count": 3,
   "id": "ea3fcb75-1d69-4f9e-901d-ba001c6dab2e",
   "metadata": {},
   "outputs": [
    {
     "name": "stdout",
     "output_type": "stream",
     "text": [
      "The job TrainData was saved and received the ID: 738901\n"
     ]
    }
   ],
   "source": [
    "tc = pr.create.job.TrainingContainer(\"TrainData\", delete_existing_job=True)\n",
    "df = pd.read_pickle(\"Al_3PreFinal.pckl.gz\")\n",
    "for r in df.itertuples():\n",
    "    s = ase_to_pyiron(r.ase_atoms)\n",
    "    if r.energy_corrected > 0:\n",
    "        continue\n",
    "    vol = s.get_volume()\n",
    "    natoms = len(s)\n",
    "    if vol/natoms > 120:\n",
    "        continue\n",
    "    tc.add_structure(structure=s, energy=r.energy_corrected, forces=r.forces, name=f\"ID{r.Index}\")\n",
    "tc.run()"
   ]
  },
  {
   "cell_type": "markdown",
   "id": "57cc1f71-1255-4d15-9c31-e598098fe1e4",
   "metadata": {},
   "source": [
    "### Have a look at the training data"
   ]
  },
  {
   "cell_type": "code",
   "execution_count": 4,
   "id": "25b99c5a-e8a2-42de-aaf0-2794d675385b",
   "metadata": {},
   "outputs": [
    {
     "data": {
      "text/html": [
       "<div>\n",
       "<style scoped>\n",
       "    .dataframe tbody tr th:only-of-type {\n",
       "        vertical-align: middle;\n",
       "    }\n",
       "\n",
       "    .dataframe tbody tr th {\n",
       "        vertical-align: top;\n",
       "    }\n",
       "\n",
       "    .dataframe thead th {\n",
       "        text-align: right;\n",
       "    }\n",
       "</style>\n",
       "<table border=\"1\" class=\"dataframe\">\n",
       "  <thead>\n",
       "    <tr style=\"text-align: right;\">\n",
       "      <th></th>\n",
       "      <th>V</th>\n",
       "      <th>E</th>\n",
       "      <th>space_group</th>\n",
       "      <th>crystal_system</th>\n",
       "    </tr>\n",
       "  </thead>\n",
       "  <tbody>\n",
       "    <tr>\n",
       "      <th>0</th>\n",
       "      <td>16.484415</td>\n",
       "      <td>-3.482751</td>\n",
       "      <td>225</td>\n",
       "      <td>cubic</td>\n",
       "    </tr>\n",
       "    <tr>\n",
       "      <th>1</th>\n",
       "      <td>14.835973</td>\n",
       "      <td>-3.433909</td>\n",
       "      <td>225</td>\n",
       "      <td>cubic</td>\n",
       "    </tr>\n",
       "    <tr>\n",
       "      <th>2</th>\n",
       "      <td>15.165661</td>\n",
       "      <td>-3.452735</td>\n",
       "      <td>225</td>\n",
       "      <td>cubic</td>\n",
       "    </tr>\n",
       "    <tr>\n",
       "      <th>3</th>\n",
       "      <td>15.495350</td>\n",
       "      <td>-3.466526</td>\n",
       "      <td>225</td>\n",
       "      <td>cubic</td>\n",
       "    </tr>\n",
       "    <tr>\n",
       "      <th>4</th>\n",
       "      <td>15.825038</td>\n",
       "      <td>-3.475815</td>\n",
       "      <td>225</td>\n",
       "      <td>cubic</td>\n",
       "    </tr>\n",
       "    <tr>\n",
       "      <th>...</th>\n",
       "      <td>...</td>\n",
       "      <td>...</td>\n",
       "      <td>...</td>\n",
       "      <td>...</td>\n",
       "    </tr>\n",
       "    <tr>\n",
       "      <th>303</th>\n",
       "      <td>28.793489</td>\n",
       "      <td>-2.746083</td>\n",
       "      <td>1</td>\n",
       "      <td>triclinic</td>\n",
       "    </tr>\n",
       "    <tr>\n",
       "      <th>304</th>\n",
       "      <td>29.358067</td>\n",
       "      <td>-2.708848</td>\n",
       "      <td>1</td>\n",
       "      <td>triclinic</td>\n",
       "    </tr>\n",
       "    <tr>\n",
       "      <th>305</th>\n",
       "      <td>29.922645</td>\n",
       "      <td>-2.672118</td>\n",
       "      <td>1</td>\n",
       "      <td>triclinic</td>\n",
       "    </tr>\n",
       "    <tr>\n",
       "      <th>306</th>\n",
       "      <td>30.487223</td>\n",
       "      <td>-2.635916</td>\n",
       "      <td>1</td>\n",
       "      <td>triclinic</td>\n",
       "    </tr>\n",
       "    <tr>\n",
       "      <th>307</th>\n",
       "      <td>31.051801</td>\n",
       "      <td>-2.600260</td>\n",
       "      <td>1</td>\n",
       "      <td>triclinic</td>\n",
       "    </tr>\n",
       "  </tbody>\n",
       "</table>\n",
       "<p>308 rows × 4 columns</p>\n",
       "</div>"
      ],
      "text/plain": [
       "             V         E  space_group crystal_system\n",
       "0    16.484415 -3.482751          225          cubic\n",
       "1    14.835973 -3.433909          225          cubic\n",
       "2    15.165661 -3.452735          225          cubic\n",
       "3    15.495350 -3.466526          225          cubic\n",
       "4    15.825038 -3.475815          225          cubic\n",
       "..         ...       ...          ...            ...\n",
       "303  28.793489 -2.746083            1      triclinic\n",
       "304  29.358067 -2.708848            1      triclinic\n",
       "305  29.922645 -2.672118            1      triclinic\n",
       "306  30.487223 -2.635916            1      triclinic\n",
       "307  31.051801 -2.600260            1      triclinic\n",
       "\n",
       "[308 rows x 4 columns]"
      ]
     },
     "execution_count": 4,
     "metadata": {},
     "output_type": "execute_result"
    },
    {
     "data": {
      "image/png": "[encoded data removed]",
      "text/plain": [
       "<Figure size 432x288 with 1 Axes>"
      ]
     },
     "metadata": {
      "needs_background": "light"
     },
     "output_type": "display_data"
    }
   ],
   "source": [
    "tc.plot.energy_volume(crystal_systems=True)"
   ]
  },
  {
   "cell_type": "code",
   "execution_count": 5,
   "id": "f039bd7e-e62e-43d6-9c22-6a4bb1c68c73",
   "metadata": {},
   "outputs": [
    {
     "data": {
      "text/html": [
       "<div>\n",
       "<style scoped>\n",
       "    .dataframe tbody tr th:only-of-type {\n",
       "        vertical-align: middle;\n",
       "    }\n",
       "\n",
       "    .dataframe tbody tr th {\n",
       "        vertical-align: top;\n",
       "    }\n",
       "\n",
       "    .dataframe thead th {\n",
       "        text-align: right;\n",
       "    }\n",
       "</style>\n",
       "<table border=\"1\" class=\"dataframe\">\n",
       "  <thead>\n",
       "    <tr style=\"text-align: right;\">\n",
       "      <th></th>\n",
       "      <th>a</th>\n",
       "      <th>b</th>\n",
       "      <th>c</th>\n",
       "      <th>alpha</th>\n",
       "      <th>beta</th>\n",
       "      <th>gamma</th>\n",
       "      <th>V</th>\n",
       "      <th>N</th>\n",
       "    </tr>\n",
       "  </thead>\n",
       "  <tbody>\n",
       "    <tr>\n",
       "      <th>0</th>\n",
       "      <td>4.039967</td>\n",
       "      <td>4.039967</td>\n",
       "      <td>4.039967</td>\n",
       "      <td>90.000000</td>\n",
       "      <td>90.000000</td>\n",
       "      <td>90.000000</td>\n",
       "      <td>65.937658</td>\n",
       "      <td>4</td>\n",
       "    </tr>\n",
       "    <tr>\n",
       "      <th>1</th>\n",
       "      <td>3.900545</td>\n",
       "      <td>3.900545</td>\n",
       "      <td>3.900545</td>\n",
       "      <td>90.000000</td>\n",
       "      <td>90.000000</td>\n",
       "      <td>90.000000</td>\n",
       "      <td>59.343892</td>\n",
       "      <td>4</td>\n",
       "    </tr>\n",
       "    <tr>\n",
       "      <th>2</th>\n",
       "      <td>3.929227</td>\n",
       "      <td>3.929227</td>\n",
       "      <td>3.929227</td>\n",
       "      <td>90.000000</td>\n",
       "      <td>90.000000</td>\n",
       "      <td>90.000000</td>\n",
       "      <td>60.662645</td>\n",
       "      <td>4</td>\n",
       "    </tr>\n",
       "    <tr>\n",
       "      <th>3</th>\n",
       "      <td>3.957496</td>\n",
       "      <td>3.957496</td>\n",
       "      <td>3.957496</td>\n",
       "      <td>90.000000</td>\n",
       "      <td>90.000000</td>\n",
       "      <td>90.000000</td>\n",
       "      <td>61.981399</td>\n",
       "      <td>4</td>\n",
       "    </tr>\n",
       "    <tr>\n",
       "      <th>4</th>\n",
       "      <td>3.985366</td>\n",
       "      <td>3.985366</td>\n",
       "      <td>3.985366</td>\n",
       "      <td>90.000000</td>\n",
       "      <td>90.000000</td>\n",
       "      <td>90.000000</td>\n",
       "      <td>63.300152</td>\n",
       "      <td>4</td>\n",
       "    </tr>\n",
       "    <tr>\n",
       "      <th>...</th>\n",
       "      <td>...</td>\n",
       "      <td>...</td>\n",
       "      <td>...</td>\n",
       "      <td>...</td>\n",
       "      <td>...</td>\n",
       "      <td>...</td>\n",
       "      <td>...</td>\n",
       "      <td>...</td>\n",
       "    </tr>\n",
       "    <tr>\n",
       "      <th>303</th>\n",
       "      <td>7.008729</td>\n",
       "      <td>7.232998</td>\n",
       "      <td>10.690023</td>\n",
       "      <td>121.764941</td>\n",
       "      <td>89.204727</td>\n",
       "      <td>90.106498</td>\n",
       "      <td>460.695818</td>\n",
       "      <td>16</td>\n",
       "    </tr>\n",
       "    <tr>\n",
       "      <th>304</th>\n",
       "      <td>7.054241</td>\n",
       "      <td>7.279967</td>\n",
       "      <td>10.759441</td>\n",
       "      <td>121.764941</td>\n",
       "      <td>89.204727</td>\n",
       "      <td>90.106498</td>\n",
       "      <td>469.729069</td>\n",
       "      <td>16</td>\n",
       "    </tr>\n",
       "    <tr>\n",
       "      <th>305</th>\n",
       "      <td>7.099174</td>\n",
       "      <td>7.326338</td>\n",
       "      <td>10.827974</td>\n",
       "      <td>121.764941</td>\n",
       "      <td>89.204727</td>\n",
       "      <td>90.106498</td>\n",
       "      <td>478.762321</td>\n",
       "      <td>16</td>\n",
       "    </tr>\n",
       "    <tr>\n",
       "      <th>306</th>\n",
       "      <td>7.143545</td>\n",
       "      <td>7.372128</td>\n",
       "      <td>10.895651</td>\n",
       "      <td>121.764941</td>\n",
       "      <td>89.204727</td>\n",
       "      <td>90.106498</td>\n",
       "      <td>487.795572</td>\n",
       "      <td>16</td>\n",
       "    </tr>\n",
       "    <tr>\n",
       "      <th>307</th>\n",
       "      <td>7.187372</td>\n",
       "      <td>7.417357</td>\n",
       "      <td>10.962497</td>\n",
       "      <td>121.764941</td>\n",
       "      <td>89.204727</td>\n",
       "      <td>90.106498</td>\n",
       "      <td>496.828823</td>\n",
       "      <td>16</td>\n",
       "    </tr>\n",
       "  </tbody>\n",
       "</table>\n",
       "<p>308 rows × 8 columns</p>\n",
       "</div>"
      ],
      "text/plain": [
       "            a         b          c       alpha       beta      gamma  \\\n",
       "0    4.039967  4.039967   4.039967   90.000000  90.000000  90.000000   \n",
       "1    3.900545  3.900545   3.900545   90.000000  90.000000  90.000000   \n",
       "2    3.929227  3.929227   3.929227   90.000000  90.000000  90.000000   \n",
       "3    3.957496  3.957496   3.957496   90.000000  90.000000  90.000000   \n",
       "4    3.985366  3.985366   3.985366   90.000000  90.000000  90.000000   \n",
       "..        ...       ...        ...         ...        ...        ...   \n",
       "303  7.008729  7.232998  10.690023  121.764941  89.204727  90.106498   \n",
       "304  7.054241  7.279967  10.759441  121.764941  89.204727  90.106498   \n",
       "305  7.099174  7.326338  10.827974  121.764941  89.204727  90.106498   \n",
       "306  7.143545  7.372128  10.895651  121.764941  89.204727  90.106498   \n",
       "307  7.187372  7.417357  10.962497  121.764941  89.204727  90.106498   \n",
       "\n",
       "              V   N  \n",
       "0     65.937658   4  \n",
       "1     59.343892   4  \n",
       "2     60.662645   4  \n",
       "3     61.981399   4  \n",
       "4     63.300152   4  \n",
       "..          ...  ..  \n",
       "303  460.695818  16  \n",
       "304  469.729069  16  \n",
       "305  478.762321  16  \n",
       "306  487.795572  16  \n",
       "307  496.828823  16  \n",
       "\n",
       "[308 rows x 8 columns]"
      ]
     },
     "execution_count": 5,
     "metadata": {},
     "output_type": "execute_result"
    },
    {
     "data": {
      "image/png": "[encoded data removed]",
      "text/plain": [
       "<Figure size 1440x504 with 4 Axes>"
      ]
     },
     "metadata": {
      "needs_background": "light"
     },
     "output_type": "display_data"
    }
   ],
   "source": [
    "plt.figure(figsize=(20,7))\n",
    "tc.plot.cell()"
   ]
  },
  {
   "cell_type": "markdown",
   "id": "4cb440b6-aa79-4369-80d6-141dcfc37696",
   "metadata": {},
   "source": [
    "### Create an atomicrex job"
   ]
  },
  {
   "cell_type": "code",
   "execution_count": 6,
   "id": "56951cee-038f-44e7-bb11-b20841036f81",
   "metadata": {},
   "outputs": [],
   "source": [
    "job = pr.create.job.Atomicrex(\"FitAl\", delete_existing_job=True)"
   ]
  },
  {
   "cell_type": "markdown",
   "id": "9807a140-dc20-4c4a-b22c-dcc89c789425",
   "metadata": {},
   "source": [
    "### Training Data\n",
    "Set the training data. This can also be done structure by structure to set other fit properties and weights, but here we simply load the TrainingContainer"
   ]
  },
  {
   "cell_type": "code",
   "execution_count": 7,
   "id": "adbcf0a6-1ef8-4697-93d5-bd9346aad1ab",
   "metadata": {},
   "outputs": [],
   "source": [
    "job.structures.add_training_data(tc)"
   ]
  },
  {
   "cell_type": "markdown",
   "id": "1d275454-0b14-4862-b4f0-8b7166852f96",
   "metadata": {},
   "source": [
    "Set the potential type. In this case an EAM potential"
   ]
  },
  {
   "cell_type": "code",
   "execution_count": 8,
   "id": "e90476e0-54cf-4a6e-9424-bf282517a4b5",
   "metadata": {},
   "outputs": [],
   "source": [
    "job.potential = job.factories.potentials.eam_potential()"
   ]
  },
  {
   "cell_type": "markdown",
   "id": "1cd689cb-0d35-4b5c-93e6-e0112a5382b2",
   "metadata": {},
   "source": [
    "### Functions\n",
    "Reminder: $E = \\sum_{ij}V(r_{ij}) + \\sum_i F(\\rho_i)$ with $\\rho_i = \\sum_j \\rho(r_{ij})$\n",
    "\n",
    "It is necessary to define a pair potential, an electronic density function and an embedding function.\n",
    "For all of those it is possible to choose between different functional forms.\n",
    "Classic pair potentials are physically motivated and have a very limited number of paramaters that can often be derived from an experimentally measurable quantity.\n",
    "Splines or polynomials offer more flexibility, but can lead to unphysical oscillations or overfitting. Compared with the machine learning potentials shown later the number of parameters is very low no matter which functions you choose.\n",
    "\n",
    "In this case a generalized morse function is used for the pair interaction. It has the form\n",
    "\n",
    "$(\\frac{D_0}{S-1}exp(-\\beta \\sqrt{2S}(r-r_0))-\\frac{D_0S}{S-1}exp(-\\beta\\sqrt{2/S}(r-r_0)))+\\delta $\n",
    "\n",
    "The parameters in the morse potential can be derived from phyiscal quantities, here they are just educated guesses. For example $r_0$ is the equilibrium distance of a dimer. The nearest neighbor distance in fcc Cu is about 2.8 $\\mathring A$ so it is taken as initial value.\n",
    "In the case of analytic functions the initial parameter choices should not matter too much, since the functional form is constrained.\n",
    "\n",
    "The electronic density will be a cubic spline. The embedding function will be $-A*sqrt(\\rho)+B*rho$, which can be defined as a user function.\n",
    "\n",
    "The pair function and the electron denity and their first derivatives are required to smoothly approach 0 at the cutoff distance $r_{c}$\n",
    "For this purpose the pair function is screened by multiplying with the function:\n",
    "\n",
    "$\\Psi(\\frac{r-rc}{h})$ where $\\Psi(x) = \\frac{x^4}{1+x^4}$ if $x<0$ else $\\Psi(x)=0$\n",
    "\n",
    "For the spline it is necessary to set a node point with y value 0 at the cutoff "
   ]
  },
  {
   "cell_type": "code",
   "execution_count": 9,
   "id": "96a1900f-f4d2-43b6-87dd-cf5570517836",
   "metadata": {},
   "outputs": [],
   "source": [
    "morseB = job.factories.functions.morse_B(\"V\", D0=0.15, r0=3.05, beta=1.1, S=4.1, delta=-0.01)\n",
    "morseB.screening = job.factories.functions.x_pow_n_cutoff(identifier=\"V_screen\", cutoff=7.6)\n",
    "morseB.parameters.D0.min_val = 0.05\n",
    "morseB.parameters.D0.max_val = 1.55\n",
    "\n",
    "morseB.parameters.r0.min_val = 2.6\n",
    "morseB.parameters.r0.max_val = 3.1\n",
    "\n",
    "morseB.parameters.S.min_val = 1.5\n",
    "morseB.parameters.S.max_val = 4.5\n",
    "morseB.parameters.delta.max_val = 0.005"
   ]
  },
  {
   "cell_type": "markdown",
   "id": "252c78d0-9230-4e23-83a1-20304f1630b5",
   "metadata": {},
   "source": [
    "It is also possible to plot most of the functions. This can help to judge if the initial parameters are reasonable"
   ]
  },
  {
   "cell_type": "code",
   "execution_count": 10,
   "id": "1c380b21-78e8-404c-a9ae-a5b6d6ea85fd",
   "metadata": {},
   "outputs": [
    {
     "data": {
      "text/plain": [
       "(<Figure size 720x504 with 1 Axes>,\n",
       " <AxesSubplot:xlabel='r [$\\\\AA$]', ylabel='func(r)'>)"
      ]
     },
     "execution_count": 10,
     "metadata": {},
     "output_type": "execute_result"
    },
    {
     "data": {
      "image/png": "[encoded data removed]",
      "text/plain": [
       "<Figure size 720x504 with 1 Axes>"
      ]
     },
     "metadata": {
      "needs_background": "light"
     },
     "output_type": "display_data"
    }
   ],
   "source": [
    "morseB.plot()"
   ]
  },
  {
   "cell_type": "code",
   "execution_count": 11,
   "id": "b93e8548-cdcf-4d51-bbc0-ae7e5646cd02",
   "metadata": {},
   "outputs": [],
   "source": [
    "rho = job.factories.functions.spline(identifier=\"rho_AlAl\", cutoff=7.6, derivative_left=-0.2, derivative_right=0)\n",
    "## the spline requires node points and initial values\n",
    "init_func = lambda r: np.exp(-r)\n",
    "nodes = np.array([1.0, 2.2, 2.7, 3.2, 4.0, 5.0])\n",
    "init_vals = init_func(nodes)\n",
    "rho.parameters.create_from_arrays(x=nodes, y=init_vals, min_vals=np.zeros(len(nodes)), max_vals=np.ones(len(nodes)))\n",
    "# set node point at cutoff\n",
    "rho.parameters.add_node(x=7.6, start_val=0, enabled=False)\n",
    "rho.derivative_left.max_val = 0.0"
   ]
  },
  {
   "cell_type": "code",
   "execution_count": 12,
   "id": "56710703-5e6e-485e-a9d9-bc2c4bedac5b",
   "metadata": {},
   "outputs": [],
   "source": [
    "# User function for embedding term\n",
    "F = job.factories.functions.user_function(identifier=\"F\", input_variable=\"r\")\n",
    "F.expression = \"-A*sqrt(r)+B*r\"\n",
    "F.derivative = \"-A/(2*sqrt(r))+B\"\n",
    "F.parameters.add_parameter(\"A\", start_val=3.3, min_val=0.0)\n",
    "F.parameters.add_parameter(\"B\", start_val=1.8, min_val=0.0)"
   ]
  },
  {
   "cell_type": "markdown",
   "id": "865bca67-41c4-4bb1-b357-ba2c4d37ce8b",
   "metadata": {},
   "source": [
    "Assign functions"
   ]
  },
  {
   "cell_type": "code",
   "execution_count": 13,
   "id": "ce82c058-99b1-4044-89e4-d5b9fc6191d5",
   "metadata": {},
   "outputs": [],
   "source": [
    "job.potential.pair_interactions[morseB.identifier] = morseB\n",
    "job.potential.electron_densities[rho.identifier] = rho\n",
    "job.potential.embedding_energies[F.identifier] = F"
   ]
  },
  {
   "cell_type": "markdown",
   "id": "3fa3875d-c6ac-4a93-8917-0219be6bd90e",
   "metadata": {},
   "source": [
    "Set a fit algorithm"
   ]
  },
  {
   "cell_type": "code",
   "execution_count": 14,
   "id": "d0c70020-3999-482a-9fc3-037d6b4e5be9",
   "metadata": {},
   "outputs": [],
   "source": [
    "job.input.fit_algorithm = job.factories.algorithms.ar_lbfgs(max_iter=10000)"
   ]
  },
  {
   "cell_type": "code",
   "execution_count": 15,
   "id": "6e161ce8-8d33-4eea-8d41-889287ccb7c5",
   "metadata": {},
   "outputs": [
    {
     "name": "stdout",
     "output_type": "stream",
     "text": [
      "The job FitAl was saved and received the ID: 738902\n"
     ]
    }
   ],
   "source": [
    "job.run()"
   ]
  },
  {
   "cell_type": "markdown",
   "id": "cd20a5b9-74f8-4609-96f8-d8c84f7a6976",
   "metadata": {},
   "source": [
    "Have a look at some of the outputs"
   ]
  },
  {
   "cell_type": "code",
   "execution_count": 16,
   "id": "8a895b83-d90e-489f-8382-393a520ae0a3",
   "metadata": {},
   "outputs": [
    {
     "data": {
      "text/plain": [
       "3366.772277399672"
      ]
     },
     "execution_count": 16,
     "metadata": {},
     "output_type": "execute_result"
    },
    {
     "data": {
      "image/png": "[encoded data removed]",
      "text/plain": [
       "<Figure size 432x288 with 1 Axes>"
      ]
     },
     "metadata": {
      "needs_background": "light"
     },
     "output_type": "display_data"
    }
   ],
   "source": [
    "plt.plot(job.output.iterations, job.output.residual)\n",
    "job.output.residual[-1]"
   ]
  },
  {
   "cell_type": "code",
   "execution_count": 17,
   "id": "74465658-bc69-486c-a327-4cd7a5790ec7",
   "metadata": {},
   "outputs": [
    {
     "data": {
      "application/json": {
       "electron_densities": {
        "rho_AlAl": {
         "cutoff": "7.6",
         "derivative_left": {
          "enabled": "True",
          "final_value": "-0.2003639909380159",
          "fitable": "True",
          "max_val": "0.0",
          "min_val": "None",
          "param": "'derivative-left'",
          "reset": "False",
          "start_val": "-0.2",
          "tag": "None"
         },
         "derivative_right": {
          "enabled": "False",
          "final_value": "None",
          "fitable": "True",
          "max_val": "None",
          "min_val": "None",
          "param": "'derivative-right'",
          "reset": "False",
          "start_val": "0",
          "tag": "None"
         },
         "identifier": "'rho_AlAl'",
         "parameters": {
          "node_1": {
           "enabled": "True",
           "final_value": "0.3678099451630189",
           "fitable": "True",
           "max_val": "1.0",
           "min_val": "0.0",
           "param": "'node'",
           "reset": "False",
           "start_val": "0.36787944117144233",
           "tag": "None",
           "x": "1.0"
          },
          "node_2.2": {
           "enabled": "True",
           "final_value": "0.1116747345072877",
           "fitable": "True",
           "max_val": "1.0",
           "min_val": "0.0",
           "param": "'node'",
           "reset": "False",
           "start_val": "0.11080315836233387",
           "tag": "None",
           "x": "2.2"
          },
          "node_2.7": {
           "enabled": "True",
           "final_value": "0.07145424033657911",
           "fitable": "True",
           "max_val": "1.0",
           "min_val": "0.0",
           "param": "'node'",
           "reset": "False",
           "start_val": "0.06720551273974976",
           "tag": "None",
           "x": "2.7"
          },
          "node_3.2": {
           "enabled": "True",
           "final_value": "0.04425295799860187",
           "fitable": "True",
           "max_val": "1.0",
           "min_val": "0.0",
           "param": "'node'",
           "reset": "False",
           "start_val": "0.04076220397836621",
           "tag": "None",
           "x": "3.2"
          },
          "node_4": {
           "enabled": "True",
           "final_value": "0.01922526131909083",
           "fitable": "True",
           "max_val": "1.0",
           "min_val": "0.0",
           "param": "'node'",
           "reset": "False",
           "start_val": "0.01831563888873418",
           "tag": "None",
           "x": "4.0"
          },
          "node_5": {
           "enabled": "True",
           "final_value": "0.006425127502193282",
           "fitable": "True",
           "max_val": "1.0",
           "min_val": "0.0",
           "param": "'node'",
           "reset": "False",
           "start_val": "0.006737946999085467",
           "tag": "None",
           "x": "5.0"
          },
          "node_7.6": {
           "enabled": "False",
           "final_value": "None",
           "fitable": "True",
           "max_val": "None",
           "min_val": "None",
           "param": "'node'",
           "reset": "False",
           "start_val": "0",
           "tag": "None",
           "x": "7.6"
          }
         },
         "species": "['*', '*']"
        }
       },
       "embedding_energies": {
        "F": {
         "cutoff": "None",
         "derivative": "'-A/(2*sqrt(r))+B'",
         "expression": "'-A*sqrt(r)+B*r'",
         "identifier": "'F'",
         "input_variable": "'r'",
         "is_screening_function": "False",
         "parameters": {
          "A": {
           "enabled": "True",
           "final_value": "3.300380222615908",
           "fitable": "True",
           "max_val": "None",
           "min_val": "0.0",
           "param": "'A'",
           "reset": "False",
           "start_val": "3.3",
           "tag": "None"
          },
          "B": {
           "enabled": "True",
           "final_value": "1.941342723495742",
           "fitable": "True",
           "max_val": "None",
           "min_val": "0.0",
           "param": "'B'",
           "reset": "False",
           "start_val": "1.8",
           "tag": "None"
          }
         },
         "screening": "None",
         "species": "['*', '*']"
        }
       },
       "export_file": "'output.eam.fs'",
       "identifier": "'EAM'",
       "pair_interactions": {
        "V": {
         "identifier": "'V'",
         "is_screening_function": "False",
         "parameters": {
          "D0": {
           "enabled": "True",
           "final_value": "0.1530946632052217",
           "fitable": "True",
           "max_val": "1.55",
           "min_val": "0.05",
           "param": "'D0'",
           "reset": "False",
           "start_val": "0.15",
           "tag": "None"
          },
          "S": {
           "enabled": "True",
           "final_value": "4.099994790262965",
           "fitable": "True",
           "max_val": "4.5",
           "min_val": "1.5",
           "param": "'S'",
           "reset": "False",
           "start_val": "4.1",
           "tag": "None"
          },
          "beta": {
           "enabled": "True",
           "final_value": "1.354779328092613",
           "fitable": "True",
           "max_val": "None",
           "min_val": "None",
           "param": "'beta'",
           "reset": "False",
           "start_val": "1.1",
           "tag": "None"
          },
          "delta": {
           "enabled": "True",
           "final_value": "-0.01532934405060739",
           "fitable": "True",
           "max_val": "0.005",
           "min_val": "None",
           "param": "'delta'",
           "reset": "False",
           "start_val": "-0.01",
           "tag": "None"
          },
          "r0": {
           "enabled": "True",
           "final_value": "3.051226104734049",
           "fitable": "True",
           "max_val": "3.1",
           "min_val": "2.6",
           "param": "'r0'",
           "reset": "False",
           "start_val": "3.05",
           "tag": "None"
          }
         },
         "screening": {
          "identifier": "'V_screen'",
          "is_screening_function": "True",
          "parameters": {
           "N": {
            "enabled": "False",
            "final_value": "None",
            "fitable": "True",
            "max_val": "None",
            "min_val": "None",
            "param": "'N'",
            "reset": "False",
            "start_val": "4",
            "tag": "None"
           },
           "cutoff": {
            "enabled": "False",
            "final_value": "None",
            "fitable": "False",
            "max_val": "None",
            "min_val": "None",
            "param": "'cutoff'",
            "reset": "False",
            "start_val": "7.6",
            "tag": "None"
           },
           "h": {
            "enabled": "False",
            "final_value": "None",
            "fitable": "True",
            "max_val": "None",
            "min_val": "None",
            "param": "'h'",
            "reset": "False",
            "start_val": "1",
            "tag": "None"
           }
          },
          "species": "['*', '*']"
         },
         "species": "['*', '*']"
        }
       },
       "resolution": "10000",
       "rho_range_factor": "2.0",
       "species": "['*', '*']"
      },
      "text/html": [
       "<pre>EAMPotential({\n",
       "  \"pair_interactions\": {\n",
       "    \"V\": {\n",
       "      \"species\": \"['*', '*']\",\n",
       "      \"parameters\": {\n",
       "        \"D0\": {\n",
       "          \"param\": \"'D0'\",\n",
       "          \"start_val\": \"0.15\",\n",
       "          \"enabled\": \"True\",\n",
       "          \"reset\": \"False\",\n",
       "          \"min_val\": \"0.05\",\n",
       "          \"max_val\": \"1.55\",\n",
       "          \"tag\": \"None\",\n",
       "          \"fitable\": \"True\",\n",
       "          \"final_value\": \"0.1530946632052217\"\n",
       "        },\n",
       "        \"r0\": {\n",
       "          \"param\": \"'r0'\",\n",
       "          \"start_val\": \"3.05\",\n",
       "          \"enabled\": \"True\",\n",
       "          \"reset\": \"False\",\n",
       "          \"min_val\": \"2.6\",\n",
       "          \"max_val\": \"3.1\",\n",
       "          \"tag\": \"None\",\n",
       "          \"fitable\": \"True\",\n",
       "          \"final_value\": \"3.051226104734049\"\n",
       "        },\n",
       "        \"beta\": {\n",
       "          \"param\": \"'beta'\",\n",
       "          \"start_val\": \"1.1\",\n",
       "          \"enabled\": \"True\",\n",
       "          \"reset\": \"False\",\n",
       "          \"min_val\": \"None\",\n",
       "          \"max_val\": \"None\",\n",
       "          \"tag\": \"None\",\n",
       "          \"fitable\": \"True\",\n",
       "          \"final_value\": \"1.354779328092613\"\n",
       "        },\n",
       "        \"S\": {\n",
       "          \"param\": \"'S'\",\n",
       "          \"start_val\": \"4.1\",\n",
       "          \"enabled\": \"True\",\n",
       "          \"reset\": \"False\",\n",
       "          \"min_val\": \"1.5\",\n",
       "          \"max_val\": \"4.5\",\n",
       "          \"tag\": \"None\",\n",
       "          \"fitable\": \"True\",\n",
       "          \"final_value\": \"4.099994790262965\"\n",
       "        },\n",
       "        \"delta\": {\n",
       "          \"param\": \"'delta'\",\n",
       "          \"start_val\": \"-0.01\",\n",
       "          \"enabled\": \"True\",\n",
       "          \"reset\": \"False\",\n",
       "          \"min_val\": \"None\",\n",
       "          \"max_val\": \"0.005\",\n",
       "          \"tag\": \"None\",\n",
       "          \"fitable\": \"True\",\n",
       "          \"final_value\": \"-0.01532934405060739\"\n",
       "        }\n",
       "      },\n",
       "      \"is_screening_function\": \"False\",\n",
       "      \"identifier\": \"'V'\",\n",
       "      \"screening\": {\n",
       "        \"species\": \"['*', '*']\",\n",
       "        \"parameters\": {\n",
       "          \"cutoff\": {\n",
       "            \"param\": \"'cutoff'\",\n",
       "            \"start_val\": \"7.6\",\n",
       "            \"enabled\": \"False\",\n",
       "            \"reset\": \"False\",\n",
       "            \"min_val\": \"None\",\n",
       "            \"max_val\": \"None\",\n",
       "            \"tag\": \"None\",\n",
       "            \"fitable\": \"False\",\n",
       "            \"final_value\": \"None\"\n",
       "          },\n",
       "          \"h\": {\n",
       "            \"param\": \"'h'\",\n",
       "            \"start_val\": \"1\",\n",
       "            \"enabled\": \"False\",\n",
       "            \"reset\": \"False\",\n",
       "            \"min_val\": \"None\",\n",
       "            \"max_val\": \"None\",\n",
       "            \"tag\": \"None\",\n",
       "            \"fitable\": \"True\",\n",
       "            \"final_value\": \"None\"\n",
       "          },\n",
       "          \"N\": {\n",
       "            \"param\": \"'N'\",\n",
       "            \"start_val\": \"4\",\n",
       "            \"enabled\": \"False\",\n",
       "            \"reset\": \"False\",\n",
       "            \"min_val\": \"None\",\n",
       "            \"max_val\": \"None\",\n",
       "            \"tag\": \"None\",\n",
       "            \"fitable\": \"True\",\n",
       "            \"final_value\": \"None\"\n",
       "          }\n",
       "        },\n",
       "        \"is_screening_function\": \"True\",\n",
       "        \"identifier\": \"'V_screen'\"\n",
       "      }\n",
       "    }\n",
       "  },\n",
       "  \"electron_densities\": {\n",
       "    \"rho_AlAl\": {\n",
       "      \"identifier\": \"'rho_AlAl'\",\n",
       "      \"cutoff\": \"7.6\",\n",
       "      \"derivative_left\": {\n",
       "        \"param\": \"'derivative-left'\",\n",
       "        \"start_val\": \"-0.2\",\n",
       "        \"enabled\": \"True\",\n",
       "        \"reset\": \"False\",\n",
       "        \"min_val\": \"None\",\n",
       "        \"max_val\": \"0.0\",\n",
       "        \"tag\": \"None\",\n",
       "        \"fitable\": \"True\",\n",
       "        \"final_value\": \"-0.2003639909380159\"\n",
       "      },\n",
       "      \"derivative_right\": {\n",
       "        \"param\": \"'derivative-right'\",\n",
       "        \"start_val\": \"0\",\n",
       "        \"enabled\": \"False\",\n",
       "        \"reset\": \"False\",\n",
       "        \"min_val\": \"None\",\n",
       "        \"max_val\": \"None\",\n",
       "        \"tag\": \"None\",\n",
       "        \"fitable\": \"True\",\n",
       "        \"final_value\": \"None\"\n",
       "      },\n",
       "      \"species\": \"['*', '*']\",\n",
       "      \"parameters\": {\n",
       "        \"node_1\": {\n",
       "          \"param\": \"'node'\",\n",
       "          \"start_val\": \"0.36787944117144233\",\n",
       "          \"enabled\": \"True\",\n",
       "          \"reset\": \"False\",\n",
       "          \"min_val\": \"0.0\",\n",
       "          \"max_val\": \"1.0\",\n",
       "          \"tag\": \"None\",\n",
       "          \"fitable\": \"True\",\n",
       "          \"final_value\": \"0.3678099451630189\",\n",
       "          \"x\": \"1.0\"\n",
       "        },\n",
       "        \"node_2.2\": {\n",
       "          \"param\": \"'node'\",\n",
       "          \"start_val\": \"0.11080315836233387\",\n",
       "          \"enabled\": \"True\",\n",
       "          \"reset\": \"False\",\n",
       "          \"min_val\": \"0.0\",\n",
       "          \"max_val\": \"1.0\",\n",
       "          \"tag\": \"None\",\n",
       "          \"fitable\": \"True\",\n",
       "          \"final_value\": \"0.1116747345072877\",\n",
       "          \"x\": \"2.2\"\n",
       "        },\n",
       "        \"node_2.7\": {\n",
       "          \"param\": \"'node'\",\n",
       "          \"start_val\": \"0.06720551273974976\",\n",
       "          \"enabled\": \"True\",\n",
       "          \"reset\": \"False\",\n",
       "          \"min_val\": \"0.0\",\n",
       "          \"max_val\": \"1.0\",\n",
       "          \"tag\": \"None\",\n",
       "          \"fitable\": \"True\",\n",
       "          \"final_value\": \"0.07145424033657911\",\n",
       "          \"x\": \"2.7\"\n",
       "        },\n",
       "        \"node_3.2\": {\n",
       "          \"param\": \"'node'\",\n",
       "          \"start_val\": \"0.04076220397836621\",\n",
       "          \"enabled\": \"True\",\n",
       "          \"reset\": \"False\",\n",
       "          \"min_val\": \"0.0\",\n",
       "          \"max_val\": \"1.0\",\n",
       "          \"tag\": \"None\",\n",
       "          \"fitable\": \"True\",\n",
       "          \"final_value\": \"0.04425295799860187\",\n",
       "          \"x\": \"3.2\"\n",
       "        },\n",
       "        \"node_4\": {\n",
       "          \"param\": \"'node'\",\n",
       "          \"start_val\": \"0.01831563888873418\",\n",
       "          \"enabled\": \"True\",\n",
       "          \"reset\": \"False\",\n",
       "          \"min_val\": \"0.0\",\n",
       "          \"max_val\": \"1.0\",\n",
       "          \"tag\": \"None\",\n",
       "          \"fitable\": \"True\",\n",
       "          \"final_value\": \"0.01922526131909083\",\n",
       "          \"x\": \"4.0\"\n",
       "        },\n",
       "        \"node_5\": {\n",
       "          \"param\": \"'node'\",\n",
       "          \"start_val\": \"0.006737946999085467\",\n",
       "          \"enabled\": \"True\",\n",
       "          \"reset\": \"False\",\n",
       "          \"min_val\": \"0.0\",\n",
       "          \"max_val\": \"1.0\",\n",
       "          \"tag\": \"None\",\n",
       "          \"fitable\": \"True\",\n",
       "          \"final_value\": \"0.006425127502193282\",\n",
       "          \"x\": \"5.0\"\n",
       "        },\n",
       "        \"node_7.6\": {\n",
       "          \"param\": \"'node'\",\n",
       "          \"start_val\": \"0\",\n",
       "          \"enabled\": \"False\",\n",
       "          \"reset\": \"False\",\n",
       "          \"min_val\": \"None\",\n",
       "          \"max_val\": \"None\",\n",
       "          \"tag\": \"None\",\n",
       "          \"fitable\": \"True\",\n",
       "          \"final_value\": \"None\",\n",
       "          \"x\": \"7.6\"\n",
       "        }\n",
       "      }\n",
       "    }\n",
       "  },\n",
       "  \"embedding_energies\": {\n",
       "    \"F\": {\n",
       "      \"input_variable\": \"'r'\",\n",
       "      \"identifier\": \"'F'\",\n",
       "      \"species\": \"['*', '*']\",\n",
       "      \"parameters\": {\n",
       "        \"A\": {\n",
       "          \"param\": \"'A'\",\n",
       "          \"start_val\": \"3.3\",\n",
       "          \"enabled\": \"True\",\n",
       "          \"reset\": \"False\",\n",
       "          \"min_val\": \"0.0\",\n",
       "          \"max_val\": \"None\",\n",
       "          \"tag\": \"None\",\n",
       "          \"fitable\": \"True\",\n",
       "          \"final_value\": \"3.300380222615908\"\n",
       "        },\n",
       "        \"B\": {\n",
       "          \"param\": \"'B'\",\n",
       "          \"start_val\": \"1.8\",\n",
       "          \"enabled\": \"True\",\n",
       "          \"reset\": \"False\",\n",
       "          \"min_val\": \"0.0\",\n",
       "          \"max_val\": \"None\",\n",
       "          \"tag\": \"None\",\n",
       "          \"fitable\": \"True\",\n",
       "          \"final_value\": \"1.941342723495742\"\n",
       "        }\n",
       "      },\n",
       "      \"expression\": \"'-A*sqrt(r)+B*r'\",\n",
       "      \"derivative\": \"'-A/(2*sqrt(r))+B'\",\n",
       "      \"is_screening_function\": \"False\",\n",
       "      \"cutoff\": \"None\",\n",
       "      \"screening\": \"None\"\n",
       "    }\n",
       "  },\n",
       "  \"identifier\": \"'EAM'\",\n",
       "  \"export_file\": \"'output.eam.fs'\",\n",
       "  \"rho_range_factor\": \"2.0\",\n",
       "  \"resolution\": \"10000\",\n",
       "  \"species\": \"['*', '*']\"\n",
       "})</pre>"
      ],
      "text/plain": [
       "EAMPotential({'pair_interactions': DataContainer({'V': MorseB({'species': ['*', '*'], 'parameters': FunctionParameterList({'D0': FunctionParameter({'param': 'D0', 'start_val': 0.15, 'enabled': True, 'reset': False, 'min_val': 0.05, 'max_val': 1.55, 'tag': None, 'fitable': True, 'final_value': 0.1530946632052217}), 'r0': FunctionParameter({'param': 'r0', 'start_val': 3.05, 'enabled': True, 'reset': False, 'min_val': 2.6, 'max_val': 3.1, 'tag': None, 'fitable': True, 'final_value': 3.051226104734049}), 'beta': FunctionParameter({'param': 'beta', 'start_val': 1.1, 'enabled': True, 'reset': False, 'min_val': None, 'max_val': None, 'tag': None, 'fitable': True, 'final_value': 1.354779328092613}), 'S': FunctionParameter({'param': 'S', 'start_val': 4.1, 'enabled': True, 'reset': False, 'min_val': 1.5, 'max_val': 4.5, 'tag': None, 'fitable': True, 'final_value': 4.099994790262965}), 'delta': FunctionParameter({'param': 'delta', 'start_val': -0.01, 'enabled': True, 'reset': False, 'min_val': None, 'max_val': 0.005, 'tag': None, 'fitable': True, 'final_value': -0.01532934405060739})}), 'is_screening_function': False, 'identifier': 'V', 'screening': XpowNCutoff({'species': ['*', '*'], 'parameters': FunctionParameterList({'cutoff': FunctionParameter({'param': 'cutoff', 'start_val': 7.6, 'enabled': False, 'reset': False, 'min_val': None, 'max_val': None, 'tag': None, 'fitable': False, 'final_value': None}), 'h': FunctionParameter({'param': 'h', 'start_val': 1, 'enabled': False, 'reset': False, 'min_val': None, 'max_val': None, 'tag': None, 'fitable': True, 'final_value': None}), 'N': FunctionParameter({'param': 'N', 'start_val': 4, 'enabled': False, 'reset': False, 'min_val': None, 'max_val': None, 'tag': None, 'fitable': True, 'final_value': None})}), 'is_screening_function': True, 'identifier': 'V_screen'})})}), 'electron_densities': DataContainer({'rho_AlAl': Spline({'identifier': 'rho_AlAl', 'cutoff': 7.6, 'derivative_left': FunctionParameter({'param': 'derivative-left', 'start_val': -0.2, 'enabled': True, 'reset': False, 'min_val': None, 'max_val': 0.0, 'tag': None, 'fitable': True, 'final_value': -0.2003639909380159}), 'derivative_right': FunctionParameter({'param': 'derivative-right', 'start_val': 0, 'enabled': False, 'reset': False, 'min_val': None, 'max_val': None, 'tag': None, 'fitable': True, 'final_value': None}), 'species': ['*', '*'], 'parameters': NodeList({'node_1': Node({'param': 'node', 'start_val': 0.36787944117144233, 'enabled': True, 'reset': False, 'min_val': 0.0, 'max_val': 1.0, 'tag': None, 'fitable': True, 'final_value': 0.3678099451630189, 'x': 1.0}), 'node_2.2': Node({'param': 'node', 'start_val': 0.11080315836233387, 'enabled': True, 'reset': False, 'min_val': 0.0, 'max_val': 1.0, 'tag': None, 'fitable': True, 'final_value': 0.1116747345072877, 'x': 2.2}), 'node_2.7': Node({'param': 'node', 'start_val': 0.06720551273974976, 'enabled': True, 'reset': False, 'min_val': 0.0, 'max_val': 1.0, 'tag': None, 'fitable': True, 'final_value': 0.07145424033657911, 'x': 2.7}), 'node_3.2': Node({'param': 'node', 'start_val': 0.04076220397836621, 'enabled': True, 'reset': False, 'min_val': 0.0, 'max_val': 1.0, 'tag': None, 'fitable': True, 'final_value': 0.04425295799860187, 'x': 3.2}), 'node_4': Node({'param': 'node', 'start_val': 0.01831563888873418, 'enabled': True, 'reset': False, 'min_val': 0.0, 'max_val': 1.0, 'tag': None, 'fitable': True, 'final_value': 0.01922526131909083, 'x': 4.0}), 'node_5': Node({'param': 'node', 'start_val': 0.006737946999085467, 'enabled': True, 'reset': False, 'min_val': 0.0, 'max_val': 1.0, 'tag': None, 'fitable': True, 'final_value': 0.006425127502193282, 'x': 5.0}), 'node_7.6': Node({'param': 'node', 'start_val': 0, 'enabled': False, 'reset': False, 'min_val': None, 'max_val': None, 'tag': None, 'fitable': True, 'final_value': None, 'x': 7.6})})})}), 'embedding_energies': DataContainer({'F': UserFunction({'input_variable': 'r', 'identifier': 'F', 'species': ['*', '*'], 'parameters': FunctionParameterList({'A': FunctionParameter({'param': 'A', 'start_val': 3.3, 'enabled': True, 'reset': False, 'min_val': 0.0, 'max_val': None, 'tag': None, 'fitable': True, 'final_value': 3.300380222615908}), 'B': FunctionParameter({'param': 'B', 'start_val': 1.8, 'enabled': True, 'reset': False, 'min_val': 0.0, 'max_val': None, 'tag': None, 'fitable': True, 'final_value': 1.941342723495742})}), 'expression': '-A*sqrt(r)+B*r', 'derivative': '-A/(2*sqrt(r))+B', 'is_screening_function': False, 'cutoff': None, 'screening': None})}), 'identifier': 'EAM', 'export_file': 'output.eam.fs', 'rho_range_factor': 2.0, 'resolution': 10000, 'species': ['*', '*']})"
      ]
     },
     "execution_count": 17,
     "metadata": {},
     "output_type": "execute_result"
    }
   ],
   "source": [
    "job.potential"
   ]
  },
  {
   "cell_type": "code",
   "execution_count": 18,
   "id": "2fe49eb2-bccb-4ba6-9a9f-8af61f6715c5",
   "metadata": {},
   "outputs": [
    {
     "data": {
      "text/plain": [
       "(<Figure size 576x1296 with 3 Axes>,\n",
       " array([[<AxesSubplot:title={'center':'Al F'}, xlabel='$\\\\rho $ [a.u.]'>],\n",
       "        [<AxesSubplot:title={'center':'Al rho_AlAl'}, xlabel='r [$\\\\AA$]'>],\n",
       "        [<AxesSubplot:title={'center':'Al V_AlAl'}, xlabel='r [$\\\\AA$]'>]],\n",
       "       dtype=object))"
      ]
     },
     "execution_count": 18,
     "metadata": {},
     "output_type": "execute_result"
    },
    {
     "data": {
      "image/png": "[encoded data removed]",
      "text/plain": [
       "<Figure size 576x1296 with 3 Axes>"
      ]
     },
     "metadata": {
      "needs_background": "light"
     },
     "output_type": "display_data"
    }
   ],
   "source": [
    "job.plot_final_potential()"
   ]
  },
  {
   "cell_type": "markdown",
   "id": "fd58d03d-79bb-4a27-a7bd-371e6dba48a4",
   "metadata": {},
   "source": [
    "Acces the plotting interface common to the different fitting codes usable via pyiron"
   ]
  },
  {
   "cell_type": "code",
   "execution_count": 19,
   "id": "1230ba4e-4a4b-42fe-9355-5e1360fab63d",
   "metadata": {},
   "outputs": [],
   "source": [
    "plots = job.plot"
   ]
  },
  {
   "cell_type": "code",
   "execution_count": 20,
   "id": "7f94c7c7-eda9-4d39-8e82-a2e498b069cb",
   "metadata": {},
   "outputs": [
    {
     "data": {
      "image/png": "[encoded data removed]",
      "text/plain": [
       "<Figure size 1008x504 with 2 Axes>"
      ]
     },
     "metadata": {
      "needs_background": "light"
     },
     "output_type": "display_data"
    }
   ],
   "source": [
    "plt.figure(figsize=(14,7)) # Increase the size a bit\n",
    "plots.energy_scatter_histogram()"
   ]
  },
  {
   "cell_type": "code",
   "execution_count": 21,
   "id": "92a3bc17-de4a-459d-8ccf-4b0e59283f80",
   "metadata": {},
   "outputs": [
    {
     "data": {
      "image/png": "[encoded data removed]",
      "text/plain": [
       "<Figure size 1008x504 with 2 Axes>"
      ]
     },
     "metadata": {
      "needs_background": "light"
     },
     "output_type": "display_data"
    }
   ],
   "source": [
    "plt.figure(figsize=(14,7))\n",
    "plots.force_scatter_histogram()"
   ]
  },
  {
   "cell_type": "code",
   "execution_count": 22,
   "id": "6bc97148-4858-4493-b527-e57037a9f7cb",
   "metadata": {},
   "outputs": [
    {
     "data": {
      "image/png": "[encoded data removed]",
      "text/plain": [
       "<Figure size 1008x504 with 2 Axes>"
      ]
     },
     "metadata": {
      "needs_background": "light"
     },
     "output_type": "display_data"
    }
   ],
   "source": [
    "plt.figure(figsize=(14,7))\n",
    "plots.force_scatter_histogram(axis=0)"
   ]
  },
  {
   "cell_type": "markdown",
   "id": "42b4825a-9f46-4cf2-9ab6-3ab2da665eba",
   "metadata": {
    "tags": []
   },
   "source": [
    "### Short Test"
   ]
  },
  {
   "cell_type": "code",
   "execution_count": 23,
   "id": "e233952f-ff1d-42d9-bb61-ea94c4461368",
   "metadata": {},
   "outputs": [
    {
     "name": "stdout",
     "output_type": "stream",
     "text": [
      "The job Al was saved and received the ID: 738903\n"
     ]
    }
   ],
   "source": [
    "lmp = pr.create.job.Lammps(\"Al\", delete_existing_job=True)\n",
    "lmp.structure = pr.create.structure.ase.bulk(\"Al\", cubic=True)\n",
    "lmp.potential = job.lammps_potential\n",
    "lmp.calc_minimize(pressure=0)\n",
    "lmp.run()"
   ]
  },
  {
   "cell_type": "code",
   "execution_count": 24,
   "id": "822bae18-b13c-4de6-949b-beb34ffe60b8",
   "metadata": {},
   "outputs": [
    {
     "data": {
      "text/plain": [
       "Al: [0. 0. 0.]\n",
       "Al: [0.         1.98553722 1.98553722]\n",
       "Al: [1.98553722e+00 1.21579090e-16 1.98553722e+00]\n",
       "Al: [1.98553722e+00 1.98553722e+00 2.43158180e-16]\n",
       "pbc: [ True  True  True]\n",
       "cell: \n",
       "Cell([[3.9710744457956384, 2.431581804609739e-16, 2.431581804609739e-16], [0.0, 3.9710744457956384, 2.431581804609739e-16], [0.0, 0.0, 3.9710744457956384]])"
      ]
     },
     "execution_count": 24,
     "metadata": {},
     "output_type": "execute_result"
    }
   ],
   "source": [
    "lmp.get_structure()"
   ]
  },
  {
   "cell_type": "code",
   "execution_count": 25,
   "id": "a1eb8451-356b-4768-b903-fc4843db40d5",
   "metadata": {},
   "outputs": [
    {
     "name": "stdout",
     "output_type": "stream",
     "text": [
      "The job AlMurn was saved and received the ID: 738904\n",
      "The job AlMurn_0_9 was saved and received the ID: 738905\n",
      "The job AlMurn_0_92 was saved and received the ID: 738906\n",
      "The job AlMurn_0_94 was saved and received the ID: 738907\n",
      "The job AlMurn_0_96 was saved and received the ID: 738908\n",
      "The job AlMurn_0_98 was saved and received the ID: 738909\n",
      "The job AlMurn_1_0 was saved and received the ID: 738910\n",
      "The job AlMurn_1_02 was saved and received the ID: 738911\n",
      "The job AlMurn_1_04 was saved and received the ID: 738912\n",
      "The job AlMurn_1_06 was saved and received the ID: 738913\n",
      "The job AlMurn_1_08 was saved and received the ID: 738915\n",
      "The job AlMurn_1_1 was saved and received the ID: 738916\n"
     ]
    }
   ],
   "source": [
    "ref = pr.create.job.Lammps(\"AlRef\")\n",
    "ref.structure = lmp.get_structure()\n",
    "ref.potential = job.lammps_potential\n",
    "\n",
    "murn = pr.create.job.Murnaghan(\"AlMurn\", delete_existing_job=True)\n",
    "murn.ref_job = ref\n",
    "murn.run()"
   ]
  },
  {
   "cell_type": "code",
   "execution_count": 26,
   "id": "bce8a797-d906-4c0b-b674-eeb7f09169d3",
   "metadata": {},
   "outputs": [
    {
     "data": {
      "image/png": "[encoded data removed]",
      "text/plain": [
       "<Figure size 432x288 with 1 Axes>"
      ]
     },
     "metadata": {
      "needs_background": "light"
     },
     "output_type": "display_data"
    },
    {
     "data": {
      "text/plain": [
       "<AxesSubplot:title={'center':'Murnaghan: error: 3.082572904090247e-08'}, xlabel='Volume ($\\\\AA^3$)', ylabel='energy (eV)'>"
      ]
     },
     "execution_count": 26,
     "metadata": {},
     "output_type": "execute_result"
    }
   ],
   "source": [
    "murn.plot()"
   ]
  },
  {
   "cell_type": "code",
   "execution_count": 27,
   "id": "f82f8b1e-bc91-4c16-a508-784f6ba1a5be",
   "metadata": {},
   "outputs": [
    {
     "data": {
      "text/plain": [
       "{'poly_fit': array([-6.99807253e-05,  1.71831609e-02, -1.32879944e+00,  1.89910998e+01]),\n",
       " 'fit_type': 'polynomial',\n",
       " 'fit_order': 3,\n",
       " 'volume_eq': 62.622371605280996,\n",
       " 'energy_eq': -14.022341476671993,\n",
       " 'bulkmodul_eq': 80.98975711851953,\n",
       " 'b_prime_eq': 2.257384373924286,\n",
       " 'least_square_error': 3.082572904090247e-08}"
      ]
     },
     "execution_count": 27,
     "metadata": {},
     "output_type": "execute_result"
    }
   ],
   "source": [
    "murn.fit_polynomial()"
   ]
  },
  {
   "cell_type": "markdown",
   "id": "af0bb904-c780-4aeb-a975-a4b800c10c2b",
   "metadata": {},
   "source": [
    "### Improving the potential:\n",
    "- try with different starting parameters / global optimization\n",
    "- change weights of structures and fit properties\n",
    "- change functions used"
   ]
  },
  {
   "cell_type": "code",
   "execution_count": null,
   "id": "1c654e1d-8c92-4b43-a78a-b0222b5f6128",
   "metadata": {},
   "outputs": [],
   "source": []
  }
 ],
 "metadata": {
  "kernelspec": {
   "display_name": "Python 3 (ipykernel)",
   "language": "python",
   "name": "python3"
  },
  "language_info": {
   "codemirror_mode": {
    "name": "ipython",
    "version": 3
   },
   "file_extension": ".py",
   "mimetype": "text/x-python",
   "name": "python",
   "nbconvert_exporter": "python",
   "pygments_lexer": "ipython3",
   "version": "3.9.13"
  }
 },
 "nbformat": 4,
 "nbformat_minor": 5
}
