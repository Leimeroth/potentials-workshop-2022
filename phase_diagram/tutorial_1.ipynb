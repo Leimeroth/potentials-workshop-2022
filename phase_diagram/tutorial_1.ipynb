{
 "cells": [
  {
   "cell_type": "markdown",
   "id": "26a98d00",
   "metadata": {},
   "source": [
    "<table border=\"0\">\n",
    " <tr>\n",
    "    <td style=\"width:30%\"><img src=\"img/potentials_logo.png\" width=\"100%\" align=\"justify\"></td>\n",
    "    <td style=\"width:70%\"> <p style=\"width:100%;color:#B71C1C;font-size:24px;text-align:justify\"> From electrons to phase diagrams </p> <p style=\"width:100%,font-size:16px\">Day 03 Hands-on session (Part 2)</td>\n",
    " </tr>\n",
    "</table>"
   ]
  },
  {
   "cell_type": "markdown",
   "id": "2764026b-7e3c-49c5-bd55-cd8c3483e622",
   "metadata": {},
   "source": [
    "In this notebook, we will use the potentials fitted in the previous days for the calculation of thermodynamic properties such as Helmholtz and Gibbs free energies, which in turn can be used for the calculation of phase diagrams. We will discuss calphy, the tool for automated calculation of free energies, and the methology involved.\n"
   ]
  },
  {
   "cell_type": "markdown",
   "id": "07b882f8-7f51-4a52-a705-ace7e1ebeed3",
   "metadata": {},
   "source": [
    "---"
   ]
  },
  {
   "cell_type": "markdown",
   "id": "d0179a03-9fb9-4df5-b3f1-71b3328d77c5",
   "metadata": {},
   "source": [
    "### <font style=\"color:#B71C1C\" face=\"Helvetica\" > Phase diagrams and how to calculate them </font>"
   ]
  },
  {
   "cell_type": "markdown",
   "id": "edf671a7-a872-403d-9ee0-b64362898b8a",
   "metadata": {},
   "source": [
    "<table border=\"0\">\n",
    " <tr>\n",
    "    <td style=\"width:40%\"><img src=\"img/phase_dia_1.png\" width=\"100%\" align=\"justify\"></td>\n",
    "    <td style=\"width:60%\"> <p style=\"font-size:14px\">Phase diagrams provide a wealth of information such as: coexisting lines, melting temperature, phase stability, nucleation mechanism. </p></td>\n",
    " </tr>\n",
    "</table>"
   ]
  },
  {
   "cell_type": "markdown",
   "id": "c49bf79a-fb01-4195-8c91-bd01e507edf5",
   "metadata": {},
   "source": [
    "### <font style=\"color:#B71C1C\" face=\"Helvetica\" > Calculation of phase diagrams: the essential ingredients</font>"
   ]
  },
  {
   "cell_type": "markdown",
   "id": "7a31d904-9d7f-49c4-ba7a-87f62d487533",
   "metadata": {},
   "source": [
    "<table border=\"0\">\n",
    " <tr>\n",
    "    <td style=\"width:50%\"><img src=\"img/cimg4.png\" width=\"100%\" align=\"justify\"></td>\n",
    "    <td style=\"width:50%\"> <p style=\"font-size:14px\">Phase diagrams can be evaluated from free energy diagrams. <br> <br>\n",
    "        The required input are: <br> <br>\n",
    "        &#9679; $G(P, T)$ for unary systems <br>\n",
    "        &#9679; $G(x, T)$ for binary systems </p></td>\n",
    " </tr>\n",
    "</table>"
   ]
  },
  {
   "cell_type": "markdown",
   "id": "7b91a437-4e0f-466e-9655-88f1a3fdf55b",
   "metadata": {},
   "source": [
    "### <font style=\"color:#B71C1C\" face=\"Helvetica\" > Calculation of free energies: Thermodynamic integration </font>"
   ]
  },
  {
   "cell_type": "markdown",
   "id": "137d7e14-d08d-4333-9509-d551d4f58ee2",
   "metadata": {
    "tags": []
   },
   "source": [
    "<img src=\"img/fig1.png\" width=\"1000\">"
   ]
  },
  {
   "cell_type": "markdown",
   "id": "04177e7c-c1fa-4d60-aa6e-48483534aa15",
   "metadata": {},
   "source": [
    "- free energy of reference system are known: Einstein crystal, [Uhlenbeck-Ford model](https://doi.org/10.1063/1.4967775)\n",
    "- the two systems are coupled by \n",
    "$$\n",
    "H(\\lambda) = \\lambda H_f + (1-\\lambda)\\lambda H_i\n",
    "$$\n",
    "- Run calculations for each $\\lambda$ and integrate \n",
    "$$\n",
    "G_f = G_i + \\int_{\\lambda=0}^1 d\\lambda \\bigg \\langle  \\frac{\\partial H(\\lambda)}{\\partial \\lambda } \\bigg \\rangle\n",
    "$$"
   ]
  },
  {
   "cell_type": "markdown",
   "id": "6040fc8d-d177-43f0-adc0-78124d6675e1",
   "metadata": {},
   "source": [
    "To calculate $F$,\n",
    "\n",
    "- for each phase\n",
    "    - for each pressure\n",
    "        - for each temperature\n",
    "            - for each $\\lambda$\n",
    "\n",
    "If we choose 100 different $\\lambda$ values; 100 calculations are needed for each temperature and pressure! \n",
    "\n",
    "**Dimensionality: (phase, $P$, $T$, $\\lambda$)**\n",
    "\n"
   ]
  },
  {
   "cell_type": "markdown",
   "id": "491f35d6-bd71-45f1-bd8c-96994acc5d12",
   "metadata": {},
   "source": [
    "### <font style=\"color:#B71C1C\" face=\"Helvetica\" > Speeding things up: Non-equilibrium calculations </font>"
   ]
  },
  {
   "cell_type": "markdown",
   "id": "9beb73ad-4bf4-4e2b-95a5-ceaadbdb7631",
   "metadata": {},
   "source": [
    "##### Non-Equilibrium Hamiltonian Interpolation\n",
    "\n",
    "<img src=\"img/cimg5.png\" width=\"600\">"
   ]
  },
  {
   "cell_type": "markdown",
   "id": "772faf05-a45d-4a73-9fa9-6debe9c01b91",
   "metadata": {},
   "source": [
    "In this method:\n",
    "\n",
    "- Discrete $\\lambda$ parameter is replaced by a time dependent $\\lambda(t)$\n",
    "- Instead of running calculations at each $\\lambda$, run a single, short, non-equilibrium calculation"
   ]
  },
  {
   "cell_type": "markdown",
   "id": "b8724300-dc2e-448f-9e73-5c94b5fd16e2",
   "metadata": {},
   "source": [
    "$$\n",
    "G_f = G_i + \\int_{t_i}^{t_f} dt \\frac{d\\lambda (t)}{dt}  \\frac{ H(\\lambda)}{\\partial \\lambda }\n",
    "$$"
   ]
  },
  {
   "cell_type": "markdown",
   "id": "4e0c133b-9940-4210-96c2-8f011eec2359",
   "metadata": {},
   "source": [
    "As discussed:\n",
    "- the coupling parameter $\\lambda$ earlier is replaced by a time dependent parameter\n",
    "- The equation also no longer has an ensemble average  \n",
    "\n",
    "These aspects makes it quite easy and fast to estimate this integral."
   ]
  },
  {
   "cell_type": "markdown",
   "id": "c3d5ac19-d984-42b6-8681-2072225db24c",
   "metadata": {},
   "source": [
    "However:\n",
    "- this equation holds when the switching betwen the system of interest and reference system is carried out infinitely slowly\n",
    "- Practically, this is not not possible. "
   ]
  },
  {
   "cell_type": "markdown",
   "id": "ef6c1b6d-fceb-4027-a434-08a1e4ccdc0b",
   "metadata": {},
   "source": [
    "Therefore we can write:\n",
    "\n",
    "$$\n",
    "\\Delta G = W_{rev} = W_s - E_d\n",
    "$$\n",
    "\n",
    "$$\n",
    "W_s = \\int_{t_i}^{t_f} dt \\frac{d\\lambda (t)}{dt}  \\frac{ H(\\lambda)}{\\partial \\lambda }\n",
    "$$\n",
    "\n",
    "- $E_d$ is the energy dissipation\n",
    "- $E_d \\to 0$ when $t_f-t_i \\to \\infty$"
   ]
  },
  {
   "cell_type": "markdown",
   "id": "d886249a-1bae-495b-a330-37111f901328",
   "metadata": {},
   "source": [
    "So far, so good, but how is this useful?\n",
    "\n",
    "- Instead of a single transformation from system of interest to reference, we switch back too\n",
    "- These are called forward $(i \\to f)$ and backward $(f \\to i)$ switching\n",
    "- $t_f - t_i = t_{sw}$ is the switching time in each direction\n",
    "- If $t_{sw}$ is long enough, $E_d^{i \\to f} = E_d^{f \\to i}$\n",
    "- and $\\Delta G = \\frac{1}{2} (W_s^{i \\to f} - W_s^{f \\to i})$"
   ]
  },
  {
   "cell_type": "markdown",
   "id": "0b698a0b-9de7-42c3-8c07-18fad961c5b4",
   "metadata": {},
   "source": [
    "Now, we have all the components required for actual calculations.\n",
    "\n",
    "We have also managed to successfully reduce the dimensionality\n",
    "\n",
    "- for each phase\n",
    "    - for each pressure\n",
    "        - for each temperature\n",
    "            - ~~for each $\\lambda$~~\n",
    "\n",
    "**Dimensionality: (phase, $P$, $T$)**\n",
    "\n",
    "\n",
    "So, how do we calculate the free energy of a system modelled with a given interatomic potential?"
   ]
  },
  {
   "cell_type": "markdown",
   "id": "3a155704-80bf-423a-9581-e3f262b06008",
   "metadata": {},
   "source": [
    "### <font style=\"color:#B71C1C\" face=\"Helvetica\" > Hands-on: Calculate free energy </font>"
   ]
  },
  {
   "cell_type": "markdown",
   "id": "f5615847-ca0b-4ca5-8e7f-6321bdf9040d",
   "metadata": {},
   "source": [
    "Before we really do the calculations, let's convert our equations to a workflow."
   ]
  },
  {
   "cell_type": "markdown",
   "id": "71d29847-1f0c-45d1-aeb6-6a90a8bbaa9e",
   "metadata": {},
   "source": [
    "#### Task: Find free energy of Al in FCC lattice at 500 K and 0 pressure"
   ]
  },
  {
   "cell_type": "markdown",
   "id": "9d8f99a1-5523-4e5c-967d-cfe8a4150dc6",
   "metadata": {},
   "source": [
    "1. Create an Al FCC lattice\n",
    "2. Choose an interatomic potential\n",
    "3. Run MD calculations at 500 K and 0 pressure to equilibrate the system\n",
    "4. Introduce the reference system\n",
    "5. Switch....\n",
    "6. ....."
   ]
  },
  {
   "cell_type": "markdown",
   "id": "c6a413cf-6b7d-435f-b856-42108db12c86",
   "metadata": {},
   "source": [
    "Steps 1-3 should be fairly easy, we saw this in the last days and also in the first session. But how do we introduce a reference system?\n",
    "\n",
    "- A reference system is simply one for which the free energy is analytically known ($G_i$)\n",
    "- We calculate the free energy difference between this and the system of interest.\n",
    "\n",
    "In case of solids, a good choice of a reference system is the Einstein crystal. An Einstein crystal is a set of independent harmonic oscillators attached to the lattice positions. \n"
   ]
  },
  {
   "cell_type": "markdown",
   "id": "62a6c58c-ceca-4440-bb6b-507fa0af306c",
   "metadata": {},
   "source": [
    "The free energy of the Einstein crystal is:\n",
    "\n",
    "$$\n",
    "F_E = 3 k_B T \\sum_{i} ln \\bigg ( \\frac{\\hbar \\omega_i}{k_B T} \\bigg )\n",
    "$$\n",
    "\n",
    "We need to calculate:\n",
    "\n",
    "- $\\omega$\n",
    "- A common way is $$  \\frac{1}{2} k_i \\langle (\\Delta \\pmb{r}_i)^2 \\rangle = \\frac{3}{2} k_\\mathrm{B} T $$\n",
    "- $\\langle (\\Delta \\pmb{r}_i)^2 \\rangle$ is the mean squared displacement."
   ]
  },
  {
   "cell_type": "markdown",
   "id": "99e90f66-4d61-4a32-9001-dbca3b757299",
   "metadata": {},
   "source": [
    "Now that we know about the reference system, let's update our pseudo workflow:\n",
    "\n",
    "1. Create an Al fcc lattice\n",
    "2. Choose an interatomic potential\n",
    "3. Run MD calculations at 500 K and 0 pressure to equilibrate the system\n",
    "4. Calculate the mean squared displacement, therefore spring constants\n",
    "5. Switch system of interest to reference system\n",
    "6. Equilibrate the system\n",
    "7. Switch back to system of interest\n",
    "8. Find the work done\n",
    "9. Add to the free energy of the Einstein crystal"
   ]
  },
  {
   "cell_type": "markdown",
   "id": "5aa2903b-1da2-4a25-8bfc-f60dd570d7f5",
   "metadata": {},
   "source": [
    "As you can see, there are a number of steps that need to be done. This is where **calphy** and **pyiron** come in. These tools automatise all of the above steps and makes it easy to perform these calculations."
   ]
  },
  {
   "cell_type": "markdown",
   "id": "eac7fc00-1896-4781-900d-bd7551f86faf",
   "metadata": {},
   "source": [
    "#### Import modules"
   ]
  },
  {
   "cell_type": "code",
   "execution_count": 1,
   "id": "36610adb-6834-41f1-9de8-b95f322901af",
   "metadata": {},
   "outputs": [],
   "source": [
    "from helpers import potential_list\n",
    "from pyiron_atomistics import Project\n",
    "import matplotlib.pyplot as plt\n",
    "import numpy as np"
   ]
  },
  {
   "cell_type": "markdown",
   "id": "1b32a5db-7c1c-4d4c-8af3-51ed4a9e7e02",
   "metadata": {},
   "source": [
    "#### Create a project"
   ]
  },
  {
   "cell_type": "code",
   "execution_count": 2,
   "id": "29ab8d01-2777-4dde-b14c-3ac46e80b4f7",
   "metadata": {},
   "outputs": [],
   "source": [
    "pr = Project('AlLi_thermodynamics') "
   ]
  },
  {
   "cell_type": "markdown",
   "id": "0e8bd0a3-dad4-473e-9a72-0809a56345a6",
   "metadata": {},
   "source": [
    "Now we create a job within"
   ]
  },
  {
   "cell_type": "code",
   "execution_count": 3,
   "id": "a3cf44e3-5440-42ce-a687-d34610046c53",
   "metadata": {},
   "outputs": [],
   "source": [
    "al_sol = pr.create.job.Calphy(\"Al_fcc_500\", delete_aborted_job=True)"
   ]
  },
  {
   "cell_type": "markdown",
   "id": "944349e8-66a6-4456-a639-329fd05169b7",
   "metadata": {},
   "source": [
    "There are a number of input the job can take. We can gain some information about the job from the docstrings."
   ]
  },
  {
   "cell_type": "code",
   "execution_count": 4,
   "id": "639c9cdd-529c-42e7-a497-1f66b7cc2aba",
   "metadata": {},
   "outputs": [
    {
     "data": {
      "text/plain": [
       "\u001b[0;31mType:\u001b[0m        Calphy\n",
       "\u001b[0;31mString form:\u001b[0m {'groups': [], 'nodes': []}\n",
       "\u001b[0;31mFile:\u001b[0m        /srv/conda/envs/notebook/lib/python3.8/site-packages/pyiron_atomistics/calphy/job.py\n",
       "\u001b[0;31mDocstring:\u001b[0m  \n",
       "Class to set up and run calphy jobs for calculation of free energies using LAMMPS.\n",
       "\n",
       "An input structure (:attr:`structure`) and interatomic potential (:attr:`potential`) are necessary input options. The additional input options such as the temperature and pressure are specified in the :meth:`.calc_free_energy` method. Depending on the input parameters, a corresponding calculation mode is selected. Further input options can be accessed through :attr:`input.md` and :attr:`input.tolerance`.\n",
       "\n",
       "An example which calculates the free energy of Cu using an interatomic potential:\n",
       "\n",
       "```python\n",
       "job.structure = pr.create.structure.ase.bulk('Cu', cubic=True).repeat(5)\n",
       "job.potential = \"2001--Mishin-Y--Cu-1--LAMMPS--ipr1\"\n",
       "job.calc_free_energy(temperature=1100, pressure=0, reference_phase=\"solid\")\n",
       "job.run()\n",
       "```\n",
       "\n",
       "In order to calculate the free energy of the liquid phase, the `reference_phase` should be set to `liquid`.\n",
       "\n",
       "The different modes can be selected as follows:\n",
       "\n",
       "For free energy at a given temperature and pressure:\n",
       "\n",
       "```python\n",
       "job.calc_free_energy(temperature=1100, pressure=0, reference_phase=\"solid\")\n",
       "```\n",
       "\n",
       "Alternatively, :func:`calc_mode_fe` can be used.\n",
       "\n",
       "To obtain the free energy between a given temperature range (temperature scaling):\n",
       "\n",
       "```python\n",
       "job.calc_free_energy(temperature=[1100, 1400], pressure=0, reference_phase=\"solid\")\n",
       "```\n",
       "\n",
       "Alternatively, :func:`calc_mode_ts` can be used.\n",
       "\n",
       "For free energy between a given pressure range (pressure scaling)\n",
       "\n",
       "```python\n",
       "job.calc_free_energy(temperature=1000, pressure=[0, 100000], reference_phase=\"solid\")\n",
       "```\n",
       "\n",
       "Alternatively, :func:`calc_mode_pscale` can be used.\n",
       "\n",
       "To obtain the free energy difference between two interatomic potentials (alchemy/upsampling)\n",
       "\n",
       "```python\n",
       "job.potential = [\"2001--Mishin-Y--Cu-1--LAMMPS--ipr1\", \"1986--Foiles-S-M--Cu--LAMMPS--ipr1\"]\n",
       "job.calc_free_energy(temperature=1100, pressure=0, reference_phase=\"solid\")\n",
       "job.run()\n",
       "```\n",
       "\n",
       "Alternatively, :func:`calc_mode_alchemy` can be used.\n",
       "\n",
       "The way `pressure` is specified determines how the barostat affects the system. For isotropic pressure control:\n",
       "\n",
       "```python\n",
       "job.calc_free_energy(temperature=[1100, 1400], pressure=0, reference_phase=\"solid\")\n",
       "```\n",
       "\n",
       "For anisotropic pressure control:\n",
       "\n",
       "```python\n",
       "job.calc_free_energy(temperature=[1100, 1400], pressure=[0, 0, 0], reference_phase=\"solid\")\n",
       "```\n",
       "\n",
       "To constrain the lattice:\n",
       "\n",
       "```python\n",
       "job.calc_free_energy(temperature=[1100, 1400], pressure=None, reference_phase=\"solid\")\n",
       "```\n",
       "\n",
       "In addition the boolean option :attr:`input.npt` can be used to determine the MD ensemble. If True, temperature integration and alchemy/upsampling are carried out in the NPT ensemble. If False, the NVT ensemble is employed.\n",
       "\n",
       "After the calculation is over, the various output options can be accessed through `job.output`.\n"
      ]
     },
     "metadata": {},
     "output_type": "display_data"
    }
   ],
   "source": [
    "al_sol?"
   ]
  },
  {
   "cell_type": "markdown",
   "id": "2dc51399-994d-441e-a091-bc8e872904ea",
   "metadata": {},
   "source": [
    "First the interatomic potential need to be set"
   ]
  },
  {
   "cell_type": "code",
   "execution_count": 5,
   "id": "bb07f393-4cd8-4151-a83f-a4b48c9270f9",
   "metadata": {},
   "outputs": [],
   "source": [
    "al_sol.potential = potential_list[0]"
   ]
  },
  {
   "cell_type": "markdown",
   "id": "0aac11a3-bef6-472c-b48d-0a7d49f321ed",
   "metadata": {},
   "source": [
    "Now we create an FCC structure and assign it to the Job"
   ]
  },
  {
   "cell_type": "code",
   "execution_count": 6,
   "id": "8e1196f2-f25a-473c-b760-8f9515db7954",
   "metadata": {},
   "outputs": [],
   "source": [
    "structure = pr.create.structure.ase.bulk('Al', cubic=True, a=4.099).repeat(3)"
   ]
  },
  {
   "cell_type": "code",
   "execution_count": 7,
   "id": "e3996191-1c90-4977-ba5a-858aff93716a",
   "metadata": {},
   "outputs": [
    {
     "data": {
      "application/vnd.jupyter.widget-view+json": {
       "model_id": "62c9d8451d224271b822a4d42cabef9f",
       "version_major": 2,
       "version_minor": 0
      },
      "text/plain": []
     },
     "metadata": {},
     "output_type": "display_data"
    },
    {
     "data": {
      "application/vnd.jupyter.widget-view+json": {
       "model_id": "afded58675d44cb587e2c7de02eaf185",
       "version_major": 2,
       "version_minor": 0
      },
      "text/plain": [
       "NGLWidget()"
      ]
     },
     "metadata": {},
     "output_type": "display_data"
    }
   ],
   "source": [
    "structure.plot3d()"
   ]
  },
  {
   "cell_type": "code",
   "execution_count": 8,
   "id": "53bd6a33-1dd3-4ba7-9f61-060e81281151",
   "metadata": {},
   "outputs": [],
   "source": [
    "al_sol.structure = structure"
   ]
  },
  {
   "cell_type": "markdown",
   "id": "f5d757dc-1c28-4d41-8a5b-c27e529710e9",
   "metadata": {},
   "source": [
    "We run the job on four cores"
   ]
  },
  {
   "cell_type": "code",
   "execution_count": 9,
   "id": "e32b6251-fcb9-45b1-9a6d-449baa109c7c",
   "metadata": {},
   "outputs": [],
   "source": [
    "al_sol.server.cores = 2"
   ]
  },
  {
   "cell_type": "markdown",
   "id": "364a7381-91ca-4aec-a14f-9fc0028a65e3",
   "metadata": {},
   "source": [
    "Now set up the calculation"
   ]
  },
  {
   "cell_type": "code",
   "execution_count": 10,
   "id": "b76b64c5-dd04-4f2c-bfd0-e6bb60fd7a5a",
   "metadata": {},
   "outputs": [],
   "source": [
    "al_sol.calc_free_energy(temperature=500, \n",
    "                     pressure=0, \n",
    "                     reference_phase=\"solid\",\n",
    "                     n_equilibration_steps=5000,\n",
    "                     n_switching_steps=5000)"
   ]
  },
  {
   "cell_type": "markdown",
   "id": "3932555c-45e7-4783-8737-9ef3ef843147",
   "metadata": {},
   "source": [
    "Before we actually run the calculation, let us discuss the various parameters. `temperature` keyword gives the temperature range over which the free energy is to be calculated. Since we provide `500`, the free energy is calculated at this temperature. `pressure` denotes the pressure of the calculation, we chose 0 in this case. Since we are using a solid FCC lattice, we set `reference_phase` to `\"solid\"`. This means that the Einstein crystal will be used as the reference system. Finally, we have `n_equilibration_steps` and `n_switching_steps`. `n_equilibration_steps` denotes the number of MD steps over which the system is equilibrated to the required temperature and pressure. `n_switching_steps` are the number of MD steps over which the system is continuously transformed between the given interatomic potential, and the reference Einstein crystal."
   ]
  },
  {
   "cell_type": "markdown",
   "id": "b3c69ae1-f50e-414a-94ea-4080062411a2",
   "metadata": {},
   "source": [
    "Now we can actually run the calculation"
   ]
  },
  {
   "cell_type": "code",
   "execution_count": 11,
   "id": "df679a80-f200-4c78-970f-dfd3f732c17b",
   "metadata": {
    "collapsed": true,
    "jupyter": {
     "outputs_hidden": true
    },
    "tags": []
   },
   "outputs": [
    {
     "name": "stderr",
     "output_type": "stream",
     "text": [
      "/srv/conda/envs/notebook/lib/python3.8/site-packages/h5io/_h5io.py:56: PerformanceWarning: \n",
      "your performance may suffer as PyTables will pickle object types that it cannot\n",
      "map directly to c-types [inferred_type->mixed,key->block0_values] [items->Index(['Name', 'Filename', 'Model', 'Species', 'Config'], dtype='object')]\n",
      "\n",
      "  data.to_hdf(fname, rootpath)\n"
     ]
    },
    {
     "name": "stdout",
     "output_type": "stream",
     "text": [
      "The job Al_fcc_500 was saved and received the ID: 1\n"
     ]
    },
    {
     "name": "stderr",
     "output_type": "stream",
     "text": [
      "/srv/conda/envs/notebook/lib/python3.8/site-packages/h5io/_h5io.py:56: PerformanceWarning: \n",
      "your performance may suffer as PyTables will pickle object types that it cannot\n",
      "map directly to c-types [inferred_type->mixed,key->block0_values] [items->Index(['Name', 'Filename', 'Model', 'Species', 'Config'], dtype='object')]\n",
      "\n",
      "  data.to_hdf(fname, rootpath)\n"
     ]
    }
   ],
   "source": [
    "al_sol.run()"
   ]
  },
  {
   "cell_type": "markdown",
   "id": "9f71b947-dce2-4f34-ad7c-afee8bf67b69",
   "metadata": {},
   "source": [
    "Let's take a look at the output, first the free energy"
   ]
  },
  {
   "cell_type": "code",
   "execution_count": 12,
   "id": "5d49cf4e-7508-47a6-8a1a-d4955fc604b9",
   "metadata": {},
   "outputs": [
    {
     "data": {
      "text/plain": [
       "-3.564877340586674"
      ]
     },
     "execution_count": 12,
     "metadata": {},
     "output_type": "execute_result"
    }
   ],
   "source": [
    "al_sol.output.energy_free"
   ]
  },
  {
   "cell_type": "markdown",
   "id": "87c988b7-5d25-4f30-b746-d52987057c21",
   "metadata": {},
   "source": [
    "The units are in eV/atom. We can also see the contributions from the reference system and the work."
   ]
  },
  {
   "cell_type": "code",
   "execution_count": 13,
   "id": "634755ce-7145-4db4-bd30-f0f4d7ee4c8b",
   "metadata": {},
   "outputs": [
    {
     "data": {
      "text/plain": [
       "(-0.15683669582175291, -3.408040644764921)"
      ]
     },
     "execution_count": 13,
     "metadata": {},
     "output_type": "execute_result"
    }
   ],
   "source": [
    "al_sol.output.energy_free_reference, al_sol.output.energy_work"
   ]
  },
  {
   "cell_type": "markdown",
   "id": "d5345566-291a-438f-86a8-3dac09564b9e",
   "metadata": {},
   "source": [
    "The sum of which gives the energy."
   ]
  },
  {
   "cell_type": "markdown",
   "id": "6c3725e8-708d-45d3-a118-24d68c9104df",
   "metadata": {},
   "source": [
    "We can plot and see the energy difference between the system of interest and reference system as a function of the coupling parameter."
   ]
  },
  {
   "cell_type": "code",
   "execution_count": 31,
   "id": "44a697c1-cc57-438e-809f-1727980577b4",
   "metadata": {},
   "outputs": [
    {
     "data": {
      "image/png": "[encoded data removed]",
      "text/plain": [
       "<Figure size 432x288 with 1 Axes>"
      ]
     },
     "metadata": {
      "needs_background": "light"
     },
     "output_type": "display_data"
    }
   ],
   "source": [
    "plt.plot(al_sol.output.forward_lambda, al_sol.output.forward_energy_diff[0], \n",
    "         label=\"forward\", color='#C62828')\n",
    "plt.plot(al_sol.output.backward_lambda, al_sol.output.backward_energy_diff[0], \n",
    "         label=\"backward\", color='#006899')\n",
    "plt.legend()\n",
    "plt.xlabel(r\"$\\lambda$\");"
   ]
  },
  {
   "cell_type": "markdown",
   "id": "0fee4e17-fa64-4c35-b9f7-1814696ae6fd",
   "metadata": {},
   "source": [
    "### <font style=\"color:#B71C1C\" face=\"Helvetica\" > Free energy variation with temperature </font>"
   ]
  },
  {
   "cell_type": "markdown",
   "id": "917b1d54-c1e6-4d4a-b6b6-6e8627ee756f",
   "metadata": {},
   "source": [
    "Now that we have calculated the free energy successfully, we can see how we get the variation of free energy with temperature. The easiest option is to run the calculations we saw above at multiple temperatures. We do at 600 K and 700 K."
   ]
  },
  {
   "cell_type": "code",
   "execution_count": 15,
   "id": "57058b90-d90f-482f-ba16-b7d10500dfa3",
   "metadata": {},
   "outputs": [],
   "source": [
    "structure = pr.create.structure.ase.bulk('Al', cubic=True, a=4.1118).repeat(3)"
   ]
  },
  {
   "cell_type": "code",
   "execution_count": 16,
   "id": "81157bd3-cf1f-4507-8305-85f8c244cf9b",
   "metadata": {
    "tags": []
   },
   "outputs": [
    {
     "name": "stderr",
     "output_type": "stream",
     "text": [
      "/srv/conda/envs/notebook/lib/python3.8/site-packages/h5io/_h5io.py:56: PerformanceWarning: \n",
      "your performance may suffer as PyTables will pickle object types that it cannot\n",
      "map directly to c-types [inferred_type->mixed,key->block0_values] [items->Index(['Name', 'Filename', 'Model', 'Species', 'Config'], dtype='object')]\n",
      "\n",
      "  data.to_hdf(fname, rootpath)\n"
     ]
    },
    {
     "name": "stdout",
     "output_type": "stream",
     "text": [
      "The job Al_fcc_600 was saved and received the ID: 2\n"
     ]
    },
    {
     "name": "stderr",
     "output_type": "stream",
     "text": [
      "/srv/conda/envs/notebook/lib/python3.8/site-packages/h5io/_h5io.py:56: PerformanceWarning: \n",
      "your performance may suffer as PyTables will pickle object types that it cannot\n",
      "map directly to c-types [inferred_type->mixed,key->block0_values] [items->Index(['Name', 'Filename', 'Model', 'Species', 'Config'], dtype='object')]\n",
      "\n",
      "  data.to_hdf(fname, rootpath)\n"
     ]
    }
   ],
   "source": [
    "al_sol1 = pr.create.job.Calphy(\"Al_fcc_600\", delete_aborted_job=True)\n",
    "al_sol1.potential = potential_list[0]\n",
    "al_sol1.structure = structure\n",
    "al_sol1.server.cores = 2\n",
    "al_sol1.calc_free_energy(temperature=600, \n",
    "                     pressure=0, \n",
    "                     reference_phase=\"solid\",\n",
    "                     n_equilibration_steps=5000,\n",
    "                     n_switching_steps=5000)\n",
    "al_sol1.run()"
   ]
  },
  {
   "cell_type": "code",
   "execution_count": 17,
   "id": "72a8df4f-28ea-4953-b882-796e3ee0640d",
   "metadata": {},
   "outputs": [],
   "source": [
    "structure = pr.create.structure.ase.bulk('Al', cubic=True, a=4.123).repeat(3)"
   ]
  },
  {
   "cell_type": "code",
   "execution_count": 18,
   "id": "78428b2d-766a-48c2-91d6-0bf8e12377cb",
   "metadata": {
    "tags": []
   },
   "outputs": [
    {
     "name": "stderr",
     "output_type": "stream",
     "text": [
      "/srv/conda/envs/notebook/lib/python3.8/site-packages/h5io/_h5io.py:56: PerformanceWarning: \n",
      "your performance may suffer as PyTables will pickle object types that it cannot\n",
      "map directly to c-types [inferred_type->mixed,key->block0_values] [items->Index(['Name', 'Filename', 'Model', 'Species', 'Config'], dtype='object')]\n",
      "\n",
      "  data.to_hdf(fname, rootpath)\n"
     ]
    },
    {
     "name": "stdout",
     "output_type": "stream",
     "text": [
      "The job Al_fcc_700 was saved and received the ID: 3\n"
     ]
    },
    {
     "name": "stderr",
     "output_type": "stream",
     "text": [
      "/srv/conda/envs/notebook/lib/python3.8/site-packages/h5io/_h5io.py:56: PerformanceWarning: \n",
      "your performance may suffer as PyTables will pickle object types that it cannot\n",
      "map directly to c-types [inferred_type->mixed,key->block0_values] [items->Index(['Name', 'Filename', 'Model', 'Species', 'Config'], dtype='object')]\n",
      "\n",
      "  data.to_hdf(fname, rootpath)\n"
     ]
    }
   ],
   "source": [
    "al_sol2 = pr.create.job.Calphy(\"Al_fcc_700\", delete_aborted_job=True)\n",
    "al_sol2.potential = potential_list[0]\n",
    "al_sol2.structure = structure\n",
    "al_sol2.server.cores = 2\n",
    "al_sol2.calc_free_energy(temperature=700, \n",
    "                     pressure=0, \n",
    "                     reference_phase=\"solid\",\n",
    "                     n_equilibration_steps=5000,\n",
    "                     n_switching_steps=5000)\n",
    "al_sol2.run()"
   ]
  },
  {
   "cell_type": "markdown",
   "id": "e652ec3d-6208-486f-b94f-0c3a4fbb77db",
   "metadata": {},
   "source": [
    "Compile the results and plot them"
   ]
  },
  {
   "cell_type": "code",
   "execution_count": 19,
   "id": "773d99a7-1efa-4483-9691-ac6eab995f2f",
   "metadata": {},
   "outputs": [],
   "source": [
    "temp = [500, 600, 700]\n",
    "fes = [al_sol.output.energy_free, al_sol1.output.energy_free, al_sol2.output.energy_free]"
   ]
  },
  {
   "cell_type": "code",
   "execution_count": 32,
   "id": "4e47ab3c-9abf-4e62-b74e-4faa8d43aad2",
   "metadata": {},
   "outputs": [
    {
     "data": {
      "image/png": "[encoded data removed]",
      "text/plain": [
       "<Figure size 432x288 with 1 Axes>"
      ]
     },
     "metadata": {
      "needs_background": "light"
     },
     "output_type": "display_data"
    }
   ],
   "source": [
    "plt.plot(temp, fes, 'o', label='fcc', color=\"#e58080\", markeredgecolor=\"#424242\")\n",
    "plt.xlabel(\"Temperature (K)\")\n",
    "plt.ylabel(\"Free energy (eV/K)\");"
   ]
  },
  {
   "cell_type": "markdown",
   "id": "702b45e5-e9cd-4bc8-bedc-f4f4186faecf",
   "metadata": {},
   "source": [
    "That works very well, but can we need three different calculations to arrive at the plot. Furthermore, in order to find the free energy at, for example, 650 K, we need to run another calculation. That is where, reversible scaling, the method discussed in the morning comes in."
   ]
  },
  {
   "cell_type": "markdown",
   "id": "64237f43",
   "metadata": {},
   "source": [
    "### Reversible scaling\n",
    "\n",
    "<img src=\"img/cimg6.png\" width=\"600\">\n",
    "\n",
    "As discussed in the morning lecture, Gibb's free energy via reversible scaling at a constant pressure is given by,\n",
    "\n",
    "$ G(N,P,T_f) = G(N,P,T_i) + \\dfrac{3}{3}Nk_BT_f\\ln{\\dfrac{T_f}{T_i}} + \\dfrac{T_f}{T_i}\\Delta G $,\n",
    "\n",
    "Therefore, $G(N,P,T_f)$ can be computed from $G(N,P,T_i)$ via the free energy difference $\\Delta G$. \n",
    "\n",
    "Here, $\\Delta G = \\dfrac{1}{2}[W_{if}-W_{fi}$] --- (2)\n",
    "\n",
    "The reversible work is related to the internal energy $U$ by,\n",
    "$W = \\int_{1}^{\\lambda_f}<U> \\,d\\lambda$ --- (3)\n",
    "\n",
    "Using MD $W$ can be computed as:\n",
    "- equilibrate for time $t_{eq}$ in NPT ensemble\n",
    "- switch $\\lambda$ : $1->\\dfrac{T_f}{T_i}$ over time $t_{sw}$\n",
    "- calculate work $W_{if}$ from (3)\n",
    "- equilibrate for time $t_{eq}$ in NPT ensemble\n",
    "- switch $\\lambda$ : $\\dfrac{T_f}{T_i}->1$ over time $t_{sw}$\n",
    "- calculate work $W_{fi}$ from (3)."
   ]
  },
  {
   "cell_type": "markdown",
   "id": "2ef94419-583c-4c73-8a59-82c9a75907b2",
   "metadata": {},
   "source": [
    "In terms of actual calculation, nothing really changes. If a list of temperature is provided, pyiron realises that you want to perform a free energy calculation withing this range. Let's try this now."
   ]
  },
  {
   "cell_type": "code",
   "execution_count": 21,
   "id": "f4737882-9b35-4f67-9084-d00544b3dbcc",
   "metadata": {},
   "outputs": [],
   "source": [
    "structure = pr.create.structure.ase.bulk('Al', cubic=True, a=4.099).repeat(3)"
   ]
  },
  {
   "cell_type": "code",
   "execution_count": 22,
   "id": "73831609-feb4-4ed4-8d26-f37d2807e5a7",
   "metadata": {
    "tags": []
   },
   "outputs": [
    {
     "name": "stderr",
     "output_type": "stream",
     "text": [
      "/srv/conda/envs/notebook/lib/python3.8/site-packages/h5io/_h5io.py:56: PerformanceWarning: \n",
      "your performance may suffer as PyTables will pickle object types that it cannot\n",
      "map directly to c-types [inferred_type->mixed,key->block0_values] [items->Index(['Name', 'Filename', 'Model', 'Species', 'Config'], dtype='object')]\n",
      "\n",
      "  data.to_hdf(fname, rootpath)\n"
     ]
    },
    {
     "name": "stdout",
     "output_type": "stream",
     "text": [
      "The job Al_fcc_ts was saved and received the ID: 4\n"
     ]
    },
    {
     "name": "stderr",
     "output_type": "stream",
     "text": [
      "/srv/conda/envs/notebook/lib/python3.8/site-packages/h5io/_h5io.py:56: PerformanceWarning: \n",
      "your performance may suffer as PyTables will pickle object types that it cannot\n",
      "map directly to c-types [inferred_type->mixed,key->block0_values] [items->Index(['Name', 'Filename', 'Model', 'Species', 'Config'], dtype='object')]\n",
      "\n",
      "  data.to_hdf(fname, rootpath)\n"
     ]
    }
   ],
   "source": [
    "al_sol3 = pr.create.job.Calphy(\"Al_fcc_ts\", delete_aborted_job=True)\n",
    "al_sol3.potential = potential_list[0]\n",
    "al_sol3.structure = structure\n",
    "al_sol3.server.cores = 2\n",
    "al_sol3.calc_free_energy(temperature=[500, 700], \n",
    "                     pressure=0, \n",
    "                     reference_phase=\"solid\",\n",
    "                     n_equilibration_steps=5000,\n",
    "                     n_switching_steps=5000)\n",
    "al_sol3.run()"
   ]
  },
  {
   "cell_type": "markdown",
   "id": "3669b919-ea6f-4acd-ab72-11d06963aac0",
   "metadata": {},
   "source": [
    "Lets plot the results together with the free energy values we calculated earlier"
   ]
  },
  {
   "cell_type": "code",
   "execution_count": 33,
   "id": "684a5d2d-70ec-4057-b2b2-87273aec50e8",
   "metadata": {},
   "outputs": [
    {
     "data": {
      "image/png": "[encoded data removed]",
      "text/plain": [
       "<Figure size 432x288 with 1 Axes>"
      ]
     },
     "metadata": {
      "needs_background": "light"
     },
     "output_type": "display_data"
    }
   ],
   "source": [
    "plt.plot(al_sol3.output.temperature, al_sol3.output.energy_free, label='RS', color=\"#e58080\", markeredgecolor=\"#424242\")\n",
    "plt.plot(temp, fes, 'o', label='Direct', color=\"#e58080\", markeredgecolor=\"#424242\")\n",
    "plt.xlabel(\"Temperature (K)\")\n",
    "plt.ylabel(\"Free energy (eV/K)\")\n",
    "plt.legend();"
   ]
  },
  {
   "cell_type": "markdown",
   "id": "91598ee0-ccd9-4d0d-a0e1-79372e8f132e",
   "metadata": {},
   "source": [
    "We can see that there is excellent agreement between the direct and reversible scaling calculations. However for reversible scaling calculations, we just need to run a single calculation instead of different ones."
   ]
  },
  {
   "cell_type": "markdown",
   "id": "c77a16e4-5d75-4d31-ad4e-028f966749cb",
   "metadata": {},
   "source": [
    "### <font style=\"color:#B71C1C\" face=\"Helvetica\" > Melting temperature of Al</font>"
   ]
  },
  {
   "cell_type": "markdown",
   "id": "a1af199c-208d-4023-985c-4edd620f67bc",
   "metadata": {},
   "source": [
    "With the recipe we have, we can now go ahead and calculate the melting temperature of Al. This will actually give our first point on the phase diagram. First, the steps needed to find the melting temperature:\n",
    "\n",
    "- Since the $T_m$ is 933 K, we can choose the range of 800-1100 K to calculate free energy\n",
    "- Calculate free energy of FCC structure in this range\n",
    "- Calculate free energy of liquid in this range.\n",
    "\n",
    "By now, we have seen how to calculate the free energy of the FCC structure. This can be done rather quickly."
   ]
  },
  {
   "cell_type": "markdown",
   "id": "5bfa4845-2d2a-4de0-9ec2-c0112d12bcd2",
   "metadata": {
    "tags": []
   },
   "source": [
    "#### Free energy of solid"
   ]
  },
  {
   "cell_type": "code",
   "execution_count": 24,
   "id": "ef7113ad-24fb-4c79-99c6-8e3e6c658816",
   "metadata": {},
   "outputs": [],
   "source": [
    "structure = pr.create.structure.ase.bulk('Al', cubic=True, a=4.1362).repeat(3)"
   ]
  },
  {
   "cell_type": "code",
   "execution_count": 25,
   "id": "5f66dab9-8e06-49fc-a37b-f1a88d651650",
   "metadata": {
    "tags": []
   },
   "outputs": [
    {
     "name": "stderr",
     "output_type": "stream",
     "text": [
      "/srv/conda/envs/notebook/lib/python3.8/site-packages/h5io/_h5io.py:56: PerformanceWarning: \n",
      "your performance may suffer as PyTables will pickle object types that it cannot\n",
      "map directly to c-types [inferred_type->mixed,key->block0_values] [items->Index(['Name', 'Filename', 'Model', 'Species', 'Config'], dtype='object')]\n",
      "\n",
      "  data.to_hdf(fname, rootpath)\n"
     ]
    },
    {
     "name": "stdout",
     "output_type": "stream",
     "text": [
      "The job Al_fcc_tm was saved and received the ID: 5\n"
     ]
    },
    {
     "name": "stderr",
     "output_type": "stream",
     "text": [
      "/srv/conda/envs/notebook/lib/python3.8/site-packages/h5io/_h5io.py:56: PerformanceWarning: \n",
      "your performance may suffer as PyTables will pickle object types that it cannot\n",
      "map directly to c-types [inferred_type->mixed,key->block0_values] [items->Index(['Name', 'Filename', 'Model', 'Species', 'Config'], dtype='object')]\n",
      "\n",
      "  data.to_hdf(fname, rootpath)\n"
     ]
    }
   ],
   "source": [
    "al_fcc = pr.create.job.Calphy(\"Al_fcc_tm\", delete_aborted_job=True)\n",
    "al_fcc.potential = potential_list[0]\n",
    "al_fcc.structure = structure\n",
    "al_fcc.server.cores = 2\n",
    "al_fcc.calc_free_energy(temperature=[800, 1100], \n",
    "                     pressure=0, \n",
    "                     reference_phase=\"solid\",\n",
    "                     n_equilibration_steps=5000,\n",
    "                     n_switching_steps=5000)\n",
    "al_fcc.run()"
   ]
  },
  {
   "cell_type": "markdown",
   "id": "2f5d0015-2de7-4cf5-8e9a-fa9a0f5cbec6",
   "metadata": {},
   "source": [
    "#### Free energy of liquid"
   ]
  },
  {
   "cell_type": "markdown",
   "id": "7ffc4750-e7dc-4252-94b6-3d7fbe6b27f4",
   "metadata": {},
   "source": [
    "Calculation of the free energy of liquid is as easy as changing the option `reference_phase` to `\"liquid\"`. That is all the change that is needed. Run the calculation.."
   ]
  },
  {
   "cell_type": "code",
   "execution_count": 26,
   "id": "fd197b78-fd21-4f95-9537-9e1e514e00c7",
   "metadata": {
    "tags": []
   },
   "outputs": [
    {
     "name": "stderr",
     "output_type": "stream",
     "text": [
      "/srv/conda/envs/notebook/lib/python3.8/site-packages/h5io/_h5io.py:56: PerformanceWarning: \n",
      "your performance may suffer as PyTables will pickle object types that it cannot\n",
      "map directly to c-types [inferred_type->mixed,key->block0_values] [items->Index(['Name', 'Filename', 'Model', 'Species', 'Config'], dtype='object')]\n",
      "\n",
      "  data.to_hdf(fname, rootpath)\n"
     ]
    },
    {
     "name": "stdout",
     "output_type": "stream",
     "text": [
      "The job Al_lqd_tm was saved and received the ID: 6\n"
     ]
    },
    {
     "name": "stderr",
     "output_type": "stream",
     "text": [
      "/srv/conda/envs/notebook/lib/python3.8/site-packages/h5io/_h5io.py:56: PerformanceWarning: \n",
      "your performance may suffer as PyTables will pickle object types that it cannot\n",
      "map directly to c-types [inferred_type->mixed,key->block0_values] [items->Index(['Name', 'Filename', 'Model', 'Species', 'Config'], dtype='object')]\n",
      "\n",
      "  data.to_hdf(fname, rootpath)\n"
     ]
    }
   ],
   "source": [
    "al_lqd = pr.create.job.Calphy(\"Al_lqd_tm\", delete_aborted_job=True)\n",
    "al_lqd.potential = potential_list[0]\n",
    "al_lqd.structure = structure\n",
    "al_lqd.server.cores = 2\n",
    "al_lqd.calc_free_energy(temperature=[800, 1100], \n",
    "                     pressure=0, \n",
    "                     reference_phase=\"liquid\",\n",
    "                     n_equilibration_steps=5000,\n",
    "                     n_switching_steps=5000)\n",
    "al_lqd.run()"
   ]
  },
  {
   "cell_type": "markdown",
   "id": "de5ac3e5-c6d7-4b78-80dc-70dfe35e9487",
   "metadata": {},
   "source": [
    "Before we actually look at the results, there are a couple of points to be discussed:\n",
    "\n",
    "**How is the liquid prepared in this calculation?**\n",
    "\n",
    "- Start from the given structure\n",
    "- This structure is heated until it melts.\n",
    "- Melting of the structure is automatically detected by calphy\n",
    "- Once melted, it is equilibrated to the required temperature and pressure."
   ]
  },
  {
   "cell_type": "markdown",
   "id": "b4bf190e-ef08-446a-a9d4-4592c9c4fbb4",
   "metadata": {},
   "source": [
    "**What about the reference system for liquid?**\n",
    "\n",
    "The reference system for the Liquid structure is also different. In this case, the Uhlenbeck-Ford system is used as the reference system for liquid.\n",
    "\n",
    "The Uhlenbeck-Ford model is described by,\n",
    "\n",
    "$$\n",
    "E = - \\epsilon \\log(1-\\exp(-r^2/\\sigma^2))\n",
    "$$\n",
    "\n",
    "where,\n",
    "\n",
    "$$\n",
    "\\epsilon = p k_B T\n",
    "$$\n",
    "\n",
    "$\\epsilon$ and $\\sigma$ are energy and length scales, respectively.\n",
    "\n",
    "It is purely repulsive liquid model which does not undergo any phase transformations."
   ]
  },
  {
   "cell_type": "markdown",
   "id": "f6206120-b7d6-4691-9030-13f7e69edccc",
   "metadata": {},
   "source": [
    "Now that we have covered these details, we can go ahead a look at the results."
   ]
  },
  {
   "cell_type": "code",
   "execution_count": 34,
   "id": "30d5fef8-701a-41f9-9231-da4c31ae7b36",
   "metadata": {},
   "outputs": [
    {
     "data": {
      "image/png": "[encoded data removed]",
      "text/plain": [
       "<Figure size 432x288 with 1 Axes>"
      ]
     },
     "metadata": {
      "needs_background": "light"
     },
     "output_type": "display_data"
    }
   ],
   "source": [
    "plt.plot(al_fcc.output.temperature, al_fcc.output.energy_free,\n",
    "        label=\"Al solid\", color='#C62828')\n",
    "plt.plot(al_lqd.output.temperature, al_lqd.output.energy_free,\n",
    "        label=\"Al liquid\", color='#006899')\n",
    "plt.xlabel(\"Temperature (K)\")\n",
    "plt.ylabel(\"Free energy (eV/K)\")\n",
    "plt.legend();"
   ]
  },
  {
   "cell_type": "markdown",
   "id": "56173b36-3238-4d14-b187-bd5e5fe4dfbc",
   "metadata": {},
   "source": [
    "The melting temperature is defined as the temperature at which the free energy difference between the solid and liquid phases is zero. We can also plot the free energy difference directly."
   ]
  },
  {
   "cell_type": "code",
   "execution_count": 28,
   "id": "87d3a2fc-bffd-4173-9383-b80151462a3c",
   "metadata": {},
   "outputs": [],
   "source": [
    "fediff = al_fcc.output.energy_free - al_lqd.output.energy_free"
   ]
  },
  {
   "cell_type": "markdown",
   "id": "10a4d907-ace2-456d-9dd9-c069a822c3a3",
   "metadata": {},
   "source": [
    "Find where the value is zero and get the corresponding temperature"
   ]
  },
  {
   "cell_type": "code",
   "execution_count": 29,
   "id": "60d9834e-628f-4ae8-8b54-fddaa11fc956",
   "metadata": {},
   "outputs": [
    {
     "data": {
      "text/plain": [
       "958.2714368643233"
      ]
     },
     "execution_count": 29,
     "metadata": {},
     "output_type": "execute_result"
    }
   ],
   "source": [
    "arg = np.argsort(np.abs(fediff))[0]\n",
    "tm = al_fcc.output.temperature[arg]\n",
    "tm"
   ]
  },
  {
   "cell_type": "markdown",
   "id": "e5898a32-54e3-40ec-b8ed-2cfc81e95a10",
   "metadata": {},
   "source": [
    "The calculated melting temperature is shown above."
   ]
  },
  {
   "cell_type": "code",
   "execution_count": 35,
   "id": "32020dc4-25b7-4d51-a97d-3eba5529865d",
   "metadata": {},
   "outputs": [
    {
     "data": {
      "image/png": "[encoded data removed]",
      "text/plain": [
       "<Figure size 432x288 with 1 Axes>"
      ]
     },
     "metadata": {
      "needs_background": "light"
     },
     "output_type": "display_data"
    }
   ],
   "source": [
    "plt.plot(al_fcc.output.temperature, al_fcc.output.energy_free,\n",
    "        label=\"Al solid\", color='#C62828')\n",
    "plt.plot(al_lqd.output.temperature, al_lqd.output.energy_free,\n",
    "        label=\"Al liquid\", color='#006899')\n",
    "plt.axvline(tm, color=\"black\")\n",
    "plt.xlabel(\"Temperature (K)\")\n",
    "plt.ylabel(\"Free energy (eV/K)\")\n",
    "plt.legend();"
   ]
  },
  {
   "cell_type": "code",
   "execution_count": 36,
   "id": "73fb6d4f-05e8-4285-b541-f518cb18d711",
   "metadata": {},
   "outputs": [
    {
     "data": {
      "image/png": "[encoded data removed]",
      "text/plain": [
       "<Figure size 432x288 with 1 Axes>"
      ]
     },
     "metadata": {
      "needs_background": "light"
     },
     "output_type": "display_data"
    }
   ],
   "source": [
    "plt.plot(al_fcc.output.temperature, fediff,\n",
    "        label=r\"$\\Delta F$\", color='#C62828')\n",
    "plt.axhline(0, color=\"gray\")\n",
    "plt.axvline(tm, color=\"black\")\n",
    "plt.xlabel(\"Temperature (K)\")\n",
    "plt.ylabel(\"Free energy (eV/K)\")\n",
    "plt.legend();"
   ]
  },
  {
   "cell_type": "code",
   "execution_count": null,
   "id": "e02d47b2-d873-44cf-a559-cbdec616c454",
   "metadata": {},
   "outputs": [],
   "source": []
  }
 ],
 "metadata": {
  "kernelspec": {
   "display_name": "Python 3 (ipykernel)",
   "language": "python",
   "name": "python3"
  },
  "language_info": {
   "codemirror_mode": {
    "name": "ipython",
    "version": 3
   },
   "file_extension": ".py",
   "mimetype": "text/x-python",
   "name": "python",
   "nbconvert_exporter": "python",
   "pygments_lexer": "ipython3",
   "version": "3.8.13"
  }
 },
 "nbformat": 4,
 "nbformat_minor": 5
}
