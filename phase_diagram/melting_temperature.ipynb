{
 "cells": [
  {
   "cell_type": "code",
   "execution_count": 2,
   "id": "98c500c8-36a8-4454-968c-fb74fc8ae9fc",
   "metadata": {},
   "outputs": [],
   "source": [
    "from helpers import potential_list\n",
    "from pyiron_atomistics import Project"
   ]
  },
  {
   "cell_type": "code",
   "execution_count": 3,
   "id": "e9e573fa-5e4c-4a73-bd12-a7f16be9273a",
   "metadata": {},
   "outputs": [],
   "source": [
    "import matplotlib.pyplot as plt\n",
    "import numpy as np"
   ]
  },
  {
   "cell_type": "markdown",
   "id": "9a2e82cd-d5a1-4622-80d1-1a53f0d20fa0",
   "metadata": {},
   "source": [
    "## Aluminium"
   ]
  },
  {
   "cell_type": "code",
   "execution_count": 4,
   "id": "8b42ae91-191d-4e5f-9520-2bac9a146a0e",
   "metadata": {},
   "outputs": [],
   "source": [
    "pr = Project('lial_thermodynamics')"
   ]
  },
  {
   "cell_type": "code",
   "execution_count": 5,
   "id": "da32f2bd-2439-43a0-a8e7-06efe5069ace",
   "metadata": {},
   "outputs": [],
   "source": [
    "al_sol = pr.create.job.Calphy(\"tm_al_sol\")"
   ]
  },
  {
   "cell_type": "code",
   "execution_count": 6,
   "id": "ac85de7f-4627-4ad0-9438-129dd02fbcc5",
   "metadata": {},
   "outputs": [],
   "source": [
    "al_sol.potential = potential_list[0]"
   ]
  },
  {
   "cell_type": "code",
   "execution_count": 6,
   "id": "29e3f971-e75a-4ba4-a412-f0451c75d6a4",
   "metadata": {},
   "outputs": [],
   "source": [
    "al_sol.structure = pr.create.structure.ase.bulk('Al', cubic=True).repeat(5)"
   ]
  },
  {
   "cell_type": "code",
   "execution_count": 7,
   "id": "b06b4bdc-9dd3-423a-9345-3a69774e81f6",
   "metadata": {
    "tags": []
   },
   "outputs": [
    {
     "name": "stderr",
     "output_type": "stream",
     "text": [
      "2022-05-06 07:41:38,943 - pyiron_log - WARNING - The job tm_al_sol is being loaded instead of running. To re-run use the argument 'delete_existing_job=True in create_job'\n"
     ]
    }
   ],
   "source": [
    "al_sol.calc_free_energy(temperature=[800, 1100], \n",
    "                     pressure=0, \n",
    "                     reference_phase=\"solid\")\n",
    "al_sol.run()"
   ]
  },
  {
   "cell_type": "code",
   "execution_count": 9,
   "id": "930589c1-b404-45d7-a21c-d0f7391b218c",
   "metadata": {},
   "outputs": [],
   "source": [
    "al_lqd = pr.create.job.Calphy(\"tm_al_lqd\")\n",
    "al_lqd.structure = al_sol.structure\n",
    "al_lqd.potential = potential_list[0]"
   ]
  },
  {
   "cell_type": "code",
   "execution_count": 10,
   "id": "a123b0e7-592e-4fcb-aaef-9c2c82a9804f",
   "metadata": {},
   "outputs": [],
   "source": [
    "al_lqd.server.cores = 4"
   ]
  },
  {
   "cell_type": "code",
   "execution_count": 11,
   "id": "cbc6479e-d65c-446d-b8bc-7f7eccbc36eb",
   "metadata": {
    "tags": []
   },
   "outputs": [
    {
     "name": "stderr",
     "output_type": "stream",
     "text": [
      "2022-05-06 07:45:26,856 - pyiron_log - WARNING - The job tm_al_lqd is being loaded instead of running. To re-run use the argument 'delete_existing_job=True in create_job'\n"
     ]
    }
   ],
   "source": [
    "al_lqd.calc_free_energy(temperature=[800, 1100], \n",
    "                     pressure=0, \n",
    "                     reference_phase=\"liquid\")\n",
    "al_lqd.run()"
   ]
  },
  {
   "cell_type": "code",
   "execution_count": 12,
   "id": "249f7482-43e7-471c-895b-ec7283986b90",
   "metadata": {},
   "outputs": [
    {
     "data": {
      "text/plain": [
       "Text(0, 0.5, 'Temperature (K)')"
      ]
     },
     "execution_count": 12,
     "metadata": {},
     "output_type": "execute_result"
    },
    {
     "data": {
      "image/png": "[encoded data removed]",
      "text/plain": [
       "<Figure size 432x288 with 1 Axes>"
      ]
     },
     "metadata": {
      "needs_background": "light"
     },
     "output_type": "display_data"
    }
   ],
   "source": [
    "plt.plot(al_sol.output.temperature, al_sol.output.energy_free, label=\"solid\")\n",
    "plt.plot(al_lqd.output.temperature, al_lqd.output.energy_free, label=\"liquid\")\n",
    "plt.xlabel(\"Free energy (eV/atom)\")\n",
    "plt.ylabel(\"Temperature (K)\")"
   ]
  },
  {
   "cell_type": "markdown",
   "id": "3dbbdf28-ed8d-4ce9-bc11-b4995e3dc20e",
   "metadata": {},
   "source": [
    "## Lithium"
   ]
  },
  {
   "cell_type": "code",
   "execution_count": 23,
   "id": "9f33c24c-ae09-4bb0-ba96-4650ab2276b2",
   "metadata": {},
   "outputs": [],
   "source": [
    "li_sol = pr.create.job.Calphy(\"tm_li_sol3\", delete_aborted_job=True, delete_existing_job=True)"
   ]
  },
  {
   "cell_type": "code",
   "execution_count": 24,
   "id": "a50a6d95-6d80-412e-992a-c688dc216865",
   "metadata": {},
   "outputs": [],
   "source": [
    "li_sol.potential = potential_list[1]\n",
    "li_sol.structure = pr.create.structure.ase.bulk('Li', cubic=True).repeat(5)\n",
    "li_sol.server.cores = 4"
   ]
  },
  {
   "cell_type": "code",
   "execution_count": 25,
   "id": "29b4158b-1753-4342-a801-af29199405ec",
   "metadata": {
    "tags": []
   },
   "outputs": [
    {
     "name": "stderr",
     "output_type": "stream",
     "text": [
      "/home/users/menonsqr/miniconda3/envs/pyiron-dev/lib/python3.10/site-packages/h5io/_h5io.py:56: PerformanceWarning: \n",
      "your performance may suffer as PyTables will pickle object types that it cannot\n",
      "map directly to c-types [inferred_type->mixed,key->block0_values] [items->Index(['Name', 'Filename', 'Model', 'Species', 'Config'], dtype='object')]\n",
      "\n",
      "  data.to_hdf(fname, rootpath)\n"
     ]
    },
    {
     "name": "stdout",
     "output_type": "stream",
     "text": [
      "The job tm_li_sol3 was saved and received the ID: 82\n"
     ]
    },
    {
     "ename": "MeltedError",
     "evalue": "System melted, increase size or reduce scaling!",
     "output_type": "error",
     "traceback": [
      "\u001b[0;31m---------------------------------------------------------------------------\u001b[0m",
      "\u001b[0;31mMeltedError\u001b[0m                               Traceback (most recent call last)",
      "Input \u001b[0;32mIn [25]\u001b[0m, in \u001b[0;36m<cell line: 4>\u001b[0;34m()\u001b[0m\n\u001b[1;32m      1\u001b[0m li_sol\u001b[38;5;241m.\u001b[39mcalc_free_energy(temperature\u001b[38;5;241m=\u001b[39m[\u001b[38;5;241m400\u001b[39m, \u001b[38;5;241m500\u001b[39m], \n\u001b[1;32m      2\u001b[0m                      pressure\u001b[38;5;241m=\u001b[39m\u001b[38;5;241m0\u001b[39m, \n\u001b[1;32m      3\u001b[0m                      reference_phase\u001b[38;5;241m=\u001b[39m\u001b[38;5;124m\"\u001b[39m\u001b[38;5;124msolid\u001b[39m\u001b[38;5;124m\"\u001b[39m)\n\u001b[0;32m----> 4\u001b[0m \u001b[43mli_sol\u001b[49m\u001b[38;5;241;43m.\u001b[39;49m\u001b[43mrun\u001b[49m\u001b[43m(\u001b[49m\u001b[43m)\u001b[49m\n",
      "File \u001b[0;32m~/miniconda3/envs/pyiron-dev/lib/python3.10/site-packages/pyiron_base/generic/util.py:213\u001b[0m, in \u001b[0;36mDeprecator.__deprecate_argument.<locals>.decorated\u001b[0;34m(*args, **kwargs)\u001b[0m\n\u001b[1;32m    203\u001b[0m     \u001b[38;5;28;01mif\u001b[39;00m kw \u001b[38;5;129;01min\u001b[39;00m \u001b[38;5;28mself\u001b[39m\u001b[38;5;241m.\u001b[39marguments:\n\u001b[1;32m    204\u001b[0m         warnings\u001b[38;5;241m.\u001b[39mwarn(\n\u001b[1;32m    205\u001b[0m             message_format\u001b[38;5;241m.\u001b[39mformat(\n\u001b[1;32m    206\u001b[0m                 \u001b[38;5;124m\"\u001b[39m\u001b[38;5;132;01m{}\u001b[39;00m\u001b[38;5;124m.\u001b[39m\u001b[38;5;132;01m{}\u001b[39;00m\u001b[38;5;124m(\u001b[39m\u001b[38;5;132;01m{}\u001b[39;00m\u001b[38;5;124m=\u001b[39m\u001b[38;5;132;01m{}\u001b[39;00m\u001b[38;5;124m)\u001b[39m\u001b[38;5;124m\"\u001b[39m\u001b[38;5;241m.\u001b[39mformat(\n\u001b[0;32m   (...)\u001b[0m\n\u001b[1;32m    211\u001b[0m             stacklevel\u001b[38;5;241m=\u001b[39m\u001b[38;5;241m2\u001b[39m,\n\u001b[1;32m    212\u001b[0m         )\n\u001b[0;32m--> 213\u001b[0m \u001b[38;5;28;01mreturn\u001b[39;00m \u001b[43mfunction\u001b[49m\u001b[43m(\u001b[49m\u001b[38;5;241;43m*\u001b[39;49m\u001b[43margs\u001b[49m\u001b[43m,\u001b[49m\u001b[43m \u001b[49m\u001b[38;5;241;43m*\u001b[39;49m\u001b[38;5;241;43m*\u001b[39;49m\u001b[43mkwargs\u001b[49m\u001b[43m)\u001b[49m\n",
      "File \u001b[0;32m~/miniconda3/envs/pyiron-dev/lib/python3.10/site-packages/pyiron_base/job/generic.py:689\u001b[0m, in \u001b[0;36mGenericJob.run\u001b[0;34m(self, delete_existing_job, repair, debug, run_mode, run_again)\u001b[0m\n\u001b[1;32m    687\u001b[0m     \u001b[38;5;28mself\u001b[39m\u001b[38;5;241m.\u001b[39m_run_if_repair()\n\u001b[1;32m    688\u001b[0m \u001b[38;5;28;01melif\u001b[39;00m status \u001b[38;5;241m==\u001b[39m \u001b[38;5;124m\"\u001b[39m\u001b[38;5;124minitialized\u001b[39m\u001b[38;5;124m\"\u001b[39m:\n\u001b[0;32m--> 689\u001b[0m     \u001b[38;5;28;43mself\u001b[39;49m\u001b[38;5;241;43m.\u001b[39;49m\u001b[43m_run_if_new\u001b[49m\u001b[43m(\u001b[49m\u001b[43mdebug\u001b[49m\u001b[38;5;241;43m=\u001b[39;49m\u001b[43mdebug\u001b[49m\u001b[43m)\u001b[49m\n\u001b[1;32m    690\u001b[0m \u001b[38;5;28;01melif\u001b[39;00m status \u001b[38;5;241m==\u001b[39m \u001b[38;5;124m\"\u001b[39m\u001b[38;5;124mcreated\u001b[39m\u001b[38;5;124m\"\u001b[39m:\n\u001b[1;32m    691\u001b[0m     \u001b[38;5;28mself\u001b[39m\u001b[38;5;241m.\u001b[39m_run_if_created()\n",
      "File \u001b[0;32m~/miniconda3/envs/pyiron-dev/lib/python3.10/site-packages/pyiron_base/job/generic.py:1399\u001b[0m, in \u001b[0;36mGenericJob._run_if_new\u001b[0;34m(self, debug)\u001b[0m\n\u001b[1;32m   1397\u001b[0m \u001b[38;5;28;01melse\u001b[39;00m:\n\u001b[1;32m   1398\u001b[0m     \u001b[38;5;28mself\u001b[39m\u001b[38;5;241m.\u001b[39msave()\n\u001b[0;32m-> 1399\u001b[0m     \u001b[38;5;28;43mself\u001b[39;49m\u001b[38;5;241;43m.\u001b[39;49m\u001b[43mrun\u001b[49m\u001b[43m(\u001b[49m\u001b[43m)\u001b[49m\n",
      "File \u001b[0;32m~/miniconda3/envs/pyiron-dev/lib/python3.10/site-packages/pyiron_base/generic/util.py:213\u001b[0m, in \u001b[0;36mDeprecator.__deprecate_argument.<locals>.decorated\u001b[0;34m(*args, **kwargs)\u001b[0m\n\u001b[1;32m    203\u001b[0m     \u001b[38;5;28;01mif\u001b[39;00m kw \u001b[38;5;129;01min\u001b[39;00m \u001b[38;5;28mself\u001b[39m\u001b[38;5;241m.\u001b[39marguments:\n\u001b[1;32m    204\u001b[0m         warnings\u001b[38;5;241m.\u001b[39mwarn(\n\u001b[1;32m    205\u001b[0m             message_format\u001b[38;5;241m.\u001b[39mformat(\n\u001b[1;32m    206\u001b[0m                 \u001b[38;5;124m\"\u001b[39m\u001b[38;5;132;01m{}\u001b[39;00m\u001b[38;5;124m.\u001b[39m\u001b[38;5;132;01m{}\u001b[39;00m\u001b[38;5;124m(\u001b[39m\u001b[38;5;132;01m{}\u001b[39;00m\u001b[38;5;124m=\u001b[39m\u001b[38;5;132;01m{}\u001b[39;00m\u001b[38;5;124m)\u001b[39m\u001b[38;5;124m\"\u001b[39m\u001b[38;5;241m.\u001b[39mformat(\n\u001b[0;32m   (...)\u001b[0m\n\u001b[1;32m    211\u001b[0m             stacklevel\u001b[38;5;241m=\u001b[39m\u001b[38;5;241m2\u001b[39m,\n\u001b[1;32m    212\u001b[0m         )\n\u001b[0;32m--> 213\u001b[0m \u001b[38;5;28;01mreturn\u001b[39;00m \u001b[43mfunction\u001b[49m\u001b[43m(\u001b[49m\u001b[38;5;241;43m*\u001b[39;49m\u001b[43margs\u001b[49m\u001b[43m,\u001b[49m\u001b[43m \u001b[49m\u001b[38;5;241;43m*\u001b[39;49m\u001b[38;5;241;43m*\u001b[39;49m\u001b[43mkwargs\u001b[49m\u001b[43m)\u001b[49m\n",
      "File \u001b[0;32m~/miniconda3/envs/pyiron-dev/lib/python3.10/site-packages/pyiron_base/job/generic.py:691\u001b[0m, in \u001b[0;36mGenericJob.run\u001b[0;34m(self, delete_existing_job, repair, debug, run_mode, run_again)\u001b[0m\n\u001b[1;32m    689\u001b[0m     \u001b[38;5;28mself\u001b[39m\u001b[38;5;241m.\u001b[39m_run_if_new(debug\u001b[38;5;241m=\u001b[39mdebug)\n\u001b[1;32m    690\u001b[0m \u001b[38;5;28;01melif\u001b[39;00m status \u001b[38;5;241m==\u001b[39m \u001b[38;5;124m\"\u001b[39m\u001b[38;5;124mcreated\u001b[39m\u001b[38;5;124m\"\u001b[39m:\n\u001b[0;32m--> 691\u001b[0m     \u001b[38;5;28;43mself\u001b[39;49m\u001b[38;5;241;43m.\u001b[39;49m\u001b[43m_run_if_created\u001b[49m\u001b[43m(\u001b[49m\u001b[43m)\u001b[49m\n\u001b[1;32m    692\u001b[0m \u001b[38;5;28;01melif\u001b[39;00m status \u001b[38;5;241m==\u001b[39m \u001b[38;5;124m\"\u001b[39m\u001b[38;5;124msubmitted\u001b[39m\u001b[38;5;124m\"\u001b[39m:\n\u001b[1;32m    693\u001b[0m     \u001b[38;5;28mself\u001b[39m\u001b[38;5;241m.\u001b[39m_run_if_submitted()\n",
      "File \u001b[0;32m~/miniconda3/envs/pyiron-dev/lib/python3.10/site-packages/pyiron_base/job/generic.py:1418\u001b[0m, in \u001b[0;36mGenericJob._run_if_created\u001b[0;34m(self)\u001b[0m\n\u001b[1;32m   1416\u001b[0m     \u001b[38;5;28mself\u001b[39m\u001b[38;5;241m.\u001b[39mrun_if_manually(_manually_print\u001b[38;5;241m=\u001b[39m\u001b[38;5;28;01mFalse\u001b[39;00m)\n\u001b[1;32m   1417\u001b[0m \u001b[38;5;28;01melif\u001b[39;00m \u001b[38;5;28mself\u001b[39m\u001b[38;5;241m.\u001b[39mserver\u001b[38;5;241m.\u001b[39mrun_mode\u001b[38;5;241m.\u001b[39mmodal:\n\u001b[0;32m-> 1418\u001b[0m     \u001b[38;5;28;43mself\u001b[39;49m\u001b[38;5;241;43m.\u001b[39;49m\u001b[43mrun_static\u001b[49m\u001b[43m(\u001b[49m\u001b[43m)\u001b[49m\n\u001b[1;32m   1419\u001b[0m \u001b[38;5;28;01melif\u001b[39;00m (\n\u001b[1;32m   1420\u001b[0m     \u001b[38;5;28mself\u001b[39m\u001b[38;5;241m.\u001b[39mserver\u001b[38;5;241m.\u001b[39mrun_mode\u001b[38;5;241m.\u001b[39mnon_modal\n\u001b[1;32m   1421\u001b[0m     \u001b[38;5;129;01mor\u001b[39;00m \u001b[38;5;28mself\u001b[39m\u001b[38;5;241m.\u001b[39mserver\u001b[38;5;241m.\u001b[39mrun_mode\u001b[38;5;241m.\u001b[39mthread\n\u001b[1;32m   1422\u001b[0m     \u001b[38;5;129;01mor\u001b[39;00m \u001b[38;5;28mself\u001b[39m\u001b[38;5;241m.\u001b[39mserver\u001b[38;5;241m.\u001b[39mrun_mode\u001b[38;5;241m.\u001b[39mworker\n\u001b[1;32m   1423\u001b[0m ):\n\u001b[1;32m   1424\u001b[0m     \u001b[38;5;28mself\u001b[39m\u001b[38;5;241m.\u001b[39mrun_if_non_modal()\n",
      "File \u001b[0;32m~/miniconda3/envs/pyiron-dev/lib/python3.10/site-packages/pyiron_atomistics-0.2.37.post0.dev240-py3.10.egg/pyiron_atomistics/calphy/base.py:505\u001b[0m, in \u001b[0;36mCalphyBase.run_static\u001b[0;34m(self)\u001b[0m\n\u001b[1;32m    503\u001b[0m     routine_fe(job)        \n\u001b[1;32m    504\u001b[0m \u001b[38;5;28;01melif\u001b[39;00m \u001b[38;5;28mself\u001b[39m\u001b[38;5;241m.\u001b[39minput\u001b[38;5;241m.\u001b[39mmode \u001b[38;5;241m==\u001b[39m \u001b[38;5;124m\"\u001b[39m\u001b[38;5;124mts\u001b[39m\u001b[38;5;124m\"\u001b[39m:\n\u001b[0;32m--> 505\u001b[0m     \u001b[43mroutine_ts\u001b[49m\u001b[43m(\u001b[49m\u001b[43mjob\u001b[49m\u001b[43m)\u001b[49m\n\u001b[1;32m    506\u001b[0m \u001b[38;5;28;01melif\u001b[39;00m \u001b[38;5;28mself\u001b[39m\u001b[38;5;241m.\u001b[39minput\u001b[38;5;241m.\u001b[39mmode \u001b[38;5;241m==\u001b[39m \u001b[38;5;124m\"\u001b[39m\u001b[38;5;124mpscale\u001b[39m\u001b[38;5;124m\"\u001b[39m:\n\u001b[1;32m    507\u001b[0m     routine_pscale(job)\n",
      "File \u001b[0;32m~/miniconda3/envs/pyiron-dev/lib/python3.10/site-packages/calphy-0.9.1-py3.10.egg/calphy/routines.py:363\u001b[0m, in \u001b[0;36mroutine_ts\u001b[0;34m(job)\u001b[0m\n\u001b[1;32m    361\u001b[0m \u001b[38;5;28;01mfor\u001b[39;00m i \u001b[38;5;129;01min\u001b[39;00m \u001b[38;5;28mrange\u001b[39m(job\u001b[38;5;241m.\u001b[39mcalc\u001b[38;5;241m.\u001b[39mn_iterations):\n\u001b[1;32m    362\u001b[0m     ts \u001b[38;5;241m=\u001b[39m time\u001b[38;5;241m.\u001b[39mtime()\n\u001b[0;32m--> 363\u001b[0m     \u001b[43mjob\u001b[49m\u001b[38;5;241;43m.\u001b[39;49m\u001b[43mreversible_scaling\u001b[49m\u001b[43m(\u001b[49m\u001b[43miteration\u001b[49m\u001b[38;5;241;43m=\u001b[39;49m\u001b[43m(\u001b[49m\u001b[43mi\u001b[49m\u001b[38;5;241;43m+\u001b[39;49m\u001b[38;5;241;43m1\u001b[39;49m\u001b[43m)\u001b[49m\u001b[43m)\u001b[49m\n\u001b[1;32m    364\u001b[0m     te \u001b[38;5;241m=\u001b[39m (time\u001b[38;5;241m.\u001b[39mtime() \u001b[38;5;241m-\u001b[39m ts)\n\u001b[1;32m    365\u001b[0m     job\u001b[38;5;241m.\u001b[39mlogger\u001b[38;5;241m.\u001b[39minfo(\u001b[38;5;124m\"\u001b[39m\u001b[38;5;124mTS integration cycle \u001b[39m\u001b[38;5;132;01m%d\u001b[39;00m\u001b[38;5;124m finished in \u001b[39m\u001b[38;5;132;01m%f\u001b[39;00m\u001b[38;5;124m s\u001b[39m\u001b[38;5;124m\"\u001b[39m\u001b[38;5;241m%\u001b[39m(i\u001b[38;5;241m+\u001b[39m\u001b[38;5;241m1\u001b[39m, te))\n",
      "File \u001b[0;32m~/miniconda3/envs/pyiron-dev/lib/python3.10/site-packages/calphy-0.9.1-py3.10.egg/calphy/phase.py:355\u001b[0m, in \u001b[0;36mPhase.reversible_scaling\u001b[0;34m(self, iteration)\u001b[0m\n\u001b[1;32m    353\u001b[0m     \u001b[38;5;28;01mif\u001b[39;00m (solids\u001b[38;5;241m/\u001b[39mlmp\u001b[38;5;241m.\u001b[39mnatoms \u001b[38;5;241m<\u001b[39m \u001b[38;5;28mself\u001b[39m\u001b[38;5;241m.\u001b[39mcalc\u001b[38;5;241m.\u001b[39mtolerance\u001b[38;5;241m.\u001b[39msolid_fraction):\n\u001b[1;32m    354\u001b[0m         lmp\u001b[38;5;241m.\u001b[39mclose()\n\u001b[0;32m--> 355\u001b[0m         \u001b[38;5;28;01mraise\u001b[39;00m MeltedError(\u001b[38;5;124m\"\u001b[39m\u001b[38;5;124mSystem melted, increase size or reduce scaling!\u001b[39m\u001b[38;5;124m\"\u001b[39m)\n\u001b[1;32m    356\u001b[0m \u001b[38;5;28;01melse\u001b[39;00m:\n\u001b[1;32m    357\u001b[0m     \u001b[38;5;28;01mif\u001b[39;00m (solids\u001b[38;5;241m/\u001b[39mlmp\u001b[38;5;241m.\u001b[39mnatoms \u001b[38;5;241m>\u001b[39m \u001b[38;5;28mself\u001b[39m\u001b[38;5;241m.\u001b[39mcalc\u001b[38;5;241m.\u001b[39mtolerance\u001b[38;5;241m.\u001b[39mliquid_fraction):\n",
      "\u001b[0;31mMeltedError\u001b[0m: System melted, increase size or reduce scaling!"
     ]
    }
   ],
   "source": [
    "li_sol.calc_free_energy(temperature=[400, 500], \n",
    "                     pressure=0, \n",
    "                     reference_phase=\"solid\")\n",
    "li_sol.run()"
   ]
  },
  {
   "cell_type": "code",
   "execution_count": null,
   "id": "8d1cf858-61d4-42a6-aa97-ed967e62c527",
   "metadata": {},
   "outputs": [],
   "source": [
    "li_lqd = pr.create.job.Calphy(\"tm_li_lqd3\")\n",
    "li_lqd.structure = li_sol.structure\n",
    "li_lqd.potential = potential_list[1]\n",
    "li_lqd.server.cores = 4"
   ]
  },
  {
   "cell_type": "code",
   "execution_count": null,
   "id": "49d6a15f-583a-48b9-a3ab-b47d0f730ee7",
   "metadata": {
    "tags": []
   },
   "outputs": [],
   "source": [
    "li_lqd.calc_free_energy(temperature=[500, 700], \n",
    "                     pressure=0, \n",
    "                     reference_phase=\"liquid\")\n",
    "li_lqd.run()"
   ]
  },
  {
   "cell_type": "code",
   "execution_count": null,
   "id": "2031e3f7-d389-4ed4-b209-4735b48c701a",
   "metadata": {},
   "outputs": [],
   "source": [
    "plt.plot(li_sol.output.temperature, li_sol.output.energy_free, label=\"solid\")\n",
    "plt.plot(li_lqd.output.temperature, li_lqd.output.energy_free, label=\"liquid\")\n",
    "plt.xlabel(\"Free energy (eV/atom)\")\n",
    "plt.ylabel(\"Temperature (K)\")"
   ]
  },
  {
   "cell_type": "code",
   "execution_count": null,
   "id": "7b8d8933-56ca-4648-8948-d33d072787d9",
   "metadata": {},
   "outputs": [],
   "source": [
    "arg = np.argsort(np.abs(li_sol.output.energy_free-li_lqd.output.energy_free))[0]\n",
    "li_sol.output.temperature[arg]"
   ]
  },
  {
   "cell_type": "code",
   "execution_count": null,
   "id": "fae37cab-8c31-4005-9d3c-70822cd06633",
   "metadata": {},
   "outputs": [],
   "source": []
  }
 ],
 "metadata": {
  "kernelspec": {
   "display_name": "pyiron-dev",
   "language": "python",
   "name": "pyiron-dev"
  },
  "language_info": {
   "codemirror_mode": {
    "name": "ipython",
    "version": 3
   },
   "file_extension": ".py",
   "mimetype": "text/x-python",
   "name": "python",
   "nbconvert_exporter": "python",
   "pygments_lexer": "ipython3",
   "version": "3.10.2"
  }
 },
 "nbformat": 4,
 "nbformat_minor": 5
}
