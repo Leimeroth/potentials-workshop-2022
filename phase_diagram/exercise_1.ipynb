{
 "cells": [
  {
   "cell_type": "markdown",
   "id": "e9cdf324-526d-426f-82f3-4dea4112355e",
   "metadata": {},
   "source": [
    "<table border=\"0\">\n",
    " <tr>\n",
    "    <td style=\"width:30%\"><img src=\"img/potentials_logo.png\" width=\"100%\" align=\"justify\"></td>\n",
    "    <td style=\"width:70%\"> <p style=\"width:100%;color:#B71C1C;font-size:24px;text-align:justify\"> From electrons to phase diagrams </p> <p style=\"width:100%,font-size:16px\">Day 03 Hands-on session exercise (Part 2)</td>\n",
    " </tr>\n",
    "</table>"
   ]
  },
  {
   "cell_type": "code",
   "execution_count": 1,
   "id": "026431fb-44fa-4b99-8fff-d0a1a9b642e2",
   "metadata": {},
   "outputs": [],
   "source": [
    "from helpers import potential_list\n",
    "from pyiron_atomistics import Project\n",
    "import matplotlib.pyplot as plt\n",
    "import numpy as np"
   ]
  },
  {
   "cell_type": "code",
   "execution_count": 2,
   "id": "08881280-a4a9-40c1-b8a5-38d176bb01da",
   "metadata": {},
   "outputs": [],
   "source": [
    "pr = Project('exe2') "
   ]
  },
  {
   "cell_type": "markdown",
   "id": "78f75741-2f78-4e2a-8c07-470336383dfd",
   "metadata": {
    "tags": []
   },
   "source": [
    "### Task 1: Calculate free energy of FCC Al at 500 K, 10000 bar"
   ]
  },
  {
   "cell_type": "markdown",
   "id": "5e7a9194-4eee-450b-b83a-9e5315ad4d00",
   "metadata": {},
   "source": [
    "Use a lattice constant of 4.099 for the BCC structure"
   ]
  },
  {
   "cell_type": "code",
   "execution_count": null,
   "id": "a3bd0dee-2d28-44ca-a3c4-0f0ad7569246",
   "metadata": {},
   "outputs": [],
   "source": []
  },
  {
   "cell_type": "markdown",
   "id": "46f74c25-174e-44a8-9803-75c9eeaf8ba7",
   "metadata": {},
   "source": [
    "### Task 2: Does Al have a solid-solid phase tranformation?\n",
    "\n",
    "Calculate the free energy of Al in BCC and FCC structures in the temperature range of 500-1000 K. See if there is a solid-solid phase transformation. Use lattice constant of 3.264 for BCC, and 4.099 for FCC."
   ]
  },
  {
   "cell_type": "code",
   "execution_count": 7,
   "id": "db1aea00-abb6-434e-bb98-7d99cde10bb7",
   "metadata": {},
   "outputs": [],
   "source": [
    "structure_fcc = pr.create.structure.ase.bulk('Al', cubic=True, a=4.099).repeat(5)"
   ]
  },
  {
   "cell_type": "code",
   "execution_count": 8,
   "id": "db7ad739-0952-40aa-ad81-c72b275f8dff",
   "metadata": {
    "collapsed": true,
    "jupyter": {
     "outputs_hidden": true
    },
    "tags": []
   },
   "outputs": [
    {
     "name": "stderr",
     "output_type": "stream",
     "text": [
      "/home/menon/miniconda3/envs/workshop/lib/python3.9/site-packages/h5io/_h5io.py:56: PerformanceWarning: \n",
      "your performance may suffer as PyTables will pickle object types that it cannot\n",
      "map directly to c-types [inferred_type->mixed,key->block0_values] [items->Index(['Name', 'Filename', 'Model', 'Species', 'Config'], dtype='object')]\n",
      "\n",
      "  data.to_hdf(fname, rootpath)\n"
     ]
    },
    {
     "name": "stdout",
     "output_type": "stream",
     "text": [
      "The job al_fcc_600 was saved and received the ID: 162\n"
     ]
    },
    {
     "name": "stderr",
     "output_type": "stream",
     "text": [
      "/home/menon/miniconda3/envs/workshop/lib/python3.9/site-packages/h5io/_h5io.py:56: PerformanceWarning: \n",
      "your performance may suffer as PyTables will pickle object types that it cannot\n",
      "map directly to c-types [inferred_type->mixed,key->block0_values] [items->Index(['Name', 'Filename', 'Model', 'Species', 'Config'], dtype='object')]\n",
      "\n",
      "  data.to_hdf(fname, rootpath)\n"
     ]
    }
   ],
   "source": [
    "al_fcc = pr.create.job.Calphy(\"al_fcc_600\", delete_aborted_job=True)\n",
    "al_fcc.potential = potential_list[0]\n",
    "al_fcc.structure = structure_fcc\n",
    "al_fcc.server.cores = 4\n",
    "al_fcc.calc_free_energy(temperature=[500, 1000], \n",
    "                     pressure=0, \n",
    "                     reference_phase=\"solid\",\n",
    "                     n_equilibration_steps=10000,\n",
    "                     n_switching_steps=10000)\n",
    "al_fcc.run()"
   ]
  },
  {
   "cell_type": "code",
   "execution_count": 5,
   "id": "d8719e67-f884-4e01-9729-91d09275a919",
   "metadata": {},
   "outputs": [],
   "source": [
    "structure_bcc = pr.create.structure.ase.bulk('Al', \n",
    "                                             crystalstructure='bcc',\n",
    "                                             cubic=True, a=3).repeat(5)"
   ]
  },
  {
   "cell_type": "code",
   "execution_count": 6,
   "id": "1b8775e0-8b9b-45bf-b0ad-829feb171eec",
   "metadata": {
    "collapsed": true,
    "jupyter": {
     "outputs_hidden": true
    },
    "tags": []
   },
   "outputs": [
    {
     "name": "stderr",
     "output_type": "stream",
     "text": [
      "/home/menon/miniconda3/envs/workshop/lib/python3.9/site-packages/h5io/_h5io.py:56: PerformanceWarning: \n",
      "your performance may suffer as PyTables will pickle object types that it cannot\n",
      "map directly to c-types [inferred_type->mixed,key->block0_values] [items->Index(['Name', 'Filename', 'Model', 'Species', 'Config'], dtype='object')]\n",
      "\n",
      "  data.to_hdf(fname, rootpath)\n"
     ]
    },
    {
     "name": "stdout",
     "output_type": "stream",
     "text": [
      "The job al_bcc_600 was saved and received the ID: 161\n"
     ]
    },
    {
     "name": "stderr",
     "output_type": "stream",
     "text": [
      "/home/menon/miniconda3/envs/workshop/lib/python3.9/site-packages/h5io/_h5io.py:56: PerformanceWarning: \n",
      "your performance may suffer as PyTables will pickle object types that it cannot\n",
      "map directly to c-types [inferred_type->mixed,key->block0_values] [items->Index(['Name', 'Filename', 'Model', 'Species', 'Config'], dtype='object')]\n",
      "\n",
      "  data.to_hdf(fname, rootpath)\n"
     ]
    }
   ],
   "source": [
    "al_bcc = pr.create.job.Calphy(\"al_bcc_600\", delete_aborted_job=True)\n",
    "al_bcc.potential = potential_list[0]\n",
    "al_bcc.structure = structure_bcc\n",
    "al_bcc.server.cores = 4\n",
    "al_bcc.calc_free_energy(temperature=[500, 1000], \n",
    "                     pressure=0, \n",
    "                     reference_phase=\"solid\",\n",
    "                     n_equilibration_steps=10000,\n",
    "                     n_switching_steps=10000)\n",
    "al_bcc.run()"
   ]
  },
  {
   "cell_type": "markdown",
   "id": "eae4fe4d-a679-48bb-b706-0b9e14603f00",
   "metadata": {},
   "source": [
    "Plot the solution"
   ]
  },
  {
   "cell_type": "code",
   "execution_count": 11,
   "id": "107c1a02-a2bf-47b4-a9fb-dff78d32ef74",
   "metadata": {},
   "outputs": [
    {
     "data": {
      "text/plain": [
       "<matplotlib.legend.Legend at 0x7f445de4b9a0>"
      ]
     },
     "execution_count": 11,
     "metadata": {},
     "output_type": "execute_result"
    },
    {
     "data": {
      "image/png": "[encoded data removed]",
      "text/plain": [
       "<Figure size 432x288 with 1 Axes>"
      ]
     },
     "metadata": {
      "needs_background": "light"
     },
     "output_type": "display_data"
    }
   ],
   "source": [
    "plt.plot(al_fcc.output.temperature, al_fcc.output.energy_free,\n",
    "        label=\"Al FCC\", color='#C62828')\n",
    "plt.plot(al_bcc.output.temperature, al_bcc.output.energy_free,\n",
    "        label=\"Al BCC\", color='#006899')\n",
    "plt.xlabel(\"Temperature (K)\")\n",
    "plt.ylabel(\"Free energy (eV/K)\")\n",
    "plt.legend()"
   ]
  },
  {
   "cell_type": "markdown",
   "id": "0be8c561-51d5-4335-b3cd-6538bd52894f",
   "metadata": {},
   "source": [
    "As expected the free energy of the FCC lattice is lower than BCC:"
   ]
  },
  {
   "cell_type": "markdown",
   "id": "a280a075-7f1e-4ec1-bd25-70b47c687b14",
   "metadata": {},
   "source": [
    "### Task 3: Calculate melting temperature of Al at 10000 bar"
   ]
  },
  {
   "cell_type": "code",
   "execution_count": null,
   "id": "1df200ab-5785-4565-b05f-3d39bf050ef3",
   "metadata": {},
   "outputs": [],
   "source": []
  },
  {
   "cell_type": "markdown",
   "id": "9a812126-0cf4-4b08-9e11-00dbcb9585db",
   "metadata": {},
   "source": [
    "### Task 4: Calculate the melting temperature of Li\n",
    "\n",
    "The potential for Li can be accessed as `potential_list[1]`. Use temperature range of 350-500.  "
   ]
  },
  {
   "cell_type": "code",
   "execution_count": null,
   "id": "0b321950-f17e-43a7-b5f1-249e901ab36f",
   "metadata": {},
   "outputs": [],
   "source": []
  }
 ],
 "metadata": {
  "kernelspec": {
   "display_name": "workshop",
   "language": "python",
   "name": "workshop"
  },
  "language_info": {
   "codemirror_mode": {
    "name": "ipython",
    "version": 3
   },
   "file_extension": ".py",
   "mimetype": "text/x-python",
   "name": "python",
   "nbconvert_exporter": "python",
   "pygments_lexer": "ipython3",
   "version": "3.9.12"
  }
 },
 "nbformat": 4,
 "nbformat_minor": 5
}
