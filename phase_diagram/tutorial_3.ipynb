{
 "cells": [
  {
   "cell_type": "markdown",
   "id": "e6829c50-ea89-4b95-b76b-5d61dd4a122a",
   "metadata": {},
   "source": [
    "<table border=\"0\">\n",
    " <tr>\n",
    "    <td style=\"width:30%\"><img src=\"img/potentials_logo.png\" width=\"100%\" align=\"justify\"></td>\n",
    "    <td style=\"width:70%\"> <p style=\"width:100%;color:#B71C1C;font-size:24px;text-align:justify\"> From electrons to phase diagrams </p> <p style=\"width:100%,font-size:16px\">Day 03 Hands-on session (Part 3)</td>\n",
    " </tr>\n",
    "</table>"
   ]
  },
  {
   "cell_type": "markdown",
   "id": "abee24ee-55ed-4ad0-b4af-b53c59d398b9",
   "metadata": {},
   "source": [
    "In this notebook, we will use the EAM potential fitted in the previous day and move towards the AlLi phase diagram. We will use many of the methods and tools we discussed in the last sessions and put them together for calculation of phase diagrams. We start with the phase diagram of AlLi from Ref. [[1]](https://doi.org/10.1002/adma.19910031215). "
   ]
  },
  {
   "cell_type": "markdown",
   "id": "4df3f86c-245c-4b80-bac9-4a73e5d321cb",
   "metadata": {},
   "source": [
    "<img src=\"img/alli_phase_diagram.jpg\" width=\"50%\" align=\"justify\">"
   ]
  },
  {
   "cell_type": "markdown",
   "id": "593a2179-b9d7-47d2-a56d-7bdfbad7b253",
   "metadata": {},
   "source": [
    "In the last session, we calculated the melting temperatures of the pure phases Al and Li, thereby arriving at two points on the phase diagram. In this notebook, we will start with the left side of the phase diagram, until $X_{Li} < 0.5$."
   ]
  },
  {
   "cell_type": "markdown",
   "id": "719cf65b-4052-4858-9295-869d4340c9dc",
   "metadata": {},
   "source": [
    "As always, we start by importing the necessary modules."
   ]
  },
  {
   "cell_type": "code",
   "execution_count": 1,
   "id": "2fdb55d8-d5f9-4b93-81ff-45116ee94e3a",
   "metadata": {},
   "outputs": [],
   "source": [
    "import matplotlib.pyplot as plt\n",
    "import numpy as np\n",
    "from pyiron_atomistics import Project\n",
    "from helpers import *\n",
    "from calphy.integrators import kb"
   ]
  },
  {
   "cell_type": "markdown",
   "id": "e2c2b8ac-418c-4d6d-b937-60f56710c491",
   "metadata": {},
   "source": [
    "We unpack the project; this can be deleted later when the calculations are run directly"
   ]
  },
  {
   "cell_type": "code",
   "execution_count": 4,
   "id": "98c1e405-f9fe-42b1-87b9-99f95317d248",
   "metadata": {},
   "outputs": [],
   "source": [
    "pr = Project(\"phase_diagram_2\")\n",
    "pr.unpack(\"lial\")"
   ]
  },
  {
   "cell_type": "markdown",
   "id": "7763e0b6-693e-42eb-89bf-e22f3e1e4001",
   "metadata": {},
   "source": [
    "Most of the interesting features of the phase diagram at composition of $X_{Li} < 0.5$ lies between the temperature range of 700-1000 K. Therefore, we will calculate the free energy in this range. Similar to the previous session, we will use reversible scaling to obtain the free energy in this temperature range in a single calculation. We will recalculate the free energy of pure Al in FCC lattice and pure Al liquid first."
   ]
  },
  {
   "cell_type": "markdown",
   "id": "97370438-9cb7-477d-888e-82a9b6545cc0",
   "metadata": {},
   "source": [
    "## Pure Al"
   ]
  },
  {
   "cell_type": "markdown",
   "id": "abc918e0-96b9-427c-9fb1-3f996d0f4193",
   "metadata": {},
   "source": [
    "### Solid"
   ]
  },
  {
   "cell_type": "markdown",
   "id": "2d17f281-807d-4c0e-b449-3a3884cd4732",
   "metadata": {},
   "source": [
    "We start by creating an FCC structure. The converged lattice constant has been provided so as to speed up the calculations (CHANGE). "
   ]
  },
  {
   "cell_type": "code",
   "execution_count": 6,
   "id": "5f2e42f8-6f0f-4b4d-8463-c0fbd7536e02",
   "metadata": {},
   "outputs": [],
   "source": [
    "structure = pr.create.structure.ase.bulk('Al', cubic=True).repeat(5)"
   ]
  },
  {
   "cell_type": "markdown",
   "id": "8468bcbe-f760-43ae-bdf3-d3d32c20453b",
   "metadata": {},
   "source": [
    "We can visualise the structure."
   ]
  },
  {
   "cell_type": "code",
   "execution_count": 7,
   "id": "106b6736-9516-4846-b0ff-547f1b00ca29",
   "metadata": {},
   "outputs": [
    {
     "data": {
      "application/vnd.jupyter.widget-view+json": {
       "model_id": "1bccd060c2274c18ac29fc98af6a66cb",
       "version_major": 2,
       "version_minor": 0
      },
      "text/plain": []
     },
     "metadata": {},
     "output_type": "display_data"
    },
    {
     "data": {
      "application/vnd.jupyter.widget-view+json": {
       "model_id": "85cb2cfbddbc4c3f9094e26181005a34",
       "version_major": 2,
       "version_minor": 0
      },
      "text/plain": [
       "NGLWidget()"
      ]
     },
     "metadata": {},
     "output_type": "display_data"
    }
   ],
   "source": [
    "structure.plot3d()"
   ]
  },
  {
   "cell_type": "markdown",
   "id": "41df6862-5651-4346-8db0-05d07d62a192",
   "metadata": {},
   "source": [
    "Our FCC lattice consists of a 5x5x5 supercell consisting of 500 atoms. Now we create a Calphy job in pyiron and assign a potential. The interatomic potentials have been prepared already. Let's take a look."
   ]
  },
  {
   "cell_type": "code",
   "execution_count": 8,
   "id": "f0fad1dd-9d47-4fe0-b9ec-46eb684099f2",
   "metadata": {},
   "outputs": [
    {
     "data": {
      "text/html": [
       "<div>\n",
       "<style scoped>\n",
       "    .dataframe tbody tr th:only-of-type {\n",
       "        vertical-align: middle;\n",
       "    }\n",
       "\n",
       "    .dataframe tbody tr th {\n",
       "        vertical-align: top;\n",
       "    }\n",
       "\n",
       "    .dataframe thead th {\n",
       "        text-align: right;\n",
       "    }\n",
       "</style>\n",
       "<table border=\"1\" class=\"dataframe\">\n",
       "  <thead>\n",
       "    <tr style=\"text-align: right;\">\n",
       "      <th></th>\n",
       "      <th>Name</th>\n",
       "      <th>Filename</th>\n",
       "      <th>Model</th>\n",
       "      <th>Species</th>\n",
       "      <th>Config</th>\n",
       "    </tr>\n",
       "  </thead>\n",
       "  <tbody>\n",
       "    <tr>\n",
       "      <th>0</th>\n",
       "      <td>Al_eam</td>\n",
       "      <td>[/mnt/c/Users/menon/Documents/winrepos/worksho...</td>\n",
       "      <td>EAM</td>\n",
       "      <td>[Al]</td>\n",
       "      <td>[pair_style eam/fs\\n, pair_coeff * * AlLi.eam....</td>\n",
       "    </tr>\n",
       "  </tbody>\n",
       "</table>\n",
       "</div>"
      ],
      "text/plain": [
       "     Name                                           Filename Model Species  \\\n",
       "0  Al_eam  [/mnt/c/Users/menon/Documents/winrepos/worksho...   EAM    [Al]   \n",
       "\n",
       "                                              Config  \n",
       "0  [pair_style eam/fs\\n, pair_coeff * * AlLi.eam....  "
      ]
     },
     "execution_count": 8,
     "metadata": {},
     "output_type": "execute_result"
    }
   ],
   "source": [
    "potential_list[0]"
   ]
  },
  {
   "cell_type": "markdown",
   "id": "8bcacb95-c984-434b-a2cc-970b8c513bfb",
   "metadata": {},
   "source": [
    "The potential has been configured for pure Al."
   ]
  },
  {
   "cell_type": "code",
   "execution_count": 9,
   "id": "41f8d1e0-8f8c-4dfb-b3d9-805801cdb488",
   "metadata": {
    "tags": []
   },
   "outputs": [
    {
     "name": "stderr",
     "output_type": "stream",
     "text": [
      "2022-05-30 10:13:26,923 - pyiron_log - WARNING - Job aborted - please remove it and run again! xp_sol\n"
     ]
    }
   ],
   "source": [
    "xd2_sol = pr.create.job.Calphy(\"xp_sol\")\n",
    "xd2_sol.potential = potential_list[0]\n",
    "xd2_sol.structure = structure"
   ]
  },
  {
   "cell_type": "markdown",
   "id": "1d2731f6-8c1c-484f-9161-e679cd253428",
   "metadata": {},
   "source": [
    "We have assigned the potential and structure. To speed up the calculations, we will run it on 2 cores."
   ]
  },
  {
   "cell_type": "code",
   "execution_count": 10,
   "id": "dcd99a88-7a0d-49ef-b943-0c5ac1195224",
   "metadata": {},
   "outputs": [],
   "source": [
    "xd2_sol.server.cores = 4"
   ]
  },
  {
   "cell_type": "markdown",
   "id": "28e6d72d-3821-4f25-92e2-0b2827ad3c6e",
   "metadata": {},
   "source": [
    "Now let's use the `calc_free_energy` method."
   ]
  },
  {
   "cell_type": "code",
   "execution_count": 11,
   "id": "1a9c5498-cf05-4f77-b78e-488076fa666d",
   "metadata": {},
   "outputs": [],
   "source": [
    "xd2_sol.calc_free_energy(temperature=[700, 1000], \n",
    "                     pressure=0, \n",
    "                     reference_phase=\"solid\",\n",
    "                     n_equilibration_steps=10000,\n",
    "                     n_switching_steps=10000)"
   ]
  },
  {
   "cell_type": "markdown",
   "id": "9979b8d5-2cd5-42ab-b48d-3d39022a6337",
   "metadata": {},
   "source": [
    "Before we actually run the calculation, let us discuss the various parameters. `temperature` keyword gives the temperature range over which the free energy is to be calculated. Since we provide `[700, 1000]`, the free energy is calculated between this range. `pressure` denotes the pressure of the calculation, we chose 0 in this case. Since we are using a solid FCC lattice, we set `reference_phase` to `\"solid\"`. This means that the Einstein crystal will be used as the reference system. Finally, we have `n_equilibration_steps` and `n_switching_steps`. `n_equilibration_steps` denotes the number of MD steps over which the system is equilibrated to the required temperature and pressure. `n_switching_steps` are the number of MD steps over which the system is continuously transformed between the given interatomic potential, and the reference Einstein crystal."
   ]
  },
  {
   "cell_type": "markdown",
   "id": "0420ab48-1095-4f11-8061-6e04795f8b24",
   "metadata": {},
   "source": [
    "Finally we run the calculation."
   ]
  },
  {
   "cell_type": "code",
   "execution_count": 12,
   "id": "6d076f83-949a-44d7-8128-cf568dec5e07",
   "metadata": {},
   "outputs": [],
   "source": [
    "xd2_sol.run()"
   ]
  },
  {
   "cell_type": "markdown",
   "id": "b6b98c51-35a4-45c9-a2b6-27049378cd19",
   "metadata": {},
   "source": [
    "### Liquid"
   ]
  },
  {
   "cell_type": "markdown",
   "id": "201d5bd1-88e4-4de9-8a54-08ee6acebf66",
   "metadata": {},
   "source": [
    "Before we look at the output of the previous calculation, we will also calculate the free energy of the liquid phase. For this we can use the same structure as the solid. The Calphy workflow will first superheat the structure, melt it, and then equilibrate to the required temperature and pressure. Therefore the input for the pyiron job looks fairly same."
   ]
  },
  {
   "cell_type": "code",
   "execution_count": 14,
   "id": "361de986-8a22-4df7-b91c-2c74d11e2ee3",
   "metadata": {},
   "outputs": [],
   "source": [
    "xd2_lqd = pr.create.job.Calphy(\"xp_lqd\")\n",
    "xd2_lqd.potential = potential_list[0]\n",
    "xd2_lqd.structure = structure\n",
    "xd2_lqd.server.cores = 4\n",
    "xd2_lqd.calc_free_energy(temperature=[700, 1000], \n",
    "                     pressure=0, \n",
    "                     reference_phase=\"liquid\",\n",
    "                     n_equilibration_steps=10000,\n",
    "                     n_switching_steps=10000)"
   ]
  },
  {
   "cell_type": "markdown",
   "id": "9acd93d9-a5bc-4410-9db3-fb35cf925edc",
   "metadata": {},
   "source": [
    "The major change in the input is that the `reference_phase` is `\"liquid\"`, instead of `\"solid\"`. In this case, the Uhlenbeck-Ford model is used as the reference system instead of the Einstein crystal. Now run the job,"
   ]
  },
  {
   "cell_type": "code",
   "execution_count": 15,
   "id": "1ba6b5cf-a275-4d05-a28c-8fb051bd7621",
   "metadata": {
    "collapsed": true,
    "jupyter": {
     "outputs_hidden": true
    },
    "tags": []
   },
   "outputs": [
    {
     "name": "stderr",
     "output_type": "stream",
     "text": [
      "/home/menon/miniconda3/envs/workshop/lib/python3.9/site-packages/h5io/_h5io.py:56: PerformanceWarning: \n",
      "your performance may suffer as PyTables will pickle object types that it cannot\n",
      "map directly to c-types [inferred_type->mixed,key->block0_values] [items->Index(['Name', 'Filename', 'Model', 'Species', 'Config'], dtype='object')]\n",
      "\n",
      "  data.to_hdf(fname, rootpath)\n"
     ]
    },
    {
     "name": "stdout",
     "output_type": "stream",
     "text": [
      "The job xp_lqd was saved and received the ID: 81\n"
     ]
    },
    {
     "name": "stderr",
     "output_type": "stream",
     "text": [
      "/home/menon/miniconda3/envs/workshop/lib/python3.9/site-packages/h5io/_h5io.py:56: PerformanceWarning: \n",
      "your performance may suffer as PyTables will pickle object types that it cannot\n",
      "map directly to c-types [inferred_type->mixed,key->block0_values] [items->Index(['Name', 'Filename', 'Model', 'Species', 'Config'], dtype='object')]\n",
      "\n",
      "  data.to_hdf(fname, rootpath)\n"
     ]
    }
   ],
   "source": [
    "xd2_lqd.run()"
   ]
  },
  {
   "cell_type": "markdown",
   "id": "29e45736-f6ed-43a6-b5d5-7a595344dfc1",
   "metadata": {},
   "source": [
    "Now we can look at the output; and plot the free energies of the two phases and calculate the melting temperature."
   ]
  },
  {
   "cell_type": "code",
   "execution_count": 15,
   "id": "a7831534-8932-4646-a714-81c30cb82968",
   "metadata": {},
   "outputs": [
    {
     "data": {
      "text/plain": [
       "{'groups': ['lial_thermodynamics_composition'], 'nodes': []}"
      ]
     },
     "execution_count": 15,
     "metadata": {},
     "output_type": "execute_result"
    }
   ],
   "source": [
    "pr"
   ]
  },
  {
   "cell_type": "code",
   "execution_count": 5,
   "id": "7b67fdc6-2954-4af9-9b2a-9ae2df890c2a",
   "metadata": {},
   "outputs": [
    {
     "data": {
      "text/plain": [
       "[<matplotlib.lines.Line2D at 0x7fcf3d789d90>]"
      ]
     },
     "execution_count": 5,
     "metadata": {},
     "output_type": "execute_result"
    },
    {
     "data": {
      "image/png": "[encoded data removed]",
      "text/plain": [
       "<Figure size 432x288 with 1 Axes>"
      ]
     },
     "metadata": {
      "needs_background": "light"
     },
     "output_type": "display_data"
    }
   ],
   "source": [
    "plt.plot(pr['lial_thermodynamics_composition/xp_sol'].output.temperature, pr['lial_thermodynamics_composition/xp_sol'].output.energy_free,\n",
    "        label=\"Al solid\", color='#C62828')\n",
    "plt.plot(pr['lial_thermodynamics_composition/xp_lqd'].output.temperature, pr['lial_thermodynamics_composition/xp_lqd'].output.energy_free,\n",
    "        label=\"Al liquid\", color='#006899')"
   ]
  },
  {
   "cell_type": "markdown",
   "id": "919abb78-a241-4c02-8bba-20d74fa1a587",
   "metadata": {},
   "source": [
    "Great, finally, we will also calculate the free energy of the Al Li structure. Let's read in the structrue from the given file and plot it."
   ]
  },
  {
   "cell_type": "code",
   "execution_count": 8,
   "id": "33bf1f2d-ba68-473c-809b-ad4ee81fa528",
   "metadata": {},
   "outputs": [],
   "source": [
    "alli = pr.create.structure.ase.read('LiAl_poscar', format='vasp')"
   ]
  },
  {
   "cell_type": "code",
   "execution_count": 9,
   "id": "0530321e-6292-4f35-a319-9a04f56ff9a3",
   "metadata": {},
   "outputs": [
    {
     "data": {
      "application/vnd.jupyter.widget-view+json": {
       "model_id": "bdbc8b6be86647fa91de5629e6b486a0",
       "version_major": 2,
       "version_minor": 0
      },
      "text/plain": [
       "NGLWidget()"
      ]
     },
     "metadata": {},
     "output_type": "display_data"
    }
   ],
   "source": [
    "alli.plot3d()"
   ]
  },
  {
   "cell_type": "markdown",
   "id": "0df357e6-6f40-411f-b443-2c0f27af19b8",
   "metadata": {},
   "source": [
    "We are calculating the free energy at zero percent Li, there will replace all the Li atoms with Al."
   ]
  },
  {
   "cell_type": "code",
   "execution_count": 10,
   "id": "a4724977-e552-434e-8543-2ebe54fd5d4b",
   "metadata": {},
   "outputs": [],
   "source": [
    "alli[:] = 'Al'"
   ]
  },
  {
   "cell_type": "code",
   "execution_count": 11,
   "id": "47d97564-88d2-40ec-87c9-de6b70a16045",
   "metadata": {},
   "outputs": [
    {
     "data": {
      "application/vnd.jupyter.widget-view+json": {
       "model_id": "11a01396f3c24ea5b6d6183e32451c61",
       "version_major": 2,
       "version_minor": 0
      },
      "text/plain": [
       "NGLWidget()"
      ]
     },
     "metadata": {},
     "output_type": "display_data"
    }
   ],
   "source": [
    "alli.plot3d()"
   ]
  },
  {
   "cell_type": "markdown",
   "id": "d7efef54-b256-4b79-939e-df6fedd5e808",
   "metadata": {},
   "source": [
    "Now we run the calculation to calculate the free energy at the same temperature range."
   ]
  },
  {
   "cell_type": "code",
   "execution_count": 22,
   "id": "c468175e-f485-47b9-b504-0ba8e02a8f1f",
   "metadata": {
    "collapsed": true,
    "jupyter": {
     "outputs_hidden": true
    },
    "tags": []
   },
   "outputs": [
    {
     "name": "stderr",
     "output_type": "stream",
     "text": [
      "/home/menon/miniconda3/envs/workshop/lib/python3.9/site-packages/h5io/_h5io.py:56: PerformanceWarning: \n",
      "your performance may suffer as PyTables will pickle object types that it cannot\n",
      "map directly to c-types [inferred_type->mixed,key->block0_values] [items->Index(['Name', 'Filename', 'Model', 'Species', 'Config'], dtype='object')]\n",
      "\n",
      "  data.to_hdf(fname, rootpath)\n"
     ]
    },
    {
     "name": "stdout",
     "output_type": "stream",
     "text": [
      "The job xp_alli was saved and received the ID: 82\n"
     ]
    },
    {
     "name": "stderr",
     "output_type": "stream",
     "text": [
      "/home/menon/miniconda3/envs/workshop/lib/python3.9/site-packages/h5io/_h5io.py:56: PerformanceWarning: \n",
      "your performance may suffer as PyTables will pickle object types that it cannot\n",
      "map directly to c-types [inferred_type->mixed,key->block0_values] [items->Index(['Name', 'Filename', 'Model', 'Species', 'Config'], dtype='object')]\n",
      "\n",
      "  data.to_hdf(fname, rootpath)\n"
     ]
    }
   ],
   "source": [
    "xd2_alli = pr.create.job.Calphy(\"xp_alli\")\n",
    "xd2_alli.potential = potential_list[0]\n",
    "xd2_alli.structure = alli\n",
    "xd2_alli.server.cores = 4\n",
    "xd2_alli.calc_free_energy(temperature=[700, 1000], \n",
    "                     pressure=0, \n",
    "                     reference_phase=\"solid\",\n",
    "                     n_equilibration_steps=10000,\n",
    "                     n_switching_steps=10000)\n",
    "xd2_alli.run()"
   ]
  },
  {
   "cell_type": "markdown",
   "id": "8b9ee4b4-ecf1-4096-bfd0-1a1381970606",
   "metadata": {},
   "source": [
    "## Free energy with composition"
   ]
  },
  {
   "cell_type": "markdown",
   "id": "5f1f69ce-2262-4612-b0f5-079f651698c6",
   "metadata": {},
   "source": [
    "Now we will calculate the free energy of FCC solid, liquid and B32 phases with increasing Li compositions. We will use compositions from 0.1 to 0.5 Li. For the solid structure, we will first create an Al FCC structure, and replace randomly selected atoms with Li. Let's see how we do this."
   ]
  },
  {
   "cell_type": "code",
   "execution_count": 12,
   "id": "6c4cb706-98f6-4a33-a3dd-8b3f23f28e02",
   "metadata": {},
   "outputs": [],
   "source": [
    "structure = pr.create.structure.ase.bulk('Al', cubic=True).repeat(5)"
   ]
  },
  {
   "cell_type": "code",
   "execution_count": 13,
   "id": "7c68c80e-5e78-4312-b341-fa1eb9a2fa43",
   "metadata": {},
   "outputs": [
    {
     "data": {
      "application/vnd.jupyter.widget-view+json": {
       "model_id": "d8a5683a9d1c4fd5b84c8baff7d5f953",
       "version_major": 2,
       "version_minor": 0
      },
      "text/plain": [
       "NGLWidget()"
      ]
     },
     "metadata": {},
     "output_type": "display_data"
    }
   ],
   "source": [
    "structure.plot3d()"
   ]
  },
  {
   "cell_type": "markdown",
   "id": "51033367-421a-44e9-b4cb-637a2edce59b",
   "metadata": {},
   "source": [
    "Now we assume we need to create 0.1 composition of Li. Therefore, the number of Li atoms needed are:"
   ]
  },
  {
   "cell_type": "code",
   "execution_count": 14,
   "id": "dfed2430-c0a9-4454-b8e5-8ce234bf3327",
   "metadata": {},
   "outputs": [
    {
     "data": {
      "text/plain": [
       "50"
      ]
     },
     "execution_count": 14,
     "metadata": {},
     "output_type": "execute_result"
    }
   ],
   "source": [
    "comp = 0.1\n",
    "n_li = int(comp*len(structure))\n",
    "n_li"
   ]
  },
  {
   "cell_type": "markdown",
   "id": "e57d7ab8-1813-4f33-b365-296261923a08",
   "metadata": {},
   "source": [
    "Now we randomly replace 50 Al atoms with Li."
   ]
  },
  {
   "cell_type": "code",
   "execution_count": 15,
   "id": "6693b34e-53d3-42b2-a851-514969123a43",
   "metadata": {},
   "outputs": [],
   "source": [
    "structure[np.random.permutation(len(structure))[:n_li]] = 'Li'"
   ]
  },
  {
   "cell_type": "code",
   "execution_count": 16,
   "id": "30832772-cfba-41c5-927f-afb58c2055b3",
   "metadata": {},
   "outputs": [
    {
     "data": {
      "application/vnd.jupyter.widget-view+json": {
       "model_id": "ba179f7afd71483ebe5a7227c40c5cfd",
       "version_major": 2,
       "version_minor": 0
      },
      "text/plain": [
       "NGLWidget()"
      ]
     },
     "metadata": {},
     "output_type": "display_data"
    }
   ],
   "source": [
    "structure.plot3d()"
   ]
  },
  {
   "cell_type": "markdown",
   "id": "8bbc1c83-207e-4025-a803-48b830fd09b5",
   "metadata": {},
   "source": [
    "We can see that some Al atoms are now replaced with Li. We also need to create B32 structures of varying compositions. For that we start with the LiAl B32 structure, and replace randomly selected Li atoms with Al, therby reducing the amount of Li in the structure."
   ]
  },
  {
   "cell_type": "code",
   "execution_count": 17,
   "id": "d3d3bafa-b5f5-4c9e-8d76-38e2564d9bdb",
   "metadata": {},
   "outputs": [],
   "source": [
    "structure = pr.create.structure.ase.read('LiAl_poscar', format='vasp')"
   ]
  },
  {
   "cell_type": "code",
   "execution_count": 18,
   "id": "a02da17c-666f-4703-aec4-439f04744d18",
   "metadata": {},
   "outputs": [
    {
     "data": {
      "application/vnd.jupyter.widget-view+json": {
       "model_id": "fd68e27d4dc248dd871d978493f1b6b3",
       "version_major": 2,
       "version_minor": 0
      },
      "text/plain": [
       "NGLWidget()"
      ]
     },
     "metadata": {},
     "output_type": "display_data"
    }
   ],
   "source": [
    "structure.plot3d()"
   ]
  },
  {
   "cell_type": "markdown",
   "id": "0874a585-7ed2-47fc-9d6d-244c596ac252",
   "metadata": {},
   "source": [
    "Once again, find the number of Li atoms that need to replaced."
   ]
  },
  {
   "cell_type": "code",
   "execution_count": 19,
   "id": "d00ec755-8331-457b-866b-5ad0a93cdbab",
   "metadata": {},
   "outputs": [
    {
     "data": {
      "text/plain": [
       "172"
      ]
     },
     "execution_count": 19,
     "metadata": {},
     "output_type": "execute_result"
    }
   ],
   "source": [
    "n_li = int((0.5-comp)*len(structure))\n",
    "n_li"
   ]
  },
  {
   "cell_type": "markdown",
   "id": "17b20f88-6588-402c-9999-1cd96bcff667",
   "metadata": {},
   "source": [
    "Now replace random Li atoms with Al"
   ]
  },
  {
   "cell_type": "code",
   "execution_count": 20,
   "id": "39799961-d2e7-4545-8f87-948e2ee1847b",
   "metadata": {},
   "outputs": [],
   "source": [
    "rinds = np.random.choice(range(len(structure)//2), n_li, replace=False)\n",
    "structure[rinds] = 'Al'"
   ]
  },
  {
   "cell_type": "code",
   "execution_count": 21,
   "id": "393a96e9-6592-4a1c-bc90-7446124f3555",
   "metadata": {},
   "outputs": [
    {
     "data": {
      "application/vnd.jupyter.widget-view+json": {
       "model_id": "24172e887fd445abbfdae2466448f256",
       "version_major": 2,
       "version_minor": 0
      },
      "text/plain": [
       "NGLWidget()"
      ]
     },
     "metadata": {},
     "output_type": "display_data"
    }
   ],
   "source": [
    "structure.plot3d()"
   ]
  },
  {
   "cell_type": "markdown",
   "id": "0cd85ff7-2a54-45f3-9f97-3446f91bd0d6",
   "metadata": {},
   "source": [
    "Now we have all the necessary components in place. We can simply create a loop over the compositions and run the calculations."
   ]
  },
  {
   "cell_type": "code",
   "execution_count": null,
   "id": "1ac33e3e-e6bc-426b-a7d4-837643022670",
   "metadata": {},
   "outputs": [],
   "source": [
    "for count, comp in enumerate([0.1, 0.2, 0.3, 0.4, 0.5]):\n",
    "    structure = pr.create.structure.ase.bulk('Al', cubic=True).repeat(5)\n",
    "    n_li = int(comp*len(structure))\n",
    "    structure[np.random.permutation(len(structure))[:n_li]] = 'Li'\n",
    "    xd2_sol = pr.create.job.Calphy(\"x%d_sol\"%count)\n",
    "    xd2_sol.potential = potential_list[3]\n",
    "    xd2_sol.structure = structure\n",
    "    xd2_sol.server.cores = 4\n",
    "    xd2_sol.calc_free_energy(temperature=[700, 1000], \n",
    "                         pressure=0, \n",
    "                         reference_phase=\"solid\",\n",
    "                         n_equilibration_steps=10000,\n",
    "                         n_switching_steps=10000)\n",
    "    xd2_sol.run()\n",
    "    xd2_lqd = pr.create.job.Calphy(\"x%d_lqd\"%count)\n",
    "    xd2_lqd.potential = potential_list[3]\n",
    "    xd2_lqd.structure = structure\n",
    "    xd2_lqd.server.cores = 4\n",
    "    xd2_lqd.calc_free_energy(temperature=[700, 1000], \n",
    "                         pressure=0, \n",
    "                         reference_phase=\"liquid\",\n",
    "                         n_equilibration_steps=10000,\n",
    "                         n_switching_steps=10000)\n",
    "    xd2_lqd.run()\n",
    "    alli = pr.create.structure.ase.read('LiAl_poscar', format='vasp')\n",
    "    n_li = int((0.5-comp)*len(structure))\n",
    "    rinds = np.random.choice(range(len(alli)//2), n_li, replace=False)\n",
    "    alli[rinds] = 'Al'\n",
    "    xd2_alli = pr.create.job.Calphy(\"x%d_alli\"%count)\n",
    "    xd2_alli.potential = potential_list[3]\n",
    "    xd2_alli.structure = alli\n",
    "    xd2_alli.server.cores = 4\n",
    "    xd2_alli.calc_free_energy(temperature=[700, 1000], \n",
    "                         pressure=0, \n",
    "                         reference_phase=\"solid\",\n",
    "                         n_equilibration_steps=10000,\n",
    "                         n_switching_steps=10000)\n",
    "    xd2_alli.run()"
   ]
  },
  {
   "cell_type": "markdown",
   "id": "03f0bd9e-fb40-48da-94dc-8d57e54f8641",
   "metadata": {},
   "source": [
    "## Analysing the results"
   ]
  },
  {
   "cell_type": "markdown",
   "id": "8a4fed77-59f8-41da-b4ae-4a6047f33685",
   "metadata": {},
   "source": [
    "Now we can analyse the results of the above calculations. First we create an array of the composition values."
   ]
  },
  {
   "cell_type": "code",
   "execution_count": 22,
   "id": "c3344c98-42d0-4ed7-9389-8a2a60ba9a5d",
   "metadata": {},
   "outputs": [],
   "source": [
    "comp = np.arange(0, 0.6, 0.1)"
   ]
  },
  {
   "cell_type": "markdown",
   "id": "2143e427-776b-4db4-b7d0-243296865a3d",
   "metadata": {},
   "source": [
    "For the initial set of analysis, we will choose a temperature of 700 K. "
   ]
  },
  {
   "cell_type": "code",
   "execution_count": 91,
   "id": "d22070b3-0c72-49c5-bf69-cf792a39982c",
   "metadata": {},
   "outputs": [],
   "source": [
    "temp = 700"
   ]
  },
  {
   "cell_type": "markdown",
   "id": "f7b14a89-34b5-4e99-964f-865c07a80d9f",
   "metadata": {},
   "source": [
    "The calculations we ran already has the free energy at all temperatures from 700-1000 K. We need to extract the free energy at the correct temperature. The `helpers.py` file in the folder contains some helper functions for this notebook. We provide a `fe_at` method which can extract the free energy at the required temperature. Let's take a look at the method."
   ]
  },
  {
   "cell_type": "code",
   "execution_count": 92,
   "id": "f27266d0-04e0-4525-8814-dd3e6959c98c",
   "metadata": {},
   "outputs": [
    {
     "data": {
      "text/plain": [
       "\u001b[0;31mSignature:\u001b[0m \u001b[0mfe_at\u001b[0m\u001b[0;34m(\u001b[0m\u001b[0mp\u001b[0m\u001b[0;34m,\u001b[0m \u001b[0mtemp\u001b[0m\u001b[0;34m,\u001b[0m \u001b[0mthreshold\u001b[0m\u001b[0;34m=\u001b[0m\u001b[0;36m0.1\u001b[0m\u001b[0;34m)\u001b[0m\u001b[0;34m\u001b[0m\u001b[0;34m\u001b[0m\u001b[0m\n",
       "\u001b[0;31mDocstring:\u001b[0m\n",
       "Get the free energy at a given temperature\n",
       "\n",
       "Parameters\n",
       "----------\n",
       "p: pyiron Job\n",
       "    Pyiron job with calculated free energy and temperature\n",
       "    \n",
       "temp: float\n",
       "    Required temperature\n",
       "    \n",
       "threshold: optional, default 1E-1\n",
       "    Minimum difference needed between required temperature and temperature found in pyiron job\n",
       "    \n",
       "Returns\n",
       "-------\n",
       "float: free energy value at required temperature\n",
       "\u001b[0;31mFile:\u001b[0m      /mnt/c/Users/menon/Documents/winrepos/workshop_preparation/phase_diagram/helpers.py\n",
       "\u001b[0;31mType:\u001b[0m      function\n"
      ]
     },
     "metadata": {},
     "output_type": "display_data"
    }
   ],
   "source": [
    "fe_at?"
   ]
  },
  {
   "cell_type": "markdown",
   "id": "3ea1923f-43a9-42e5-8314-2025f34e3141",
   "metadata": {},
   "source": [
    "For for pure Al calculations, and for each composition, we extract the free energy at 700 K of the FCC, liquid and B32 phases."
   ]
  },
  {
   "cell_type": "code",
   "execution_count": 93,
   "id": "62e66d3a-c9c4-40c0-8df7-ae796d8f2d65",
   "metadata": {},
   "outputs": [],
   "source": [
    "fcc = []\n",
    "b32 = []\n",
    "lqd = []\n",
    "\n",
    "fcc.append(fe_at(pr[\"lial_thermodynamics_composition/xp_sol\"], temp))\n",
    "lqd.append(fe_at(pr[\"lial_thermodynamics_composition/xp_lqd\"], temp))\n",
    "b32.append(fe_at(pr[\"lial_thermodynamics_composition/xp_alli\"], temp))\n",
    "\n",
    "for i in range(5):\n",
    "    fcc.append(fe_at(pr[\"lial_thermodynamics_composition/x%d_sol\"%i], temp))\n",
    "    lqd.append(fe_at(pr[\"lial_thermodynamics_composition/x%d_lqd\"%i], temp))\n",
    "    b32.append(fe_at(pr[\"lial_thermodynamics_composition/x%d_alli\"%i], temp))"
   ]
  },
  {
   "cell_type": "markdown",
   "id": "20231991-df18-4556-b217-0fe731699be5",
   "metadata": {},
   "source": [
    "Plot the results"
   ]
  },
  {
   "cell_type": "code",
   "execution_count": 94,
   "id": "f6eabcb1-7a02-4e34-9fef-ea584f3a547c",
   "metadata": {},
   "outputs": [
    {
     "data": {
      "text/plain": [
       "<matplotlib.legend.Legend at 0x7fcf10b47610>"
      ]
     },
     "execution_count": 94,
     "metadata": {},
     "output_type": "execute_result"
    },
    {
     "data": {
      "image/png": "[encoded data removed]",
      "text/plain": [
       "<Figure size 432x288 with 1 Axes>"
      ]
     },
     "metadata": {
      "needs_background": "light"
     },
     "output_type": "display_data"
    }
   ],
   "source": [
    "plt.plot(comp, fcc, '-', color=\"#e58080\")\n",
    "plt.plot(comp, lqd, '-', color=\"#66cfff\")\n",
    "plt.plot(comp, b32, '-', color=\"#ffc766\")\n",
    "plt.plot(comp, fcc, 'o', label='fcc', color=\"#e58080\", markeredgecolor=\"#424242\")\n",
    "plt.plot(comp, lqd, 'o', label='lqd', color=\"#66cfff\", markeredgecolor=\"#424242\")\n",
    "plt.plot(comp, b32, 'o', label='b32', color=\"#ffc766\", markeredgecolor=\"#424242\")\n",
    "plt.xlabel(r\"$x_{Li}$\")\n",
    "plt.ylabel(r\"F (eV/atom)\")\n",
    "plt.legend()"
   ]
  },
  {
   "cell_type": "markdown",
   "id": "123556d1-6b6e-4cdb-97b5-8711c1989d68",
   "metadata": {},
   "source": [
    "### Configurational entropy"
   ]
  },
  {
   "cell_type": "markdown",
   "id": "2b4c03ca-56c7-4830-a6e7-b01eff5c219e",
   "metadata": {},
   "source": [
    "In the above example, we had off stoichiometric compositions, but we did not include configurational entropy for the solid structures. The easiest way to do this, which we will use here, is to employ the ideal mixing assumption. In the case of ideal mixing, the configuration entropy of mixing is given by,\n",
    "\n",
    "$$\n",
    "S_{mix} = -k_B (x \\log(x) + (1-x) \\log(1-x))\n",
    "$$\n",
    "\n",
    "We can add this directly to the free energy.\n",
    "\n",
    "For the liquid phase, addition of configurational entropy explicitely is not needed as is it included in the free energy calculations."
   ]
  },
  {
   "cell_type": "code",
   "execution_count": 30,
   "id": "6c011541-030a-4ac8-99b4-c6d07d5f0340",
   "metadata": {
    "collapsed": true,
    "jupyter": {
     "outputs_hidden": true
    },
    "tags": []
   },
   "outputs": [
    {
     "name": "stderr",
     "output_type": "stream",
     "text": [
      "/tmp/ipykernel_81/1902816561.py:1: RuntimeWarning: divide by zero encountered in log\n",
      "  smix = -kb*(comp*np.log(comp) + (1-comp)*np.log(1-comp))\n",
      "/tmp/ipykernel_81/1902816561.py:1: RuntimeWarning: invalid value encountered in multiply\n",
      "  smix = -kb*(comp*np.log(comp) + (1-comp)*np.log(1-comp))\n"
     ]
    }
   ],
   "source": [
    "smix = -kb*(comp*np.log(comp) + (1-comp)*np.log(1-comp))\n",
    "smix[0] = 0"
   ]
  },
  {
   "cell_type": "code",
   "execution_count": 97,
   "id": "be276386-1148-482b-8364-4ee77a2d6831",
   "metadata": {},
   "outputs": [],
   "source": [
    "fcc_mix = np.array(fcc)-temp*smix\n",
    "b32_mix = np.array(b32)-temp*(smix-smix[-1])\n",
    "lqd_mix = np.array(lqd)"
   ]
  },
  {
   "cell_type": "code",
   "execution_count": 98,
   "id": "a44bb0b3-12ba-4e39-8c9c-b2760dd65ae4",
   "metadata": {},
   "outputs": [
    {
     "data": {
      "text/plain": [
       "<matplotlib.legend.Legend at 0x7fcf10bbb2b0>"
      ]
     },
     "execution_count": 98,
     "metadata": {},
     "output_type": "execute_result"
    },
    {
     "data": {
      "image/png": "[encoded data removed]",
      "text/plain": [
       "<Figure size 432x288 with 1 Axes>"
      ]
     },
     "metadata": {
      "needs_background": "light"
     },
     "output_type": "display_data"
    }
   ],
   "source": [
    "plt.plot(comp, fcc_mix, '-', color=\"#e58080\")\n",
    "plt.plot(comp, lqd_mix, '-', color=\"#66cfff\")\n",
    "plt.plot(comp, b32_mix, '-', color=\"#ffc766\")\n",
    "plt.plot(comp, fcc_mix, 'o', label='fcc', color=\"#e58080\", markeredgecolor=\"#424242\")\n",
    "plt.plot(comp, lqd_mix, 'o', label='lqd', color=\"#66cfff\", markeredgecolor=\"#424242\")\n",
    "plt.plot(comp, b32_mix, 'o', label='b32', color=\"#ffc766\", markeredgecolor=\"#424242\")\n",
    "plt.xlabel(r\"$x_{Li}$\")\n",
    "plt.ylabel(r\"F (eV/atom)\")\n",
    "plt.legend()"
   ]
  },
  {
   "cell_type": "markdown",
   "id": "af6a293e-ccae-470e-b2f3-073c8354ad5f",
   "metadata": {},
   "source": [
    "To obtain the results in a computationally efficient way, we used composition along every 0.1 Li. We can fit a 3rd order polynomial to these points to get a finer grid. We will use `numpy.polyfit` for this purpose."
   ]
  },
  {
   "cell_type": "markdown",
   "id": "2115a0d2-5553-4618-a85a-4a07bd24a0cb",
   "metadata": {},
   "source": [
    "Let's first define a finer composition grid"
   ]
  },
  {
   "cell_type": "code",
   "execution_count": 99,
   "id": "fa99fe26-a476-487a-8b55-582268321cff",
   "metadata": {},
   "outputs": [],
   "source": [
    "comp_grid = np.linspace(0, 0.5, 1000)"
   ]
  },
  {
   "cell_type": "markdown",
   "id": "72988a94-4824-4d6f-9985-196595575065",
   "metadata": {},
   "source": [
    "Now we fit the free energy values and use this fit to revaluate the free energy on the finer grid."
   ]
  },
  {
   "cell_type": "code",
   "execution_count": 100,
   "id": "6c8627e1-3532-41e3-8bf4-3b2cd947bd5f",
   "metadata": {},
   "outputs": [],
   "source": [
    "fcc_fit = np.polyfit(comp, fcc_mix, 3)\n",
    "fcc_fe = np.polyval(fcc_fit, comp_grid)\n",
    "\n",
    "lqd_fit = np.polyfit(comp, lqd_mix, 3)\n",
    "lqd_fe = np.polyval(lqd_fit, comp_grid)\n",
    "\n",
    "b32_fit = np.polyfit(comp, b32_mix, 3)\n",
    "b32_fe = np.polyval(b32_fit, comp_grid)"
   ]
  },
  {
   "cell_type": "markdown",
   "id": "1d974ab9-2920-464e-9944-9097a2f8b683",
   "metadata": {},
   "source": [
    "Plot the fits"
   ]
  },
  {
   "cell_type": "code",
   "execution_count": 101,
   "id": "d55cdaba-ba66-4c51-a6ae-650176ffe8c7",
   "metadata": {},
   "outputs": [
    {
     "data": {
      "text/plain": [
       "<matplotlib.legend.Legend at 0x7fcf105cddc0>"
      ]
     },
     "execution_count": 101,
     "metadata": {},
     "output_type": "execute_result"
    },
    {
     "data": {
      "image/png": "[encoded data removed]",
      "text/plain": [
       "<Figure size 432x288 with 1 Axes>"
      ]
     },
     "metadata": {
      "needs_background": "light"
     },
     "output_type": "display_data"
    }
   ],
   "source": [
    "plt.plot(comp_grid, fcc_fe, '-', color=\"#e58080\")\n",
    "plt.plot(comp_grid, lqd_fe, '-', color=\"#66cfff\")\n",
    "plt.plot(comp_grid, b32_fe, '-', color=\"#ffc766\")\n",
    "plt.plot(comp, fcc_mix, 'o', label='fcc', color=\"#e58080\", markeredgecolor=\"#424242\")\n",
    "plt.plot(comp, lqd_mix, 'o', label='lqd', color=\"#66cfff\", markeredgecolor=\"#424242\")\n",
    "plt.plot(comp, b32_mix, 'o', label='b32', color=\"#ffc766\", markeredgecolor=\"#424242\")\n",
    "plt.xlabel(r\"$x_{Li}$\")\n",
    "plt.ylabel(r\"F (eV/atom)\")\n",
    "plt.legend()"
   ]
  },
  {
   "cell_type": "markdown",
   "id": "9b5cfc0b-9b8b-403a-8ec9-8c7b284c67d1",
   "metadata": {},
   "source": [
    "Now in order to identify regions we need to construct common tangents to free energy curves. To make this easier, we convert to free energy of mixing relative to the liquid. For this purpose, we subtract a straight line connecting the free energy of the pure Al liquid to the 0.5 Li liquid, from the calculated free energy. This same line will then be subtracted from the fcc and b32 curves. Our `helpers.py` module previously introduced includes helper methods to do this."
   ]
  },
  {
   "cell_type": "code",
   "execution_count": 102,
   "id": "1ac5a0ff-6f0d-4e69-a928-70821d7dbe7d",
   "metadata": {},
   "outputs": [],
   "source": [
    "lqd_fe_norm, slope, intercept = normalise_fe(lqd_fe, comp_grid)\n",
    "fcc_fe_norm = fcc_fe-(slope*comp_grid + intercept)\n",
    "b32_fe_norm = b32_fe-(slope*comp_grid + intercept)"
   ]
  },
  {
   "cell_type": "code",
   "execution_count": 103,
   "id": "0a9dd6eb-dd70-42fe-a72e-8fe091557c54",
   "metadata": {},
   "outputs": [
    {
     "data": {
      "text/plain": [
       "<matplotlib.legend.Legend at 0x7fcf1048d070>"
      ]
     },
     "execution_count": 103,
     "metadata": {},
     "output_type": "execute_result"
    },
    {
     "data": {
      "image/png": "[encoded data removed]",
      "text/plain": [
       "<Figure size 432x288 with 1 Axes>"
      ]
     },
     "metadata": {
      "needs_background": "light"
     },
     "output_type": "display_data"
    }
   ],
   "source": [
    "plt.plot(comp_grid, fcc_fe_norm, '-', color=\"#e58080\", label='fcc')\n",
    "plt.plot(comp_grid, lqd_fe_norm, '-', color=\"#66cfff\", label='lqd')\n",
    "plt.plot(comp_grid, b32_fe_norm, '-', color=\"#ffc766\", label='b32')\n",
    "plt.xlabel(r\"$x_{Li}$\")\n",
    "plt.ylabel(r\"F (eV/atom)\")\n",
    "plt.legend()"
   ]
  },
  {
   "cell_type": "markdown",
   "id": "cfd5ebae-3d31-434a-b5cf-20d0661bc5f8",
   "metadata": {},
   "source": [
    "### Common tangent constructions\n",
    "\n",
    "With the above curves, we can move on to common tangent constructions to identify regions where the two phases coexist. In order to calculate the common tangent for two curves $f$ and $g$, we can solve the following set of equationns:\n",
    "\n",
    "$$\n",
    "f^\\prime (x_1) = g^\\prime (x_1)\n",
    "$$\n",
    "\n",
    "$$\n",
    "\\frac{f(x_1) - g(x_2)}{(x_1 - x_2)} = f^\\prime (x_1)\n",
    "$$\n",
    "\n",
    "$x_1$ and $x_2$ are the endpoints of the common tangent."
   ]
  },
  {
   "cell_type": "markdown",
   "id": "b191d6a8-4331-46bf-9e97-70bd231026ee",
   "metadata": {},
   "source": [
    "The fitting is done using the `fsolve` method from `scipy`. Once again, `helpers.py` module offers a function to do this fitting."
   ]
  },
  {
   "cell_type": "code",
   "execution_count": 45,
   "id": "99710428-1540-4b90-801c-e5f19267faa4",
   "metadata": {},
   "outputs": [
    {
     "data": {
      "text/plain": [
       "\u001b[0;31mSignature:\u001b[0m \u001b[0mfind_common_tangent\u001b[0m\u001b[0;34m(\u001b[0m\u001b[0mfe1\u001b[0m\u001b[0;34m,\u001b[0m \u001b[0mfe2\u001b[0m\u001b[0;34m,\u001b[0m \u001b[0mguess_range\u001b[0m\u001b[0;34m)\u001b[0m\u001b[0;34m\u001b[0m\u001b[0;34m\u001b[0m\u001b[0m\n",
       "\u001b[0;31mDocstring:\u001b[0m\n",
       "Do a common tangent construction between two free energy curves.\n",
       "\n",
       "Parameters\n",
       "----------\n",
       "fe1: numpy array\n",
       "    first free energy curve\n",
       "\n",
       "fe2: numpy array\n",
       "    second free energy curve\n",
       "\n",
       "guess_range: list of floats length 2\n",
       "    The guess range to find end points of the common tangent\n",
       "\n",
       "Returns\n",
       "-------\n",
       "res: list of floats length 2\n",
       "    The end points of the common tangent\n",
       "\u001b[0;31mFile:\u001b[0m      /mnt/c/Users/menon/Documents/winrepos/workshop_preparation/phase_diagram/helpers.py\n",
       "\u001b[0;31mType:\u001b[0m      function\n"
      ]
     },
     "metadata": {},
     "output_type": "display_data"
    }
   ],
   "source": [
    "find_common_tangent?"
   ]
  },
  {
   "cell_type": "markdown",
   "id": "f347c46d-c575-4a04-880d-408a4a4ae4fd",
   "metadata": {},
   "source": [
    "We will use this method to find the common tangent between the fcc and b32 curves"
   ]
  },
  {
   "cell_type": "code",
   "execution_count": 104,
   "id": "6f660266-9c7e-411b-886f-4c5ced59a2c5",
   "metadata": {},
   "outputs": [
    {
     "data": {
      "text/plain": [
       "array([0.04690301, 0.13432104])"
      ]
     },
     "execution_count": 104,
     "metadata": {},
     "output_type": "execute_result"
    }
   ],
   "source": [
    "ct = find_common_tangent(fcc_fit, b32_fit, [0.0, 0.25])\n",
    "ct"
   ]
  },
  {
   "cell_type": "markdown",
   "id": "7a11a4b0-2108-4a8e-9bd5-29cd9195395e",
   "metadata": {},
   "source": [
    "Note that we provided the polynomials that describe the free energy curves, obtained from fitting to the function. We have obtained $x_1$ and $x_2$. We can plot the common tangent now."
   ]
  },
  {
   "cell_type": "code",
   "execution_count": 105,
   "id": "aa60a42a-5d80-41b4-88ee-aa9d7f49b7ed",
   "metadata": {},
   "outputs": [
    {
     "data": {
      "text/plain": [
       "<matplotlib.legend.Legend at 0x7fcf06aa9670>"
      ]
     },
     "execution_count": 105,
     "metadata": {},
     "output_type": "execute_result"
    },
    {
     "data": {
      "image/png": "[encoded data removed]",
      "text/plain": [
       "<Figure size 432x288 with 1 Axes>"
      ]
     },
     "metadata": {
      "needs_background": "light"
     },
     "output_type": "display_data"
    }
   ],
   "source": [
    "plt.plot(comp_grid, fcc_fe_norm, '-', color=\"#e58080\", label='fcc')\n",
    "plt.plot(comp_grid, lqd_fe_norm, '-', color=\"#66cfff\", label='lqd')\n",
    "plt.plot(comp_grid, b32_fe_norm, '-', color=\"#ffc766\", label='b32')\n",
    "plt.plot(ct, [np.polyval(fcc_fit, ct[0])-(slope*ct[0] + intercept),\n",
    "             np.polyval(b32_fit, ct[1])-(slope*ct[1] + intercept)], color=\"#424242\")\n",
    "plt.xlabel(r\"$x_{Li}$\")\n",
    "plt.ylabel(r\"F (eV/atom)\")\n",
    "plt.legend()"
   ]
  },
  {
   "cell_type": "markdown",
   "id": "2c97c878-34c6-4c36-ae63-c47547f3f22a",
   "metadata": {},
   "source": [
    "Lets take a moment to analyse this plot. We obtained 0.047 and 0.134 as the end points of the common tangent. From the figure, this means that FCC is the most stable structure until $x_{Li} = 0.047$. Between $0.047 \\leq x_{Li} \\leq 0.134$, both fcc and b32 phases coexist. Finally, for $x_{Li} > 0.134$, b32 is the most stable phase. "
   ]
  },
  {
   "cell_type": "markdown",
   "id": "5a875317-34fe-4985-8853-bab1e7a88521",
   "metadata": {},
   "source": [
    "Therefore we have obtained already a slice of the phase diagram at 700 K. We can now put all of this methods together and easily calculate for different temperatures."
   ]
  },
  {
   "cell_type": "code",
   "execution_count": 106,
   "id": "02a68351-db69-4a76-b866-2efb37baa35e",
   "metadata": {},
   "outputs": [
    {
     "name": "stdout",
     "output_type": "stream",
     "text": [
      "[0.05280969 0.1363657 ]\n"
     ]
    },
    {
     "data": {
      "text/plain": [
       "<matplotlib.legend.Legend at 0x7fcf107935b0>"
      ]
     },
     "execution_count": 106,
     "metadata": {},
     "output_type": "execute_result"
    },
    {
     "data": {
      "image/png": "[encoded data removed]",
      "text/plain": [
       "<Figure size 432x288 with 1 Axes>"
      ]
     },
     "metadata": {
      "needs_background": "light"
     },
     "output_type": "display_data"
    }
   ],
   "source": [
    "temp = 750\n",
    "\n",
    "fcc = []\n",
    "b32 = []\n",
    "lqd = []\n",
    "fcc.append(fe_at(pr[\"lial_thermodynamics_composition/xp_sol\"], temp))\n",
    "lqd.append(fe_at(pr[\"lial_thermodynamics_composition/xp_lqd\"], temp))\n",
    "b32.append(fe_at(pr[\"lial_thermodynamics_composition/xp_alli\"], temp))\n",
    "for i in range(5):\n",
    "    fcc.append(fe_at(pr[\"lial_thermodynamics_composition/x%d_sol\"%i], temp))\n",
    "    lqd.append(fe_at(pr[\"lial_thermodynamics_composition/x%d_lqd\"%i], temp))\n",
    "    b32.append(fe_at(pr[\"lial_thermodynamics_composition/x%d_alli\"%i], temp))\n",
    "fcc_mix = np.array(fcc)-temp*smix\n",
    "b32_mix = np.array(b32)-temp*(smix-smix[-1])\n",
    "lqd_mix = np.array(lqd)\n",
    "fcc_fit = np.polyfit(comp, fcc_mix, 3)\n",
    "fcc_fe = np.polyval(fcc_fit, comp_grid)\n",
    "lqd_fit = np.polyfit(comp, lqd_mix, 3)\n",
    "lqd_fe = np.polyval(lqd_fit, comp_grid)\n",
    "b32_fit = np.polyfit(comp, b32_mix, 3)\n",
    "b32_fe = np.polyval(b32_fit, comp_grid)\n",
    "lqd_fe_norm, slope, intercept = normalise_fe(lqd_fe, comp_grid)\n",
    "fcc_fe_norm = fcc_fe-(slope*comp_grid + intercept)\n",
    "b32_fe_norm = b32_fe-(slope*comp_grid + intercept)\n",
    "ct = find_common_tangent(fcc_fit, b32_fit, [0.0, 0.25])\n",
    "print(ct)\n",
    "plt.plot(comp_grid, fcc_fe_norm, '-', color=\"#e58080\", label='fcc')\n",
    "plt.plot(comp_grid, lqd_fe_norm, '-', color=\"#66cfff\", label='lqd')\n",
    "plt.plot(comp_grid, b32_fe_norm, '-', color=\"#ffc766\", label='b32')\n",
    "plt.plot(ct, [np.polyval(fcc_fit, ct[0])-(slope*ct[0] + intercept),\n",
    "             np.polyval(b32_fit, ct[1])-(slope*ct[1] + intercept)], color=\"#424242\")\n",
    "plt.xlabel(r\"$x_{Li}$\")\n",
    "plt.ylabel(r\"F (eV/atom)\")\n",
    "plt.legend()"
   ]
  },
  {
   "cell_type": "code",
   "execution_count": 108,
   "id": "bb751ac8-0cea-4cc2-a903-5c1ede163ea6",
   "metadata": {},
   "outputs": [
    {
     "name": "stdout",
     "output_type": "stream",
     "text": [
      "[0.05998764 0.13910747]\n"
     ]
    },
    {
     "data": {
      "text/plain": [
       "<matplotlib.legend.Legend at 0x7fcf07a06a30>"
      ]
     },
     "execution_count": 108,
     "metadata": {},
     "output_type": "execute_result"
    },
    {
     "data": {
      "image/png": "[encoded data removed]",
      "text/plain": [
       "<Figure size 432x288 with 1 Axes>"
      ]
     },
     "metadata": {
      "needs_background": "light"
     },
     "output_type": "display_data"
    }
   ],
   "source": [
    "temp = 800\n",
    "\n",
    "fcc = []\n",
    "b32 = []\n",
    "lqd = []\n",
    "fcc.append(fe_at(pr[\"lial_thermodynamics_composition/xp_sol\"], temp))\n",
    "lqd.append(fe_at(pr[\"lial_thermodynamics_composition/xp_lqd\"], temp))\n",
    "b32.append(fe_at(pr[\"lial_thermodynamics_composition/xp_alli\"], temp))\n",
    "for i in range(5):\n",
    "    fcc.append(fe_at(pr[\"lial_thermodynamics_composition/x%d_sol\"%i], temp))\n",
    "    lqd.append(fe_at(pr[\"lial_thermodynamics_composition/x%d_lqd\"%i], temp))\n",
    "    b32.append(fe_at(pr[\"lial_thermodynamics_composition/x%d_alli\"%i], temp))\n",
    "fcc_mix = np.array(fcc)-temp*smix\n",
    "b32_mix = np.array(b32)-temp*(smix-smix[-1])\n",
    "lqd_mix = np.array(lqd)\n",
    "fcc_fit = np.polyfit(comp, fcc_mix, 3)\n",
    "fcc_fe = np.polyval(fcc_fit, comp_grid)\n",
    "lqd_fit = np.polyfit(comp, lqd_mix, 3)\n",
    "lqd_fe = np.polyval(lqd_fit, comp_grid)\n",
    "b32_fit = np.polyfit(comp, b32_mix, 3)\n",
    "b32_fe = np.polyval(b32_fit, comp_grid)\n",
    "lqd_fe_norm, slope, intercept = normalise_fe(lqd_fe, comp_grid)\n",
    "fcc_fe_norm = fcc_fe-(slope*comp_grid + intercept)\n",
    "b32_fe_norm = b32_fe-(slope*comp_grid + intercept)\n",
    "ct = find_common_tangent(fcc_fit, b32_fit, [0.0, 0.25])\n",
    "print(ct)\n",
    "plt.plot(comp_grid, fcc_fe_norm, '-', color=\"#e58080\", label='fcc')\n",
    "plt.plot(comp_grid, lqd_fe_norm, '-', color=\"#66cfff\", label='lqd')\n",
    "plt.plot(comp_grid, b32_fe_norm, '-', color=\"#ffc766\", label='b32')\n",
    "plt.plot(ct, [np.polyval(fcc_fit, ct[0])-(slope*ct[0] + intercept),\n",
    "             np.polyval(b32_fit, ct[1])-(slope*ct[1] + intercept)], color=\"#424242\")\n",
    "plt.xlabel(r\"$x_{Li}$\")\n",
    "plt.ylabel(r\"F (eV/atom)\")\n",
    "plt.legend()"
   ]
  },
  {
   "cell_type": "markdown",
   "id": "21811466-885d-46fd-9fbd-e1fa8e450089",
   "metadata": {},
   "source": [
    "Note that in this case we need a second common tangent construction to obtain coexistence between the b32 and liquid phases."
   ]
  },
  {
   "cell_type": "code",
   "execution_count": 52,
   "id": "02615409-578b-4263-b37e-a3ff21c0ae2a",
   "metadata": {},
   "outputs": [
    {
     "name": "stdout",
     "output_type": "stream",
     "text": [
      "[0.3779039  0.42604146]\n"
     ]
    }
   ],
   "source": [
    "ct1 = find_common_tangent(b32_fit, lqd_fit, [0.3, 0.5])\n",
    "print(ct1)"
   ]
  },
  {
   "cell_type": "code",
   "execution_count": 53,
   "id": "0f44c454-056b-4cd3-ba88-e2fbe966842c",
   "metadata": {},
   "outputs": [
    {
     "data": {
      "text/plain": [
       "<matplotlib.legend.Legend at 0x7fcf103aa040>"
      ]
     },
     "execution_count": 53,
     "metadata": {},
     "output_type": "execute_result"
    },
    {
     "data": {
      "image/png": "[encoded data removed]",
      "text/plain": [
       "<Figure size 432x288 with 1 Axes>"
      ]
     },
     "metadata": {
      "needs_background": "light"
     },
     "output_type": "display_data"
    }
   ],
   "source": [
    "plt.plot(comp_grid, fcc_fe_norm, '-', color=\"#e58080\", label='fcc')\n",
    "plt.plot(comp_grid, lqd_fe_norm, '-', color=\"#66cfff\", label='lqd')\n",
    "plt.plot(comp_grid, b32_fe_norm, '-', color=\"#ffc766\", label='b32')\n",
    "plt.plot(ct, [np.polyval(fcc_fit, ct[0])-(slope*ct[0] + intercept),\n",
    "             np.polyval(b32_fit, ct[1])-(slope*ct[1] + intercept)], color=\"#424242\")\n",
    "plt.plot(ct1, [np.polyval(b32_fit, ct1[0])-(slope*ct1[0] + intercept),\n",
    "             np.polyval(lqd_fit, ct1[1])-(slope*ct1[1] + intercept)], color=\"#424242\")\n",
    "plt.xlabel(r\"$x_{Li}$\")\n",
    "plt.ylabel(r\"F (eV/atom)\")\n",
    "plt.legend()"
   ]
  },
  {
   "cell_type": "code",
   "execution_count": 109,
   "id": "28e464d7-636e-4c92-a94b-dc70117996b1",
   "metadata": {},
   "outputs": [
    {
     "name": "stdout",
     "output_type": "stream",
     "text": [
      "[0.06612488 0.14114039]\n",
      "[0.33507769 0.39736211]\n"
     ]
    },
    {
     "data": {
      "text/plain": [
       "<matplotlib.legend.Legend at 0x7fcf06074910>"
      ]
     },
     "execution_count": 109,
     "metadata": {},
     "output_type": "execute_result"
    },
    {
     "data": {
      "image/png": "[encoded data removed]",
      "text/plain": [
       "<Figure size 432x288 with 1 Axes>"
      ]
     },
     "metadata": {
      "needs_background": "light"
     },
     "output_type": "display_data"
    }
   ],
   "source": [
    "temp = 850\n",
    "\n",
    "fcc = []\n",
    "b32 = []\n",
    "lqd = []\n",
    "fcc.append(fe_at(pr[\"lial_thermodynamics_composition/xp_sol\"], temp))\n",
    "lqd.append(fe_at(pr[\"lial_thermodynamics_composition/xp_lqd\"], temp))\n",
    "b32.append(fe_at(pr[\"lial_thermodynamics_composition/xp_alli\"], temp))\n",
    "for i in range(5):\n",
    "    fcc.append(fe_at(pr[\"lial_thermodynamics_composition/x%d_sol\"%i], temp))\n",
    "    lqd.append(fe_at(pr[\"lial_thermodynamics_composition/x%d_lqd\"%i], temp))\n",
    "    b32.append(fe_at(pr[\"lial_thermodynamics_composition/x%d_alli\"%i], temp))\n",
    "fcc_mix = np.array(fcc)-temp*smix\n",
    "b32_mix = np.array(b32)-temp*(smix-smix[-1])\n",
    "lqd_mix = np.array(lqd)\n",
    "fcc_fit = np.polyfit(comp, fcc_mix, 3)\n",
    "fcc_fe = np.polyval(fcc_fit, comp_grid)\n",
    "lqd_fit = np.polyfit(comp, lqd_mix, 3)\n",
    "lqd_fe = np.polyval(lqd_fit, comp_grid)\n",
    "b32_fit = np.polyfit(comp, b32_mix, 3)\n",
    "b32_fe = np.polyval(b32_fit, comp_grid)\n",
    "lqd_fe_norm, slope, intercept = normalise_fe(lqd_fe, comp_grid)\n",
    "fcc_fe_norm = fcc_fe-(slope*comp_grid + intercept)\n",
    "b32_fe_norm = b32_fe-(slope*comp_grid + intercept)\n",
    "ct = find_common_tangent(fcc_fit, b32_fit, [0.0, 0.25])\n",
    "print(ct)\n",
    "ct1 = find_common_tangent(b32_fit, lqd_fit, [0.3, 0.5])\n",
    "print(ct1)\n",
    "plt.plot(comp_grid, fcc_fe_norm, '-', color=\"#e58080\", label='fcc')\n",
    "plt.plot(comp_grid, lqd_fe_norm, '-', color=\"#66cfff\", label='lqd')\n",
    "plt.plot(comp_grid, b32_fe_norm, '-', color=\"#ffc766\", label='b32')\n",
    "plt.plot(ct, [np.polyval(fcc_fit, ct[0])-(slope*ct[0] + intercept),\n",
    "             np.polyval(b32_fit, ct[1])-(slope*ct[1] + intercept)], color=\"#424242\")\n",
    "plt.plot(ct1, [np.polyval(b32_fit, ct1[0])-(slope*ct1[0] + intercept),\n",
    "             np.polyval(lqd_fit, ct1[1])-(slope*ct1[1] + intercept)], color=\"#424242\")\n",
    "\n",
    "plt.xlabel(r\"$x_{Li}$\")\n",
    "plt.ylabel(r\"F (eV/atom)\")\n",
    "plt.legend()"
   ]
  },
  {
   "cell_type": "markdown",
   "id": "9d51fdc8-4c00-4eff-a561-efa75da15052",
   "metadata": {},
   "source": [
    "Now we continue this process for temperatures of 900 and 1000 K."
   ]
  },
  {
   "cell_type": "code",
   "execution_count": 110,
   "id": "1c086539-7a4b-4b71-82db-744227af5d5f",
   "metadata": {},
   "outputs": [
    {
     "name": "stdout",
     "output_type": "stream",
     "text": [
      "[0.07370822 0.1439208 ]\n",
      "[0.30479083 0.3709898 ]\n"
     ]
    },
    {
     "data": {
      "text/plain": [
       "<matplotlib.legend.Legend at 0x7fcf04791160>"
      ]
     },
     "execution_count": 110,
     "metadata": {},
     "output_type": "execute_result"
    },
    {
     "data": {
      "image/png": "[encoded data removed]",
      "text/plain": [
       "<Figure size 432x288 with 1 Axes>"
      ]
     },
     "metadata": {
      "needs_background": "light"
     },
     "output_type": "display_data"
    }
   ],
   "source": [
    "temp = 900\n",
    "\n",
    "fcc = []\n",
    "b32 = []\n",
    "lqd = []\n",
    "fcc.append(fe_at(pr[\"lial_thermodynamics_composition/xp_sol\"], temp))\n",
    "lqd.append(fe_at(pr[\"lial_thermodynamics_composition/xp_lqd\"], temp))\n",
    "b32.append(fe_at(pr[\"lial_thermodynamics_composition/xp_alli\"], temp))\n",
    "for i in range(5):\n",
    "    fcc.append(fe_at(pr[\"lial_thermodynamics_composition/x%d_sol\"%i], temp))\n",
    "    lqd.append(fe_at(pr[\"lial_thermodynamics_composition/x%d_lqd\"%i], temp))\n",
    "    b32.append(fe_at(pr[\"lial_thermodynamics_composition/x%d_alli\"%i], temp))\n",
    "fcc_mix = np.array(fcc)-temp*smix\n",
    "b32_mix = np.array(b32)-temp*(smix-smix[-1])\n",
    "lqd_mix = np.array(lqd)\n",
    "fcc_fit = np.polyfit(comp, fcc_mix, 3)\n",
    "fcc_fe = np.polyval(fcc_fit, comp_grid)\n",
    "lqd_fit = np.polyfit(comp, lqd_mix, 3)\n",
    "lqd_fe = np.polyval(lqd_fit, comp_grid)\n",
    "b32_fit = np.polyfit(comp, b32_mix, 3)\n",
    "b32_fe = np.polyval(b32_fit, comp_grid)\n",
    "lqd_fe_norm, slope, intercept = normalise_fe(lqd_fe, comp_grid)\n",
    "fcc_fe_norm = fcc_fe-(slope*comp_grid + intercept)\n",
    "b32_fe_norm = b32_fe-(slope*comp_grid + intercept)\n",
    "ct = find_common_tangent(fcc_fit, b32_fit, [0.0, 0.25])\n",
    "print(ct)\n",
    "ct1 = find_common_tangent(b32_fit, lqd_fit, [0.3, 0.5])\n",
    "print(ct1)\n",
    "plt.plot(comp_grid, fcc_fe_norm, '-', color=\"#e58080\", label='fcc')\n",
    "plt.plot(comp_grid, lqd_fe_norm, '-', color=\"#66cfff\", label='lqd')\n",
    "plt.plot(comp_grid, b32_fe_norm, '-', color=\"#ffc766\", label='b32')\n",
    "plt.plot(ct, [np.polyval(fcc_fit, ct[0])-(slope*ct[0] + intercept),\n",
    "             np.polyval(b32_fit, ct[1])-(slope*ct[1] + intercept)], color=\"#424242\")\n",
    "plt.plot(ct1, [np.polyval(b32_fit, ct1[0])-(slope*ct1[0] + intercept),\n",
    "             np.polyval(lqd_fit, ct1[1])-(slope*ct1[1] + intercept)], color=\"#424242\")\n",
    "\n",
    "plt.xlabel(r\"$x_{Li}$\")\n",
    "plt.ylabel(r\"F (eV/atom)\")\n",
    "plt.legend()"
   ]
  },
  {
   "cell_type": "code",
   "execution_count": 74,
   "id": "8908d1c1-2a1d-424f-b453-6227a8ba7d71",
   "metadata": {},
   "outputs": [
    {
     "name": "stdout",
     "output_type": "stream",
     "text": [
      "[0.0812102  0.14675434]\n",
      "[0.28059782 0.34547371]\n"
     ]
    },
    {
     "data": {
      "text/plain": [
       "<matplotlib.legend.Legend at 0x7fcf102a1c40>"
      ]
     },
     "execution_count": 74,
     "metadata": {},
     "output_type": "execute_result"
    },
    {
     "data": {
      "image/png": "[encoded data removed]",
      "text/plain": [
       "<Figure size 432x288 with 1 Axes>"
      ]
     },
     "metadata": {
      "needs_background": "light"
     },
     "output_type": "display_data"
    }
   ],
   "source": [
    "temp = 950\n",
    "\n",
    "fcc = []\n",
    "b32 = []\n",
    "lqd = []\n",
    "fcc.append(fe_at(pr[\"lial_thermodynamics_composition/xp_sol\"], temp))\n",
    "lqd.append(fe_at(pr[\"lial_thermodynamics_composition/xp_lqd\"], temp))\n",
    "b32.append(fe_at(pr[\"lial_thermodynamics_composition/xp_alli\"], temp))\n",
    "for i in range(5):\n",
    "    fcc.append(fe_at(pr[\"lial_thermodynamics_composition/x%d_sol\"%i], temp))\n",
    "    lqd.append(fe_at(pr[\"lial_thermodynamics_composition/x%d_lqd\"%i], temp))\n",
    "    b32.append(fe_at(pr[\"lial_thermodynamics_composition/x%d_alli\"%i], temp))\n",
    "fcc_mix = np.array(fcc)-temp*smix\n",
    "b32_mix = np.array(b32)-temp*(smix-smix[-1])\n",
    "lqd_mix = np.array(lqd)\n",
    "fcc_fit = np.polyfit(comp, fcc_mix, 3)\n",
    "fcc_fe = np.polyval(fcc_fit, comp_grid)\n",
    "lqd_fit = np.polyfit(comp, lqd_mix, 3)\n",
    "lqd_fe = np.polyval(lqd_fit, comp_grid)\n",
    "b32_fit = np.polyfit(comp, b32_mix, 3)\n",
    "b32_fe = np.polyval(b32_fit, comp_grid)\n",
    "lqd_fe_norm, slope, intercept = normalise_fe(lqd_fe, comp_grid)\n",
    "fcc_fe_norm = fcc_fe-(slope*comp_grid + intercept)\n",
    "b32_fe_norm = b32_fe-(slope*comp_grid + intercept)\n",
    "ct = find_common_tangent(fcc_fit, b32_fit, [0.0, 0.25])\n",
    "print(ct)\n",
    "ct1 = find_common_tangent(b32_fit, lqd_fit, [0.3, 0.5])\n",
    "print(ct1)\n",
    "plt.plot(comp_grid, fcc_fe_norm, '-', color=\"#e58080\", label='fcc')\n",
    "plt.plot(comp_grid, lqd_fe_norm, '-', color=\"#66cfff\", label='lqd')\n",
    "plt.plot(comp_grid, b32_fe_norm, '-', color=\"#ffc766\", label='b32')\n",
    "plt.plot(ct, [np.polyval(fcc_fit, ct[0])-(slope*ct[0] + intercept),\n",
    "             np.polyval(b32_fit, ct[1])-(slope*ct[1] + intercept)], color=\"#424242\")\n",
    "plt.plot(ct1, [np.polyval(b32_fit, ct1[0])-(slope*ct1[0] + intercept),\n",
    "             np.polyval(lqd_fit, ct1[1])-(slope*ct1[1] + intercept)], color=\"#424242\")\n",
    "\n",
    "plt.xlabel(r\"$x_{Li}$\")\n",
    "plt.ylabel(r\"F (eV/atom)\")\n",
    "plt.legend()"
   ]
  },
  {
   "cell_type": "code",
   "execution_count": 111,
   "id": "b66ab410-1a82-4262-8c99-721b9e17c07d",
   "metadata": {},
   "outputs": [
    {
     "name": "stdout",
     "output_type": "stream",
     "text": [
      "[0.08497226 0.1481879 ]\n",
      "[0.27012884 0.33272737]\n"
     ]
    },
    {
     "data": {
      "text/plain": [
       "<matplotlib.legend.Legend at 0x7fcf1080faf0>"
      ]
     },
     "execution_count": 111,
     "metadata": {},
     "output_type": "execute_result"
    },
    {
     "data": {
      "image/png": "[encoded data removed]",
      "text/plain": [
       "<Figure size 432x288 with 1 Axes>"
      ]
     },
     "metadata": {
      "needs_background": "light"
     },
     "output_type": "display_data"
    }
   ],
   "source": [
    "temp = 975\n",
    "\n",
    "fcc = []\n",
    "b32 = []\n",
    "lqd = []\n",
    "fcc.append(fe_at(pr[\"lial_thermodynamics_composition/xp_sol\"], temp))\n",
    "lqd.append(fe_at(pr[\"lial_thermodynamics_composition/xp_lqd\"], temp))\n",
    "b32.append(fe_at(pr[\"lial_thermodynamics_composition/xp_alli\"], temp))\n",
    "for i in range(5):\n",
    "    fcc.append(fe_at(pr[\"lial_thermodynamics_composition/x%d_sol\"%i], temp))\n",
    "    lqd.append(fe_at(pr[\"lial_thermodynamics_composition/x%d_lqd\"%i], temp))\n",
    "    b32.append(fe_at(pr[\"lial_thermodynamics_composition/x%d_alli\"%i], temp))\n",
    "fcc_mix = np.array(fcc)-temp*smix\n",
    "b32_mix = np.array(b32)-temp*(smix-smix[-1])\n",
    "lqd_mix = np.array(lqd)\n",
    "fcc_fit = np.polyfit(comp, fcc_mix, 3)\n",
    "fcc_fe = np.polyval(fcc_fit, comp_grid)\n",
    "lqd_fit = np.polyfit(comp, lqd_mix, 3)\n",
    "lqd_fe = np.polyval(lqd_fit, comp_grid)\n",
    "b32_fit = np.polyfit(comp, b32_mix, 3)\n",
    "b32_fe = np.polyval(b32_fit, comp_grid)\n",
    "lqd_fe_norm, slope, intercept = normalise_fe(lqd_fe, comp_grid)\n",
    "fcc_fe_norm = fcc_fe-(slope*comp_grid + intercept)\n",
    "b32_fe_norm = b32_fe-(slope*comp_grid + intercept)\n",
    "ct = find_common_tangent(fcc_fit, b32_fit, [0.0, 0.25])\n",
    "print(ct)\n",
    "ct1 = find_common_tangent(b32_fit, lqd_fit, [0.3, 0.5])\n",
    "print(ct1)\n",
    "plt.plot(comp_grid, fcc_fe_norm, '-', color=\"#e58080\", label='fcc')\n",
    "plt.plot(comp_grid, lqd_fe_norm, '-', color=\"#66cfff\", label='lqd')\n",
    "plt.plot(comp_grid, b32_fe_norm, '-', color=\"#ffc766\", label='b32')\n",
    "plt.plot(ct, [np.polyval(fcc_fit, ct[0])-(slope*ct[0] + intercept),\n",
    "             np.polyval(b32_fit, ct[1])-(slope*ct[1] + intercept)], color=\"#424242\")\n",
    "plt.plot(ct1, [np.polyval(b32_fit, ct1[0])-(slope*ct1[0] + intercept),\n",
    "             np.polyval(lqd_fit, ct1[1])-(slope*ct1[1] + intercept)], color=\"#424242\")\n",
    "\n",
    "plt.xlabel(r\"$x_{Li}$\")\n",
    "plt.ylabel(r\"F (eV/atom)\")\n",
    "plt.legend()"
   ]
  },
  {
   "cell_type": "code",
   "execution_count": 55,
   "id": "3fe993bc-6253-46f5-9a4d-ce2de718cf90",
   "metadata": {},
   "outputs": [
    {
     "name": "stdout",
     "output_type": "stream",
     "text": [
      "[0.0890832  0.14978333]\n",
      "[0.25995278 0.31921327]\n"
     ]
    },
    {
     "data": {
      "text/plain": [
       "<matplotlib.legend.Legend at 0x7fcf104a5ee0>"
      ]
     },
     "execution_count": 55,
     "metadata": {},
     "output_type": "execute_result"
    },
    {
     "data": {
      "image/png": "[encoded data removed]",
      "text/plain": [
       "<Figure size 432x288 with 1 Axes>"
      ]
     },
     "metadata": {
      "needs_background": "light"
     },
     "output_type": "display_data"
    }
   ],
   "source": [
    "temp = 1000\n",
    "\n",
    "fcc = []\n",
    "b32 = []\n",
    "lqd = []\n",
    "fcc.append(fe_at(pr[\"lial_thermodynamics_composition/xp_sol\"], temp))\n",
    "lqd.append(fe_at(pr[\"lial_thermodynamics_composition/xp_lqd\"], temp))\n",
    "b32.append(fe_at(pr[\"lial_thermodynamics_composition/xp_alli\"], temp))\n",
    "for i in range(5):\n",
    "    fcc.append(fe_at(pr[\"lial_thermodynamics_composition/x%d_sol\"%i], temp))\n",
    "    lqd.append(fe_at(pr[\"lial_thermodynamics_composition/x%d_lqd\"%i], temp))\n",
    "    b32.append(fe_at(pr[\"lial_thermodynamics_composition/x%d_alli\"%i], temp))\n",
    "fcc_mix = np.array(fcc)-temp*smix\n",
    "b32_mix = np.array(b32)-temp*(smix-smix[-1])\n",
    "lqd_mix = np.array(lqd)\n",
    "fcc_fit = np.polyfit(comp, fcc_mix, 3)\n",
    "fcc_fe = np.polyval(fcc_fit, comp_grid)\n",
    "lqd_fit = np.polyfit(comp, lqd_mix, 3)\n",
    "lqd_fe = np.polyval(lqd_fit, comp_grid)\n",
    "b32_fit = np.polyfit(comp, b32_mix, 3)\n",
    "b32_fe = np.polyval(b32_fit, comp_grid)\n",
    "lqd_fe_norm, slope, intercept = normalise_fe(lqd_fe, comp_grid)\n",
    "fcc_fe_norm = fcc_fe-(slope*comp_grid + intercept)\n",
    "b32_fe_norm = b32_fe-(slope*comp_grid + intercept)\n",
    "ct = find_common_tangent(fcc_fit, b32_fit, [0.0, 0.25])\n",
    "print(ct)\n",
    "ct1 = find_common_tangent(b32_fit, lqd_fit, [0.3, 0.5])\n",
    "print(ct1)\n",
    "plt.plot(comp_grid, fcc_fe_norm, '-', color=\"#e58080\", label='fcc')\n",
    "plt.plot(comp_grid, lqd_fe_norm, '-', color=\"#66cfff\", label='lqd')\n",
    "plt.plot(comp_grid, b32_fe_norm, '-', color=\"#ffc766\", label='b32')\n",
    "plt.plot(ct, [np.polyval(fcc_fit, ct[0])-(slope*ct[0] + intercept),\n",
    "             np.polyval(b32_fit, ct[1])-(slope*ct[1] + intercept)], color=\"#424242\")\n",
    "plt.plot(ct1, [np.polyval(b32_fit, ct1[0])-(slope*ct1[0] + intercept),\n",
    "             np.polyval(lqd_fit, ct1[1])-(slope*ct1[1] + intercept)], color=\"#424242\")\n",
    "\n",
    "plt.xlabel(r\"$x_{Li}$\")\n",
    "plt.ylabel(r\"F (eV/atom)\")\n",
    "plt.legend()"
   ]
  },
  {
   "cell_type": "markdown",
   "id": "3c820b12-db96-4c8b-89e0-5b8d93d9b21e",
   "metadata": {},
   "source": [
    "The free energy curves at 1000 K are interesting. We are above the melting temperature. Therefore, we would expect to see a region where liquid is the most stable structure. We see at the very left such a region exists. One more common tangent construction is needed to obtain this region."
   ]
  },
  {
   "cell_type": "code",
   "execution_count": 58,
   "id": "7bbb2fa6-0331-4f23-8c3d-51d2f1787d01",
   "metadata": {},
   "outputs": [
    {
     "name": "stdout",
     "output_type": "stream",
     "text": [
      "[-0.01145623  0.03518758]\n"
     ]
    }
   ],
   "source": [
    "ct0 = find_common_tangent(lqd_fit, fcc_fit, [0.01, 0.1])\n",
    "print(ct0)"
   ]
  },
  {
   "cell_type": "markdown",
   "id": "4380aa40-d8af-4bb3-9865-6baad8b4263e",
   "metadata": {},
   "source": [
    "Now let's put together all the common tangent constructions to arrive at the phase diagram."
   ]
  },
  {
   "cell_type": "code",
   "execution_count": 114,
   "id": "0b0b1f9c-8409-4278-9bb0-777254e1f8aa",
   "metadata": {},
   "outputs": [],
   "source": [
    "fcc_temp = [700, 750, 800, 850, 900, 950, 975, ]\n",
    "fcc_comp = [0.047, 0.052, 0.06, 0.066, 0.074, 0.081, 0.085]\n",
    "fcc_lqd_temp = [975, ]\n",
    "fcc_lqd_comp = [0.0]\n",
    "fcc_b32_temp = [700, 750, 800, 850, 900, 950, 975]\n",
    "fcc_b32_comp = [0.134, 0.136, 0.14, 0.141, 0.144, 0.147, 0.148]\n",
    "b32_lqd_temp = [800, 850, 900, 950, 975, ]\n",
    "b32_lqd_comp = [0.38, 0.335, 0.305, 0.28, 0.27, ]\n",
    "lqd_temp = [800, 850, 900, 950, 975, ]\n",
    "lqd_comp = [0.43, 0.397, 0.371, 0.34, 0.33, ]\n"
   ]
  },
  {
   "cell_type": "code",
   "execution_count": null,
   "id": "5600084e-5085-472c-bf90-ec6a9844e164",
   "metadata": {},
   "outputs": [],
   "source": [
    "[0.08497226 0.1481879 ]\n",
    "[0.27012884 0.33272737]"
   ]
  },
  {
   "cell_type": "code",
   "execution_count": 115,
   "id": "7fb9ec4d-319b-4ff2-a3f1-2097725b668e",
   "metadata": {},
   "outputs": [
    {
     "data": {
      "text/plain": [
       "[<matplotlib.lines.Line2D at 0x7fcf10220730>]"
      ]
     },
     "execution_count": 115,
     "metadata": {},
     "output_type": "execute_result"
    },
    {
     "data": {
      "image/png": "[encoded data removed]",
      "text/plain": [
       "<Figure size 432x288 with 1 Axes>"
      ]
     },
     "metadata": {
      "needs_background": "light"
     },
     "output_type": "display_data"
    }
   ],
   "source": [
    "plt.plot(fcc_comp, fcc_temp, 'o-')\n",
    "plt.plot(fcc_lqd_comp, fcc_lqd_temp, 'o-')\n",
    "\n",
    "plt.plot(fcc_b32_comp, fcc_b32_temp, 'o-')\n",
    "plt.plot(b32_lqd_comp, b32_lqd_temp, 'o-')\n",
    "plt.plot(lqd_comp, lqd_temp, 'o-')"
   ]
  },
  {
   "cell_type": "code",
   "execution_count": null,
   "id": "11375903-8291-4baf-a9ff-68681b8f010e",
   "metadata": {},
   "outputs": [],
   "source": []
  }
 ],
 "metadata": {
  "kernelspec": {
   "display_name": "Python 3 (ipykernel)",
   "language": "python",
   "name": "python3"
  },
  "language_info": {
   "codemirror_mode": {
    "name": "ipython",
    "version": 3
   },
   "file_extension": ".py",
   "mimetype": "text/x-python",
   "name": "python",
   "nbconvert_exporter": "python",
   "pygments_lexer": "ipython3",
   "version": "3.9.12"
  }
 },
 "nbformat": 4,
 "nbformat_minor": 5
}
