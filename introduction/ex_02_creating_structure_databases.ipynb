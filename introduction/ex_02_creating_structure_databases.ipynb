{
 "cells": [
  {
   "cell_type": "markdown",
   "id": "expired-green",
   "metadata": {},
   "source": [
    "# [**Workflows for atomistic simulations**](http://potentials.rub.de/) "
   ]
  },
  {
   "cell_type": "markdown",
   "id": "brutal-healing",
   "metadata": {},
   "source": [
    "## **Day 1 - Atomistic simulations with [pyiron](https://pyiron.org)**\n",
    "\n",
    "\n",
    "### **Exercise 2: Creating and working with structure databases**\n",
    "\n",
    "Before the excercise, you should:\n",
    "\n",
    "* Finish exercise 1\n",
    "\n",
    "The aim of this exercise is to make you familiar with:\n",
    "\n",
    "* Creating structure databases and working with them for potential fitting (day 2)"
   ]
  },
  {
   "cell_type": "markdown",
   "id": "cheap-chick",
   "metadata": {},
   "source": [
    "## **Importing necessary modules and creating a project**\n",
    "\n",
    "This is done the same way as shown in the first exercise"
   ]
  },
  {
   "cell_type": "code",
   "execution_count": 1,
   "id": "married-kidney",
   "metadata": {},
   "outputs": [],
   "source": [
    "import numpy as np\n",
    "%matplotlib inline\n",
    "import matplotlib.pylab as plt"
   ]
  },
  {
   "cell_type": "code",
   "execution_count": 2,
   "id": "academic-print",
   "metadata": {},
   "outputs": [
    {
     "data": {
      "text/html": [
       "<pre style=\"white-space:pre;overflow-x:auto;line-height:normal;font-family:Menlo,'DejaVu Sans Mono',consolas,'Courier New',monospace\"></pre>\n"
      ],
      "text/plain": []
     },
     "metadata": {},
     "output_type": "display_data"
    },
    {
     "data": {
      "text/html": [
       "<pre style=\"white-space:pre;overflow-x:auto;line-height:normal;font-family:Menlo,'DejaVu Sans Mono',consolas,'Courier New',monospace\"></pre>\n"
      ],
      "text/plain": []
     },
     "metadata": {},
     "output_type": "display_data"
    }
   ],
   "source": [
    "from pyiron import Project"
   ]
  },
  {
   "cell_type": "code",
   "execution_count": 3,
   "id": "comparable-creation",
   "metadata": {},
   "outputs": [],
   "source": [
    "pr = Project(\"creating_datasets\")"
   ]
  },
  {
   "cell_type": "markdown",
   "id": "focal-percentage",
   "metadata": {},
   "source": [
    "## Creating a structure \"container\" from the data\n",
    "\n",
    "We now go over the jobs generated in the first notebook to store structures, energies, and forces into a structure container which will later be used for potential fitting\n",
    "\n",
    "**Note**: Usually these datasets are created using highly accurate DFT calculations. But for practical reasons, we only demonstrate how to do this using data from LAMMPS calculations (the workflow remain the same)"
   ]
  },
  {
   "cell_type": "code",
   "execution_count": 4,
   "id": "contrary-spider",
   "metadata": {},
   "outputs": [],
   "source": [
    "# Access the project created in exercise 1 \n",
    "pr_fs = pr[\"../first_steps\"]"
   ]
  },
  {
   "cell_type": "code",
   "execution_count": 5,
   "id": "superior-prospect",
   "metadata": {},
   "outputs": [],
   "source": [
    "# Create a TrainingContainer job (to store structures and databases)\n",
    "container = pr.create.job.TrainingContainer('dataset_example')"
   ]
  },
  {
   "cell_type": "markdown",
   "id": "verified-lancaster",
   "metadata": {},
   "source": [
    "## **Add structures from the E-V curves**\n",
    "\n",
    "For starters, we append structures from the energy volume curves we calculated earlier"
   ]
  },
  {
   "cell_type": "code",
   "execution_count": 6,
   "id": "false-flexibility",
   "metadata": {},
   "outputs": [
    {
     "data": {
      "application/vnd.jupyter.widget-view+json": {
       "model_id": "fc685bbf626542abab932fc7fcf1d283",
       "version_major": 2,
       "version_minor": 0
      },
      "text/plain": [
       "  0%|          | 0/7 [00:00<?, ?it/s]"
      ]
     },
     "metadata": {},
     "output_type": "display_data"
    }
   ],
   "source": [
    "# Iterate over the jobs in this sub-project and append the final structure, potential energy, and forces\n",
    "for job in pr_fs[\"E_V_curve\"].iter_jobs(status=\"finished\"):\n",
    "    container.include_job(job, iteration_step=-1)"
   ]
  },
  {
   "cell_type": "markdown",
   "id": "boolean-reply",
   "metadata": {},
   "source": [
    "We can obtain this data as a `pandas` table"
   ]
  },
  {
   "cell_type": "code",
   "execution_count": 7,
   "id": "introductory-latitude",
   "metadata": {},
   "outputs": [
    {
     "data": {
      "text/html": [
       "<div>\n",
       "<style scoped>\n",
       "    .dataframe tbody tr th:only-of-type {\n",
       "        vertical-align: middle;\n",
       "    }\n",
       "\n",
       "    .dataframe tbody tr th {\n",
       "        vertical-align: top;\n",
       "    }\n",
       "\n",
       "    .dataframe thead th {\n",
       "        text-align: right;\n",
       "    }\n",
       "</style>\n",
       "<table border=\"1\" class=\"dataframe\">\n",
       "  <thead>\n",
       "    <tr style=\"text-align: right;\">\n",
       "      <th></th>\n",
       "      <th>name</th>\n",
       "      <th>atoms</th>\n",
       "      <th>energy</th>\n",
       "      <th>forces</th>\n",
       "      <th>stress</th>\n",
       "      <th>number_of_atoms</th>\n",
       "    </tr>\n",
       "  </thead>\n",
       "  <tbody>\n",
       "    <tr>\n",
       "      <th>0</th>\n",
       "      <td>job_a_3_8</td>\n",
       "      <td>[element: [None, AtomicNumber                       13\\nAtomicRadius                    118.0\\nAtomicMass                  26.981539\\nColor                          Silver\\nCovalentRadius         ...</td>\n",
       "      <td>-3.191547</td>\n",
       "      <td>[[7.762927051164611e-17, -5.834472503940611e-17, 5.834472503940611e-17]]</td>\n",
       "      <td>[22.676444426662105, 22.67644442583243, 22.67644442268594, 1.1860975064337254e-10, -5.400215741246939e-11, 5.4005067795515064e-11]</td>\n",
       "      <td>1</td>\n",
       "    </tr>\n",
       "    <tr>\n",
       "      <th>1</th>\n",
       "      <td>job_a_3_9</td>\n",
       "      <td>[element: [None, AtomicNumber                       13\\nAtomicRadius                    118.0\\nAtomicMass                  26.981539\\nColor                          Silver\\nCovalentRadius         ...</td>\n",
       "      <td>-3.306273</td>\n",
       "      <td>[[3.9688564710863087e-17, 4.4947377290194504e-17, 3.355724564399421e-17]]</td>\n",
       "      <td>[11.119873370002683, 11.119873370145102, 11.119873369482312, -6.828056939411908e-10, -3.97049734601751e-10, 3.9704682421870533e-10]</td>\n",
       "      <td>1</td>\n",
       "    </tr>\n",
       "    <tr>\n",
       "      <th>2</th>\n",
       "      <td>job_a_4_0</td>\n",
       "      <td>[element: [None, AtomicNumber                       13\\nAtomicRadius                    118.0\\nAtomicMass                  26.981539\\nColor                          Silver\\nCovalentRadius         ...</td>\n",
       "      <td>-3.355322</td>\n",
       "      <td>[[-2.2398470094651915e-17, -3.0247206656949597e-18, 2.2650876399242214e-17]]</td>\n",
       "      <td>[2.8532790573942868, 2.853279056435899, 2.8532790564358965, -1.03412658063462e-09, 1.1582415027078241e-09, 7.366397767327727e-10]</td>\n",
       "      <td>1</td>\n",
       "    </tr>\n",
       "    <tr>\n",
       "      <th>3</th>\n",
       "      <td>job_a_4_1</td>\n",
       "      <td>[element: [None, AtomicNumber                       13\\nAtomicRadius                    118.0\\nAtomicMass                  26.981539\\nColor                          Silver\\nCovalentRadius         ...</td>\n",
       "      <td>-3.353423</td>\n",
       "      <td>[[2.1964558398106292e-17, -1.0183088924702441e-17, 2.9809244658249695e-17]]</td>\n",
       "      <td>[-2.946765654316672, -2.9467656552939925, -2.9467656552939894, -5.758001861977391e-10, 1.4562829164788129e-12, 5.7911965996027e-10]</td>\n",
       "      <td>1</td>\n",
       "    </tr>\n",
       "    <tr>\n",
       "      <th>4</th>\n",
       "      <td>job_a_4_2</td>\n",
       "      <td>[element: [None, AtomicNumber                       13\\nAtomicRadius                    118.0\\nAtomicMass                  26.981539\\nColor                          Silver\\nCovalentRadius         ...</td>\n",
       "      <td>-3.312514</td>\n",
       "      <td>[[-5.740214732386056e-17, -4.040539787997903e-17, 4.040539787997903e-17]]</td>\n",
       "      <td>[-6.906298594642338, -6.906298594356355, -6.906298596841324, -2.88610317511484e-10, -4.773595719598234e-10, 4.773595719598234e-10]</td>\n",
       "      <td>1</td>\n",
       "    </tr>\n",
       "    <tr>\n",
       "      <th>5</th>\n",
       "      <td>job_a_4_3</td>\n",
       "      <td>[element: [None, AtomicNumber                       13\\nAtomicRadius                    118.0\\nAtomicMass                  26.981539\\nColor                          Silver\\nCovalentRadius         ...</td>\n",
       "      <td>-3.242240</td>\n",
       "      <td>[[2.655563258192633e-17, 1.9677038931290205e-17, -5.892935039838457e-17]]</td>\n",
       "      <td>[-9.500715479394913, -9.500715480623736, -9.500715480623732, -3.422537702135742e-11, 3.2583084248472004e-10, 4.391295078676194e-11]</td>\n",
       "      <td>1</td>\n",
       "    </tr>\n",
       "    <tr>\n",
       "      <th>6</th>\n",
       "      <td>job_a_4_4</td>\n",
       "      <td>[element: [None, AtomicNumber                       13\\nAtomicRadius                    118.0\\nAtomicMass                  26.981539\\nColor                          Silver\\nCovalentRadius         ...</td>\n",
       "      <td>-3.150354</td>\n",
       "      <td>[[-1.439476084367466e-17, -8.764057119853195e-17, 9.135948264343227e-18]]</td>\n",
       "      <td>[-11.090415187614997, -11.090415187842105, -11.09041518803039, -9.905415936373175e-11, 3.695022314786911e-11, -3.6953133530914785e-11]</td>\n",
       "      <td>1</td>\n",
       "    </tr>\n",
       "  </tbody>\n",
       "</table>\n",
       "</div>"
      ],
      "text/plain": [
       "        name  \\\n",
       "0  job_a_3_8   \n",
       "1  job_a_3_9   \n",
       "2  job_a_4_0   \n",
       "3  job_a_4_1   \n",
       "4  job_a_4_2   \n",
       "5  job_a_4_3   \n",
       "6  job_a_4_4   \n",
       "\n",
       "                                                                                                                                                                                                     atoms  \\\n",
       "0  [element: [None, AtomicNumber                       13\\nAtomicRadius                    118.0\\nAtomicMass                  26.981539\\nColor                          Silver\\nCovalentRadius         ...   \n",
       "1  [element: [None, AtomicNumber                       13\\nAtomicRadius                    118.0\\nAtomicMass                  26.981539\\nColor                          Silver\\nCovalentRadius         ...   \n",
       "2  [element: [None, AtomicNumber                       13\\nAtomicRadius                    118.0\\nAtomicMass                  26.981539\\nColor                          Silver\\nCovalentRadius         ...   \n",
       "3  [element: [None, AtomicNumber                       13\\nAtomicRadius                    118.0\\nAtomicMass                  26.981539\\nColor                          Silver\\nCovalentRadius         ...   \n",
       "4  [element: [None, AtomicNumber                       13\\nAtomicRadius                    118.0\\nAtomicMass                  26.981539\\nColor                          Silver\\nCovalentRadius         ...   \n",
       "5  [element: [None, AtomicNumber                       13\\nAtomicRadius                    118.0\\nAtomicMass                  26.981539\\nColor                          Silver\\nCovalentRadius         ...   \n",
       "6  [element: [None, AtomicNumber                       13\\nAtomicRadius                    118.0\\nAtomicMass                  26.981539\\nColor                          Silver\\nCovalentRadius         ...   \n",
       "\n",
       "     energy  \\\n",
       "0 -3.191547   \n",
       "1 -3.306273   \n",
       "2 -3.355322   \n",
       "3 -3.353423   \n",
       "4 -3.312514   \n",
       "5 -3.242240   \n",
       "6 -3.150354   \n",
       "\n",
       "                                                                         forces  \\\n",
       "0      [[7.762927051164611e-17, -5.834472503940611e-17, 5.834472503940611e-17]]   \n",
       "1     [[3.9688564710863087e-17, 4.4947377290194504e-17, 3.355724564399421e-17]]   \n",
       "2  [[-2.2398470094651915e-17, -3.0247206656949597e-18, 2.2650876399242214e-17]]   \n",
       "3   [[2.1964558398106292e-17, -1.0183088924702441e-17, 2.9809244658249695e-17]]   \n",
       "4     [[-5.740214732386056e-17, -4.040539787997903e-17, 4.040539787997903e-17]]   \n",
       "5     [[2.655563258192633e-17, 1.9677038931290205e-17, -5.892935039838457e-17]]   \n",
       "6     [[-1.439476084367466e-17, -8.764057119853195e-17, 9.135948264343227e-18]]   \n",
       "\n",
       "                                                                                                                                   stress  \\\n",
       "0      [22.676444426662105, 22.67644442583243, 22.67644442268594, 1.1860975064337254e-10, -5.400215741246939e-11, 5.4005067795515064e-11]   \n",
       "1     [11.119873370002683, 11.119873370145102, 11.119873369482312, -6.828056939411908e-10, -3.97049734601751e-10, 3.9704682421870533e-10]   \n",
       "2       [2.8532790573942868, 2.853279056435899, 2.8532790564358965, -1.03412658063462e-09, 1.1582415027078241e-09, 7.366397767327727e-10]   \n",
       "3     [-2.946765654316672, -2.9467656552939925, -2.9467656552939894, -5.758001861977391e-10, 1.4562829164788129e-12, 5.7911965996027e-10]   \n",
       "4      [-6.906298594642338, -6.906298594356355, -6.906298596841324, -2.88610317511484e-10, -4.773595719598234e-10, 4.773595719598234e-10]   \n",
       "5     [-9.500715479394913, -9.500715480623736, -9.500715480623732, -3.422537702135742e-11, 3.2583084248472004e-10, 4.391295078676194e-11]   \n",
       "6  [-11.090415187614997, -11.090415187842105, -11.09041518803039, -9.905415936373175e-11, 3.695022314786911e-11, -3.6953133530914785e-11]   \n",
       "\n",
       "   number_of_atoms  \n",
       "0                1  \n",
       "1                1  \n",
       "2                1  \n",
       "3                1  \n",
       "4                1  \n",
       "5                1  \n",
       "6                1  "
      ]
     },
     "execution_count": 7,
     "metadata": {},
     "output_type": "execute_result"
    }
   ],
   "source": [
    "container.to_pandas()"
   ]
  },
  {
   "cell_type": "markdown",
   "id": "indirect-sellers",
   "metadata": {},
   "source": [
    "## **Add structures from the MD**\n",
    "\n",
    "We also add some structures obtained from the MD simulations"
   ]
  },
  {
   "cell_type": "code",
   "execution_count": 8,
   "id": "applied-spank",
   "metadata": {},
   "outputs": [],
   "source": [
    "# Reloading the MD job\n",
    "job_md = pr_fs[\"lammps_job\"]"
   ]
  },
  {
   "cell_type": "code",
   "execution_count": 9,
   "id": "operating-academy",
   "metadata": {},
   "outputs": [],
   "source": [
    "# Iterate over the MD-trajectory to append structures\n",
    "\n",
    "traj_length = len(job_md[\"output/generic/positions\"])\n",
    "stride = 10 # append structures every 10 steps\n",
    "\n",
    "for i in range(0, traj_length, stride):\n",
    "    container.include_job(job_md, iteration_step=i)"
   ]
  },
  {
   "cell_type": "markdown",
   "id": "consecutive-arbitration",
   "metadata": {},
   "source": [
    "## **Add some defect structures (vacancies, surfaces, etc)**\n",
    "\n",
    "It's necessary to also include some defect structures, and surfaces to the training dataset"
   ]
  },
  {
   "cell_type": "code",
   "execution_count": 10,
   "id": "certified-eligibility",
   "metadata": {},
   "outputs": [
    {
     "name": "stdout",
     "output_type": "stream",
     "text": [
      "The job lammps_job_vac was saved and received the ID: 17073786\n"
     ]
    }
   ],
   "source": [
    "# Setup a MD calculation for a structure with a vacancy\n",
    "job_lammps = pr.create.job.Lammps(\"lammps_job_vac\")\n",
    "job_lammps.structure = pr.create.structure.bulk(\"Al\", cubic=True, a=3.61).repeat([3, 3, 3])\n",
    "del job_lammps.structure[0]\n",
    "job_lammps.potential = \"2005--Mendelev-M-I--Al-Fe--LAMMPS--ipr1\"\n",
    "job_lammps.calc_md(temperature=800, pressure=0, n_ionic_steps=10000)\n",
    "job_lammps.run()"
   ]
  },
  {
   "cell_type": "code",
   "execution_count": 11,
   "id": "eleven-intermediate",
   "metadata": {},
   "outputs": [
    {
     "name": "stdout",
     "output_type": "stream",
     "text": [
      "The job lammps_job_surf was saved and received the ID: 17073787\n"
     ]
    }
   ],
   "source": [
    "# Setup a MD calculation for a surface structure\n",
    "job_lammps = pr.create.job.Lammps(\"lammps_job_surf\")\n",
    "job_lammps.structure = pr.create.structure.surface(\"Al\", surface_type=\"fcc111\", size=(4, 4, 8), vacuum=12, orthogonal=True)\n",
    "job_lammps.potential = \"2005--Mendelev-M-I--Al-Fe--LAMMPS--ipr1\"\n",
    "job_lammps.calc_md(temperature=800, pressure=0, n_ionic_steps=10000)\n",
    "job_lammps.run()"
   ]
  },
  {
   "cell_type": "code",
   "execution_count": 12,
   "id": "accepted-silly",
   "metadata": {},
   "outputs": [
    {
     "data": {
      "text/plain": [
       "{'groups': [], 'nodes': ['lammps_job_vac', 'lammps_job_surf']}"
      ]
     },
     "execution_count": 12,
     "metadata": {},
     "output_type": "execute_result"
    }
   ],
   "source": [
    "pr"
   ]
  },
  {
   "cell_type": "markdown",
   "id": "diverse-stability",
   "metadata": {},
   "source": [
    "We now add these structures to the dataset"
   ]
  },
  {
   "cell_type": "code",
   "execution_count": 13,
   "id": "single-treasure",
   "metadata": {},
   "outputs": [
    {
     "data": {
      "application/vnd.jupyter.widget-view+json": {
       "model_id": "39e21608470c4d0fbb251da4aab036c6",
       "version_major": 2,
       "version_minor": 0
      },
      "text/plain": [
       "  0%|          | 0/2 [00:00<?, ?it/s]"
      ]
     },
     "metadata": {},
     "output_type": "display_data"
    }
   ],
   "source": [
    "for job_md in pr.iter_jobs(status=\"finished\", hamilton=\"Lammps\"):\n",
    "    pos = job_md[\"output/generic/positions\"]\n",
    "    stride = 10\n",
    "    for i in range(0, job.number_of_structures, stride):\n",
    "        container.include_job(job_md, iteration_step=i)"
   ]
  },
  {
   "cell_type": "markdown",
   "id": "45f78271-c224-46c1-b9f2-cba6300a26f3",
   "metadata": {},
   "source": [
    "We run the job sto store this dataset in the pyiron database"
   ]
  },
  {
   "cell_type": "code",
   "execution_count": 14,
   "id": "3e1c48ff-5ff4-447a-9419-fec805c0fe04",
   "metadata": {},
   "outputs": [
    {
     "name": "stdout",
     "output_type": "stream",
     "text": [
      "The job dataset_example was saved and received the ID: 17073788\n"
     ]
    }
   ],
   "source": [
    "container.run()"
   ]
  },
  {
   "cell_type": "code",
   "execution_count": 15,
   "id": "professional-change",
   "metadata": {},
   "outputs": [
    {
     "data": {
      "text/html": [
       "<div>\n",
       "<style scoped>\n",
       "    .dataframe tbody tr th:only-of-type {\n",
       "        vertical-align: middle;\n",
       "    }\n",
       "\n",
       "    .dataframe tbody tr th {\n",
       "        vertical-align: top;\n",
       "    }\n",
       "\n",
       "    .dataframe thead th {\n",
       "        text-align: right;\n",
       "    }\n",
       "</style>\n",
       "<table border=\"1\" class=\"dataframe\">\n",
       "  <thead>\n",
       "    <tr style=\"text-align: right;\">\n",
       "      <th></th>\n",
       "      <th>id</th>\n",
       "      <th>status</th>\n",
       "      <th>chemicalformula</th>\n",
       "      <th>job</th>\n",
       "      <th>subjob</th>\n",
       "      <th>projectpath</th>\n",
       "      <th>project</th>\n",
       "      <th>timestart</th>\n",
       "      <th>timestop</th>\n",
       "      <th>totalcputime</th>\n",
       "      <th>computer</th>\n",
       "      <th>hamilton</th>\n",
       "      <th>hamversion</th>\n",
       "      <th>parentid</th>\n",
       "      <th>masterid</th>\n",
       "    </tr>\n",
       "  </thead>\n",
       "  <tbody>\n",
       "    <tr>\n",
       "      <th>0</th>\n",
       "      <td>17073786</td>\n",
       "      <td>finished</td>\n",
       "      <td>Al107</td>\n",
       "      <td>lammps_job_vac</td>\n",
       "      <td>/lammps_job_vac</td>\n",
       "      <td>/cmmc/u/</td>\n",
       "      <td>zora/pyiron/projects/2022/POTENTIALS/TutorialNotebooks/introduction/creating_datasets/</td>\n",
       "      <td>2022-05-12 15:00:53.950303</td>\n",
       "      <td>2022-05-12 15:00:58.228251</td>\n",
       "      <td>4.0</td>\n",
       "      <td>zora@cmti001#1</td>\n",
       "      <td>Lammps</td>\n",
       "      <td>0.1</td>\n",
       "      <td>None</td>\n",
       "      <td>None</td>\n",
       "    </tr>\n",
       "    <tr>\n",
       "      <th>1</th>\n",
       "      <td>17073787</td>\n",
       "      <td>finished</td>\n",
       "      <td>Al128</td>\n",
       "      <td>lammps_job_surf</td>\n",
       "      <td>/lammps_job_surf</td>\n",
       "      <td>/cmmc/u/</td>\n",
       "      <td>zora/pyiron/projects/2022/POTENTIALS/TutorialNotebooks/introduction/creating_datasets/</td>\n",
       "      <td>2022-05-12 15:00:59.263900</td>\n",
       "      <td>2022-05-12 15:01:03.659497</td>\n",
       "      <td>4.0</td>\n",
       "      <td>zora@cmti001#1</td>\n",
       "      <td>Lammps</td>\n",
       "      <td>0.1</td>\n",
       "      <td>None</td>\n",
       "      <td>None</td>\n",
       "    </tr>\n",
       "    <tr>\n",
       "      <th>2</th>\n",
       "      <td>17073788</td>\n",
       "      <td>finished</td>\n",
       "      <td>None</td>\n",
       "      <td>dataset_example</td>\n",
       "      <td>/dataset_example</td>\n",
       "      <td>/cmmc/u/</td>\n",
       "      <td>zora/pyiron/projects/2022/POTENTIALS/TutorialNotebooks/introduction/creating_datasets/</td>\n",
       "      <td>2022-05-12 15:01:05.587884</td>\n",
       "      <td>NaT</td>\n",
       "      <td>NaN</td>\n",
       "      <td>zora@cmti001#1</td>\n",
       "      <td>TrainingContainer</td>\n",
       "      <td>0.4</td>\n",
       "      <td>None</td>\n",
       "      <td>None</td>\n",
       "    </tr>\n",
       "  </tbody>\n",
       "</table>\n",
       "</div>"
      ],
      "text/plain": [
       "         id    status chemicalformula              job            subjob  \\\n",
       "0  17073786  finished           Al107   lammps_job_vac   /lammps_job_vac   \n",
       "1  17073787  finished           Al128  lammps_job_surf  /lammps_job_surf   \n",
       "2  17073788  finished            None  dataset_example  /dataset_example   \n",
       "\n",
       "  projectpath  \\\n",
       "0    /cmmc/u/   \n",
       "1    /cmmc/u/   \n",
       "2    /cmmc/u/   \n",
       "\n",
       "                                                                                  project  \\\n",
       "0  zora/pyiron/projects/2022/POTENTIALS/TutorialNotebooks/introduction/creating_datasets/   \n",
       "1  zora/pyiron/projects/2022/POTENTIALS/TutorialNotebooks/introduction/creating_datasets/   \n",
       "2  zora/pyiron/projects/2022/POTENTIALS/TutorialNotebooks/introduction/creating_datasets/   \n",
       "\n",
       "                   timestart                   timestop  totalcputime  \\\n",
       "0 2022-05-12 15:00:53.950303 2022-05-12 15:00:58.228251           4.0   \n",
       "1 2022-05-12 15:00:59.263900 2022-05-12 15:01:03.659497           4.0   \n",
       "2 2022-05-12 15:01:05.587884                        NaT           NaN   \n",
       "\n",
       "         computer           hamilton hamversion parentid masterid  \n",
       "0  zora@cmti001#1             Lammps        0.1     None     None  \n",
       "1  zora@cmti001#1             Lammps        0.1     None     None  \n",
       "2  zora@cmti001#1  TrainingContainer        0.4     None     None  "
      ]
     },
     "execution_count": 15,
     "metadata": {},
     "output_type": "execute_result"
    }
   ],
   "source": [
    "pr.job_table()"
   ]
  },
  {
   "cell_type": "markdown",
   "id": "technological-partner",
   "metadata": {},
   "source": [
    "## **Reloading the dataset**\n",
    "\n",
    "This dataset can ow be reloaded anywhere to use in the potential fitting procedures"
   ]
  },
  {
   "cell_type": "code",
   "execution_count": 16,
   "id": "processed-samuel",
   "metadata": {},
   "outputs": [
    {
     "data": {
      "text/html": [
       "<div>\n",
       "<style scoped>\n",
       "    .dataframe tbody tr th:only-of-type {\n",
       "        vertical-align: middle;\n",
       "    }\n",
       "\n",
       "    .dataframe tbody tr th {\n",
       "        vertical-align: top;\n",
       "    }\n",
       "\n",
       "    .dataframe thead th {\n",
       "        text-align: right;\n",
       "    }\n",
       "</style>\n",
       "<table border=\"1\" class=\"dataframe\">\n",
       "  <thead>\n",
       "    <tr style=\"text-align: right;\">\n",
       "      <th></th>\n",
       "      <th>name</th>\n",
       "      <th>atoms</th>\n",
       "      <th>energy</th>\n",
       "      <th>forces</th>\n",
       "      <th>stress</th>\n",
       "      <th>number_of_atoms</th>\n",
       "    </tr>\n",
       "  </thead>\n",
       "  <tbody>\n",
       "    <tr>\n",
       "      <th>0</th>\n",
       "      <td>job_a_3_8</td>\n",
       "      <td>[element: [None, AtomicNumber                       13\\nAtomicRadius                    118.0\\nAtomicMass                  26.981539\\nColor                          Silver\\nCovalentRadius         ...</td>\n",
       "      <td>-3.191547</td>\n",
       "      <td>[[7.762927051164611e-17, -5.834472503940611e-17, 5.834472503940611e-17]]</td>\n",
       "      <td>[22.676444426662105, 22.67644442583243, 22.67644442268594, 1.1860975064337254e-10, -5.400215741246939e-11, 5.4005067795515064e-11]</td>\n",
       "      <td>1</td>\n",
       "    </tr>\n",
       "    <tr>\n",
       "      <th>1</th>\n",
       "      <td>job_a_3_9</td>\n",
       "      <td>[element: [None, AtomicNumber                       13\\nAtomicRadius                    118.0\\nAtomicMass                  26.981539\\nColor                          Silver\\nCovalentRadius         ...</td>\n",
       "      <td>-3.306273</td>\n",
       "      <td>[[3.9688564710863087e-17, 4.4947377290194504e-17, 3.355724564399421e-17]]</td>\n",
       "      <td>[11.119873370002683, 11.119873370145102, 11.119873369482312, -6.828056939411908e-10, -3.97049734601751e-10, 3.9704682421870533e-10]</td>\n",
       "      <td>1</td>\n",
       "    </tr>\n",
       "    <tr>\n",
       "      <th>2</th>\n",
       "      <td>job_a_4_0</td>\n",
       "      <td>[element: [None, AtomicNumber                       13\\nAtomicRadius                    118.0\\nAtomicMass                  26.981539\\nColor                          Silver\\nCovalentRadius         ...</td>\n",
       "      <td>-3.355322</td>\n",
       "      <td>[[-2.2398470094651915e-17, -3.0247206656949597e-18, 2.2650876399242214e-17]]</td>\n",
       "      <td>[2.8532790573942868, 2.853279056435899, 2.8532790564358965, -1.03412658063462e-09, 1.1582415027078241e-09, 7.366397767327727e-10]</td>\n",
       "      <td>1</td>\n",
       "    </tr>\n",
       "    <tr>\n",
       "      <th>3</th>\n",
       "      <td>job_a_4_1</td>\n",
       "      <td>[element: [None, AtomicNumber                       13\\nAtomicRadius                    118.0\\nAtomicMass                  26.981539\\nColor                          Silver\\nCovalentRadius         ...</td>\n",
       "      <td>-3.353423</td>\n",
       "      <td>[[2.1964558398106292e-17, -1.0183088924702441e-17, 2.9809244658249695e-17]]</td>\n",
       "      <td>[-2.946765654316672, -2.9467656552939925, -2.9467656552939894, -5.758001861977391e-10, 1.4562829164788129e-12, 5.7911965996027e-10]</td>\n",
       "      <td>1</td>\n",
       "    </tr>\n",
       "    <tr>\n",
       "      <th>4</th>\n",
       "      <td>job_a_4_2</td>\n",
       "      <td>[element: [None, AtomicNumber                       13\\nAtomicRadius                    118.0\\nAtomicMass                  26.981539\\nColor                          Silver\\nCovalentRadius         ...</td>\n",
       "      <td>-3.312514</td>\n",
       "      <td>[[-5.740214732386056e-17, -4.040539787997903e-17, 4.040539787997903e-17]]</td>\n",
       "      <td>[-6.906298594642338, -6.906298594356355, -6.906298596841324, -2.88610317511484e-10, -4.773595719598234e-10, 4.773595719598234e-10]</td>\n",
       "      <td>1</td>\n",
       "    </tr>\n",
       "    <tr>\n",
       "      <th>5</th>\n",
       "      <td>job_a_4_3</td>\n",
       "      <td>[element: [None, AtomicNumber                       13\\nAtomicRadius                    118.0\\nAtomicMass                  26.981539\\nColor                          Silver\\nCovalentRadius         ...</td>\n",
       "      <td>-3.242240</td>\n",
       "      <td>[[2.655563258192633e-17, 1.9677038931290205e-17, -5.892935039838457e-17]]</td>\n",
       "      <td>[-9.500715479394913, -9.500715480623736, -9.500715480623732, -3.422537702135742e-11, 3.2583084248472004e-10, 4.391295078676194e-11]</td>\n",
       "      <td>1</td>\n",
       "    </tr>\n",
       "    <tr>\n",
       "      <th>6</th>\n",
       "      <td>job_a_4_4</td>\n",
       "      <td>[element: [None, AtomicNumber                       13\\nAtomicRadius                    118.0\\nAtomicMass                  26.981539\\nColor                          Silver\\nCovalentRadius         ...</td>\n",
       "      <td>-3.150354</td>\n",
       "      <td>[[-1.439476084367466e-17, -8.764057119853195e-17, 9.135948264343227e-18]]</td>\n",
       "      <td>[-11.090415187614997, -11.090415187842105, -11.09041518803039, -9.905415936373175e-11, 3.695022314786911e-11, -3.6953133530914785e-11]</td>\n",
       "      <td>1</td>\n",
       "    </tr>\n",
       "    <tr>\n",
       "      <th>7</th>\n",
       "      <td>lammps_job</td>\n",
       "      <td>[element: [None, AtomicNumber                       13\\nAtomicRadius                    118.0\\nAtomicMass                  26.981539\\nColor                          Silver\\nCovalentRadius         ...</td>\n",
       "      <td>-362.874711</td>\n",
       "      <td>[[6.579806144380031e-15, 3.8510861166685137e-16, 7.936359902593893e-16], [7.41334077458689e-15, -2.03396327558281e-15, -2.4650420593630397e-15], [1.1934897514720401e-15, 3.5214886562329204e-16, -3...</td>\n",
       "      <td>[1.66505777613937, 1.65597478683186, 1.4904530051861802, -0.017955018197828302, 0.0636336051961352, -0.0425636166039662]</td>\n",
       "      <td>108</td>\n",
       "    </tr>\n",
       "    <tr>\n",
       "      <th>8</th>\n",
       "      <td>lammps_job</td>\n",
       "      <td>[element: [None, AtomicNumber                       13\\nAtomicRadius                    118.0\\nAtomicMass                  26.981539\\nColor                          Silver\\nCovalentRadius         ...</td>\n",
       "      <td>-350.909167</td>\n",
       "      <td>[[-0.239499213089358, 0.43002220782184, -0.708103445257233], [-0.0263833123646737, -0.311437125473446, -0.16312813349440602], [0.428287812967704, 0.657964172831875, 0.12955966427394305], [0.632399...</td>\n",
       "      <td>[0.468704941797838, 0.225251352652467, 0.759106586375767, -0.16931990268975503, 0.150086581331058, -0.313317995397465]</td>\n",
       "      <td>108</td>\n",
       "    </tr>\n",
       "    <tr>\n",
       "      <th>9</th>\n",
       "      <td>lammps_job</td>\n",
       "      <td>[element: [None, AtomicNumber                       13\\nAtomicRadius                    118.0\\nAtomicMass                  26.981539\\nColor                          Silver\\nCovalentRadius         ...</td>\n",
       "      <td>-350.123272</td>\n",
       "      <td>[[0.190046360301228, 0.417440626778757, 0.20258207002451503], [0.497102024530882, 0.01764295316103203, -0.29107865400839894], [-0.336089257956967, 0.839410750905879, 0.25473178060898904], [0.13549...</td>\n",
       "      <td>[0.065220204962367, 0.25614026410411306, -0.139548026512665, 0.0388065639699095, -0.0898526256555141, 0.0371029380265526]</td>\n",
       "      <td>108</td>\n",
       "    </tr>\n",
       "    <tr>\n",
       "      <th>10</th>\n",
       "      <td>lammps_job</td>\n",
       "      <td>[element: [None, AtomicNumber                       13\\nAtomicRadius                    118.0\\nAtomicMass                  26.981539\\nColor                          Silver\\nCovalentRadius         ...</td>\n",
       "      <td>-350.621437</td>\n",
       "      <td>[[0.301987387734973, -0.52837050509109, -0.362776264648242], [-0.826547790868578, -0.06416290849888766, 0.873004411177227], [-0.770155371974552, -1.20567135836192, -0.5915405471767191], [0.0772190...</td>\n",
       "      <td>[0.148775859104556, 0.0689265060325715, -0.0216109445401026, -0.11173084808746901, -0.186231355862349, 0.4385854178636501]</td>\n",
       "      <td>108</td>\n",
       "    </tr>\n",
       "    <tr>\n",
       "      <th>11</th>\n",
       "      <td>lammps_job</td>\n",
       "      <td>[element: [None, AtomicNumber                       13\\nAtomicRadius                    118.0\\nAtomicMass                  26.981539\\nColor                          Silver\\nCovalentRadius         ...</td>\n",
       "      <td>-348.613603</td>\n",
       "      <td>[[-0.489302157987205, -0.17014955148268504, -0.33240452378354307], [0.483985652614948, 0.4096249467353851, -0.718337496292285], [0.409546781892907, -0.21783783408821797, 0.745360946324389], [-0.14...</td>\n",
       "      <td>[-0.47372147767055606, 0.24644017687965603, -0.296944037498076, -0.09840763659368991, -0.239321130489699, -0.371460808882403]</td>\n",
       "      <td>108</td>\n",
       "    </tr>\n",
       "    <tr>\n",
       "      <th>12</th>\n",
       "      <td>lammps_job</td>\n",
       "      <td>[element: [None, AtomicNumber                       13\\nAtomicRadius                    118.0\\nAtomicMass                  26.981539\\nColor                          Silver\\nCovalentRadius         ...</td>\n",
       "      <td>-350.339041</td>\n",
       "      <td>[[0.376063652370321, 0.48047636020523, -0.17207383369179194], [-0.259658906934135, -0.21206305010710202, -0.33427843914529104], [-0.155315678362733, -0.03308396170604621, -0.760756528488209], [-0....</td>\n",
       "      <td>[-0.584748547472074, -0.6424890313524461, -0.679326631949272, 0.052131614529737205, 0.0528097904240837, -0.177288063387621]</td>\n",
       "      <td>108</td>\n",
       "    </tr>\n",
       "    <tr>\n",
       "      <th>13</th>\n",
       "      <td>lammps_job</td>\n",
       "      <td>[element: [None, AtomicNumber                       13\\nAtomicRadius                    118.0\\nAtomicMass                  26.981539\\nColor                          Silver\\nCovalentRadius         ...</td>\n",
       "      <td>-348.593137</td>\n",
       "      <td>[[-0.683408849364315, 0.612210197281226, -0.127848118730529], [1.44938377482084, -0.07860741496963132, -0.20650605196744193], [0.366627661052584, -0.444463896831762, 0.0066956024264556956], [-0.13...</td>\n",
       "      <td>[-0.721395757441346, -0.903034103789337, -0.8892236858933249, -0.492908568851387, 0.055621751592821005, -0.00957654269163817]</td>\n",
       "      <td>108</td>\n",
       "    </tr>\n",
       "    <tr>\n",
       "      <th>14</th>\n",
       "      <td>lammps_job</td>\n",
       "      <td>[element: [None, AtomicNumber                       13\\nAtomicRadius                    118.0\\nAtomicMass                  26.981539\\nColor                          Silver\\nCovalentRadius         ...</td>\n",
       "      <td>-351.117971</td>\n",
       "      <td>[[-0.591984157707976, 0.908720319662357, -0.01631428266801788], [-0.391922408142886, 0.349723693320144, -1.03190848501644], [-0.171877276855833, 0.0012921032106494893, 0.55189535452655], [0.119039...</td>\n",
       "      <td>[0.603722896927211, 0.0781147484174112, 0.43255644715889, 0.0356655139954236, 0.194187010965005, -0.23158754022654898]</td>\n",
       "      <td>108</td>\n",
       "    </tr>\n",
       "    <tr>\n",
       "      <th>15</th>\n",
       "      <td>lammps_job</td>\n",
       "      <td>[element: [None, AtomicNumber                       13\\nAtomicRadius                    118.0\\nAtomicMass                  26.981539\\nColor                          Silver\\nCovalentRadius         ...</td>\n",
       "      <td>-350.488816</td>\n",
       "      <td>[[-0.632745283932569, -0.21196592752054103, -0.29314235257936905], [-0.0218381998365498, 0.192703858539004, 0.349683717868674], [-0.0979351991175442, -0.532646871197965, -0.37091218608583804], [0....</td>\n",
       "      <td>[0.788801695504952, 0.602977816574586, 0.706021466896286, -0.123441045735165, -0.104447142021675, 0.220979070385012]</td>\n",
       "      <td>108</td>\n",
       "    </tr>\n",
       "    <tr>\n",
       "      <th>16</th>\n",
       "      <td>lammps_job</td>\n",
       "      <td>[element: [None, AtomicNumber                       13\\nAtomicRadius                    118.0\\nAtomicMass                  26.981539\\nColor                          Silver\\nCovalentRadius         ...</td>\n",
       "      <td>-350.642414</td>\n",
       "      <td>[[0.0006317819974959, 0.430221413813066, 0.404771905861803], [0.420592286933868, 0.521833466942926, 0.15246019705965705], [-0.353347914631602, 0.05029263115622308, 0.525297437204207], [0.150802160...</td>\n",
       "      <td>[1.0792420493890702, 0.815979503976791, 0.8309269895722561, -0.18723455013219, -0.0966235532701949, -0.06333668183431941]</td>\n",
       "      <td>108</td>\n",
       "    </tr>\n",
       "    <tr>\n",
       "      <th>17</th>\n",
       "      <td>lammps_job</td>\n",
       "      <td>[element: [None, AtomicNumber                       13\\nAtomicRadius                    118.0\\nAtomicMass                  26.981539\\nColor                          Silver\\nCovalentRadius         ...</td>\n",
       "      <td>-349.712152</td>\n",
       "      <td>[[0.41973615858457, -0.12612975267042098, -0.615378121825551], [0.361891872529586, 0.05320723624537622, 0.18143088347586103], [-0.292628287880874, 0.575698116048831, 0.16025658679087904], [-1.2894...</td>\n",
       "      <td>[0.36736449399812904, 0.637958622338704, 0.620568373608508, -0.047543885157067006, 0.07287064438291921, -0.037859955216262606]</td>\n",
       "      <td>108</td>\n",
       "    </tr>\n",
       "    <tr>\n",
       "      <th>18</th>\n",
       "      <td>lammps_job_vac</td>\n",
       "      <td>[element: [None, AtomicNumber                       13\\nAtomicRadius                    118.0\\nAtomicMass                  26.981539\\nColor                          Silver\\nCovalentRadius         ...</td>\n",
       "      <td>-290.793066</td>\n",
       "      <td>[[-2.9309887850104095e-14, -0.5904705706758209, -0.590470570675822], [-0.5904705706758229, -3.281549069677614e-14, -0.590470570675822], [-0.5904705706758219, -0.590470570675822, -3.552572282971288...</td>\n",
       "      <td>[58.87969078759508, 58.65874845858828, 58.50796880315438, -0.04755417877828782, -0.3331428684639334, 0.07410497611298458]</td>\n",
       "      <td>107</td>\n",
       "    </tr>\n",
       "    <tr>\n",
       "      <th>19</th>\n",
       "      <td>lammps_job_surf</td>\n",
       "      <td>[element: [None, AtomicNumber                       13\\nAtomicRadius                    118.0\\nAtomicMass                  26.981539\\nColor                          Silver\\nCovalentRadius         ...</td>\n",
       "      <td>-428.609075</td>\n",
       "      <td>[[2.44249065417534e-15, 4.56905818735365e-10, 0.314474097336679], [-9.78384040450919e-16, 4.56905295716237e-10, 0.314474097336677], [2.8148869953698003e-15, 4.56906096291121e-10, 0.314474097336677...</td>\n",
       "      <td>[-0.693731819636774, -0.57595666036435, -0.802656043307558, -0.06679561501062031, -0.145663378134874, -0.020996350092704]</td>\n",
       "      <td>128</td>\n",
       "    </tr>\n",
       "  </tbody>\n",
       "</table>\n",
       "</div>"
      ],
      "text/plain": [
       "               name  \\\n",
       "0         job_a_3_8   \n",
       "1         job_a_3_9   \n",
       "2         job_a_4_0   \n",
       "3         job_a_4_1   \n",
       "4         job_a_4_2   \n",
       "5         job_a_4_3   \n",
       "6         job_a_4_4   \n",
       "7        lammps_job   \n",
       "8        lammps_job   \n",
       "9        lammps_job   \n",
       "10       lammps_job   \n",
       "11       lammps_job   \n",
       "12       lammps_job   \n",
       "13       lammps_job   \n",
       "14       lammps_job   \n",
       "15       lammps_job   \n",
       "16       lammps_job   \n",
       "17       lammps_job   \n",
       "18   lammps_job_vac   \n",
       "19  lammps_job_surf   \n",
       "\n",
       "                                                                                                                                                                                                      atoms  \\\n",
       "0   [element: [None, AtomicNumber                       13\\nAtomicRadius                    118.0\\nAtomicMass                  26.981539\\nColor                          Silver\\nCovalentRadius         ...   \n",
       "1   [element: [None, AtomicNumber                       13\\nAtomicRadius                    118.0\\nAtomicMass                  26.981539\\nColor                          Silver\\nCovalentRadius         ...   \n",
       "2   [element: [None, AtomicNumber                       13\\nAtomicRadius                    118.0\\nAtomicMass                  26.981539\\nColor                          Silver\\nCovalentRadius         ...   \n",
       "3   [element: [None, AtomicNumber                       13\\nAtomicRadius                    118.0\\nAtomicMass                  26.981539\\nColor                          Silver\\nCovalentRadius         ...   \n",
       "4   [element: [None, AtomicNumber                       13\\nAtomicRadius                    118.0\\nAtomicMass                  26.981539\\nColor                          Silver\\nCovalentRadius         ...   \n",
       "5   [element: [None, AtomicNumber                       13\\nAtomicRadius                    118.0\\nAtomicMass                  26.981539\\nColor                          Silver\\nCovalentRadius         ...   \n",
       "6   [element: [None, AtomicNumber                       13\\nAtomicRadius                    118.0\\nAtomicMass                  26.981539\\nColor                          Silver\\nCovalentRadius         ...   \n",
       "7   [element: [None, AtomicNumber                       13\\nAtomicRadius                    118.0\\nAtomicMass                  26.981539\\nColor                          Silver\\nCovalentRadius         ...   \n",
       "8   [element: [None, AtomicNumber                       13\\nAtomicRadius                    118.0\\nAtomicMass                  26.981539\\nColor                          Silver\\nCovalentRadius         ...   \n",
       "9   [element: [None, AtomicNumber                       13\\nAtomicRadius                    118.0\\nAtomicMass                  26.981539\\nColor                          Silver\\nCovalentRadius         ...   \n",
       "10  [element: [None, AtomicNumber                       13\\nAtomicRadius                    118.0\\nAtomicMass                  26.981539\\nColor                          Silver\\nCovalentRadius         ...   \n",
       "11  [element: [None, AtomicNumber                       13\\nAtomicRadius                    118.0\\nAtomicMass                  26.981539\\nColor                          Silver\\nCovalentRadius         ...   \n",
       "12  [element: [None, AtomicNumber                       13\\nAtomicRadius                    118.0\\nAtomicMass                  26.981539\\nColor                          Silver\\nCovalentRadius         ...   \n",
       "13  [element: [None, AtomicNumber                       13\\nAtomicRadius                    118.0\\nAtomicMass                  26.981539\\nColor                          Silver\\nCovalentRadius         ...   \n",
       "14  [element: [None, AtomicNumber                       13\\nAtomicRadius                    118.0\\nAtomicMass                  26.981539\\nColor                          Silver\\nCovalentRadius         ...   \n",
       "15  [element: [None, AtomicNumber                       13\\nAtomicRadius                    118.0\\nAtomicMass                  26.981539\\nColor                          Silver\\nCovalentRadius         ...   \n",
       "16  [element: [None, AtomicNumber                       13\\nAtomicRadius                    118.0\\nAtomicMass                  26.981539\\nColor                          Silver\\nCovalentRadius         ...   \n",
       "17  [element: [None, AtomicNumber                       13\\nAtomicRadius                    118.0\\nAtomicMass                  26.981539\\nColor                          Silver\\nCovalentRadius         ...   \n",
       "18  [element: [None, AtomicNumber                       13\\nAtomicRadius                    118.0\\nAtomicMass                  26.981539\\nColor                          Silver\\nCovalentRadius         ...   \n",
       "19  [element: [None, AtomicNumber                       13\\nAtomicRadius                    118.0\\nAtomicMass                  26.981539\\nColor                          Silver\\nCovalentRadius         ...   \n",
       "\n",
       "        energy  \\\n",
       "0    -3.191547   \n",
       "1    -3.306273   \n",
       "2    -3.355322   \n",
       "3    -3.353423   \n",
       "4    -3.312514   \n",
       "5    -3.242240   \n",
       "6    -3.150354   \n",
       "7  -362.874711   \n",
       "8  -350.909167   \n",
       "9  -350.123272   \n",
       "10 -350.621437   \n",
       "11 -348.613603   \n",
       "12 -350.339041   \n",
       "13 -348.593137   \n",
       "14 -351.117971   \n",
       "15 -350.488816   \n",
       "16 -350.642414   \n",
       "17 -349.712152   \n",
       "18 -290.793066   \n",
       "19 -428.609075   \n",
       "\n",
       "                                                                                                                                                                                                     forces  \\\n",
       "0                                                                                                                                  [[7.762927051164611e-17, -5.834472503940611e-17, 5.834472503940611e-17]]   \n",
       "1                                                                                                                                 [[3.9688564710863087e-17, 4.4947377290194504e-17, 3.355724564399421e-17]]   \n",
       "2                                                                                                                              [[-2.2398470094651915e-17, -3.0247206656949597e-18, 2.2650876399242214e-17]]   \n",
       "3                                                                                                                               [[2.1964558398106292e-17, -1.0183088924702441e-17, 2.9809244658249695e-17]]   \n",
       "4                                                                                                                                 [[-5.740214732386056e-17, -4.040539787997903e-17, 4.040539787997903e-17]]   \n",
       "5                                                                                                                                 [[2.655563258192633e-17, 1.9677038931290205e-17, -5.892935039838457e-17]]   \n",
       "6                                                                                                                                 [[-1.439476084367466e-17, -8.764057119853195e-17, 9.135948264343227e-18]]   \n",
       "7   [[6.579806144380031e-15, 3.8510861166685137e-16, 7.936359902593893e-16], [7.41334077458689e-15, -2.03396327558281e-15, -2.4650420593630397e-15], [1.1934897514720401e-15, 3.5214886562329204e-16, -3...   \n",
       "8   [[-0.239499213089358, 0.43002220782184, -0.708103445257233], [-0.0263833123646737, -0.311437125473446, -0.16312813349440602], [0.428287812967704, 0.657964172831875, 0.12955966427394305], [0.632399...   \n",
       "9   [[0.190046360301228, 0.417440626778757, 0.20258207002451503], [0.497102024530882, 0.01764295316103203, -0.29107865400839894], [-0.336089257956967, 0.839410750905879, 0.25473178060898904], [0.13549...   \n",
       "10  [[0.301987387734973, -0.52837050509109, -0.362776264648242], [-0.826547790868578, -0.06416290849888766, 0.873004411177227], [-0.770155371974552, -1.20567135836192, -0.5915405471767191], [0.0772190...   \n",
       "11  [[-0.489302157987205, -0.17014955148268504, -0.33240452378354307], [0.483985652614948, 0.4096249467353851, -0.718337496292285], [0.409546781892907, -0.21783783408821797, 0.745360946324389], [-0.14...   \n",
       "12  [[0.376063652370321, 0.48047636020523, -0.17207383369179194], [-0.259658906934135, -0.21206305010710202, -0.33427843914529104], [-0.155315678362733, -0.03308396170604621, -0.760756528488209], [-0....   \n",
       "13  [[-0.683408849364315, 0.612210197281226, -0.127848118730529], [1.44938377482084, -0.07860741496963132, -0.20650605196744193], [0.366627661052584, -0.444463896831762, 0.0066956024264556956], [-0.13...   \n",
       "14  [[-0.591984157707976, 0.908720319662357, -0.01631428266801788], [-0.391922408142886, 0.349723693320144, -1.03190848501644], [-0.171877276855833, 0.0012921032106494893, 0.55189535452655], [0.119039...   \n",
       "15  [[-0.632745283932569, -0.21196592752054103, -0.29314235257936905], [-0.0218381998365498, 0.192703858539004, 0.349683717868674], [-0.0979351991175442, -0.532646871197965, -0.37091218608583804], [0....   \n",
       "16  [[0.0006317819974959, 0.430221413813066, 0.404771905861803], [0.420592286933868, 0.521833466942926, 0.15246019705965705], [-0.353347914631602, 0.05029263115622308, 0.525297437204207], [0.150802160...   \n",
       "17  [[0.41973615858457, -0.12612975267042098, -0.615378121825551], [0.361891872529586, 0.05320723624537622, 0.18143088347586103], [-0.292628287880874, 0.575698116048831, 0.16025658679087904], [-1.2894...   \n",
       "18  [[-2.9309887850104095e-14, -0.5904705706758209, -0.590470570675822], [-0.5904705706758229, -3.281549069677614e-14, -0.590470570675822], [-0.5904705706758219, -0.590470570675822, -3.552572282971288...   \n",
       "19  [[2.44249065417534e-15, 4.56905818735365e-10, 0.314474097336679], [-9.78384040450919e-16, 4.56905295716237e-10, 0.314474097336677], [2.8148869953698003e-15, 4.56906096291121e-10, 0.314474097336677...   \n",
       "\n",
       "                                                                                                                                    stress  \\\n",
       "0       [22.676444426662105, 22.67644442583243, 22.67644442268594, 1.1860975064337254e-10, -5.400215741246939e-11, 5.4005067795515064e-11]   \n",
       "1      [11.119873370002683, 11.119873370145102, 11.119873369482312, -6.828056939411908e-10, -3.97049734601751e-10, 3.9704682421870533e-10]   \n",
       "2        [2.8532790573942868, 2.853279056435899, 2.8532790564358965, -1.03412658063462e-09, 1.1582415027078241e-09, 7.366397767327727e-10]   \n",
       "3      [-2.946765654316672, -2.9467656552939925, -2.9467656552939894, -5.758001861977391e-10, 1.4562829164788129e-12, 5.7911965996027e-10]   \n",
       "4       [-6.906298594642338, -6.906298594356355, -6.906298596841324, -2.88610317511484e-10, -4.773595719598234e-10, 4.773595719598234e-10]   \n",
       "5      [-9.500715479394913, -9.500715480623736, -9.500715480623732, -3.422537702135742e-11, 3.2583084248472004e-10, 4.391295078676194e-11]   \n",
       "6   [-11.090415187614997, -11.090415187842105, -11.09041518803039, -9.905415936373175e-11, 3.695022314786911e-11, -3.6953133530914785e-11]   \n",
       "7                 [1.66505777613937, 1.65597478683186, 1.4904530051861802, -0.017955018197828302, 0.0636336051961352, -0.0425636166039662]   \n",
       "8                   [0.468704941797838, 0.225251352652467, 0.759106586375767, -0.16931990268975503, 0.150086581331058, -0.313317995397465]   \n",
       "9                [0.065220204962367, 0.25614026410411306, -0.139548026512665, 0.0388065639699095, -0.0898526256555141, 0.0371029380265526]   \n",
       "10              [0.148775859104556, 0.0689265060325715, -0.0216109445401026, -0.11173084808746901, -0.186231355862349, 0.4385854178636501]   \n",
       "11           [-0.47372147767055606, 0.24644017687965603, -0.296944037498076, -0.09840763659368991, -0.239321130489699, -0.371460808882403]   \n",
       "12             [-0.584748547472074, -0.6424890313524461, -0.679326631949272, 0.052131614529737205, 0.0528097904240837, -0.177288063387621]   \n",
       "13           [-0.721395757441346, -0.903034103789337, -0.8892236858933249, -0.492908568851387, 0.055621751592821005, -0.00957654269163817]   \n",
       "14                  [0.603722896927211, 0.0781147484174112, 0.43255644715889, 0.0356655139954236, 0.194187010965005, -0.23158754022654898]   \n",
       "15                    [0.788801695504952, 0.602977816574586, 0.706021466896286, -0.123441045735165, -0.104447142021675, 0.220979070385012]   \n",
       "16               [1.0792420493890702, 0.815979503976791, 0.8309269895722561, -0.18723455013219, -0.0966235532701949, -0.06333668183431941]   \n",
       "17          [0.36736449399812904, 0.637958622338704, 0.620568373608508, -0.047543885157067006, 0.07287064438291921, -0.037859955216262606]   \n",
       "18               [58.87969078759508, 58.65874845858828, 58.50796880315438, -0.04755417877828782, -0.3331428684639334, 0.07410497611298458]   \n",
       "19               [-0.693731819636774, -0.57595666036435, -0.802656043307558, -0.06679561501062031, -0.145663378134874, -0.020996350092704]   \n",
       "\n",
       "    number_of_atoms  \n",
       "0                 1  \n",
       "1                 1  \n",
       "2                 1  \n",
       "3                 1  \n",
       "4                 1  \n",
       "5                 1  \n",
       "6                 1  \n",
       "7               108  \n",
       "8               108  \n",
       "9               108  \n",
       "10              108  \n",
       "11              108  \n",
       "12              108  \n",
       "13              108  \n",
       "14              108  \n",
       "15              108  \n",
       "16              108  \n",
       "17              108  \n",
       "18              107  \n",
       "19              128  "
      ]
     },
     "execution_count": 16,
     "metadata": {},
     "output_type": "execute_result"
    }
   ],
   "source": [
    "dataset = pr[\"dataset_example\"]\n",
    "dataset.to_pandas()"
   ]
  },
  {
   "cell_type": "markdown",
   "id": "julian-helena",
   "metadata": {},
   "source": [
    "We can now inspect the data in this dataset quite easily"
   ]
  },
  {
   "cell_type": "code",
   "execution_count": 17,
   "id": "starting-dress",
   "metadata": {},
   "outputs": [],
   "source": [
    "struct = dataset.get_structure(10)"
   ]
  },
  {
   "cell_type": "code",
   "execution_count": 18,
   "id": "17e6c3dc-9434-4423-86e6-50c014ce34e6",
   "metadata": {},
   "outputs": [
    {
     "data": {
      "application/vnd.jupyter.widget-view+json": {
       "model_id": "5b7d1d694179409480afb29220517231",
       "version_major": 2,
       "version_minor": 0
      },
      "text/plain": []
     },
     "metadata": {},
     "output_type": "display_data"
    },
    {
     "data": {
      "application/vnd.jupyter.widget-view+json": {
       "model_id": "a4f4abcb42e041f6a7a9ea5f38f0623b",
       "version_major": 2,
       "version_minor": 0
      },
      "text/plain": [
       "NGLWidget()"
      ]
     },
     "metadata": {},
     "output_type": "display_data"
    }
   ],
   "source": [
    "struct.plot3d()"
   ]
  },
  {
   "cell_type": "code",
   "execution_count": 19,
   "id": "8ee351f5-d547-4270-b4b4-3bec1af7eed1",
   "metadata": {},
   "outputs": [
    {
     "data": {
      "text/html": [
       "<div>\n",
       "<style scoped>\n",
       "    .dataframe tbody tr th:only-of-type {\n",
       "        vertical-align: middle;\n",
       "    }\n",
       "\n",
       "    .dataframe tbody tr th {\n",
       "        vertical-align: top;\n",
       "    }\n",
       "\n",
       "    .dataframe thead th {\n",
       "        text-align: right;\n",
       "    }\n",
       "</style>\n",
       "<table border=\"1\" class=\"dataframe\">\n",
       "  <thead>\n",
       "    <tr style=\"text-align: right;\">\n",
       "      <th></th>\n",
       "      <th>V</th>\n",
       "      <th>E</th>\n",
       "    </tr>\n",
       "  </thead>\n",
       "  <tbody>\n",
       "    <tr>\n",
       "      <th>0</th>\n",
       "      <td>13.718000</td>\n",
       "      <td>-3.191547</td>\n",
       "    </tr>\n",
       "    <tr>\n",
       "      <th>1</th>\n",
       "      <td>14.829750</td>\n",
       "      <td>-3.306273</td>\n",
       "    </tr>\n",
       "    <tr>\n",
       "      <th>2</th>\n",
       "      <td>16.000000</td>\n",
       "      <td>-3.355322</td>\n",
       "    </tr>\n",
       "    <tr>\n",
       "      <th>3</th>\n",
       "      <td>17.230250</td>\n",
       "      <td>-3.353423</td>\n",
       "    </tr>\n",
       "    <tr>\n",
       "      <th>4</th>\n",
       "      <td>18.522000</td>\n",
       "      <td>-3.312514</td>\n",
       "    </tr>\n",
       "    <tr>\n",
       "      <th>5</th>\n",
       "      <td>19.876750</td>\n",
       "      <td>-3.242240</td>\n",
       "    </tr>\n",
       "    <tr>\n",
       "      <th>6</th>\n",
       "      <td>21.296000</td>\n",
       "      <td>-3.150354</td>\n",
       "    </tr>\n",
       "    <tr>\n",
       "      <th>7</th>\n",
       "      <td>16.484816</td>\n",
       "      <td>-3.359951</td>\n",
       "    </tr>\n",
       "    <tr>\n",
       "      <th>8</th>\n",
       "      <td>17.297089</td>\n",
       "      <td>-3.249159</td>\n",
       "    </tr>\n",
       "    <tr>\n",
       "      <th>9</th>\n",
       "      <td>17.428075</td>\n",
       "      <td>-3.241882</td>\n",
       "    </tr>\n",
       "    <tr>\n",
       "      <th>10</th>\n",
       "      <td>17.410407</td>\n",
       "      <td>-3.246495</td>\n",
       "    </tr>\n",
       "    <tr>\n",
       "      <th>11</th>\n",
       "      <td>17.571534</td>\n",
       "      <td>-3.227904</td>\n",
       "    </tr>\n",
       "    <tr>\n",
       "      <th>12</th>\n",
       "      <td>17.551694</td>\n",
       "      <td>-3.243880</td>\n",
       "    </tr>\n",
       "    <tr>\n",
       "      <th>13</th>\n",
       "      <td>17.757046</td>\n",
       "      <td>-3.227714</td>\n",
       "    </tr>\n",
       "    <tr>\n",
       "      <th>14</th>\n",
       "      <td>17.280559</td>\n",
       "      <td>-3.251092</td>\n",
       "    </tr>\n",
       "    <tr>\n",
       "      <th>15</th>\n",
       "      <td>17.257809</td>\n",
       "      <td>-3.245267</td>\n",
       "    </tr>\n",
       "    <tr>\n",
       "      <th>16</th>\n",
       "      <td>17.231513</td>\n",
       "      <td>-3.246689</td>\n",
       "    </tr>\n",
       "    <tr>\n",
       "      <th>17</th>\n",
       "      <td>17.402252</td>\n",
       "      <td>-3.238075</td>\n",
       "    </tr>\n",
       "    <tr>\n",
       "      <th>18</th>\n",
       "      <td>11.871391</td>\n",
       "      <td>-2.717692</td>\n",
       "    </tr>\n",
       "    <tr>\n",
       "      <th>19</th>\n",
       "      <td>25.185326</td>\n",
       "      <td>-3.348508</td>\n",
       "    </tr>\n",
       "  </tbody>\n",
       "</table>\n",
       "</div>"
      ],
      "text/plain": [
       "            V         E\n",
       "0   13.718000 -3.191547\n",
       "1   14.829750 -3.306273\n",
       "2   16.000000 -3.355322\n",
       "3   17.230250 -3.353423\n",
       "4   18.522000 -3.312514\n",
       "5   19.876750 -3.242240\n",
       "6   21.296000 -3.150354\n",
       "7   16.484816 -3.359951\n",
       "8   17.297089 -3.249159\n",
       "9   17.428075 -3.241882\n",
       "10  17.410407 -3.246495\n",
       "11  17.571534 -3.227904\n",
       "12  17.551694 -3.243880\n",
       "13  17.757046 -3.227714\n",
       "14  17.280559 -3.251092\n",
       "15  17.257809 -3.245267\n",
       "16  17.231513 -3.246689\n",
       "17  17.402252 -3.238075\n",
       "18  11.871391 -2.717692\n",
       "19  25.185326 -3.348508"
      ]
     },
     "execution_count": 19,
     "metadata": {},
     "output_type": "execute_result"
    },
    {
     "data": {
      "image/png": "[encoded data removed]",
      "text/plain": [
       "<Figure size 432x288 with 1 Axes>"
      ]
     },
     "metadata": {
      "needs_background": "light"
     },
     "output_type": "display_data"
    }
   ],
   "source": [
    "dataset.plot.energy_volume()"
   ]
  },
  {
   "cell_type": "code",
   "execution_count": 20,
   "id": "massive-wheat",
   "metadata": {},
   "outputs": [],
   "source": [
    "structures, energies, forces, num_atoms  = dataset.to_list()"
   ]
  },
  {
   "cell_type": "code",
   "execution_count": 21,
   "id": "e1c44677-6fac-4558-a127-ae888104a6ec",
   "metadata": {},
   "outputs": [],
   "source": [
    "df = dataset.to_pandas()"
   ]
  },
  {
   "cell_type": "code",
   "execution_count": 22,
   "id": "f15510ce-72dd-487b-b09c-fead827aec6a",
   "metadata": {},
   "outputs": [
    {
     "data": {
      "text/plain": [
       "Text(0.5, 0, 'Force Components [eV/$\\\\mathrm{\\\\AA}]$')"
      ]
     },
     "execution_count": 22,
     "metadata": {},
     "output_type": "execute_result"
    },
    {
     "data": {
      "image/png": "[encoded data removed]",
      "text/plain": [
       "<Figure size 432x288 with 1 Axes>"
      ]
     },
     "metadata": {
      "needs_background": "light"
     },
     "output_type": "display_data"
    }
   ],
   "source": [
    "plt.hist(np.concatenate(df.forces).flatten())\n",
    "plt.xlabel('Force Components [eV/$\\mathrm{\\AA}]$')"
   ]
  },
  {
   "cell_type": "markdown",
   "id": "suited-blank",
   "metadata": {},
   "source": [
    "The datasets used in the potential fitting procedure for day 2 (obtained from accurate DFT calculations) will be accessed in the same way"
   ]
  }
 ],
 "metadata": {
  "kernelspec": {
   "display_name": "Python 3 (ipykernel)",
   "language": "python",
   "name": "python3"
  },
  "language_info": {
   "codemirror_mode": {
    "name": "ipython",
    "version": 3
   },
   "file_extension": ".py",
   "mimetype": "text/x-python",
   "name": "python",
   "nbconvert_exporter": "python",
   "pygments_lexer": "ipython3",
   "version": "3.8.13"
  }
 },
 "nbformat": 4,
 "nbformat_minor": 5
}
