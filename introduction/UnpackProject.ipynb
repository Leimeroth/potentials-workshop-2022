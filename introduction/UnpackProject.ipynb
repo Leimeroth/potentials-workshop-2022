{
 "cells": [
  {
   "cell_type": "code",
   "execution_count": 1,
   "id": "d657ec18-da48-41d6-9c89-dd12a7d9145f",
   "metadata": {},
   "outputs": [
    {
     "data": {
      "text/html": [
       "<pre style=\"white-space:pre;overflow-x:auto;line-height:normal;font-family:Menlo,'DejaVu Sans Mono',consolas,'Courier New',monospace\"></pre>\n"
      ],
      "text/plain": []
     },
     "metadata": {},
     "output_type": "display_data"
    },
    {
     "data": {
      "text/html": [
       "<pre style=\"white-space:pre;overflow-x:auto;line-height:normal;font-family:Menlo,'DejaVu Sans Mono',consolas,'Courier New',monospace\"></pre>\n"
      ],
      "text/plain": []
     },
     "metadata": {},
     "output_type": "display_data"
    }
   ],
   "source": [
    "from pyiron import Project"
   ]
  },
  {
   "cell_type": "code",
   "execution_count": 2,
   "id": "f89c0c27-06c8-423a-beeb-b4e3da12de9d",
   "metadata": {},
   "outputs": [],
   "source": [
    "pr = Project('unpack')"
   ]
  },
  {
   "cell_type": "code",
   "execution_count": 3,
   "id": "0a5d72b6-1199-4eeb-9d17-30595c89a12c",
   "metadata": {},
   "outputs": [],
   "source": [
    "pr.unpack('training')"
   ]
  },
  {
   "cell_type": "code",
   "execution_count": 6,
   "id": "1decb8a9-ffa7-4a57-9c30-df6d1a2d53d1",
   "metadata": {},
   "outputs": [
    {
     "data": {
      "text/html": [
       "<div>\n",
       "<style scoped>\n",
       "    .dataframe tbody tr th:only-of-type {\n",
       "        vertical-align: middle;\n",
       "    }\n",
       "\n",
       "    .dataframe tbody tr th {\n",
       "        vertical-align: top;\n",
       "    }\n",
       "\n",
       "    .dataframe thead th {\n",
       "        text-align: right;\n",
       "    }\n",
       "</style>\n",
       "<table border=\"1\" class=\"dataframe\">\n",
       "  <thead>\n",
       "    <tr style=\"text-align: right;\">\n",
       "      <th></th>\n",
       "      <th>id</th>\n",
       "      <th>status</th>\n",
       "      <th>chemicalformula</th>\n",
       "      <th>job</th>\n",
       "      <th>subjob</th>\n",
       "      <th>projectpath</th>\n",
       "      <th>project</th>\n",
       "      <th>timestart</th>\n",
       "      <th>timestop</th>\n",
       "      <th>totalcputime</th>\n",
       "      <th>computer</th>\n",
       "      <th>hamilton</th>\n",
       "      <th>hamversion</th>\n",
       "      <th>parentid</th>\n",
       "      <th>masterid</th>\n",
       "    </tr>\n",
       "  </thead>\n",
       "  <tbody>\n",
       "    <tr>\n",
       "      <th>0</th>\n",
       "      <td>17148571</td>\n",
       "      <td>finished</td>\n",
       "      <td>None</td>\n",
       "      <td>initial</td>\n",
       "      <td>/initial</td>\n",
       "      <td>/cmmc/u/</td>\n",
       "      <td>zora/pyiron/projects/2022/POTENTIALS/AlLi_OffStochiometry/unpack/initial/</td>\n",
       "      <td>2022-05-20 07:33:26.696857</td>\n",
       "      <td>None</td>\n",
       "      <td>None</td>\n",
       "      <td>zora@cmti001#1</td>\n",
       "      <td>TrainingContainer</td>\n",
       "      <td>0.4</td>\n",
       "      <td>None</td>\n",
       "      <td>None</td>\n",
       "    </tr>\n",
       "    <tr>\n",
       "      <th>1</th>\n",
       "      <td>17148572</td>\n",
       "      <td>finished</td>\n",
       "      <td>None</td>\n",
       "      <td>offstoichiometry</td>\n",
       "      <td>/offstoichiometry</td>\n",
       "      <td>/cmmc/u/</td>\n",
       "      <td>zora/pyiron/projects/2022/POTENTIALS/AlLi_OffStochiometry/unpack/initial/</td>\n",
       "      <td>2022-05-20 07:40:54.302418</td>\n",
       "      <td>None</td>\n",
       "      <td>None</td>\n",
       "      <td>zora@cmti001#1</td>\n",
       "      <td>TrainingContainer</td>\n",
       "      <td>0.4</td>\n",
       "      <td>None</td>\n",
       "      <td>None</td>\n",
       "    </tr>\n",
       "  </tbody>\n",
       "</table>\n",
       "</div>"
      ],
      "text/plain": [
       "         id    status chemicalformula               job             subjob  \\\n",
       "0  17148571  finished            None           initial           /initial   \n",
       "1  17148572  finished            None  offstoichiometry  /offstoichiometry   \n",
       "\n",
       "  projectpath  \\\n",
       "0    /cmmc/u/   \n",
       "1    /cmmc/u/   \n",
       "\n",
       "                                                                     project  \\\n",
       "0  zora/pyiron/projects/2022/POTENTIALS/AlLi_OffStochiometry/unpack/initial/   \n",
       "1  zora/pyiron/projects/2022/POTENTIALS/AlLi_OffStochiometry/unpack/initial/   \n",
       "\n",
       "                   timestart timestop totalcputime        computer  \\\n",
       "0 2022-05-20 07:33:26.696857     None         None  zora@cmti001#1   \n",
       "1 2022-05-20 07:40:54.302418     None         None  zora@cmti001#1   \n",
       "\n",
       "            hamilton hamversion parentid masterid  \n",
       "0  TrainingContainer        0.4     None     None  \n",
       "1  TrainingContainer        0.4     None     None  "
      ]
     },
     "execution_count": 6,
     "metadata": {},
     "output_type": "execute_result"
    }
   ],
   "source": [
    "pr['initial'].job_table()"
   ]
  },
  {
   "cell_type": "code",
   "execution_count": 7,
   "id": "d83bc9d0-4522-46c0-bb06-f10e23fbd613",
   "metadata": {},
   "outputs": [],
   "source": [
    "pr = pr['initial']"
   ]
  },
  {
   "cell_type": "code",
   "execution_count": 8,
   "id": "7a91a7e5-937d-4e35-af53-f4657d91e292",
   "metadata": {},
   "outputs": [],
   "source": [
    "tc_initial = pr.load('initial')"
   ]
  },
  {
   "cell_type": "code",
   "execution_count": 10,
   "id": "6808f564-3166-4e69-b6ad-b8feef972860",
   "metadata": {},
   "outputs": [
    {
     "data": {
      "application/vnd.jupyter.widget-view+json": {
       "model_id": "55dbdc9eb7e644ac969f2cf09e47b8d1",
       "version_major": 2,
       "version_minor": 0
      },
      "text/plain": []
     },
     "metadata": {},
     "output_type": "display_data"
    },
    {
     "data": {
      "application/vnd.jupyter.widget-view+json": {
       "model_id": "d166cbc0460d4edd836d353095a954b4",
       "version_major": 2,
       "version_minor": 0
      },
      "text/plain": [
       "NGLWidget()"
      ]
     },
     "metadata": {},
     "output_type": "display_data"
    }
   ],
   "source": [
    "tc_initial.get_structure().plot3d()"
   ]
  },
  {
   "cell_type": "code",
   "execution_count": 12,
   "id": "e149222b-02f4-4f55-b6c1-f63ba8c118d1",
   "metadata": {},
   "outputs": [],
   "source": [
    "tc_off = pr.load('offstoichiometry')"
   ]
  },
  {
   "cell_type": "code",
   "execution_count": 13,
   "id": "1fd94bf7-e93a-4fcb-8b3b-cd4eff0d25ed",
   "metadata": {},
   "outputs": [
    {
     "data": {
      "application/vnd.jupyter.widget-view+json": {
       "model_id": "695cfb8f04ed4a66a4bf2ed0c530d87d",
       "version_major": 2,
       "version_minor": 0
      },
      "text/plain": [
       "NGLWidget()"
      ]
     },
     "metadata": {},
     "output_type": "display_data"
    }
   ],
   "source": [
    "tc_off.get_structure().plot3d()"
   ]
  },
  {
   "cell_type": "code",
   "execution_count": null,
   "id": "025dda7a-4782-4eaf-ac78-38537e909422",
   "metadata": {},
   "outputs": [],
   "source": []
  }
 ],
 "metadata": {
  "kernelspec": {
   "display_name": "Python 3 (ipykernel)",
   "language": "python",
   "name": "python3"
  },
  "language_info": {
   "codemirror_mode": {
    "name": "ipython",
    "version": 3
   },
   "file_extension": ".py",
   "mimetype": "text/x-python",
   "name": "python",
   "nbconvert_exporter": "python",
   "pygments_lexer": "ipython3",
   "version": "3.8.13"
  }
 },
 "nbformat": 4,
 "nbformat_minor": 5
}
