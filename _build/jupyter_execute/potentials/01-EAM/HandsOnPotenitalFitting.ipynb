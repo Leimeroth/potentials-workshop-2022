{
 "cells": [
  {
   "cell_type": "code",
   "execution_count": null,
   "id": "5f91f58f-ef53-484d-9951-045829872567",
   "metadata": {},
   "outputs": [],
   "source": [
    "from pyiron import Project\n",
    "import numpy as np\n",
    "import pandas as pd\n",
    "import matplotlib.pyplot as plt"
   ]
  },
  {
   "cell_type": "code",
   "execution_count": null,
   "id": "0dde0404-8501-4649-ae81-3f008d4a76e3",
   "metadata": {},
   "outputs": [],
   "source": [
    "pr = Project(\".\")"
   ]
  },
  {
   "cell_type": "markdown",
   "id": "97f1ec7a-4eb6-404d-afdb-0d2739255ead",
   "metadata": {},
   "source": [
    "### Training data"
   ]
  },
  {
   "cell_type": "code",
   "execution_count": null,
   "id": "af1bbd9f-c61b-4bc8-b122-5848537620fd",
   "metadata": {},
   "outputs": [],
   "source": [
    "pr.job_table()"
   ]
  },
  {
   "cell_type": "code",
   "execution_count": null,
   "id": "9678bb53-b9e6-4d37-9ada-5331af8ecf69",
   "metadata": {},
   "outputs": [],
   "source": [
    "pr.job_table()"
   ]
  },
  {
   "cell_type": "markdown",
   "id": "512673b5-e606-40d8-8a1d-1a9932591f3b",
   "metadata": {},
   "source": [
    "### Add training data\n",
    "Instead of simply loading the training data weights are assigned to the structures based on their energy this time. Additionally the structure with a very high atomic volume is filtered out.  \n",
    "Structures with low energy get a higher weight than structures with high energy.\n",
    "It can also help to increase the weights of special properties or important structures to put a focus on things that are important for the scope of the potential.\n",
    "For a list of a all properties that can be fitted refer to the atomicrex website https://www.atomicrex.org/properties.html"
   ]
  },
  {
   "cell_type": "code",
   "execution_count": null,
   "id": "9a11b349-5094-4cbc-a03e-e929753e4a82",
   "metadata": {},
   "outputs": [],
   "source": [
    "def get_e_weight(E_S, Delta=1.0, N=2):\n",
    "    return 1 / (E_S + Delta) ** N"
   ]
  },
  {
   "cell_type": "code",
   "execution_count": null,
   "id": "ada4baf2-cede-4f31-915d-500b6bcb3518",
   "metadata": {},
   "outputs": [],
   "source": [
    "E_S = np.arange(0, 3, 0.1)\n",
    "plt.plot(E_S, get_e_weight(E_S))"
   ]
  },
  {
   "cell_type": "code",
   "execution_count": null,
   "id": "5a59295b-112d-4f88-94f0-68ac14f7ac91",
   "metadata": {},
   "outputs": [],
   "source": [
    "tc = pr['../../introduction/training/Al_basic_atomicrex'] ## Load the TrainingContainer\n",
    "job = pr.create.job.Atomicrex(\"AlEnergyBasedWeight\", delete_existing_job=True)"
   ]
  },
  {
   "cell_type": "code",
   "execution_count": null,
   "id": "7126c3a1-87a7-4978-9241-de69bb609437",
   "metadata": {},
   "outputs": [],
   "source": [
    "i=0\n",
    "for s, energy, forces, symbols in tc.iter(\"energy\", \"forces\", \"symbols\"):\n",
    "    natoms = len(s)\n",
    "    e = energy / natoms\n",
    "    weight = get_e_weight(e+3.5) # add approx. equilibrium energy of Al\n",
    "    job.structures.add_structure(structure=s, identifier=f\"{i}\", relative_weight=weight) # set weight for the structure\n",
    "    job.structures.add_scalar_fit_property(prop=\"atomic-energy\", target_val=e,)\n",
    "    job.structures.add_vector_fit_property(prop=\"atomic-forces\", target_val=forces)\n",
    "    i += 1"
   ]
  },
  {
   "cell_type": "markdown",
   "id": "7f655bcb-9926-4d92-ad86-7b84c312661a",
   "metadata": {},
   "source": [
    "### Set the potential type"
   ]
  },
  {
   "cell_type": "code",
   "execution_count": null,
   "id": "3940e14a-77a0-4448-97cc-f5b5b8428c0c",
   "metadata": {},
   "outputs": [],
   "source": [
    "job.potential = job.factories.potentials.eam_potential()"
   ]
  },
  {
   "cell_type": "markdown",
   "id": "45ad4c4f-a496-467d-93e1-dda611625af3",
   "metadata": {},
   "source": [
    "### Define functions"
   ]
  },
  {
   "cell_type": "code",
   "execution_count": null,
   "id": "23f79603-b52b-44a7-a93d-d5dd0dbf97c9",
   "metadata": {},
   "outputs": [],
   "source": [
    "# morse A is the original rather simple morse potential\n",
    "morseA = job.factories.functions.morse_A(\"MorseA\", D0=0.15, r0=3.0, alpha=2.0, species=[\"Al\", \"Al\"])\n",
    "morseA.screening = job.factories.functions.x_pow_n_cutoff(\"morseScreen\", cutoff=7.6, species=[\"Al\", \"Al\"])"
   ]
  },
  {
   "cell_type": "code",
   "execution_count": null,
   "id": "ad4399f1-26b2-4d99-b7b3-b12821cfb26d",
   "metadata": {},
   "outputs": [],
   "source": [
    "morseA.plot()"
   ]
  },
  {
   "cell_type": "markdown",
   "id": "1ea68594-64f3-4728-94d5-dba8677cb9d7",
   "metadata": {},
   "source": [
    "Electron density as used by Mishin in his Cu potential (https://doi.org/10.1103/PhysRevB.63.224106, Gaussian + exp(-$\\beta$r term)"
   ]
  },
  {
   "cell_type": "code",
   "execution_count": null,
   "id": "2171010d-9c36-42be-b9e5-27b0508aaa15",
   "metadata": {},
   "outputs": [],
   "source": [
    "rho = job.factories.functions.MishinCuRho(identifier=\"Rho\", a=1.0, r1=-1, r2=0.0, beta1=1.0, beta2=3.0, species=[\"Al\", \"Al\"])\n",
    "rho.screening = job.factories.functions.x_pow_n_cutoff(\"RhoScreen\", cutoff=7.6, species=[\"Al\", \"Al\"])"
   ]
  },
  {
   "cell_type": "code",
   "execution_count": null,
   "id": "dd3dc2e1-94be-4b74-9adc-3666f417bc50",
   "metadata": {},
   "outputs": [],
   "source": [
    "F = job.factories.functions.user_function(identifier=\"F\", input_variable=\"rho\", species=[\"Al\"])\n",
    "# User function for embedding term\n",
    "F = job.factories.functions.user_function(identifier=\"F\", input_variable=\"r\")\n",
    "F.expression = \"-A*sqrt(r)\"\n",
    "F.derivative = \"-A/(2*sqrt(r))\"\n",
    "F.parameters.add_parameter(\"A\", start_val=2.3, min_val=0.0)"
   ]
  },
  {
   "cell_type": "code",
   "execution_count": null,
   "id": "32e048b2-562d-4b9a-ba2a-2712450a70f0",
   "metadata": {},
   "outputs": [],
   "source": [
    "job.potential.pair_interactions[morseA.identifier] = morseA\n",
    "job.potential.electron_densities[rho.identifier] = rho\n",
    "job.potential.embedding_energies[F.identifier] = F\n",
    "\n",
    "job.input.fit_algorithm = job.factories.algorithms.ar_lbfgs(max_iter=500, gradient_epsilon=1e-9)\n",
    "\n",
    "job.run()"
   ]
  },
  {
   "cell_type": "markdown",
   "id": "abf288b4-a8e8-4695-9e37-c911711e501e",
   "metadata": {},
   "source": [
    "### Examples for alternative minimizers\n",
    "\n",
    "Local:\n",
    "```\n",
    "job.input.fit_algorithm = job.factories.algorithms.ln_neldermead(max_iter=10000)\n",
    "```\n",
    "nelder mead is a bit more robust than the LBFGS implementation in atomicrex\n",
    "It is gradient free, so each iteration is much quicker, but more iterations are needed\n",
    "\n",
    "Global:\n",
    "```\n",
    "job.input.fit_algorithm = job.factories.algorithms.gn_esch(max_iter=10000)\n",
    "```\n",
    "ESCH is an evolutionary algorithm. To use it all parameters need a min and a max value"
   ]
  },
  {
   "cell_type": "code",
   "execution_count": null,
   "id": "156e4c38-5636-4719-852b-bce9cf45e24d",
   "metadata": {},
   "outputs": [],
   "source": [
    "job.plot_final_potential()"
   ]
  },
  {
   "cell_type": "code",
   "execution_count": null,
   "id": "b74ef18b-e4c1-4e91-a82a-16340c8869ac",
   "metadata": {},
   "outputs": [],
   "source": [
    "plt.plot(job.output.iterations, job.output.residual)\n",
    "job.output.residual[-1]"
   ]
  },
  {
   "cell_type": "code",
   "execution_count": null,
   "id": "2ca61e19-d5a3-47b2-af15-339d9ffa6675",
   "metadata": {},
   "outputs": [],
   "source": [
    "plots = job.plot"
   ]
  },
  {
   "cell_type": "code",
   "execution_count": null,
   "id": "c4b28c40-9e63-4805-aeb8-805abc044478",
   "metadata": {},
   "outputs": [],
   "source": [
    "plt.figure(figsize=(14,7))\n",
    "plots.energy_scatter_histogram()"
   ]
  },
  {
   "cell_type": "code",
   "execution_count": null,
   "id": "774a4082-7a72-4062-8371-3953f9c826b0",
   "metadata": {},
   "outputs": [],
   "source": [
    "plots.force_scatter_histogram()"
   ]
  },
  {
   "cell_type": "code",
   "execution_count": null,
   "id": "caee172a-24a9-43cd-a122-eb09120d2684",
   "metadata": {},
   "outputs": [],
   "source": [
    "plots.force_scatter_histogram(axis=0)"
   ]
  },
  {
   "cell_type": "code",
   "execution_count": null,
   "id": "67951e44-0b40-493e-ab36-b96053966b5b",
   "metadata": {},
   "outputs": [],
   "source": [
    "plots.force_scatter_histogram(axis=1)"
   ]
  },
  {
   "cell_type": "code",
   "execution_count": null,
   "id": "0c32e69e-9f2b-48b4-b8e8-8d1e39db0062",
   "metadata": {},
   "outputs": [],
   "source": [
    "plots.force_scatter_histogram(axis=2)"
   ]
  },
  {
   "cell_type": "markdown",
   "id": "21cf9787-4b08-49d6-a0c8-638dff820788",
   "metadata": {},
   "source": [
    "# Appendix\n",
    "\n",
    "For the potential used in the validation and phase diagram calculations a different functional form was used.\n",
    "\n",
    "The Al potential followed the same formalism as used by Mishin in his Cu potential https://doi.org/10.1103/PhysRevB.63.224106.\n",
    "For Li and AlLi terms the pair interaction was described using a morse-C potential, while cubic splines were used for the electron densities.\n",
    "The Li embedding term was a modified version of that used by Mishin that is implemented in the atomicrex code.\n",
    "\n",
    "To be able to guarantee certain properties the parameters of these functions were constrained.\n",
    "EAM potentials are invariant under the transformations:  \n",
    "$\\rho(r)\\rightarrow s\\rho(r)$, $F(\\bar\\rho)\\rightarrow F(\\bar\\rho / s)$ and $F(\\bar\\rho)\\rightarrow F(\\bar\\rho) - g\\bar\\rho$, $V(r)\\rightarrow V(r)+2g\\rho(r)$\n",
    "\n",
    "To uniquely define them the condition:\n",
    "$\\sum_m N_m \\rho(r_m) = 1$ was applied. Here $N_m$ is the number of neighbors of the equilibrium structure in shell m.\n",
    "\n",
    "\n",
    "A perfect lattice constant can be obtained by applying the mechanical equilibrium condition:  \n",
    "$\\frac{1}{2} \\sum_m N_m V(r_m)' r_m + F_0' \\sum_m N_m \\rho(r_m)' r_m$ where $F0$ is the value of the embedding function at the equilibrium structures electron density, i.e. $F(1)$ if the above condition is applied.\n",
    "\n",
    "The correct equilibrium energy $E_0$ can be guaranteed with:  \n",
    "$F_0 = E_0-\\frac{1}{2}\\sum_m N_m V(r_m)$\n",
    "\n",
    "An exact fit to the bulk modulus can be achieved by applying:  \n",
    "$\\frac{1}{2}\\sum_m N_mV(r_m)''r_m^2 + F_0' \\sum_m N_m \\rho(r_m)'' R_m^2 + F_0''(\\sum_m N_m \\rho(r_m)' r_m)^2 $\n",
    "\n",
    "These (or similar equations) have to be solved with respect to some parameter in the function. A simple example is the electron density which can be constrained to 1 by multiplying the whole function with some factor c after its evaluation for the equilibrium structure.\n",
    "This then looks f.e. like this in the atomicrex input file (xml format):\n",
    "\n",
    "```\n",
    "        <constraint id=\"one_constrain_rhoSpline_LiLi\" dependent-dof=\"EAM.rho_LiLi.cfactor_rhoSpline_LiLi.const\">\n",
    "            <expression>1 / ( + 8 * {EAM.rho_LiLi.rhoSpline_LiLi:eval.2.966650281143688} + 6 * {EAM.rho_LiLi.rhoSpline_LiLi:eval.3.425592676819574} + 12 * {EAM.rho_LiLi.rhoSpline_LiLi:eval.4.844519622724197} + 24 * {EAM.rho_LiLi.rhoSpline_LiLi:eval.5.6807027967998565} + 8 * {EAM.rho_LiLi.rhoSpline_LiLi:eval.5.933300562287376} + 6 * {EAM.rho_LiLi.rhoSpline_LiLi:eval.6.851185353639148} + 24 * {EAM.rho_LiLi.rhoSpline_LiLi:eval.7.465906149994755})</expression>\n",
    "        </constraint>\n",
    "```\n",
    "The block contains an identifier, the \"path\" to the parameter that is constrained and the expression that is applied to constrain it.\n",
    "In the pyiron interface such constraints can be added using as follows:"
   ]
  },
  {
   "cell_type": "code",
   "execution_count": null,
   "id": "0f10fa0c-e266-4064-99c7-94db3d739d7a",
   "metadata": {},
   "outputs": [],
   "source": [
    "job.input.parameter_constraints.add_constraint(\n",
    "    identifier=\"Identifier\",\n",
    "    dependent_dof=\"The parameter or degree of freedom to constrain\",\n",
    "    expression=\"Expression that is used to determine the value of the parameter, parsed using muparser\"\n",
    ")"
   ]
  },
  {
   "cell_type": "markdown",
   "id": "13c05737-5e54-4c3d-af08-149d174e1790",
   "metadata": {},
   "source": [
    "If any questions regarding the interface/feature requests/problems occur after the workshop feel free to send me a mail leimeroth@mm.tu-darmstadt.de"
   ]
  }
 ],
 "metadata": {
  "kernelspec": {
   "display_name": "Python 3 (ipykernel)",
   "language": "python",
   "name": "python3"
  },
  "language_info": {
   "codemirror_mode": {
    "name": "ipython",
    "version": 3
   },
   "file_extension": ".py",
   "mimetype": "text/x-python",
   "name": "python",
   "nbconvert_exporter": "python",
   "pygments_lexer": "ipython3",
   "version": "3.9.12"
  }
 },
 "nbformat": 4,
 "nbformat_minor": 5
}